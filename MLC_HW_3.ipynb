{
 "cells": [
  {
   "cell_type": "markdown",
   "metadata": {
    "id": "-AotiVu5vNQs"
   },
   "source": [
    "Total points for this HW: 100.\n",
    "\n",
    "Please note: **Copying and pasting other people's work is absolutely prohibited**. Any such cases will be reported to CUSP's education team and severely punished. Discussion is encouraged, and feel free to exchange ideas with your classmates, but please write your own code and do your own work.\n",
    "\n",
    "\n",
    "<span style='color:red'>  pts</span>"
   ]
  },
  {
   "cell_type": "code",
   "execution_count": 2,
   "metadata": {
    "id": "d-YuoejSvNQu"
   },
   "outputs": [],
   "source": [
    "from IPython.display import Image\n",
    "import pandas as pd\n",
    "import numpy as np"
   ]
  },
  {
   "cell_type": "markdown",
   "metadata": {
    "id": "X7ZwM3scvNQv"
   },
   "source": [
    "### Q1 KNN (35 points)   <span style='color:red'>  pts</span>\n",
    "\n",
    "Given a dataset with 53,414 points in \"HW3Q1.txt\" which is KEGG Metabolic Relation Network (Directed) Data Set\n",
    "https://archive.ics.uci.edu/ml/datasets/KEGG+Metabolic+Relation+Network+%28Directed%29, you should ignore the first column which is not real value and focus on columns 2 to 24.\n",
    "\n",
    "a) implement the function of Euclidean distance, test it on the first two points in the given dataset, and output the distance. (10 points)"
   ]
  },
  {
   "cell_type": "markdown",
   "metadata": {
    "id": "x48kjIawvNQx"
   },
   "source": [
    "Attribute Information:\n",
    "\n",
    "a) Pathway text   \n",
    "b) Nodes integer (min:2, max:116)   \n",
    "c) Edges integer (min:1, max:606)   \n",
    "d) Connected Components integer (min:1, max:13)     \n",
    "e) Network Diameter integer (min:1, max:30)   \n",
    "f) Network Radius integer (min:1, max:2)    \n",
    "g) Shortest Path integer (min:1, max:3277)    \n",
    "h) Characteristic Path Length real (min:1, [Web Link])    \n",
    "i) Avg.num.Neighbours real (min:1, [Web Link])    \n",
    "j) Isolated Nodes integer (min:0, max:1)     \n",
    "k) Number of Self Loops integer (min:0, max:0)    \n",
    "l) Multi-edge Node Pair integer (min:0, max:57)     \n",
    "m) NeighborhoodConnectivity real (min:1, [Web Link])    \n",
    "n) Outdegree real (min:0.5, [Web Link])     \n",
    "o) Stress real (min:0, [Web Link])      \n",
    "p) SelfLoops integer (min:0, max:0)     \n",
    "q) PartnerOfMultiEdgedNodePairs real (min:0, [Web Link])    \n",
    "r) EdgeCount real (min:1, [Web Link])      \n",
    "s) BetweennessCentrality real (min:0, [Web Link])     \n",
    "t) Indegree real (min:0.5, [Web Link])        \n",
    "u) Eccentricity real ([Web Link], [Web Link])     \n",
    "v) ClosenessCentrality real ([Web Link], max:1)     \n",
    "w) AverageShortestPathLength real ([Web Link], [Web Link])     \n",
    "x) ClusteringCoefficient real (min:0, [Web Link])     "
   ]
  },
  {
   "cell_type": "code",
   "execution_count": 70,
   "metadata": {
    "colab": {
     "base_uri": "https://localhost:8080/",
     "height": 224
    },
    "id": "cmbl5pn1vNQx",
    "outputId": "278bab51-cc61-414c-99a4-b1734546c407"
   },
   "outputs": [
    {
     "data": {
      "text/html": [
       "<div>\n",
       "<style scoped>\n",
       "    .dataframe tbody tr th:only-of-type {\n",
       "        vertical-align: middle;\n",
       "    }\n",
       "\n",
       "    .dataframe tbody tr th {\n",
       "        vertical-align: top;\n",
       "    }\n",
       "\n",
       "    .dataframe thead th {\n",
       "        text-align: right;\n",
       "    }\n",
       "</style>\n",
       "<table border=\"1\" class=\"dataframe\">\n",
       "  <thead>\n",
       "    <tr style=\"text-align: right;\">\n",
       "      <th></th>\n",
       "      <th>0</th>\n",
       "      <th>1</th>\n",
       "      <th>2</th>\n",
       "      <th>3</th>\n",
       "      <th>4</th>\n",
       "      <th>5</th>\n",
       "      <th>6</th>\n",
       "      <th>7</th>\n",
       "      <th>8</th>\n",
       "      <th>9</th>\n",
       "      <th>10</th>\n",
       "      <th>11</th>\n",
       "      <th>12</th>\n",
       "      <th>13</th>\n",
       "      <th>14</th>\n",
       "      <th>15</th>\n",
       "      <th>16</th>\n",
       "      <th>17</th>\n",
       "      <th>18</th>\n",
       "      <th>19</th>\n",
       "      <th>20</th>\n",
       "      <th>21</th>\n",
       "      <th>22</th>\n",
       "      <th>23</th>\n",
       "    </tr>\n",
       "  </thead>\n",
       "  <tbody>\n",
       "    <tr>\n",
       "      <th>0</th>\n",
       "      <td>aac00010</td>\n",
       "      <td>26</td>\n",
       "      <td>43</td>\n",
       "      <td>2</td>\n",
       "      <td>7</td>\n",
       "      <td>1</td>\n",
       "      <td>211</td>\n",
       "      <td>3.222749</td>\n",
       "      <td>3.230769</td>\n",
       "      <td>0</td>\n",
       "      <td>0</td>\n",
       "      <td>1</td>\n",
       "      <td>4.125758</td>\n",
       "      <td>1.653846</td>\n",
       "      <td>27.000000</td>\n",
       "      <td>0</td>\n",
       "      <td>0.076923</td>\n",
       "      <td>3.307692</td>\n",
       "      <td>0.062418</td>\n",
       "      <td>1.653846</td>\n",
       "      <td>3.923077</td>\n",
       "      <td>0.375199</td>\n",
       "      <td>2.210114</td>\n",
       "      <td>0.221154</td>\n",
       "    </tr>\n",
       "    <tr>\n",
       "      <th>1</th>\n",
       "      <td>aac00020</td>\n",
       "      <td>27</td>\n",
       "      <td>52</td>\n",
       "      <td>2</td>\n",
       "      <td>10</td>\n",
       "      <td>1</td>\n",
       "      <td>226</td>\n",
       "      <td>3.411504</td>\n",
       "      <td>3.851852</td>\n",
       "      <td>0</td>\n",
       "      <td>0</td>\n",
       "      <td>0</td>\n",
       "      <td>4.516696</td>\n",
       "      <td>1.925926</td>\n",
       "      <td>26.629630</td>\n",
       "      <td>0</td>\n",
       "      <td>0.000000</td>\n",
       "      <td>3.851852</td>\n",
       "      <td>0.036567</td>\n",
       "      <td>1.925926</td>\n",
       "      <td>4.074074</td>\n",
       "      <td>0.399880</td>\n",
       "      <td>2.168687</td>\n",
       "      <td>0.290197</td>\n",
       "    </tr>\n",
       "    <tr>\n",
       "      <th>2</th>\n",
       "      <td>aac00030</td>\n",
       "      <td>26</td>\n",
       "      <td>53</td>\n",
       "      <td>2</td>\n",
       "      <td>6</td>\n",
       "      <td>1</td>\n",
       "      <td>202</td>\n",
       "      <td>2.732673</td>\n",
       "      <td>3.769231</td>\n",
       "      <td>0</td>\n",
       "      <td>0</td>\n",
       "      <td>3</td>\n",
       "      <td>4.286493</td>\n",
       "      <td>2.038462</td>\n",
       "      <td>14.961538</td>\n",
       "      <td>0</td>\n",
       "      <td>0.230769</td>\n",
       "      <td>4.076923</td>\n",
       "      <td>0.026604</td>\n",
       "      <td>2.038462</td>\n",
       "      <td>3.115385</td>\n",
       "      <td>0.430368</td>\n",
       "      <td>1.864288</td>\n",
       "      <td>0.230311</td>\n",
       "    </tr>\n",
       "    <tr>\n",
       "      <th>3</th>\n",
       "      <td>aac00040</td>\n",
       "      <td>20</td>\n",
       "      <td>28</td>\n",
       "      <td>1</td>\n",
       "      <td>8</td>\n",
       "      <td>1</td>\n",
       "      <td>65</td>\n",
       "      <td>2.523077</td>\n",
       "      <td>2.600000</td>\n",
       "      <td>0</td>\n",
       "      <td>0</td>\n",
       "      <td>1</td>\n",
       "      <td>2.936667</td>\n",
       "      <td>1.400000</td>\n",
       "      <td>4.950000</td>\n",
       "      <td>0</td>\n",
       "      <td>0.100000</td>\n",
       "      <td>2.800000</td>\n",
       "      <td>0.014474</td>\n",
       "      <td>1.400000</td>\n",
       "      <td>2.450000</td>\n",
       "      <td>0.481044</td>\n",
       "      <td>1.492500</td>\n",
       "      <td>0.210000</td>\n",
       "    </tr>\n",
       "    <tr>\n",
       "      <th>4</th>\n",
       "      <td>aac00051</td>\n",
       "      <td>15</td>\n",
       "      <td>33</td>\n",
       "      <td>1</td>\n",
       "      <td>4</td>\n",
       "      <td>2</td>\n",
       "      <td>85</td>\n",
       "      <td>1.858824</td>\n",
       "      <td>4.400000</td>\n",
       "      <td>0</td>\n",
       "      <td>0</td>\n",
       "      <td>0</td>\n",
       "      <td>5.284206</td>\n",
       "      <td>2.200000</td>\n",
       "      <td>5.000000</td>\n",
       "      <td>0</td>\n",
       "      <td>0.000000</td>\n",
       "      <td>4.400000</td>\n",
       "      <td>0.026740</td>\n",
       "      <td>2.200000</td>\n",
       "      <td>2.333333</td>\n",
       "      <td>0.518691</td>\n",
       "      <td>1.532326</td>\n",
       "      <td>0.267222</td>\n",
       "    </tr>\n",
       "  </tbody>\n",
       "</table>\n",
       "</div>"
      ],
      "text/plain": [
       "         0   1   2   3   4   ...        19        20        21        22        23\n",
       "0  aac00010  26  43   2   7  ...  1.653846  3.923077  0.375199  2.210114  0.221154\n",
       "1  aac00020  27  52   2  10  ...  1.925926  4.074074  0.399880  2.168687  0.290197\n",
       "2  aac00030  26  53   2   6  ...  2.038462  3.115385  0.430368  1.864288  0.230311\n",
       "3  aac00040  20  28   1   8  ...  1.400000  2.450000  0.481044  1.492500  0.210000\n",
       "4  aac00051  15  33   1   4  ...  2.200000  2.333333  0.518691  1.532326  0.267222\n",
       "\n",
       "[5 rows x 24 columns]"
      ]
     },
     "execution_count": 70,
     "metadata": {
      "tags": []
     },
     "output_type": "execute_result"
    }
   ],
   "source": [
    "# your answers here\n",
    "q1=pd.read_csv('HW3Q1.txt', header=None)\n",
    "q1.head()"
   ]
  },
  {
   "cell_type": "code",
   "execution_count": 71,
   "metadata": {
    "id": "xHRtYQzPvNQz"
   },
   "outputs": [],
   "source": [
    "def euc_distance(a,b,df):\n",
    "    diff = 0\n",
    "    for i in range(1,df.shape[1]):\n",
    "        x=a[i].reset_index(drop=True)\n",
    "        y=b[i].reset_index(drop=True)\n",
    "        diff += np.square(x-y)\n",
    "    return np.sqrt(diff).to_numpy()[0]"
   ]
  },
  {
   "cell_type": "code",
   "execution_count": 72,
   "metadata": {
    "colab": {
     "base_uri": "https://localhost:8080/"
    },
    "id": "BQykDMYYvNQz",
    "outputId": "af072f05-9cd9-4652-8d7d-24258f4cf478"
   },
   "outputs": [
    {
     "data": {
      "text/plain": [
       "17.837937709396144"
      ]
     },
     "execution_count": 72,
     "metadata": {
      "tags": []
     },
     "output_type": "execute_result"
    }
   ],
   "source": [
    "euc_distance(q1.iloc[:1],q1.iloc[1:2],q1)"
   ]
  },
  {
   "cell_type": "markdown",
   "metadata": {
    "id": "1RaOCVpcvNQ1"
   },
   "source": [
    "b) given the first point as query, implement the baseline (slide 10 of lecture 8) which scans every point in the rest of the file, return the nearest neighbor to the query. In the end, output the resulted point and the distance to the query. (10 points)"
   ]
  },
  {
   "cell_type": "code",
   "execution_count": 73,
   "metadata": {
    "colab": {
     "base_uri": "https://localhost:8080/"
    },
    "id": "m_TxH1DyvNQ2",
    "outputId": "ed95ba0c-919b-4f1c-fc69-3d381ad2570f"
   },
   "outputs": [
    {
     "name": "stdout",
     "output_type": "stream",
     "text": [
      "--- 960.3393502235413 seconds ---\n"
     ]
    }
   ],
   "source": [
    "# your answers here\n",
    "import time\n",
    "start_time = time.time()\n",
    "distances=[]\n",
    "for i in range(1,q1.shape[0]):\n",
    "    distances.append(euc_distance(q1.iloc[:1],q1.iloc[i:i+1],q1))\n",
    "print(\"--- %s seconds ---\" % (time.time() - start_time))"
   ]
  },
  {
   "cell_type": "code",
   "execution_count": null,
   "metadata": {
    "id": "a4MyeOEVvNQ2",
    "outputId": "def595b0-6667-4e28-ee71-ac445de9e73a"
   },
   "outputs": [
    {
     "data": {
      "text/plain": [
       "53412"
      ]
     },
     "execution_count": 60,
     "metadata": {
      "tags": []
     },
     "output_type": "execute_result"
    }
   ],
   "source": [
    "len(distances)"
   ]
  },
  {
   "cell_type": "code",
   "execution_count": null,
   "metadata": {
    "id": "Skvc73NJvNQ3",
    "outputId": "00c448e0-a381-46f6-b1ef-bccf1cf0887c"
   },
   "outputs": [
    {
     "data": {
      "text/plain": [
       "12.466167487557817"
      ]
     },
     "execution_count": 59,
     "metadata": {
      "tags": []
     },
     "output_type": "execute_result"
    }
   ],
   "source": [
    "np.min(distances)"
   ]
  },
  {
   "cell_type": "code",
   "execution_count": null,
   "metadata": {
    "id": "0DeqfiPLvNQ3",
    "outputId": "6fcc787b-c7f8-4e09-ebea-01301699d01f"
   },
   "outputs": [
    {
     "data": {
      "text/plain": [
       "45833"
      ]
     },
     "execution_count": 61,
     "metadata": {
      "tags": []
     },
     "output_type": "execute_result"
    }
   ],
   "source": [
    "distances.index(min(distances))"
   ]
  },
  {
   "cell_type": "code",
   "execution_count": null,
   "metadata": {
    "id": "7zTVzfbMvNQ4",
    "outputId": "5fad0af9-9d97-4b5a-cd42-24687e3cc89c"
   },
   "outputs": [
    {
     "data": {
      "text/plain": [
       "12.466167487557817"
      ]
     },
     "execution_count": 64,
     "metadata": {
      "tags": []
     },
     "output_type": "execute_result"
    }
   ],
   "source": [
    "euc_distance(q1.iloc[:1],q1.iloc[45834:45834+1],q1)"
   ]
  },
  {
   "cell_type": "code",
   "execution_count": null,
   "metadata": {
    "id": "kk3lUn9jvNQ5",
    "outputId": "b88aa205-2c15-49d1-f024-e1134f5e46fd"
   },
   "outputs": [
    {
     "data": {
      "text/plain": [
       "45834    spj00550\n",
       "Name: 0, dtype: object"
      ]
     },
     "execution_count": 68,
     "metadata": {
      "tags": []
     },
     "output_type": "execute_result"
    }
   ],
   "source": [
    "q1.iloc[45834:45834+1][0]"
   ]
  },
  {
   "cell_type": "markdown",
   "metadata": {
    "id": "Tha5JzZzvNQ6"
   },
   "source": [
    "The nearest neighbor is spj00550. The minimum distance is 12.466167487557817."
   ]
  },
  {
   "cell_type": "markdown",
   "metadata": {
    "id": "WARAw4i0vNQ6"
   },
   "source": [
    "c) implement the index acceleration using Ball-tree, and present the nearest neighbor of the first point (to call the library of Ball-tree, refer to: https://scikit-learn.org/stable/modules/generated/sklearn.neighbors.BallTree.html) (10 points)"
   ]
  },
  {
   "cell_type": "code",
   "execution_count": null,
   "metadata": {
    "id": "ec1sQLjIvNQ6",
    "outputId": "b71a5acc-1d86-48f5-8df8-f0377c323654"
   },
   "outputs": [
    {
     "data": {
      "text/html": [
       "<div>\n",
       "<style scoped>\n",
       "    .dataframe tbody tr th:only-of-type {\n",
       "        vertical-align: middle;\n",
       "    }\n",
       "\n",
       "    .dataframe tbody tr th {\n",
       "        vertical-align: top;\n",
       "    }\n",
       "\n",
       "    .dataframe thead th {\n",
       "        text-align: right;\n",
       "    }\n",
       "</style>\n",
       "<table border=\"1\" class=\"dataframe\">\n",
       "  <thead>\n",
       "    <tr style=\"text-align: right;\">\n",
       "      <th></th>\n",
       "      <th>1</th>\n",
       "      <th>2</th>\n",
       "      <th>3</th>\n",
       "      <th>4</th>\n",
       "      <th>5</th>\n",
       "      <th>6</th>\n",
       "      <th>7</th>\n",
       "      <th>8</th>\n",
       "      <th>9</th>\n",
       "      <th>10</th>\n",
       "      <th>...</th>\n",
       "      <th>14</th>\n",
       "      <th>15</th>\n",
       "      <th>16</th>\n",
       "      <th>17</th>\n",
       "      <th>18</th>\n",
       "      <th>19</th>\n",
       "      <th>20</th>\n",
       "      <th>21</th>\n",
       "      <th>22</th>\n",
       "      <th>23</th>\n",
       "    </tr>\n",
       "  </thead>\n",
       "  <tbody>\n",
       "    <tr>\n",
       "      <th>0</th>\n",
       "      <td>26</td>\n",
       "      <td>43</td>\n",
       "      <td>2</td>\n",
       "      <td>7</td>\n",
       "      <td>1</td>\n",
       "      <td>211</td>\n",
       "      <td>3.222749</td>\n",
       "      <td>3.230769</td>\n",
       "      <td>0</td>\n",
       "      <td>0</td>\n",
       "      <td>...</td>\n",
       "      <td>27.000000</td>\n",
       "      <td>0</td>\n",
       "      <td>0.076923</td>\n",
       "      <td>3.307692</td>\n",
       "      <td>0.062418</td>\n",
       "      <td>1.653846</td>\n",
       "      <td>3.923077</td>\n",
       "      <td>0.375199</td>\n",
       "      <td>2.210114</td>\n",
       "      <td>0.221154</td>\n",
       "    </tr>\n",
       "    <tr>\n",
       "      <th>1</th>\n",
       "      <td>27</td>\n",
       "      <td>52</td>\n",
       "      <td>2</td>\n",
       "      <td>10</td>\n",
       "      <td>1</td>\n",
       "      <td>226</td>\n",
       "      <td>3.411504</td>\n",
       "      <td>3.851852</td>\n",
       "      <td>0</td>\n",
       "      <td>0</td>\n",
       "      <td>...</td>\n",
       "      <td>26.629630</td>\n",
       "      <td>0</td>\n",
       "      <td>0.000000</td>\n",
       "      <td>3.851852</td>\n",
       "      <td>0.036567</td>\n",
       "      <td>1.925926</td>\n",
       "      <td>4.074074</td>\n",
       "      <td>0.399880</td>\n",
       "      <td>2.168687</td>\n",
       "      <td>0.290197</td>\n",
       "    </tr>\n",
       "    <tr>\n",
       "      <th>2</th>\n",
       "      <td>26</td>\n",
       "      <td>53</td>\n",
       "      <td>2</td>\n",
       "      <td>6</td>\n",
       "      <td>1</td>\n",
       "      <td>202</td>\n",
       "      <td>2.732673</td>\n",
       "      <td>3.769231</td>\n",
       "      <td>0</td>\n",
       "      <td>0</td>\n",
       "      <td>...</td>\n",
       "      <td>14.961538</td>\n",
       "      <td>0</td>\n",
       "      <td>0.230769</td>\n",
       "      <td>4.076923</td>\n",
       "      <td>0.026604</td>\n",
       "      <td>2.038462</td>\n",
       "      <td>3.115385</td>\n",
       "      <td>0.430368</td>\n",
       "      <td>1.864288</td>\n",
       "      <td>0.230311</td>\n",
       "    </tr>\n",
       "    <tr>\n",
       "      <th>3</th>\n",
       "      <td>20</td>\n",
       "      <td>28</td>\n",
       "      <td>1</td>\n",
       "      <td>8</td>\n",
       "      <td>1</td>\n",
       "      <td>65</td>\n",
       "      <td>2.523077</td>\n",
       "      <td>2.600000</td>\n",
       "      <td>0</td>\n",
       "      <td>0</td>\n",
       "      <td>...</td>\n",
       "      <td>4.950000</td>\n",
       "      <td>0</td>\n",
       "      <td>0.100000</td>\n",
       "      <td>2.800000</td>\n",
       "      <td>0.014474</td>\n",
       "      <td>1.400000</td>\n",
       "      <td>2.450000</td>\n",
       "      <td>0.481044</td>\n",
       "      <td>1.492500</td>\n",
       "      <td>0.210000</td>\n",
       "    </tr>\n",
       "    <tr>\n",
       "      <th>4</th>\n",
       "      <td>15</td>\n",
       "      <td>33</td>\n",
       "      <td>1</td>\n",
       "      <td>4</td>\n",
       "      <td>2</td>\n",
       "      <td>85</td>\n",
       "      <td>1.858824</td>\n",
       "      <td>4.400000</td>\n",
       "      <td>0</td>\n",
       "      <td>0</td>\n",
       "      <td>...</td>\n",
       "      <td>5.000000</td>\n",
       "      <td>0</td>\n",
       "      <td>0.000000</td>\n",
       "      <td>4.400000</td>\n",
       "      <td>0.026740</td>\n",
       "      <td>2.200000</td>\n",
       "      <td>2.333333</td>\n",
       "      <td>0.518691</td>\n",
       "      <td>1.532326</td>\n",
       "      <td>0.267222</td>\n",
       "    </tr>\n",
       "    <tr>\n",
       "      <th>...</th>\n",
       "      <td>...</td>\n",
       "      <td>...</td>\n",
       "      <td>...</td>\n",
       "      <td>...</td>\n",
       "      <td>...</td>\n",
       "      <td>...</td>\n",
       "      <td>...</td>\n",
       "      <td>...</td>\n",
       "      <td>...</td>\n",
       "      <td>...</td>\n",
       "      <td>...</td>\n",
       "      <td>...</td>\n",
       "      <td>...</td>\n",
       "      <td>...</td>\n",
       "      <td>...</td>\n",
       "      <td>...</td>\n",
       "      <td>...</td>\n",
       "      <td>...</td>\n",
       "      <td>...</td>\n",
       "      <td>...</td>\n",
       "      <td>...</td>\n",
       "    </tr>\n",
       "    <tr>\n",
       "      <th>53408</th>\n",
       "      <td>20</td>\n",
       "      <td>25</td>\n",
       "      <td>2</td>\n",
       "      <td>5</td>\n",
       "      <td>1</td>\n",
       "      <td>62</td>\n",
       "      <td>2.112903</td>\n",
       "      <td>2.500000</td>\n",
       "      <td>0</td>\n",
       "      <td>0</td>\n",
       "      <td>...</td>\n",
       "      <td>5.550000</td>\n",
       "      <td>0</td>\n",
       "      <td>0.000000</td>\n",
       "      <td>2.500000</td>\n",
       "      <td>0.043910</td>\n",
       "      <td>1.250000</td>\n",
       "      <td>1.650000</td>\n",
       "      <td>0.377880</td>\n",
       "      <td>1.077955</td>\n",
       "      <td>0.157500</td>\n",
       "    </tr>\n",
       "    <tr>\n",
       "      <th>53409</th>\n",
       "      <td>4</td>\n",
       "      <td>3</td>\n",
       "      <td>1</td>\n",
       "      <td>3</td>\n",
       "      <td>1</td>\n",
       "      <td>6</td>\n",
       "      <td>1.666667</td>\n",
       "      <td>1.500000</td>\n",
       "      <td>0</td>\n",
       "      <td>0</td>\n",
       "      <td>...</td>\n",
       "      <td>1.000000</td>\n",
       "      <td>0</td>\n",
       "      <td>0.000000</td>\n",
       "      <td>1.500000</td>\n",
       "      <td>0.166667</td>\n",
       "      <td>0.750000</td>\n",
       "      <td>1.500000</td>\n",
       "      <td>0.541667</td>\n",
       "      <td>1.125000</td>\n",
       "      <td>0.000000</td>\n",
       "    </tr>\n",
       "    <tr>\n",
       "      <th>53410</th>\n",
       "      <td>5</td>\n",
       "      <td>6</td>\n",
       "      <td>1</td>\n",
       "      <td>3</td>\n",
       "      <td>1</td>\n",
       "      <td>10</td>\n",
       "      <td>1.500000</td>\n",
       "      <td>2.400000</td>\n",
       "      <td>0</td>\n",
       "      <td>0</td>\n",
       "      <td>...</td>\n",
       "      <td>1.000000</td>\n",
       "      <td>0</td>\n",
       "      <td>0.000000</td>\n",
       "      <td>2.400000</td>\n",
       "      <td>0.083333</td>\n",
       "      <td>1.200000</td>\n",
       "      <td>1.600000</td>\n",
       "      <td>0.593333</td>\n",
       "      <td>1.150000</td>\n",
       "      <td>0.166667</td>\n",
       "    </tr>\n",
       "    <tr>\n",
       "      <th>53411</th>\n",
       "      <td>16</td>\n",
       "      <td>24</td>\n",
       "      <td>3</td>\n",
       "      <td>4</td>\n",
       "      <td>1</td>\n",
       "      <td>39</td>\n",
       "      <td>1.666667</td>\n",
       "      <td>2.250000</td>\n",
       "      <td>0</td>\n",
       "      <td>0</td>\n",
       "      <td>...</td>\n",
       "      <td>2.250000</td>\n",
       "      <td>0</td>\n",
       "      <td>0.250000</td>\n",
       "      <td>2.500000</td>\n",
       "      <td>0.018056</td>\n",
       "      <td>1.250000</td>\n",
       "      <td>1.375000</td>\n",
       "      <td>0.454412</td>\n",
       "      <td>0.923438</td>\n",
       "      <td>0.188542</td>\n",
       "    </tr>\n",
       "    <tr>\n",
       "      <th>53412</th>\n",
       "      <td>11</td>\n",
       "      <td>10</td>\n",
       "      <td>2</td>\n",
       "      <td>4</td>\n",
       "      <td>1</td>\n",
       "      <td>21</td>\n",
       "      <td>1.857143</td>\n",
       "      <td>1.818182</td>\n",
       "      <td>0</td>\n",
       "      <td>0</td>\n",
       "      <td>...</td>\n",
       "      <td>1.636364</td>\n",
       "      <td>0</td>\n",
       "      <td>0.000000</td>\n",
       "      <td>1.818182</td>\n",
       "      <td>0.029221</td>\n",
       "      <td>0.909091</td>\n",
       "      <td>1.454545</td>\n",
       "      <td>0.468615</td>\n",
       "      <td>0.989394</td>\n",
       "      <td>0.068182</td>\n",
       "    </tr>\n",
       "  </tbody>\n",
       "</table>\n",
       "<p>53413 rows × 23 columns</p>\n",
       "</div>"
      ],
      "text/plain": [
       "       1   2   3   4   5    6         7         8   9   10  ...         14  \\\n",
       "0      26  43   2   7   1  211  3.222749  3.230769   0   0  ...  27.000000   \n",
       "1      27  52   2  10   1  226  3.411504  3.851852   0   0  ...  26.629630   \n",
       "2      26  53   2   6   1  202  2.732673  3.769231   0   0  ...  14.961538   \n",
       "3      20  28   1   8   1   65  2.523077  2.600000   0   0  ...   4.950000   \n",
       "4      15  33   1   4   2   85  1.858824  4.400000   0   0  ...   5.000000   \n",
       "...    ..  ..  ..  ..  ..  ...       ...       ...  ..  ..  ...        ...   \n",
       "53408  20  25   2   5   1   62  2.112903  2.500000   0   0  ...   5.550000   \n",
       "53409   4   3   1   3   1    6  1.666667  1.500000   0   0  ...   1.000000   \n",
       "53410   5   6   1   3   1   10  1.500000  2.400000   0   0  ...   1.000000   \n",
       "53411  16  24   3   4   1   39  1.666667  2.250000   0   0  ...   2.250000   \n",
       "53412  11  10   2   4   1   21  1.857143  1.818182   0   0  ...   1.636364   \n",
       "\n",
       "       15        16        17        18        19        20        21  \\\n",
       "0       0  0.076923  3.307692  0.062418  1.653846  3.923077  0.375199   \n",
       "1       0  0.000000  3.851852  0.036567  1.925926  4.074074  0.399880   \n",
       "2       0  0.230769  4.076923  0.026604  2.038462  3.115385  0.430368   \n",
       "3       0  0.100000  2.800000  0.014474  1.400000  2.450000  0.481044   \n",
       "4       0  0.000000  4.400000  0.026740  2.200000  2.333333  0.518691   \n",
       "...    ..       ...       ...       ...       ...       ...       ...   \n",
       "53408   0  0.000000  2.500000  0.043910  1.250000  1.650000  0.377880   \n",
       "53409   0  0.000000  1.500000  0.166667  0.750000  1.500000  0.541667   \n",
       "53410   0  0.000000  2.400000  0.083333  1.200000  1.600000  0.593333   \n",
       "53411   0  0.250000  2.500000  0.018056  1.250000  1.375000  0.454412   \n",
       "53412   0  0.000000  1.818182  0.029221  0.909091  1.454545  0.468615   \n",
       "\n",
       "             22        23  \n",
       "0      2.210114  0.221154  \n",
       "1      2.168687  0.290197  \n",
       "2      1.864288  0.230311  \n",
       "3      1.492500  0.210000  \n",
       "4      1.532326  0.267222  \n",
       "...         ...       ...  \n",
       "53408  1.077955  0.157500  \n",
       "53409  1.125000  0.000000  \n",
       "53410  1.150000  0.166667  \n",
       "53411  0.923438  0.188542  \n",
       "53412  0.989394  0.068182  \n",
       "\n",
       "[53413 rows x 23 columns]"
      ]
     },
     "execution_count": 70,
     "metadata": {
      "tags": []
     },
     "output_type": "execute_result"
    }
   ],
   "source": [
    "q1.iloc[:,1:]"
   ]
  },
  {
   "cell_type": "code",
   "execution_count": null,
   "metadata": {
    "id": "TX5K01sovNQ7",
    "outputId": "3322cdd8-6732-40fb-e264-7dd0a7043605"
   },
   "outputs": [
    {
     "name": "stdout",
     "output_type": "stream",
     "text": [
      "--- 0.35341596603393555 seconds ---\n"
     ]
    }
   ],
   "source": [
    "# your answers here\n",
    "from sklearn.neighbors import NearestNeighbors,BallTree\n",
    "import time\n",
    "start_time = time.time()\n",
    "tree = BallTree(q1.iloc[:,1:], leaf_size=40)              \n",
    "dist, ind = tree.query(q1.iloc[:1,1:], k=2) \n",
    "print(\"--- %s seconds ---\" % (time.time() - start_time))"
   ]
  },
  {
   "cell_type": "code",
   "execution_count": null,
   "metadata": {
    "id": "EIYX0iqsvNQ7",
    "outputId": "47f59a23-456b-4db0-e269-6deab8becd01"
   },
   "outputs": [
    {
     "data": {
      "text/plain": [
       "(12.466167487557817, 45899)"
      ]
     },
     "execution_count": 86,
     "metadata": {
      "tags": []
     },
     "output_type": "execute_result"
    }
   ],
   "source": [
    "dist[0][1], ind[0][1]"
   ]
  },
  {
   "cell_type": "markdown",
   "metadata": {
    "id": "Jin6CaP4vNQ8"
   },
   "source": [
    "d) compare the running time of the above two methods you have implemented (to measure the running time, refer to\n",
    "https://stackoverflow.com/questions/1557571/how-do-i-get-time-of-a-python-programs-execution) (5 points)"
   ]
  },
  {
   "cell_type": "code",
   "execution_count": null,
   "metadata": {
    "id": "0B23K5vxvNQ8"
   },
   "outputs": [],
   "source": [
    "# your answers here\n",
    "#The BallTree (0.35s) reduce the time a lot compare with the brute force method (960s)."
   ]
  },
  {
   "cell_type": "markdown",
   "metadata": {
    "id": "u8gHPjt4vNQ9"
   },
   "source": [
    "### Q2. Trajectory Distance Metric and KNN (35 points)  <span style='color:red'>  pts</span>\n",
    "\n",
    "In this question, we use a dataset with 1114 trajectories in Porto, Portugal: \"HW3Q2.csv\" for trajectory distance computation and kNN. (To access the full dataset, refer to https://archive.ics.uci.edu/ml/datasets/Taxi+Service+Trajectory+-+Prediction+Challenge,+ECML+PKDD+2015)\n",
    "\n",
    "a) implement DTW and test it on the first two trajectories in the file, and output the distance. (5 points)"
   ]
  },
  {
   "cell_type": "code",
   "execution_count": 1,
   "metadata": {
    "id": "sZrwV4FhvNQ9"
   },
   "outputs": [],
   "source": [
    "# your answers here\n",
    "import re\n",
    "f = open(\"HW3Q2.txt\", \"r\")\n",
    "t=[]\n",
    "point=[]\n",
    "for x in f:\n",
    "    ##line = re.findall(r\"[-+]?\\d*\\.\\d+|\\d+\", x)\n",
    "    line_list = x.split() \n",
    "    t.append(line_list[1])\n",
    "    point.append(line_list[0])\n",
    "    ##t.append(line)"
   ]
  },
  {
   "cell_type": "code",
   "execution_count": 2,
   "metadata": {
    "colab": {
     "base_uri": "https://localhost:8080/"
    },
    "id": "tFB2nKmvvNQ9",
    "outputId": "91584852-f381-4485-fa48-02605cfb94d3"
   },
   "outputs": [
    {
     "data": {
      "text/plain": [
       "1114"
      ]
     },
     "execution_count": 2,
     "metadata": {
      "tags": []
     },
     "output_type": "execute_result"
    }
   ],
   "source": [
    "len(t)"
   ]
  },
  {
   "cell_type": "code",
   "execution_count": 5,
   "metadata": {
    "id": "M8nqZt0IvNQ-"
   },
   "outputs": [],
   "source": [
    "import ast\n",
    "traj=[]\n",
    "for i in range(len(t)):\n",
    "    traj.append(np.array(ast.literal_eval(t[i])))"
   ]
  },
  {
   "cell_type": "code",
   "execution_count": 6,
   "metadata": {
    "id": "h_UDf9R0vNQ-"
   },
   "outputs": [],
   "source": [
    "import numpy as np\n",
    "\n",
    "def eucl_dist(x, y):\n",
    "    \"\"\"\n",
    "    Usage\n",
    "    -----\n",
    "    L2-norm between point x and y\n",
    "    Parameters\n",
    "    ----------\n",
    "    param x : numpy_array\n",
    "    param y : numpy_array\n",
    "    Returns\n",
    "    -------\n",
    "    dist : float\n",
    "           L2-norm between x and y\n",
    "    \"\"\"\n",
    "    dist = np.linalg.norm(x - y)\n",
    "    return dist\n",
    "\n",
    "######################\n",
    "# Euclidean Geometry #\n",
    "######################\n",
    "\n",
    "def e_dtw(t0, t1):\n",
    "    \"\"\"\n",
    "    Usage\n",
    "    -----\n",
    "    The Dynamic-Time Warping distance between trajectory t0 and t1.\n",
    "    Parameters\n",
    "    ----------\n",
    "    param t0 : len(t0)x2 numpy_array\n",
    "    param t1 : len(t1)x2 numpy_array\n",
    "    Returns\n",
    "    -------\n",
    "    dtw : float\n",
    "          The Dynamic-Time Warping distance between trajectory t0 and t1\n",
    "    \"\"\"\n",
    "\n",
    "    n0 = len(t0)\n",
    "    n1 = len(t1)\n",
    "    C = np.zeros((n0 + 1, n1 + 1))\n",
    "    C[1:, 0] = float('inf')\n",
    "    C[0, 1:] = float('inf')\n",
    "    for i in np.arange(n0) + 1:\n",
    "        for j in np.arange(n1) + 1:\n",
    "            C[i, j] = eucl_dist(t0[i - 1], t1[j - 1]) + min(C[i, j - 1], C[i - 1, j - 1], C[i - 1, j])\n",
    "    dtw = C[n0, n1]\n",
    "    return dtw"
   ]
  },
  {
   "cell_type": "code",
   "execution_count": 7,
   "metadata": {
    "colab": {
     "base_uri": "https://localhost:8080/"
    },
    "id": "wUA4AMYQvNQ_",
    "outputId": "7d81d8e8-6cb7-420e-dffa-147ebe61ce6e"
   },
   "outputs": [
    {
     "data": {
      "text/plain": [
       "1.0735257244071137"
      ]
     },
     "execution_count": 7,
     "metadata": {
      "tags": []
     },
     "output_type": "execute_result"
    }
   ],
   "source": [
    "e_dtw(traj[0],traj[1])"
   ]
  },
  {
   "cell_type": "markdown",
   "metadata": {
    "id": "NC-y8IIpvNRA"
   },
   "source": [
    "b) implement LCSS and test it on the first two trajectories in the file, by setting the threshold as 0.001, and output the similarity score. (5 points)"
   ]
  },
  {
   "cell_type": "code",
   "execution_count": 8,
   "metadata": {
    "id": "yWewkEmzvNRA"
   },
   "outputs": [],
   "source": [
    "# your answers here\n",
    "def e_lcss(t0, t1, eps):\n",
    "    \"\"\"\n",
    "    Usage\n",
    "    -----\n",
    "    The Longuest-Common-Subsequence distance between trajectory t0 and t1.\n",
    "    Parameters\n",
    "    ----------\n",
    "    param t0 : len(t0)x2 numpy_array\n",
    "    param t1 : len(t1)x2 numpy_array\n",
    "    eps : float\n",
    "    Returns\n",
    "    -------\n",
    "    lcss : float\n",
    "           The Longuest-Common-Subsequence distance between trajectory t0 and t1\n",
    "    \"\"\"\n",
    "    n0 = len(t0)\n",
    "    n1 = len(t1)\n",
    "    # An (m+1) times (n+1) matrix\n",
    "    C = [[0] * (n1 + 1) for _ in range(n0 + 1)]\n",
    "    for i in range(1, n0 + 1):\n",
    "        for j in range(1, n1 + 1):\n",
    "            if eucl_dist(t0[i - 1], t1[j - 1]) < eps:\n",
    "                C[i][j] = C[i - 1][j - 1] + 1\n",
    "            else:\n",
    "                C[i][j] = max(C[i][j - 1], C[i - 1][j])\n",
    "    lcss = 1 - float(C[n0][n1]) / min([n0, n1])\n",
    "    return lcss"
   ]
  },
  {
   "cell_type": "code",
   "execution_count": 9,
   "metadata": {
    "colab": {
     "base_uri": "https://localhost:8080/"
    },
    "id": "qL2z2rhDvNRA",
    "outputId": "14ab4552-a37e-4db0-af46-c59d2d2d64ab"
   },
   "outputs": [
    {
     "data": {
      "text/plain": [
       "1.0"
      ]
     },
     "execution_count": 9,
     "metadata": {
      "tags": []
     },
     "output_type": "execute_result"
    }
   ],
   "source": [
    "e_lcss(traj[0],traj[1],0.001)"
   ]
  },
  {
   "cell_type": "markdown",
   "metadata": {
    "id": "Rq8eN4sRvNRB"
   },
   "source": [
    "c) implement kNN of using a DTW and lCSS and test it using the first trajectory as query and the rest 1113 trajectories as the dataset. (10 points)"
   ]
  },
  {
   "cell_type": "code",
   "execution_count": 10,
   "metadata": {
    "id": "zizcA0JtvNRB"
   },
   "outputs": [],
   "source": [
    "# your answers here\n",
    "k_dtw={}\n",
    "def dtw_kNN(k):\n",
    "    for i in range(1,len(traj)):\n",
    "        dtw=e_dtw(traj[0],traj[i])\n",
    "        k_dtw[point[i]] = dtw\n",
    "    sort_dtw=sorted(k_dtw.items(), key=lambda d: d[1])\n",
    "    return sort_dtw[:k]"
   ]
  },
  {
   "cell_type": "code",
   "execution_count": 11,
   "metadata": {
    "colab": {
     "base_uri": "https://localhost:8080/"
    },
    "id": "wP0cKhqDvNRC",
    "outputId": "bc183d2a-c5b3-48c3-87fa-a8f2d4a5f2ae"
   },
   "outputs": [
    {
     "data": {
      "text/plain": [
       "[('860', 0.12132758515143127)]"
      ]
     },
     "execution_count": 11,
     "metadata": {
      "tags": []
     },
     "output_type": "execute_result"
    }
   ],
   "source": [
    "#test by k=1\n",
    "dtw_kNN(1)"
   ]
  },
  {
   "cell_type": "code",
   "execution_count": 22,
   "metadata": {
    "colab": {
     "base_uri": "https://localhost:8080/"
    },
    "id": "Mtk4By_wzeZz",
    "outputId": "466014eb-71de-4deb-c65c-4c7c36938fba"
   },
   "outputs": [
    {
     "data": {
      "text/plain": [
       "761"
      ]
     },
     "execution_count": 22,
     "metadata": {
      "tags": []
     },
     "output_type": "execute_result"
    }
   ],
   "source": [
    "point.index('860')"
   ]
  },
  {
   "cell_type": "code",
   "execution_count": 12,
   "metadata": {
    "id": "gPIfzy0YvNRC"
   },
   "outputs": [],
   "source": [
    "k_lcss={}\n",
    "def lcss_kNN(k,eps):\n",
    "    for i in range(1,len(traj)):\n",
    "        lcss=e_lcss(traj[0],traj[i],eps)\n",
    "        k_lcss[point[i]] = lcss\n",
    "    sort_lcss=sorted(k_lcss.items(), key=lambda d: d[1])\n",
    "    return sort_lcss[:k]"
   ]
  },
  {
   "cell_type": "code",
   "execution_count": 13,
   "metadata": {
    "colab": {
     "base_uri": "https://localhost:8080/"
    },
    "id": "RuEmL_D0vNRC",
    "outputId": "679fbf2c-efc1-4c74-fcf9-f214f8451862"
   },
   "outputs": [
    {
     "data": {
      "text/plain": [
       "[('810', 0.3157894736842105)]"
      ]
     },
     "execution_count": 13,
     "metadata": {
      "tags": []
     },
     "output_type": "execute_result"
    }
   ],
   "source": [
    "#test by k=1\n",
    "lcss_kNN(1,0.001)"
   ]
  },
  {
   "cell_type": "code",
   "execution_count": 23,
   "metadata": {
    "colab": {
     "base_uri": "https://localhost:8080/"
    },
    "id": "YF54MRitzk6f",
    "outputId": "3799fa52-3511-4858-bc52-9156f410ab46"
   },
   "outputs": [
    {
     "data": {
      "text/plain": [
       "717"
      ]
     },
     "execution_count": 23,
     "metadata": {
      "tags": []
     },
     "output_type": "execute_result"
    }
   ],
   "source": [
    "point.index('810')"
   ]
  },
  {
   "cell_type": "markdown",
   "metadata": {
    "id": "bERmsrXUvNRD"
   },
   "source": [
    "d) compare the running time of two approaches by using the first trajectory as query, and check whether them return the same results by calling 5NN. (5 points)"
   ]
  },
  {
   "cell_type": "code",
   "execution_count": 14,
   "metadata": {
    "colab": {
     "base_uri": "https://localhost:8080/"
    },
    "id": "fiRnX0FhvNRD",
    "outputId": "d3519822-6e63-4c78-8910-af7874003f5f"
   },
   "outputs": [
    {
     "data": {
      "text/plain": [
       "[('860', 0.12132758515143127),\n",
       " ('551', 0.12909118284621376),\n",
       " ('440', 0.1487935698018854),\n",
       " ('90', 0.16888369178488338),\n",
       " ('284', 0.20669792029804407)]"
      ]
     },
     "execution_count": 14,
     "metadata": {
      "tags": []
     },
     "output_type": "execute_result"
    }
   ],
   "source": [
    "# your answers here\n",
    "import time\n",
    "start_time = time.time()\n",
    "dtw_kNN(5)"
   ]
  },
  {
   "cell_type": "code",
   "execution_count": 15,
   "metadata": {
    "colab": {
     "base_uri": "https://localhost:8080/"
    },
    "id": "4rJGOKF_vNRD",
    "outputId": "8f610d23-4983-493e-ea9d-79a5baaf151e"
   },
   "outputs": [
    {
     "name": "stdout",
     "output_type": "stream",
     "text": [
      "--- 12.385600566864014 seconds ---\n"
     ]
    }
   ],
   "source": [
    "print(\"--- %s seconds ---\" % (time.time() - start_time))"
   ]
  },
  {
   "cell_type": "code",
   "execution_count": 16,
   "metadata": {
    "colab": {
     "base_uri": "https://localhost:8080/"
    },
    "id": "qgK5Zh6RvNRD",
    "outputId": "dbf95c64-8c18-49a1-c2eb-c19a26dcfbe6"
   },
   "outputs": [
    {
     "data": {
      "text/plain": [
       "[('810', 0.3157894736842105),\n",
       " ('963', 0.368421052631579),\n",
       " ('896', 0.4),\n",
       " ('442', 0.4736842105263158),\n",
       " ('853', 0.4736842105263158)]"
      ]
     },
     "execution_count": 16,
     "metadata": {
      "tags": []
     },
     "output_type": "execute_result"
    }
   ],
   "source": [
    "import time\n",
    "start_time = time.time()\n",
    "lcss_kNN(5,0.001)"
   ]
  },
  {
   "cell_type": "code",
   "execution_count": 62,
   "metadata": {
    "colab": {
     "base_uri": "https://localhost:8080/"
    },
    "id": "SHDLv5yz5kYm",
    "outputId": "83380c9a-850a-4cb6-b678-d70f1b10968a"
   },
   "outputs": [
    {
     "name": "stdout",
     "output_type": "stream",
     "text": [
      "717\n",
      "855\n",
      "795\n",
      "386\n",
      "755\n"
     ]
    }
   ],
   "source": [
    "lcss5=['810','963','896','442','853']\n",
    "for i in range(5):\n",
    "  print(point.index(lcss5[i]))"
   ]
  },
  {
   "cell_type": "code",
   "execution_count": 17,
   "metadata": {
    "colab": {
     "base_uri": "https://localhost:8080/"
    },
    "id": "4l_WkNsAvNRE",
    "outputId": "f06546e5-d3ab-44c9-b77d-acecbfe5df93"
   },
   "outputs": [
    {
     "name": "stdout",
     "output_type": "stream",
     "text": [
      "--- 8.556885719299316 seconds ---\n"
     ]
    }
   ],
   "source": [
    "print(\"--- %s seconds ---\" % (time.time() - start_time))"
   ]
  },
  {
   "cell_type": "markdown",
   "metadata": {
    "id": "7kqQH9ivvNRE"
   },
   "source": [
    "lcss is faster than dtw, and they didn't return the same result."
   ]
  },
  {
   "cell_type": "markdown",
   "metadata": {
    "id": "tKEdUHnHvNRE"
   },
   "source": [
    "e) visualize the query trajectory, and its 1NN and 5NN with LCSS using Scikit-learn mobility (https://github.com/scikit-mobility/scikit-mobility) (10 points)"
   ]
  },
  {
   "cell_type": "code",
   "execution_count": 18,
   "metadata": {
    "colab": {
     "base_uri": "https://localhost:8080/"
    },
    "id": "oT_QcyVpvNRE",
    "outputId": "44f341fe-bb82-43f4-aeb7-ea94455e74ed"
   },
   "outputs": [
    {
     "name": "stdout",
     "output_type": "stream",
     "text": [
      "  % Total    % Received % Xferd  Average Speed   Time    Time     Time  Current\n",
      "                                 Dload  Upload   Total   Spent    Left  Speed\n",
      "100  556k  100  556k    0     0  1144k      0 --:--:-- --:--:-- --:--:-- 1146k\n",
      "checking build system type... x86_64-unknown-linux-gnu\n",
      "checking for g++... g++\n",
      "checking whether the C++ compiler works... yes\n",
      "checking for C++ compiler default output file name... a.out\n",
      "checking for suffix of executables... \n",
      "checking whether we are cross compiling... no\n",
      "checking for suffix of object files... o\n",
      "checking whether we are using the GNU C++ compiler... yes\n",
      "checking whether g++ accepts -g... yes\n",
      "checking how to run the C++ preprocessor... g++ -E\n",
      "checking for a BSD-compatible install... /usr/bin/install -c\n",
      "checking whether ln -s works... yes\n",
      "checking whether make sets $(MAKE)... yes\n",
      "checking host system type... x86_64-unknown-linux-gnu\n",
      "checking how to print strings... printf\n",
      "checking for gcc... gcc\n",
      "checking whether we are using the GNU C compiler... yes\n",
      "checking whether gcc accepts -g... yes\n",
      "checking for gcc option to accept ISO C89... none needed\n",
      "checking whether gcc understands -c and -o together... yes\n",
      "checking for a sed that does not truncate output... /bin/sed\n",
      "checking for grep that handles long lines and -e... /bin/grep\n",
      "checking for egrep... /bin/grep -E\n",
      "checking for fgrep... /bin/grep -F\n",
      "checking for ld used by gcc... /usr/bin/ld\n",
      "checking if the linker (/usr/bin/ld) is GNU ld... yes\n",
      "checking for BSD- or MS-compatible name lister (nm)... /usr/bin/nm -B\n",
      "checking the name lister (/usr/bin/nm -B) interface... BSD nm\n",
      "checking the maximum length of command line arguments... 1572864\n",
      "checking whether the shell understands some XSI constructs... yes\n",
      "checking whether the shell understands \"+=\"... yes\n",
      "checking how to convert x86_64-unknown-linux-gnu file names to x86_64-unknown-linux-gnu format... func_convert_file_noop\n",
      "checking how to convert x86_64-unknown-linux-gnu file names to toolchain format... func_convert_file_noop\n",
      "checking for /usr/bin/ld option to reload object files... -r\n",
      "checking for objdump... objdump\n",
      "checking how to recognize dependent libraries... pass_all\n",
      "checking for dlltool... no\n",
      "checking how to associate runtime and link libraries... printf %s\\n\n",
      "checking for ar... ar\n",
      "checking for archiver @FILE support... @\n",
      "checking for strip... strip\n",
      "checking for ranlib... ranlib\n",
      "checking for gawk... no\n",
      "checking for mawk... mawk\n",
      "checking command to parse /usr/bin/nm -B output from gcc object... ok\n",
      "checking for sysroot... no\n",
      "./configure: line 6204: /usr/bin/file: No such file or directory\n",
      "checking for mt... no\n",
      "checking if : is a manifest tool... no\n",
      "checking how to run the C preprocessor... gcc -E\n",
      "checking for ANSI C header files... yes\n",
      "checking for sys/types.h... yes\n",
      "checking for sys/stat.h... yes\n",
      "checking for stdlib.h... yes\n",
      "checking for string.h... yes\n",
      "checking for memory.h... yes\n",
      "checking for strings.h... yes\n",
      "checking for inttypes.h... yes\n",
      "checking for stdint.h... yes\n",
      "checking for unistd.h... yes\n",
      "checking for dlfcn.h... yes\n",
      "checking for objdir... .libs\n",
      "checking if gcc supports -fno-rtti -fno-exceptions... no\n",
      "checking for gcc option to produce PIC... -fPIC -DPIC\n",
      "checking if gcc PIC flag -fPIC -DPIC works... yes\n",
      "checking if gcc static flag -static works... yes\n",
      "checking if gcc supports -c -o file.o... yes\n",
      "checking if gcc supports -c -o file.o... (cached) yes\n",
      "checking whether the gcc linker (/usr/bin/ld) supports shared libraries... yes\n",
      "checking whether -lc should be explicitly linked in... no\n",
      "checking dynamic linker characteristics... GNU/Linux ld.so\n",
      "checking how to hardcode library paths into programs... immediate\n",
      "checking whether stripping libraries is possible... yes\n",
      "checking if libtool supports shared libraries... yes\n",
      "checking whether to build shared libraries... yes\n",
      "checking whether to build static libraries... yes\n",
      "checking how to run the C++ preprocessor... g++ -E\n",
      "checking for ld used by g++... /usr/bin/ld\n",
      "checking if the linker (/usr/bin/ld) is GNU ld... yes\n",
      "checking whether the g++ linker (/usr/bin/ld) supports shared libraries... yes\n",
      "checking for g++ option to produce PIC... -fPIC -DPIC\n",
      "checking if g++ PIC flag -fPIC -DPIC works... yes\n",
      "checking if g++ static flag -static works... yes\n",
      "checking if g++ supports -c -o file.o... yes\n",
      "checking if g++ supports -c -o file.o... (cached) yes\n",
      "checking whether the g++ linker (/usr/bin/ld) supports shared libraries... yes\n",
      "checking dynamic linker characteristics... (cached) GNU/Linux ld.so\n",
      "checking how to hardcode library paths into programs... immediate\n",
      "checking whether build environment is sane... yes\n",
      "/content/spatialindex-src-1.8.5/missing: Unknown `--is-lightweight' option\n",
      "Try `/content/spatialindex-src-1.8.5/missing --help' for more information\n",
      "configure: WARNING: 'missing' script is too old or missing\n",
      "checking for a thread-safe mkdir -p... /bin/mkdir -p\n",
      "checking for style of include used by make... GNU\n",
      "checking whether make supports nested variables... yes\n",
      "checking dependency style of gcc... gcc3\n",
      "checking dependency style of g++... gcc3\n",
      "checking fcntl.h usability... yes\n",
      "checking fcntl.h presence... yes\n",
      "checking for fcntl.h... yes\n",
      "checking for unistd.h... (cached) yes\n",
      "checking for sys/types.h... (cached) yes\n",
      "checking for sys/stat.h... (cached) yes\n",
      "checking pthread.h usability... yes\n",
      "checking pthread.h presence... yes\n",
      "checking for pthread.h... yes\n",
      "checking sys/resource.h usability... yes\n",
      "checking sys/resource.h presence... yes\n",
      "checking for sys/resource.h... yes\n",
      "checking sys/time.h usability... yes\n",
      "checking sys/time.h presence... yes\n",
      "checking for sys/time.h... yes\n",
      "checking for stdint.h... (cached) yes\n",
      "checking features.h usability... yes\n",
      "checking features.h presence... yes\n",
      "checking for features.h... yes\n",
      "checking wether debug information is enabled... no\n",
      "checking for gettimeofday... yes\n",
      "checking for memset... yes\n",
      "checking for memcpy... yes\n",
      "checking for bcopy... yes\n",
      "checking for srand48... yes\n",
      "checking that generated files are newer than configure... done\n",
      "configure: creating ./config.status\n",
      "config.status: creating Makefile\n",
      "config.status: creating include/Makefile\n",
      "config.status: creating src/Makefile\n",
      "config.status: creating src/libspatialindex.pc\n",
      "config.status: creating src/capi/Makefile\n",
      "config.status: creating src/spatialindex/Makefile\n",
      "config.status: creating src/storagemanager/Makefile\n",
      "config.status: creating src/rtree/Makefile\n",
      "config.status: creating src/mvrtree/Makefile\n",
      "config.status: creating src/tprtree/Makefile\n",
      "config.status: creating src/tools/Makefile\n",
      "config.status: creating test/Makefile\n",
      "config.status: creating test/geometry/Makefile\n",
      "config.status: creating test/rtree/Makefile\n",
      "config.status: creating test/mvrtree/Makefile\n",
      "config.status: creating test/tprtree/Makefile\n",
      "config.status: executing libtool commands\n",
      "config.status: executing depfiles commands\n",
      "Making all in src\n",
      "make[1]: Entering directory '/content/spatialindex-src-1.8.5/src'\n",
      "Making all in storagemanager\n",
      "make[2]: Entering directory '/content/spatialindex-src-1.8.5/src/storagemanager'\n",
      "depbase=`echo Buffer.lo | sed 's|[^/]*$|.deps/&|;s|\\.lo$||'`;\\\n",
      "/bin/bash ../../libtool  --tag=CXX   --mode=compile g++ -DPACKAGE_NAME=\\\"spatialindex\\\" -DPACKAGE_TARNAME=\\\"spatialindex-src\\\" -DPACKAGE_VERSION=\\\"1.8.5\\\" -DPACKAGE_STRING=\\\"spatialindex\\ 1.8.5\\\" -DPACKAGE_BUGREPORT=\\\"mhadji@gmail.com\\\" -DPACKAGE_URL=\\\"\\\" -DSTDC_HEADERS=1 -DHAVE_SYS_TYPES_H=1 -DHAVE_SYS_STAT_H=1 -DHAVE_STDLIB_H=1 -DHAVE_STRING_H=1 -DHAVE_MEMORY_H=1 -DHAVE_STRINGS_H=1 -DHAVE_INTTYPES_H=1 -DHAVE_STDINT_H=1 -DHAVE_UNISTD_H=1 -DHAVE_DLFCN_H=1 -DLT_OBJDIR=\\\".libs/\\\" -DPACKAGE=\\\"spatialindex-src\\\" -DVERSION=\\\"1.8.5\\\" -DHAVE_FCNTL_H=1 -DHAVE_UNISTD_H=1 -DHAVE_SYS_TYPES_H=1 -DHAVE_SYS_STAT_H=1 -DHAVE_PTHREAD_H=1 -DHAVE_SYS_RESOURCE_H=1 -DHAVE_SYS_TIME_H=1 -DHAVE_STDINT_H=1 -DHAVE_FEATURES_H=1 -DHAVE_GETTIMEOFDAY=1 -DHAVE_MEMSET=1 -DHAVE_MEMCPY=1 -DHAVE_BCOPY=1 -DHAVE_SRAND48=1 -I. -I../../include     -Wall -Wno-long-long -pedantic -std=c++98  -O2 -DNDEBUG -MT Buffer.lo -MD -MP -MF $depbase.Tpo -c -o Buffer.lo Buffer.cc &&\\\n",
      "mv -f $depbase.Tpo $depbase.Plo\n",
      "libtool: compile:  g++ -DPACKAGE_NAME=\\\"spatialindex\\\" -DPACKAGE_TARNAME=\\\"spatialindex-src\\\" -DPACKAGE_VERSION=\\\"1.8.5\\\" \"-DPACKAGE_STRING=\\\"spatialindex 1.8.5\\\"\" -DPACKAGE_BUGREPORT=\\\"mhadji@gmail.com\\\" -DPACKAGE_URL=\\\"\\\" -DSTDC_HEADERS=1 -DHAVE_SYS_TYPES_H=1 -DHAVE_SYS_STAT_H=1 -DHAVE_STDLIB_H=1 -DHAVE_STRING_H=1 -DHAVE_MEMORY_H=1 -DHAVE_STRINGS_H=1 -DHAVE_INTTYPES_H=1 -DHAVE_STDINT_H=1 -DHAVE_UNISTD_H=1 -DHAVE_DLFCN_H=1 -DLT_OBJDIR=\\\".libs/\\\" -DPACKAGE=\\\"spatialindex-src\\\" -DVERSION=\\\"1.8.5\\\" -DHAVE_FCNTL_H=1 -DHAVE_UNISTD_H=1 -DHAVE_SYS_TYPES_H=1 -DHAVE_SYS_STAT_H=1 -DHAVE_PTHREAD_H=1 -DHAVE_SYS_RESOURCE_H=1 -DHAVE_SYS_TIME_H=1 -DHAVE_STDINT_H=1 -DHAVE_FEATURES_H=1 -DHAVE_GETTIMEOFDAY=1 -DHAVE_MEMSET=1 -DHAVE_MEMCPY=1 -DHAVE_BCOPY=1 -DHAVE_SRAND48=1 -I. -I../../include -Wall -Wno-long-long -pedantic -std=c++98 -O2 -DNDEBUG -MT Buffer.lo -MD -MP -MF .deps/Buffer.Tpo -c Buffer.cc  -fPIC -DPIC -o .libs/Buffer.o\n",
      "libtool: compile:  g++ -DPACKAGE_NAME=\\\"spatialindex\\\" -DPACKAGE_TARNAME=\\\"spatialindex-src\\\" -DPACKAGE_VERSION=\\\"1.8.5\\\" \"-DPACKAGE_STRING=\\\"spatialindex 1.8.5\\\"\" -DPACKAGE_BUGREPORT=\\\"mhadji@gmail.com\\\" -DPACKAGE_URL=\\\"\\\" -DSTDC_HEADERS=1 -DHAVE_SYS_TYPES_H=1 -DHAVE_SYS_STAT_H=1 -DHAVE_STDLIB_H=1 -DHAVE_STRING_H=1 -DHAVE_MEMORY_H=1 -DHAVE_STRINGS_H=1 -DHAVE_INTTYPES_H=1 -DHAVE_STDINT_H=1 -DHAVE_UNISTD_H=1 -DHAVE_DLFCN_H=1 -DLT_OBJDIR=\\\".libs/\\\" -DPACKAGE=\\\"spatialindex-src\\\" -DVERSION=\\\"1.8.5\\\" -DHAVE_FCNTL_H=1 -DHAVE_UNISTD_H=1 -DHAVE_SYS_TYPES_H=1 -DHAVE_SYS_STAT_H=1 -DHAVE_PTHREAD_H=1 -DHAVE_SYS_RESOURCE_H=1 -DHAVE_SYS_TIME_H=1 -DHAVE_STDINT_H=1 -DHAVE_FEATURES_H=1 -DHAVE_GETTIMEOFDAY=1 -DHAVE_MEMSET=1 -DHAVE_MEMCPY=1 -DHAVE_BCOPY=1 -DHAVE_SRAND48=1 -I. -I../../include -Wall -Wno-long-long -pedantic -std=c++98 -O2 -DNDEBUG -MT Buffer.lo -MD -MP -MF .deps/Buffer.Tpo -c Buffer.cc -o Buffer.o >/dev/null 2>&1\n",
      "depbase=`echo DiskStorageManager.lo | sed 's|[^/]*$|.deps/&|;s|\\.lo$||'`;\\\n",
      "/bin/bash ../../libtool  --tag=CXX   --mode=compile g++ -DPACKAGE_NAME=\\\"spatialindex\\\" -DPACKAGE_TARNAME=\\\"spatialindex-src\\\" -DPACKAGE_VERSION=\\\"1.8.5\\\" -DPACKAGE_STRING=\\\"spatialindex\\ 1.8.5\\\" -DPACKAGE_BUGREPORT=\\\"mhadji@gmail.com\\\" -DPACKAGE_URL=\\\"\\\" -DSTDC_HEADERS=1 -DHAVE_SYS_TYPES_H=1 -DHAVE_SYS_STAT_H=1 -DHAVE_STDLIB_H=1 -DHAVE_STRING_H=1 -DHAVE_MEMORY_H=1 -DHAVE_STRINGS_H=1 -DHAVE_INTTYPES_H=1 -DHAVE_STDINT_H=1 -DHAVE_UNISTD_H=1 -DHAVE_DLFCN_H=1 -DLT_OBJDIR=\\\".libs/\\\" -DPACKAGE=\\\"spatialindex-src\\\" -DVERSION=\\\"1.8.5\\\" -DHAVE_FCNTL_H=1 -DHAVE_UNISTD_H=1 -DHAVE_SYS_TYPES_H=1 -DHAVE_SYS_STAT_H=1 -DHAVE_PTHREAD_H=1 -DHAVE_SYS_RESOURCE_H=1 -DHAVE_SYS_TIME_H=1 -DHAVE_STDINT_H=1 -DHAVE_FEATURES_H=1 -DHAVE_GETTIMEOFDAY=1 -DHAVE_MEMSET=1 -DHAVE_MEMCPY=1 -DHAVE_BCOPY=1 -DHAVE_SRAND48=1 -I. -I../../include     -Wall -Wno-long-long -pedantic -std=c++98  -O2 -DNDEBUG -MT DiskStorageManager.lo -MD -MP -MF $depbase.Tpo -c -o DiskStorageManager.lo DiskStorageManager.cc &&\\\n",
      "mv -f $depbase.Tpo $depbase.Plo\n",
      "libtool: compile:  g++ -DPACKAGE_NAME=\\\"spatialindex\\\" -DPACKAGE_TARNAME=\\\"spatialindex-src\\\" -DPACKAGE_VERSION=\\\"1.8.5\\\" \"-DPACKAGE_STRING=\\\"spatialindex 1.8.5\\\"\" -DPACKAGE_BUGREPORT=\\\"mhadji@gmail.com\\\" -DPACKAGE_URL=\\\"\\\" -DSTDC_HEADERS=1 -DHAVE_SYS_TYPES_H=1 -DHAVE_SYS_STAT_H=1 -DHAVE_STDLIB_H=1 -DHAVE_STRING_H=1 -DHAVE_MEMORY_H=1 -DHAVE_STRINGS_H=1 -DHAVE_INTTYPES_H=1 -DHAVE_STDINT_H=1 -DHAVE_UNISTD_H=1 -DHAVE_DLFCN_H=1 -DLT_OBJDIR=\\\".libs/\\\" -DPACKAGE=\\\"spatialindex-src\\\" -DVERSION=\\\"1.8.5\\\" -DHAVE_FCNTL_H=1 -DHAVE_UNISTD_H=1 -DHAVE_SYS_TYPES_H=1 -DHAVE_SYS_STAT_H=1 -DHAVE_PTHREAD_H=1 -DHAVE_SYS_RESOURCE_H=1 -DHAVE_SYS_TIME_H=1 -DHAVE_STDINT_H=1 -DHAVE_FEATURES_H=1 -DHAVE_GETTIMEOFDAY=1 -DHAVE_MEMSET=1 -DHAVE_MEMCPY=1 -DHAVE_BCOPY=1 -DHAVE_SRAND48=1 -I. -I../../include -Wall -Wno-long-long -pedantic -std=c++98 -O2 -DNDEBUG -MT DiskStorageManager.lo -MD -MP -MF .deps/DiskStorageManager.Tpo -c DiskStorageManager.cc  -fPIC -DPIC -o .libs/DiskStorageManager.o\n",
      "libtool: compile:  g++ -DPACKAGE_NAME=\\\"spatialindex\\\" -DPACKAGE_TARNAME=\\\"spatialindex-src\\\" -DPACKAGE_VERSION=\\\"1.8.5\\\" \"-DPACKAGE_STRING=\\\"spatialindex 1.8.5\\\"\" -DPACKAGE_BUGREPORT=\\\"mhadji@gmail.com\\\" -DPACKAGE_URL=\\\"\\\" -DSTDC_HEADERS=1 -DHAVE_SYS_TYPES_H=1 -DHAVE_SYS_STAT_H=1 -DHAVE_STDLIB_H=1 -DHAVE_STRING_H=1 -DHAVE_MEMORY_H=1 -DHAVE_STRINGS_H=1 -DHAVE_INTTYPES_H=1 -DHAVE_STDINT_H=1 -DHAVE_UNISTD_H=1 -DHAVE_DLFCN_H=1 -DLT_OBJDIR=\\\".libs/\\\" -DPACKAGE=\\\"spatialindex-src\\\" -DVERSION=\\\"1.8.5\\\" -DHAVE_FCNTL_H=1 -DHAVE_UNISTD_H=1 -DHAVE_SYS_TYPES_H=1 -DHAVE_SYS_STAT_H=1 -DHAVE_PTHREAD_H=1 -DHAVE_SYS_RESOURCE_H=1 -DHAVE_SYS_TIME_H=1 -DHAVE_STDINT_H=1 -DHAVE_FEATURES_H=1 -DHAVE_GETTIMEOFDAY=1 -DHAVE_MEMSET=1 -DHAVE_MEMCPY=1 -DHAVE_BCOPY=1 -DHAVE_SRAND48=1 -I. -I../../include -Wall -Wno-long-long -pedantic -std=c++98 -O2 -DNDEBUG -MT DiskStorageManager.lo -MD -MP -MF .deps/DiskStorageManager.Tpo -c DiskStorageManager.cc -o DiskStorageManager.o >/dev/null 2>&1\n",
      "depbase=`echo MemoryStorageManager.lo | sed 's|[^/]*$|.deps/&|;s|\\.lo$||'`;\\\n",
      "/bin/bash ../../libtool  --tag=CXX   --mode=compile g++ -DPACKAGE_NAME=\\\"spatialindex\\\" -DPACKAGE_TARNAME=\\\"spatialindex-src\\\" -DPACKAGE_VERSION=\\\"1.8.5\\\" -DPACKAGE_STRING=\\\"spatialindex\\ 1.8.5\\\" -DPACKAGE_BUGREPORT=\\\"mhadji@gmail.com\\\" -DPACKAGE_URL=\\\"\\\" -DSTDC_HEADERS=1 -DHAVE_SYS_TYPES_H=1 -DHAVE_SYS_STAT_H=1 -DHAVE_STDLIB_H=1 -DHAVE_STRING_H=1 -DHAVE_MEMORY_H=1 -DHAVE_STRINGS_H=1 -DHAVE_INTTYPES_H=1 -DHAVE_STDINT_H=1 -DHAVE_UNISTD_H=1 -DHAVE_DLFCN_H=1 -DLT_OBJDIR=\\\".libs/\\\" -DPACKAGE=\\\"spatialindex-src\\\" -DVERSION=\\\"1.8.5\\\" -DHAVE_FCNTL_H=1 -DHAVE_UNISTD_H=1 -DHAVE_SYS_TYPES_H=1 -DHAVE_SYS_STAT_H=1 -DHAVE_PTHREAD_H=1 -DHAVE_SYS_RESOURCE_H=1 -DHAVE_SYS_TIME_H=1 -DHAVE_STDINT_H=1 -DHAVE_FEATURES_H=1 -DHAVE_GETTIMEOFDAY=1 -DHAVE_MEMSET=1 -DHAVE_MEMCPY=1 -DHAVE_BCOPY=1 -DHAVE_SRAND48=1 -I. -I../../include     -Wall -Wno-long-long -pedantic -std=c++98  -O2 -DNDEBUG -MT MemoryStorageManager.lo -MD -MP -MF $depbase.Tpo -c -o MemoryStorageManager.lo MemoryStorageManager.cc &&\\\n",
      "mv -f $depbase.Tpo $depbase.Plo\n",
      "libtool: compile:  g++ -DPACKAGE_NAME=\\\"spatialindex\\\" -DPACKAGE_TARNAME=\\\"spatialindex-src\\\" -DPACKAGE_VERSION=\\\"1.8.5\\\" \"-DPACKAGE_STRING=\\\"spatialindex 1.8.5\\\"\" -DPACKAGE_BUGREPORT=\\\"mhadji@gmail.com\\\" -DPACKAGE_URL=\\\"\\\" -DSTDC_HEADERS=1 -DHAVE_SYS_TYPES_H=1 -DHAVE_SYS_STAT_H=1 -DHAVE_STDLIB_H=1 -DHAVE_STRING_H=1 -DHAVE_MEMORY_H=1 -DHAVE_STRINGS_H=1 -DHAVE_INTTYPES_H=1 -DHAVE_STDINT_H=1 -DHAVE_UNISTD_H=1 -DHAVE_DLFCN_H=1 -DLT_OBJDIR=\\\".libs/\\\" -DPACKAGE=\\\"spatialindex-src\\\" -DVERSION=\\\"1.8.5\\\" -DHAVE_FCNTL_H=1 -DHAVE_UNISTD_H=1 -DHAVE_SYS_TYPES_H=1 -DHAVE_SYS_STAT_H=1 -DHAVE_PTHREAD_H=1 -DHAVE_SYS_RESOURCE_H=1 -DHAVE_SYS_TIME_H=1 -DHAVE_STDINT_H=1 -DHAVE_FEATURES_H=1 -DHAVE_GETTIMEOFDAY=1 -DHAVE_MEMSET=1 -DHAVE_MEMCPY=1 -DHAVE_BCOPY=1 -DHAVE_SRAND48=1 -I. -I../../include -Wall -Wno-long-long -pedantic -std=c++98 -O2 -DNDEBUG -MT MemoryStorageManager.lo -MD -MP -MF .deps/MemoryStorageManager.Tpo -c MemoryStorageManager.cc  -fPIC -DPIC -o .libs/MemoryStorageManager.o\n",
      "libtool: compile:  g++ -DPACKAGE_NAME=\\\"spatialindex\\\" -DPACKAGE_TARNAME=\\\"spatialindex-src\\\" -DPACKAGE_VERSION=\\\"1.8.5\\\" \"-DPACKAGE_STRING=\\\"spatialindex 1.8.5\\\"\" -DPACKAGE_BUGREPORT=\\\"mhadji@gmail.com\\\" -DPACKAGE_URL=\\\"\\\" -DSTDC_HEADERS=1 -DHAVE_SYS_TYPES_H=1 -DHAVE_SYS_STAT_H=1 -DHAVE_STDLIB_H=1 -DHAVE_STRING_H=1 -DHAVE_MEMORY_H=1 -DHAVE_STRINGS_H=1 -DHAVE_INTTYPES_H=1 -DHAVE_STDINT_H=1 -DHAVE_UNISTD_H=1 -DHAVE_DLFCN_H=1 -DLT_OBJDIR=\\\".libs/\\\" -DPACKAGE=\\\"spatialindex-src\\\" -DVERSION=\\\"1.8.5\\\" -DHAVE_FCNTL_H=1 -DHAVE_UNISTD_H=1 -DHAVE_SYS_TYPES_H=1 -DHAVE_SYS_STAT_H=1 -DHAVE_PTHREAD_H=1 -DHAVE_SYS_RESOURCE_H=1 -DHAVE_SYS_TIME_H=1 -DHAVE_STDINT_H=1 -DHAVE_FEATURES_H=1 -DHAVE_GETTIMEOFDAY=1 -DHAVE_MEMSET=1 -DHAVE_MEMCPY=1 -DHAVE_BCOPY=1 -DHAVE_SRAND48=1 -I. -I../../include -Wall -Wno-long-long -pedantic -std=c++98 -O2 -DNDEBUG -MT MemoryStorageManager.lo -MD -MP -MF .deps/MemoryStorageManager.Tpo -c MemoryStorageManager.cc -o MemoryStorageManager.o >/dev/null 2>&1\n",
      "depbase=`echo RandomEvictionsBuffer.lo | sed 's|[^/]*$|.deps/&|;s|\\.lo$||'`;\\\n",
      "/bin/bash ../../libtool  --tag=CXX   --mode=compile g++ -DPACKAGE_NAME=\\\"spatialindex\\\" -DPACKAGE_TARNAME=\\\"spatialindex-src\\\" -DPACKAGE_VERSION=\\\"1.8.5\\\" -DPACKAGE_STRING=\\\"spatialindex\\ 1.8.5\\\" -DPACKAGE_BUGREPORT=\\\"mhadji@gmail.com\\\" -DPACKAGE_URL=\\\"\\\" -DSTDC_HEADERS=1 -DHAVE_SYS_TYPES_H=1 -DHAVE_SYS_STAT_H=1 -DHAVE_STDLIB_H=1 -DHAVE_STRING_H=1 -DHAVE_MEMORY_H=1 -DHAVE_STRINGS_H=1 -DHAVE_INTTYPES_H=1 -DHAVE_STDINT_H=1 -DHAVE_UNISTD_H=1 -DHAVE_DLFCN_H=1 -DLT_OBJDIR=\\\".libs/\\\" -DPACKAGE=\\\"spatialindex-src\\\" -DVERSION=\\\"1.8.5\\\" -DHAVE_FCNTL_H=1 -DHAVE_UNISTD_H=1 -DHAVE_SYS_TYPES_H=1 -DHAVE_SYS_STAT_H=1 -DHAVE_PTHREAD_H=1 -DHAVE_SYS_RESOURCE_H=1 -DHAVE_SYS_TIME_H=1 -DHAVE_STDINT_H=1 -DHAVE_FEATURES_H=1 -DHAVE_GETTIMEOFDAY=1 -DHAVE_MEMSET=1 -DHAVE_MEMCPY=1 -DHAVE_BCOPY=1 -DHAVE_SRAND48=1 -I. -I../../include     -Wall -Wno-long-long -pedantic -std=c++98  -O2 -DNDEBUG -MT RandomEvictionsBuffer.lo -MD -MP -MF $depbase.Tpo -c -o RandomEvictionsBuffer.lo RandomEvictionsBuffer.cc &&\\\n",
      "mv -f $depbase.Tpo $depbase.Plo\n",
      "libtool: compile:  g++ -DPACKAGE_NAME=\\\"spatialindex\\\" -DPACKAGE_TARNAME=\\\"spatialindex-src\\\" -DPACKAGE_VERSION=\\\"1.8.5\\\" \"-DPACKAGE_STRING=\\\"spatialindex 1.8.5\\\"\" -DPACKAGE_BUGREPORT=\\\"mhadji@gmail.com\\\" -DPACKAGE_URL=\\\"\\\" -DSTDC_HEADERS=1 -DHAVE_SYS_TYPES_H=1 -DHAVE_SYS_STAT_H=1 -DHAVE_STDLIB_H=1 -DHAVE_STRING_H=1 -DHAVE_MEMORY_H=1 -DHAVE_STRINGS_H=1 -DHAVE_INTTYPES_H=1 -DHAVE_STDINT_H=1 -DHAVE_UNISTD_H=1 -DHAVE_DLFCN_H=1 -DLT_OBJDIR=\\\".libs/\\\" -DPACKAGE=\\\"spatialindex-src\\\" -DVERSION=\\\"1.8.5\\\" -DHAVE_FCNTL_H=1 -DHAVE_UNISTD_H=1 -DHAVE_SYS_TYPES_H=1 -DHAVE_SYS_STAT_H=1 -DHAVE_PTHREAD_H=1 -DHAVE_SYS_RESOURCE_H=1 -DHAVE_SYS_TIME_H=1 -DHAVE_STDINT_H=1 -DHAVE_FEATURES_H=1 -DHAVE_GETTIMEOFDAY=1 -DHAVE_MEMSET=1 -DHAVE_MEMCPY=1 -DHAVE_BCOPY=1 -DHAVE_SRAND48=1 -I. -I../../include -Wall -Wno-long-long -pedantic -std=c++98 -O2 -DNDEBUG -MT RandomEvictionsBuffer.lo -MD -MP -MF .deps/RandomEvictionsBuffer.Tpo -c RandomEvictionsBuffer.cc  -fPIC -DPIC -o .libs/RandomEvictionsBuffer.o\n",
      "libtool: compile:  g++ -DPACKAGE_NAME=\\\"spatialindex\\\" -DPACKAGE_TARNAME=\\\"spatialindex-src\\\" -DPACKAGE_VERSION=\\\"1.8.5\\\" \"-DPACKAGE_STRING=\\\"spatialindex 1.8.5\\\"\" -DPACKAGE_BUGREPORT=\\\"mhadji@gmail.com\\\" -DPACKAGE_URL=\\\"\\\" -DSTDC_HEADERS=1 -DHAVE_SYS_TYPES_H=1 -DHAVE_SYS_STAT_H=1 -DHAVE_STDLIB_H=1 -DHAVE_STRING_H=1 -DHAVE_MEMORY_H=1 -DHAVE_STRINGS_H=1 -DHAVE_INTTYPES_H=1 -DHAVE_STDINT_H=1 -DHAVE_UNISTD_H=1 -DHAVE_DLFCN_H=1 -DLT_OBJDIR=\\\".libs/\\\" -DPACKAGE=\\\"spatialindex-src\\\" -DVERSION=\\\"1.8.5\\\" -DHAVE_FCNTL_H=1 -DHAVE_UNISTD_H=1 -DHAVE_SYS_TYPES_H=1 -DHAVE_SYS_STAT_H=1 -DHAVE_PTHREAD_H=1 -DHAVE_SYS_RESOURCE_H=1 -DHAVE_SYS_TIME_H=1 -DHAVE_STDINT_H=1 -DHAVE_FEATURES_H=1 -DHAVE_GETTIMEOFDAY=1 -DHAVE_MEMSET=1 -DHAVE_MEMCPY=1 -DHAVE_BCOPY=1 -DHAVE_SRAND48=1 -I. -I../../include -Wall -Wno-long-long -pedantic -std=c++98 -O2 -DNDEBUG -MT RandomEvictionsBuffer.lo -MD -MP -MF .deps/RandomEvictionsBuffer.Tpo -c RandomEvictionsBuffer.cc -o RandomEvictionsBuffer.o >/dev/null 2>&1\n",
      "/bin/bash ../../libtool  --tag=CXX   --mode=link g++  -Wall -Wno-long-long -pedantic -std=c++98  -O2 -DNDEBUG   -o libstoragemanager.la  Buffer.lo DiskStorageManager.lo MemoryStorageManager.lo RandomEvictionsBuffer.lo  -lpthread\n",
      "libtool: link: ar cru .libs/libstoragemanager.a .libs/Buffer.o .libs/DiskStorageManager.o .libs/MemoryStorageManager.o .libs/RandomEvictionsBuffer.o \n",
      "ar: `u' modifier ignored since `D' is the default (see `U')\n",
      "libtool: link: ranlib .libs/libstoragemanager.a\n",
      "libtool: link: ( cd \".libs\" && rm -f \"libstoragemanager.la\" && ln -s \"../libstoragemanager.la\" \"libstoragemanager.la\" )\n",
      "make[2]: Leaving directory '/content/spatialindex-src-1.8.5/src/storagemanager'\n",
      "Making all in spatialindex\n",
      "make[2]: Entering directory '/content/spatialindex-src-1.8.5/src/spatialindex'\n",
      "depbase=`echo Point.lo | sed 's|[^/]*$|.deps/&|;s|\\.lo$||'`;\\\n",
      "/bin/bash ../../libtool  --tag=CXX   --mode=compile g++ -DPACKAGE_NAME=\\\"spatialindex\\\" -DPACKAGE_TARNAME=\\\"spatialindex-src\\\" -DPACKAGE_VERSION=\\\"1.8.5\\\" -DPACKAGE_STRING=\\\"spatialindex\\ 1.8.5\\\" -DPACKAGE_BUGREPORT=\\\"mhadji@gmail.com\\\" -DPACKAGE_URL=\\\"\\\" -DSTDC_HEADERS=1 -DHAVE_SYS_TYPES_H=1 -DHAVE_SYS_STAT_H=1 -DHAVE_STDLIB_H=1 -DHAVE_STRING_H=1 -DHAVE_MEMORY_H=1 -DHAVE_STRINGS_H=1 -DHAVE_INTTYPES_H=1 -DHAVE_STDINT_H=1 -DHAVE_UNISTD_H=1 -DHAVE_DLFCN_H=1 -DLT_OBJDIR=\\\".libs/\\\" -DPACKAGE=\\\"spatialindex-src\\\" -DVERSION=\\\"1.8.5\\\" -DHAVE_FCNTL_H=1 -DHAVE_UNISTD_H=1 -DHAVE_SYS_TYPES_H=1 -DHAVE_SYS_STAT_H=1 -DHAVE_PTHREAD_H=1 -DHAVE_SYS_RESOURCE_H=1 -DHAVE_SYS_TIME_H=1 -DHAVE_STDINT_H=1 -DHAVE_FEATURES_H=1 -DHAVE_GETTIMEOFDAY=1 -DHAVE_MEMSET=1 -DHAVE_MEMCPY=1 -DHAVE_BCOPY=1 -DHAVE_SRAND48=1 -I. -I../../include    -Wall -Wno-long-long -pedantic -std=c++98  -O2 -DNDEBUG -MT Point.lo -MD -MP -MF $depbase.Tpo -c -o Point.lo Point.cc &&\\\n",
      "mv -f $depbase.Tpo $depbase.Plo\n",
      "libtool: compile:  g++ -DPACKAGE_NAME=\\\"spatialindex\\\" -DPACKAGE_TARNAME=\\\"spatialindex-src\\\" -DPACKAGE_VERSION=\\\"1.8.5\\\" \"-DPACKAGE_STRING=\\\"spatialindex 1.8.5\\\"\" -DPACKAGE_BUGREPORT=\\\"mhadji@gmail.com\\\" -DPACKAGE_URL=\\\"\\\" -DSTDC_HEADERS=1 -DHAVE_SYS_TYPES_H=1 -DHAVE_SYS_STAT_H=1 -DHAVE_STDLIB_H=1 -DHAVE_STRING_H=1 -DHAVE_MEMORY_H=1 -DHAVE_STRINGS_H=1 -DHAVE_INTTYPES_H=1 -DHAVE_STDINT_H=1 -DHAVE_UNISTD_H=1 -DHAVE_DLFCN_H=1 -DLT_OBJDIR=\\\".libs/\\\" -DPACKAGE=\\\"spatialindex-src\\\" -DVERSION=\\\"1.8.5\\\" -DHAVE_FCNTL_H=1 -DHAVE_UNISTD_H=1 -DHAVE_SYS_TYPES_H=1 -DHAVE_SYS_STAT_H=1 -DHAVE_PTHREAD_H=1 -DHAVE_SYS_RESOURCE_H=1 -DHAVE_SYS_TIME_H=1 -DHAVE_STDINT_H=1 -DHAVE_FEATURES_H=1 -DHAVE_GETTIMEOFDAY=1 -DHAVE_MEMSET=1 -DHAVE_MEMCPY=1 -DHAVE_BCOPY=1 -DHAVE_SRAND48=1 -I. -I../../include -Wall -Wno-long-long -pedantic -std=c++98 -O2 -DNDEBUG -MT Point.lo -MD -MP -MF .deps/Point.Tpo -c Point.cc  -fPIC -DPIC -o .libs/Point.o\n",
      "libtool: compile:  g++ -DPACKAGE_NAME=\\\"spatialindex\\\" -DPACKAGE_TARNAME=\\\"spatialindex-src\\\" -DPACKAGE_VERSION=\\\"1.8.5\\\" \"-DPACKAGE_STRING=\\\"spatialindex 1.8.5\\\"\" -DPACKAGE_BUGREPORT=\\\"mhadji@gmail.com\\\" -DPACKAGE_URL=\\\"\\\" -DSTDC_HEADERS=1 -DHAVE_SYS_TYPES_H=1 -DHAVE_SYS_STAT_H=1 -DHAVE_STDLIB_H=1 -DHAVE_STRING_H=1 -DHAVE_MEMORY_H=1 -DHAVE_STRINGS_H=1 -DHAVE_INTTYPES_H=1 -DHAVE_STDINT_H=1 -DHAVE_UNISTD_H=1 -DHAVE_DLFCN_H=1 -DLT_OBJDIR=\\\".libs/\\\" -DPACKAGE=\\\"spatialindex-src\\\" -DVERSION=\\\"1.8.5\\\" -DHAVE_FCNTL_H=1 -DHAVE_UNISTD_H=1 -DHAVE_SYS_TYPES_H=1 -DHAVE_SYS_STAT_H=1 -DHAVE_PTHREAD_H=1 -DHAVE_SYS_RESOURCE_H=1 -DHAVE_SYS_TIME_H=1 -DHAVE_STDINT_H=1 -DHAVE_FEATURES_H=1 -DHAVE_GETTIMEOFDAY=1 -DHAVE_MEMSET=1 -DHAVE_MEMCPY=1 -DHAVE_BCOPY=1 -DHAVE_SRAND48=1 -I. -I../../include -Wall -Wno-long-long -pedantic -std=c++98 -O2 -DNDEBUG -MT Point.lo -MD -MP -MF .deps/Point.Tpo -c Point.cc -o Point.o >/dev/null 2>&1\n",
      "depbase=`echo Region.lo | sed 's|[^/]*$|.deps/&|;s|\\.lo$||'`;\\\n",
      "/bin/bash ../../libtool  --tag=CXX   --mode=compile g++ -DPACKAGE_NAME=\\\"spatialindex\\\" -DPACKAGE_TARNAME=\\\"spatialindex-src\\\" -DPACKAGE_VERSION=\\\"1.8.5\\\" -DPACKAGE_STRING=\\\"spatialindex\\ 1.8.5\\\" -DPACKAGE_BUGREPORT=\\\"mhadji@gmail.com\\\" -DPACKAGE_URL=\\\"\\\" -DSTDC_HEADERS=1 -DHAVE_SYS_TYPES_H=1 -DHAVE_SYS_STAT_H=1 -DHAVE_STDLIB_H=1 -DHAVE_STRING_H=1 -DHAVE_MEMORY_H=1 -DHAVE_STRINGS_H=1 -DHAVE_INTTYPES_H=1 -DHAVE_STDINT_H=1 -DHAVE_UNISTD_H=1 -DHAVE_DLFCN_H=1 -DLT_OBJDIR=\\\".libs/\\\" -DPACKAGE=\\\"spatialindex-src\\\" -DVERSION=\\\"1.8.5\\\" -DHAVE_FCNTL_H=1 -DHAVE_UNISTD_H=1 -DHAVE_SYS_TYPES_H=1 -DHAVE_SYS_STAT_H=1 -DHAVE_PTHREAD_H=1 -DHAVE_SYS_RESOURCE_H=1 -DHAVE_SYS_TIME_H=1 -DHAVE_STDINT_H=1 -DHAVE_FEATURES_H=1 -DHAVE_GETTIMEOFDAY=1 -DHAVE_MEMSET=1 -DHAVE_MEMCPY=1 -DHAVE_BCOPY=1 -DHAVE_SRAND48=1 -I. -I../../include    -Wall -Wno-long-long -pedantic -std=c++98  -O2 -DNDEBUG -MT Region.lo -MD -MP -MF $depbase.Tpo -c -o Region.lo Region.cc &&\\\n",
      "mv -f $depbase.Tpo $depbase.Plo\n",
      "libtool: compile:  g++ -DPACKAGE_NAME=\\\"spatialindex\\\" -DPACKAGE_TARNAME=\\\"spatialindex-src\\\" -DPACKAGE_VERSION=\\\"1.8.5\\\" \"-DPACKAGE_STRING=\\\"spatialindex 1.8.5\\\"\" -DPACKAGE_BUGREPORT=\\\"mhadji@gmail.com\\\" -DPACKAGE_URL=\\\"\\\" -DSTDC_HEADERS=1 -DHAVE_SYS_TYPES_H=1 -DHAVE_SYS_STAT_H=1 -DHAVE_STDLIB_H=1 -DHAVE_STRING_H=1 -DHAVE_MEMORY_H=1 -DHAVE_STRINGS_H=1 -DHAVE_INTTYPES_H=1 -DHAVE_STDINT_H=1 -DHAVE_UNISTD_H=1 -DHAVE_DLFCN_H=1 -DLT_OBJDIR=\\\".libs/\\\" -DPACKAGE=\\\"spatialindex-src\\\" -DVERSION=\\\"1.8.5\\\" -DHAVE_FCNTL_H=1 -DHAVE_UNISTD_H=1 -DHAVE_SYS_TYPES_H=1 -DHAVE_SYS_STAT_H=1 -DHAVE_PTHREAD_H=1 -DHAVE_SYS_RESOURCE_H=1 -DHAVE_SYS_TIME_H=1 -DHAVE_STDINT_H=1 -DHAVE_FEATURES_H=1 -DHAVE_GETTIMEOFDAY=1 -DHAVE_MEMSET=1 -DHAVE_MEMCPY=1 -DHAVE_BCOPY=1 -DHAVE_SRAND48=1 -I. -I../../include -Wall -Wno-long-long -pedantic -std=c++98 -O2 -DNDEBUG -MT Region.lo -MD -MP -MF .deps/Region.Tpo -c Region.cc  -fPIC -DPIC -o .libs/Region.o\n",
      "libtool: compile:  g++ -DPACKAGE_NAME=\\\"spatialindex\\\" -DPACKAGE_TARNAME=\\\"spatialindex-src\\\" -DPACKAGE_VERSION=\\\"1.8.5\\\" \"-DPACKAGE_STRING=\\\"spatialindex 1.8.5\\\"\" -DPACKAGE_BUGREPORT=\\\"mhadji@gmail.com\\\" -DPACKAGE_URL=\\\"\\\" -DSTDC_HEADERS=1 -DHAVE_SYS_TYPES_H=1 -DHAVE_SYS_STAT_H=1 -DHAVE_STDLIB_H=1 -DHAVE_STRING_H=1 -DHAVE_MEMORY_H=1 -DHAVE_STRINGS_H=1 -DHAVE_INTTYPES_H=1 -DHAVE_STDINT_H=1 -DHAVE_UNISTD_H=1 -DHAVE_DLFCN_H=1 -DLT_OBJDIR=\\\".libs/\\\" -DPACKAGE=\\\"spatialindex-src\\\" -DVERSION=\\\"1.8.5\\\" -DHAVE_FCNTL_H=1 -DHAVE_UNISTD_H=1 -DHAVE_SYS_TYPES_H=1 -DHAVE_SYS_STAT_H=1 -DHAVE_PTHREAD_H=1 -DHAVE_SYS_RESOURCE_H=1 -DHAVE_SYS_TIME_H=1 -DHAVE_STDINT_H=1 -DHAVE_FEATURES_H=1 -DHAVE_GETTIMEOFDAY=1 -DHAVE_MEMSET=1 -DHAVE_MEMCPY=1 -DHAVE_BCOPY=1 -DHAVE_SRAND48=1 -I. -I../../include -Wall -Wno-long-long -pedantic -std=c++98 -O2 -DNDEBUG -MT Region.lo -MD -MP -MF .deps/Region.Tpo -c Region.cc -o Region.o >/dev/null 2>&1\n",
      "depbase=`echo LineSegment.lo | sed 's|[^/]*$|.deps/&|;s|\\.lo$||'`;\\\n",
      "/bin/bash ../../libtool  --tag=CXX   --mode=compile g++ -DPACKAGE_NAME=\\\"spatialindex\\\" -DPACKAGE_TARNAME=\\\"spatialindex-src\\\" -DPACKAGE_VERSION=\\\"1.8.5\\\" -DPACKAGE_STRING=\\\"spatialindex\\ 1.8.5\\\" -DPACKAGE_BUGREPORT=\\\"mhadji@gmail.com\\\" -DPACKAGE_URL=\\\"\\\" -DSTDC_HEADERS=1 -DHAVE_SYS_TYPES_H=1 -DHAVE_SYS_STAT_H=1 -DHAVE_STDLIB_H=1 -DHAVE_STRING_H=1 -DHAVE_MEMORY_H=1 -DHAVE_STRINGS_H=1 -DHAVE_INTTYPES_H=1 -DHAVE_STDINT_H=1 -DHAVE_UNISTD_H=1 -DHAVE_DLFCN_H=1 -DLT_OBJDIR=\\\".libs/\\\" -DPACKAGE=\\\"spatialindex-src\\\" -DVERSION=\\\"1.8.5\\\" -DHAVE_FCNTL_H=1 -DHAVE_UNISTD_H=1 -DHAVE_SYS_TYPES_H=1 -DHAVE_SYS_STAT_H=1 -DHAVE_PTHREAD_H=1 -DHAVE_SYS_RESOURCE_H=1 -DHAVE_SYS_TIME_H=1 -DHAVE_STDINT_H=1 -DHAVE_FEATURES_H=1 -DHAVE_GETTIMEOFDAY=1 -DHAVE_MEMSET=1 -DHAVE_MEMCPY=1 -DHAVE_BCOPY=1 -DHAVE_SRAND48=1 -I. -I../../include    -Wall -Wno-long-long -pedantic -std=c++98  -O2 -DNDEBUG -MT LineSegment.lo -MD -MP -MF $depbase.Tpo -c -o LineSegment.lo LineSegment.cc &&\\\n",
      "mv -f $depbase.Tpo $depbase.Plo\n",
      "libtool: compile:  g++ -DPACKAGE_NAME=\\\"spatialindex\\\" -DPACKAGE_TARNAME=\\\"spatialindex-src\\\" -DPACKAGE_VERSION=\\\"1.8.5\\\" \"-DPACKAGE_STRING=\\\"spatialindex 1.8.5\\\"\" -DPACKAGE_BUGREPORT=\\\"mhadji@gmail.com\\\" -DPACKAGE_URL=\\\"\\\" -DSTDC_HEADERS=1 -DHAVE_SYS_TYPES_H=1 -DHAVE_SYS_STAT_H=1 -DHAVE_STDLIB_H=1 -DHAVE_STRING_H=1 -DHAVE_MEMORY_H=1 -DHAVE_STRINGS_H=1 -DHAVE_INTTYPES_H=1 -DHAVE_STDINT_H=1 -DHAVE_UNISTD_H=1 -DHAVE_DLFCN_H=1 -DLT_OBJDIR=\\\".libs/\\\" -DPACKAGE=\\\"spatialindex-src\\\" -DVERSION=\\\"1.8.5\\\" -DHAVE_FCNTL_H=1 -DHAVE_UNISTD_H=1 -DHAVE_SYS_TYPES_H=1 -DHAVE_SYS_STAT_H=1 -DHAVE_PTHREAD_H=1 -DHAVE_SYS_RESOURCE_H=1 -DHAVE_SYS_TIME_H=1 -DHAVE_STDINT_H=1 -DHAVE_FEATURES_H=1 -DHAVE_GETTIMEOFDAY=1 -DHAVE_MEMSET=1 -DHAVE_MEMCPY=1 -DHAVE_BCOPY=1 -DHAVE_SRAND48=1 -I. -I../../include -Wall -Wno-long-long -pedantic -std=c++98 -O2 -DNDEBUG -MT LineSegment.lo -MD -MP -MF .deps/LineSegment.Tpo -c LineSegment.cc  -fPIC -DPIC -o .libs/LineSegment.o\n",
      "libtool: compile:  g++ -DPACKAGE_NAME=\\\"spatialindex\\\" -DPACKAGE_TARNAME=\\\"spatialindex-src\\\" -DPACKAGE_VERSION=\\\"1.8.5\\\" \"-DPACKAGE_STRING=\\\"spatialindex 1.8.5\\\"\" -DPACKAGE_BUGREPORT=\\\"mhadji@gmail.com\\\" -DPACKAGE_URL=\\\"\\\" -DSTDC_HEADERS=1 -DHAVE_SYS_TYPES_H=1 -DHAVE_SYS_STAT_H=1 -DHAVE_STDLIB_H=1 -DHAVE_STRING_H=1 -DHAVE_MEMORY_H=1 -DHAVE_STRINGS_H=1 -DHAVE_INTTYPES_H=1 -DHAVE_STDINT_H=1 -DHAVE_UNISTD_H=1 -DHAVE_DLFCN_H=1 -DLT_OBJDIR=\\\".libs/\\\" -DPACKAGE=\\\"spatialindex-src\\\" -DVERSION=\\\"1.8.5\\\" -DHAVE_FCNTL_H=1 -DHAVE_UNISTD_H=1 -DHAVE_SYS_TYPES_H=1 -DHAVE_SYS_STAT_H=1 -DHAVE_PTHREAD_H=1 -DHAVE_SYS_RESOURCE_H=1 -DHAVE_SYS_TIME_H=1 -DHAVE_STDINT_H=1 -DHAVE_FEATURES_H=1 -DHAVE_GETTIMEOFDAY=1 -DHAVE_MEMSET=1 -DHAVE_MEMCPY=1 -DHAVE_BCOPY=1 -DHAVE_SRAND48=1 -I. -I../../include -Wall -Wno-long-long -pedantic -std=c++98 -O2 -DNDEBUG -MT LineSegment.lo -MD -MP -MF .deps/LineSegment.Tpo -c LineSegment.cc -o LineSegment.o >/dev/null 2>&1\n",
      "depbase=`echo MovingPoint.lo | sed 's|[^/]*$|.deps/&|;s|\\.lo$||'`;\\\n",
      "/bin/bash ../../libtool  --tag=CXX   --mode=compile g++ -DPACKAGE_NAME=\\\"spatialindex\\\" -DPACKAGE_TARNAME=\\\"spatialindex-src\\\" -DPACKAGE_VERSION=\\\"1.8.5\\\" -DPACKAGE_STRING=\\\"spatialindex\\ 1.8.5\\\" -DPACKAGE_BUGREPORT=\\\"mhadji@gmail.com\\\" -DPACKAGE_URL=\\\"\\\" -DSTDC_HEADERS=1 -DHAVE_SYS_TYPES_H=1 -DHAVE_SYS_STAT_H=1 -DHAVE_STDLIB_H=1 -DHAVE_STRING_H=1 -DHAVE_MEMORY_H=1 -DHAVE_STRINGS_H=1 -DHAVE_INTTYPES_H=1 -DHAVE_STDINT_H=1 -DHAVE_UNISTD_H=1 -DHAVE_DLFCN_H=1 -DLT_OBJDIR=\\\".libs/\\\" -DPACKAGE=\\\"spatialindex-src\\\" -DVERSION=\\\"1.8.5\\\" -DHAVE_FCNTL_H=1 -DHAVE_UNISTD_H=1 -DHAVE_SYS_TYPES_H=1 -DHAVE_SYS_STAT_H=1 -DHAVE_PTHREAD_H=1 -DHAVE_SYS_RESOURCE_H=1 -DHAVE_SYS_TIME_H=1 -DHAVE_STDINT_H=1 -DHAVE_FEATURES_H=1 -DHAVE_GETTIMEOFDAY=1 -DHAVE_MEMSET=1 -DHAVE_MEMCPY=1 -DHAVE_BCOPY=1 -DHAVE_SRAND48=1 -I. -I../../include    -Wall -Wno-long-long -pedantic -std=c++98  -O2 -DNDEBUG -MT MovingPoint.lo -MD -MP -MF $depbase.Tpo -c -o MovingPoint.lo MovingPoint.cc &&\\\n",
      "mv -f $depbase.Tpo $depbase.Plo\n",
      "libtool: compile:  g++ -DPACKAGE_NAME=\\\"spatialindex\\\" -DPACKAGE_TARNAME=\\\"spatialindex-src\\\" -DPACKAGE_VERSION=\\\"1.8.5\\\" \"-DPACKAGE_STRING=\\\"spatialindex 1.8.5\\\"\" -DPACKAGE_BUGREPORT=\\\"mhadji@gmail.com\\\" -DPACKAGE_URL=\\\"\\\" -DSTDC_HEADERS=1 -DHAVE_SYS_TYPES_H=1 -DHAVE_SYS_STAT_H=1 -DHAVE_STDLIB_H=1 -DHAVE_STRING_H=1 -DHAVE_MEMORY_H=1 -DHAVE_STRINGS_H=1 -DHAVE_INTTYPES_H=1 -DHAVE_STDINT_H=1 -DHAVE_UNISTD_H=1 -DHAVE_DLFCN_H=1 -DLT_OBJDIR=\\\".libs/\\\" -DPACKAGE=\\\"spatialindex-src\\\" -DVERSION=\\\"1.8.5\\\" -DHAVE_FCNTL_H=1 -DHAVE_UNISTD_H=1 -DHAVE_SYS_TYPES_H=1 -DHAVE_SYS_STAT_H=1 -DHAVE_PTHREAD_H=1 -DHAVE_SYS_RESOURCE_H=1 -DHAVE_SYS_TIME_H=1 -DHAVE_STDINT_H=1 -DHAVE_FEATURES_H=1 -DHAVE_GETTIMEOFDAY=1 -DHAVE_MEMSET=1 -DHAVE_MEMCPY=1 -DHAVE_BCOPY=1 -DHAVE_SRAND48=1 -I. -I../../include -Wall -Wno-long-long -pedantic -std=c++98 -O2 -DNDEBUG -MT MovingPoint.lo -MD -MP -MF .deps/MovingPoint.Tpo -c MovingPoint.cc  -fPIC -DPIC -o .libs/MovingPoint.o\n",
      "libtool: compile:  g++ -DPACKAGE_NAME=\\\"spatialindex\\\" -DPACKAGE_TARNAME=\\\"spatialindex-src\\\" -DPACKAGE_VERSION=\\\"1.8.5\\\" \"-DPACKAGE_STRING=\\\"spatialindex 1.8.5\\\"\" -DPACKAGE_BUGREPORT=\\\"mhadji@gmail.com\\\" -DPACKAGE_URL=\\\"\\\" -DSTDC_HEADERS=1 -DHAVE_SYS_TYPES_H=1 -DHAVE_SYS_STAT_H=1 -DHAVE_STDLIB_H=1 -DHAVE_STRING_H=1 -DHAVE_MEMORY_H=1 -DHAVE_STRINGS_H=1 -DHAVE_INTTYPES_H=1 -DHAVE_STDINT_H=1 -DHAVE_UNISTD_H=1 -DHAVE_DLFCN_H=1 -DLT_OBJDIR=\\\".libs/\\\" -DPACKAGE=\\\"spatialindex-src\\\" -DVERSION=\\\"1.8.5\\\" -DHAVE_FCNTL_H=1 -DHAVE_UNISTD_H=1 -DHAVE_SYS_TYPES_H=1 -DHAVE_SYS_STAT_H=1 -DHAVE_PTHREAD_H=1 -DHAVE_SYS_RESOURCE_H=1 -DHAVE_SYS_TIME_H=1 -DHAVE_STDINT_H=1 -DHAVE_FEATURES_H=1 -DHAVE_GETTIMEOFDAY=1 -DHAVE_MEMSET=1 -DHAVE_MEMCPY=1 -DHAVE_BCOPY=1 -DHAVE_SRAND48=1 -I. -I../../include -Wall -Wno-long-long -pedantic -std=c++98 -O2 -DNDEBUG -MT MovingPoint.lo -MD -MP -MF .deps/MovingPoint.Tpo -c MovingPoint.cc -o MovingPoint.o >/dev/null 2>&1\n",
      "depbase=`echo MovingRegion.lo | sed 's|[^/]*$|.deps/&|;s|\\.lo$||'`;\\\n",
      "/bin/bash ../../libtool  --tag=CXX   --mode=compile g++ -DPACKAGE_NAME=\\\"spatialindex\\\" -DPACKAGE_TARNAME=\\\"spatialindex-src\\\" -DPACKAGE_VERSION=\\\"1.8.5\\\" -DPACKAGE_STRING=\\\"spatialindex\\ 1.8.5\\\" -DPACKAGE_BUGREPORT=\\\"mhadji@gmail.com\\\" -DPACKAGE_URL=\\\"\\\" -DSTDC_HEADERS=1 -DHAVE_SYS_TYPES_H=1 -DHAVE_SYS_STAT_H=1 -DHAVE_STDLIB_H=1 -DHAVE_STRING_H=1 -DHAVE_MEMORY_H=1 -DHAVE_STRINGS_H=1 -DHAVE_INTTYPES_H=1 -DHAVE_STDINT_H=1 -DHAVE_UNISTD_H=1 -DHAVE_DLFCN_H=1 -DLT_OBJDIR=\\\".libs/\\\" -DPACKAGE=\\\"spatialindex-src\\\" -DVERSION=\\\"1.8.5\\\" -DHAVE_FCNTL_H=1 -DHAVE_UNISTD_H=1 -DHAVE_SYS_TYPES_H=1 -DHAVE_SYS_STAT_H=1 -DHAVE_PTHREAD_H=1 -DHAVE_SYS_RESOURCE_H=1 -DHAVE_SYS_TIME_H=1 -DHAVE_STDINT_H=1 -DHAVE_FEATURES_H=1 -DHAVE_GETTIMEOFDAY=1 -DHAVE_MEMSET=1 -DHAVE_MEMCPY=1 -DHAVE_BCOPY=1 -DHAVE_SRAND48=1 -I. -I../../include    -Wall -Wno-long-long -pedantic -std=c++98  -O2 -DNDEBUG -MT MovingRegion.lo -MD -MP -MF $depbase.Tpo -c -o MovingRegion.lo MovingRegion.cc &&\\\n",
      "mv -f $depbase.Tpo $depbase.Plo\n",
      "libtool: compile:  g++ -DPACKAGE_NAME=\\\"spatialindex\\\" -DPACKAGE_TARNAME=\\\"spatialindex-src\\\" -DPACKAGE_VERSION=\\\"1.8.5\\\" \"-DPACKAGE_STRING=\\\"spatialindex 1.8.5\\\"\" -DPACKAGE_BUGREPORT=\\\"mhadji@gmail.com\\\" -DPACKAGE_URL=\\\"\\\" -DSTDC_HEADERS=1 -DHAVE_SYS_TYPES_H=1 -DHAVE_SYS_STAT_H=1 -DHAVE_STDLIB_H=1 -DHAVE_STRING_H=1 -DHAVE_MEMORY_H=1 -DHAVE_STRINGS_H=1 -DHAVE_INTTYPES_H=1 -DHAVE_STDINT_H=1 -DHAVE_UNISTD_H=1 -DHAVE_DLFCN_H=1 -DLT_OBJDIR=\\\".libs/\\\" -DPACKAGE=\\\"spatialindex-src\\\" -DVERSION=\\\"1.8.5\\\" -DHAVE_FCNTL_H=1 -DHAVE_UNISTD_H=1 -DHAVE_SYS_TYPES_H=1 -DHAVE_SYS_STAT_H=1 -DHAVE_PTHREAD_H=1 -DHAVE_SYS_RESOURCE_H=1 -DHAVE_SYS_TIME_H=1 -DHAVE_STDINT_H=1 -DHAVE_FEATURES_H=1 -DHAVE_GETTIMEOFDAY=1 -DHAVE_MEMSET=1 -DHAVE_MEMCPY=1 -DHAVE_BCOPY=1 -DHAVE_SRAND48=1 -I. -I../../include -Wall -Wno-long-long -pedantic -std=c++98 -O2 -DNDEBUG -MT MovingRegion.lo -MD -MP -MF .deps/MovingRegion.Tpo -c MovingRegion.cc  -fPIC -DPIC -o .libs/MovingRegion.o\n",
      "libtool: compile:  g++ -DPACKAGE_NAME=\\\"spatialindex\\\" -DPACKAGE_TARNAME=\\\"spatialindex-src\\\" -DPACKAGE_VERSION=\\\"1.8.5\\\" \"-DPACKAGE_STRING=\\\"spatialindex 1.8.5\\\"\" -DPACKAGE_BUGREPORT=\\\"mhadji@gmail.com\\\" -DPACKAGE_URL=\\\"\\\" -DSTDC_HEADERS=1 -DHAVE_SYS_TYPES_H=1 -DHAVE_SYS_STAT_H=1 -DHAVE_STDLIB_H=1 -DHAVE_STRING_H=1 -DHAVE_MEMORY_H=1 -DHAVE_STRINGS_H=1 -DHAVE_INTTYPES_H=1 -DHAVE_STDINT_H=1 -DHAVE_UNISTD_H=1 -DHAVE_DLFCN_H=1 -DLT_OBJDIR=\\\".libs/\\\" -DPACKAGE=\\\"spatialindex-src\\\" -DVERSION=\\\"1.8.5\\\" -DHAVE_FCNTL_H=1 -DHAVE_UNISTD_H=1 -DHAVE_SYS_TYPES_H=1 -DHAVE_SYS_STAT_H=1 -DHAVE_PTHREAD_H=1 -DHAVE_SYS_RESOURCE_H=1 -DHAVE_SYS_TIME_H=1 -DHAVE_STDINT_H=1 -DHAVE_FEATURES_H=1 -DHAVE_GETTIMEOFDAY=1 -DHAVE_MEMSET=1 -DHAVE_MEMCPY=1 -DHAVE_BCOPY=1 -DHAVE_SRAND48=1 -I. -I../../include -Wall -Wno-long-long -pedantic -std=c++98 -O2 -DNDEBUG -MT MovingRegion.lo -MD -MP -MF .deps/MovingRegion.Tpo -c MovingRegion.cc -o MovingRegion.o >/dev/null 2>&1\n",
      "depbase=`echo TimePoint.lo | sed 's|[^/]*$|.deps/&|;s|\\.lo$||'`;\\\n",
      "/bin/bash ../../libtool  --tag=CXX   --mode=compile g++ -DPACKAGE_NAME=\\\"spatialindex\\\" -DPACKAGE_TARNAME=\\\"spatialindex-src\\\" -DPACKAGE_VERSION=\\\"1.8.5\\\" -DPACKAGE_STRING=\\\"spatialindex\\ 1.8.5\\\" -DPACKAGE_BUGREPORT=\\\"mhadji@gmail.com\\\" -DPACKAGE_URL=\\\"\\\" -DSTDC_HEADERS=1 -DHAVE_SYS_TYPES_H=1 -DHAVE_SYS_STAT_H=1 -DHAVE_STDLIB_H=1 -DHAVE_STRING_H=1 -DHAVE_MEMORY_H=1 -DHAVE_STRINGS_H=1 -DHAVE_INTTYPES_H=1 -DHAVE_STDINT_H=1 -DHAVE_UNISTD_H=1 -DHAVE_DLFCN_H=1 -DLT_OBJDIR=\\\".libs/\\\" -DPACKAGE=\\\"spatialindex-src\\\" -DVERSION=\\\"1.8.5\\\" -DHAVE_FCNTL_H=1 -DHAVE_UNISTD_H=1 -DHAVE_SYS_TYPES_H=1 -DHAVE_SYS_STAT_H=1 -DHAVE_PTHREAD_H=1 -DHAVE_SYS_RESOURCE_H=1 -DHAVE_SYS_TIME_H=1 -DHAVE_STDINT_H=1 -DHAVE_FEATURES_H=1 -DHAVE_GETTIMEOFDAY=1 -DHAVE_MEMSET=1 -DHAVE_MEMCPY=1 -DHAVE_BCOPY=1 -DHAVE_SRAND48=1 -I. -I../../include    -Wall -Wno-long-long -pedantic -std=c++98  -O2 -DNDEBUG -MT TimePoint.lo -MD -MP -MF $depbase.Tpo -c -o TimePoint.lo TimePoint.cc &&\\\n",
      "mv -f $depbase.Tpo $depbase.Plo\n",
      "libtool: compile:  g++ -DPACKAGE_NAME=\\\"spatialindex\\\" -DPACKAGE_TARNAME=\\\"spatialindex-src\\\" -DPACKAGE_VERSION=\\\"1.8.5\\\" \"-DPACKAGE_STRING=\\\"spatialindex 1.8.5\\\"\" -DPACKAGE_BUGREPORT=\\\"mhadji@gmail.com\\\" -DPACKAGE_URL=\\\"\\\" -DSTDC_HEADERS=1 -DHAVE_SYS_TYPES_H=1 -DHAVE_SYS_STAT_H=1 -DHAVE_STDLIB_H=1 -DHAVE_STRING_H=1 -DHAVE_MEMORY_H=1 -DHAVE_STRINGS_H=1 -DHAVE_INTTYPES_H=1 -DHAVE_STDINT_H=1 -DHAVE_UNISTD_H=1 -DHAVE_DLFCN_H=1 -DLT_OBJDIR=\\\".libs/\\\" -DPACKAGE=\\\"spatialindex-src\\\" -DVERSION=\\\"1.8.5\\\" -DHAVE_FCNTL_H=1 -DHAVE_UNISTD_H=1 -DHAVE_SYS_TYPES_H=1 -DHAVE_SYS_STAT_H=1 -DHAVE_PTHREAD_H=1 -DHAVE_SYS_RESOURCE_H=1 -DHAVE_SYS_TIME_H=1 -DHAVE_STDINT_H=1 -DHAVE_FEATURES_H=1 -DHAVE_GETTIMEOFDAY=1 -DHAVE_MEMSET=1 -DHAVE_MEMCPY=1 -DHAVE_BCOPY=1 -DHAVE_SRAND48=1 -I. -I../../include -Wall -Wno-long-long -pedantic -std=c++98 -O2 -DNDEBUG -MT TimePoint.lo -MD -MP -MF .deps/TimePoint.Tpo -c TimePoint.cc  -fPIC -DPIC -o .libs/TimePoint.o\n",
      "libtool: compile:  g++ -DPACKAGE_NAME=\\\"spatialindex\\\" -DPACKAGE_TARNAME=\\\"spatialindex-src\\\" -DPACKAGE_VERSION=\\\"1.8.5\\\" \"-DPACKAGE_STRING=\\\"spatialindex 1.8.5\\\"\" -DPACKAGE_BUGREPORT=\\\"mhadji@gmail.com\\\" -DPACKAGE_URL=\\\"\\\" -DSTDC_HEADERS=1 -DHAVE_SYS_TYPES_H=1 -DHAVE_SYS_STAT_H=1 -DHAVE_STDLIB_H=1 -DHAVE_STRING_H=1 -DHAVE_MEMORY_H=1 -DHAVE_STRINGS_H=1 -DHAVE_INTTYPES_H=1 -DHAVE_STDINT_H=1 -DHAVE_UNISTD_H=1 -DHAVE_DLFCN_H=1 -DLT_OBJDIR=\\\".libs/\\\" -DPACKAGE=\\\"spatialindex-src\\\" -DVERSION=\\\"1.8.5\\\" -DHAVE_FCNTL_H=1 -DHAVE_UNISTD_H=1 -DHAVE_SYS_TYPES_H=1 -DHAVE_SYS_STAT_H=1 -DHAVE_PTHREAD_H=1 -DHAVE_SYS_RESOURCE_H=1 -DHAVE_SYS_TIME_H=1 -DHAVE_STDINT_H=1 -DHAVE_FEATURES_H=1 -DHAVE_GETTIMEOFDAY=1 -DHAVE_MEMSET=1 -DHAVE_MEMCPY=1 -DHAVE_BCOPY=1 -DHAVE_SRAND48=1 -I. -I../../include -Wall -Wno-long-long -pedantic -std=c++98 -O2 -DNDEBUG -MT TimePoint.lo -MD -MP -MF .deps/TimePoint.Tpo -c TimePoint.cc -o TimePoint.o >/dev/null 2>&1\n",
      "depbase=`echo TimeRegion.lo | sed 's|[^/]*$|.deps/&|;s|\\.lo$||'`;\\\n",
      "/bin/bash ../../libtool  --tag=CXX   --mode=compile g++ -DPACKAGE_NAME=\\\"spatialindex\\\" -DPACKAGE_TARNAME=\\\"spatialindex-src\\\" -DPACKAGE_VERSION=\\\"1.8.5\\\" -DPACKAGE_STRING=\\\"spatialindex\\ 1.8.5\\\" -DPACKAGE_BUGREPORT=\\\"mhadji@gmail.com\\\" -DPACKAGE_URL=\\\"\\\" -DSTDC_HEADERS=1 -DHAVE_SYS_TYPES_H=1 -DHAVE_SYS_STAT_H=1 -DHAVE_STDLIB_H=1 -DHAVE_STRING_H=1 -DHAVE_MEMORY_H=1 -DHAVE_STRINGS_H=1 -DHAVE_INTTYPES_H=1 -DHAVE_STDINT_H=1 -DHAVE_UNISTD_H=1 -DHAVE_DLFCN_H=1 -DLT_OBJDIR=\\\".libs/\\\" -DPACKAGE=\\\"spatialindex-src\\\" -DVERSION=\\\"1.8.5\\\" -DHAVE_FCNTL_H=1 -DHAVE_UNISTD_H=1 -DHAVE_SYS_TYPES_H=1 -DHAVE_SYS_STAT_H=1 -DHAVE_PTHREAD_H=1 -DHAVE_SYS_RESOURCE_H=1 -DHAVE_SYS_TIME_H=1 -DHAVE_STDINT_H=1 -DHAVE_FEATURES_H=1 -DHAVE_GETTIMEOFDAY=1 -DHAVE_MEMSET=1 -DHAVE_MEMCPY=1 -DHAVE_BCOPY=1 -DHAVE_SRAND48=1 -I. -I../../include    -Wall -Wno-long-long -pedantic -std=c++98  -O2 -DNDEBUG -MT TimeRegion.lo -MD -MP -MF $depbase.Tpo -c -o TimeRegion.lo TimeRegion.cc &&\\\n",
      "mv -f $depbase.Tpo $depbase.Plo\n",
      "libtool: compile:  g++ -DPACKAGE_NAME=\\\"spatialindex\\\" -DPACKAGE_TARNAME=\\\"spatialindex-src\\\" -DPACKAGE_VERSION=\\\"1.8.5\\\" \"-DPACKAGE_STRING=\\\"spatialindex 1.8.5\\\"\" -DPACKAGE_BUGREPORT=\\\"mhadji@gmail.com\\\" -DPACKAGE_URL=\\\"\\\" -DSTDC_HEADERS=1 -DHAVE_SYS_TYPES_H=1 -DHAVE_SYS_STAT_H=1 -DHAVE_STDLIB_H=1 -DHAVE_STRING_H=1 -DHAVE_MEMORY_H=1 -DHAVE_STRINGS_H=1 -DHAVE_INTTYPES_H=1 -DHAVE_STDINT_H=1 -DHAVE_UNISTD_H=1 -DHAVE_DLFCN_H=1 -DLT_OBJDIR=\\\".libs/\\\" -DPACKAGE=\\\"spatialindex-src\\\" -DVERSION=\\\"1.8.5\\\" -DHAVE_FCNTL_H=1 -DHAVE_UNISTD_H=1 -DHAVE_SYS_TYPES_H=1 -DHAVE_SYS_STAT_H=1 -DHAVE_PTHREAD_H=1 -DHAVE_SYS_RESOURCE_H=1 -DHAVE_SYS_TIME_H=1 -DHAVE_STDINT_H=1 -DHAVE_FEATURES_H=1 -DHAVE_GETTIMEOFDAY=1 -DHAVE_MEMSET=1 -DHAVE_MEMCPY=1 -DHAVE_BCOPY=1 -DHAVE_SRAND48=1 -I. -I../../include -Wall -Wno-long-long -pedantic -std=c++98 -O2 -DNDEBUG -MT TimeRegion.lo -MD -MP -MF .deps/TimeRegion.Tpo -c TimeRegion.cc  -fPIC -DPIC -o .libs/TimeRegion.o\n",
      "libtool: compile:  g++ -DPACKAGE_NAME=\\\"spatialindex\\\" -DPACKAGE_TARNAME=\\\"spatialindex-src\\\" -DPACKAGE_VERSION=\\\"1.8.5\\\" \"-DPACKAGE_STRING=\\\"spatialindex 1.8.5\\\"\" -DPACKAGE_BUGREPORT=\\\"mhadji@gmail.com\\\" -DPACKAGE_URL=\\\"\\\" -DSTDC_HEADERS=1 -DHAVE_SYS_TYPES_H=1 -DHAVE_SYS_STAT_H=1 -DHAVE_STDLIB_H=1 -DHAVE_STRING_H=1 -DHAVE_MEMORY_H=1 -DHAVE_STRINGS_H=1 -DHAVE_INTTYPES_H=1 -DHAVE_STDINT_H=1 -DHAVE_UNISTD_H=1 -DHAVE_DLFCN_H=1 -DLT_OBJDIR=\\\".libs/\\\" -DPACKAGE=\\\"spatialindex-src\\\" -DVERSION=\\\"1.8.5\\\" -DHAVE_FCNTL_H=1 -DHAVE_UNISTD_H=1 -DHAVE_SYS_TYPES_H=1 -DHAVE_SYS_STAT_H=1 -DHAVE_PTHREAD_H=1 -DHAVE_SYS_RESOURCE_H=1 -DHAVE_SYS_TIME_H=1 -DHAVE_STDINT_H=1 -DHAVE_FEATURES_H=1 -DHAVE_GETTIMEOFDAY=1 -DHAVE_MEMSET=1 -DHAVE_MEMCPY=1 -DHAVE_BCOPY=1 -DHAVE_SRAND48=1 -I. -I../../include -Wall -Wno-long-long -pedantic -std=c++98 -O2 -DNDEBUG -MT TimeRegion.lo -MD -MP -MF .deps/TimeRegion.Tpo -c TimeRegion.cc -o TimeRegion.o >/dev/null 2>&1\n",
      "depbase=`echo SpatialIndexImpl.lo | sed 's|[^/]*$|.deps/&|;s|\\.lo$||'`;\\\n",
      "/bin/bash ../../libtool  --tag=CXX   --mode=compile g++ -DPACKAGE_NAME=\\\"spatialindex\\\" -DPACKAGE_TARNAME=\\\"spatialindex-src\\\" -DPACKAGE_VERSION=\\\"1.8.5\\\" -DPACKAGE_STRING=\\\"spatialindex\\ 1.8.5\\\" -DPACKAGE_BUGREPORT=\\\"mhadji@gmail.com\\\" -DPACKAGE_URL=\\\"\\\" -DSTDC_HEADERS=1 -DHAVE_SYS_TYPES_H=1 -DHAVE_SYS_STAT_H=1 -DHAVE_STDLIB_H=1 -DHAVE_STRING_H=1 -DHAVE_MEMORY_H=1 -DHAVE_STRINGS_H=1 -DHAVE_INTTYPES_H=1 -DHAVE_STDINT_H=1 -DHAVE_UNISTD_H=1 -DHAVE_DLFCN_H=1 -DLT_OBJDIR=\\\".libs/\\\" -DPACKAGE=\\\"spatialindex-src\\\" -DVERSION=\\\"1.8.5\\\" -DHAVE_FCNTL_H=1 -DHAVE_UNISTD_H=1 -DHAVE_SYS_TYPES_H=1 -DHAVE_SYS_STAT_H=1 -DHAVE_PTHREAD_H=1 -DHAVE_SYS_RESOURCE_H=1 -DHAVE_SYS_TIME_H=1 -DHAVE_STDINT_H=1 -DHAVE_FEATURES_H=1 -DHAVE_GETTIMEOFDAY=1 -DHAVE_MEMSET=1 -DHAVE_MEMCPY=1 -DHAVE_BCOPY=1 -DHAVE_SRAND48=1 -I. -I../../include    -Wall -Wno-long-long -pedantic -std=c++98  -O2 -DNDEBUG -MT SpatialIndexImpl.lo -MD -MP -MF $depbase.Tpo -c -o SpatialIndexImpl.lo SpatialIndexImpl.cc &&\\\n",
      "mv -f $depbase.Tpo $depbase.Plo\n",
      "libtool: compile:  g++ -DPACKAGE_NAME=\\\"spatialindex\\\" -DPACKAGE_TARNAME=\\\"spatialindex-src\\\" -DPACKAGE_VERSION=\\\"1.8.5\\\" \"-DPACKAGE_STRING=\\\"spatialindex 1.8.5\\\"\" -DPACKAGE_BUGREPORT=\\\"mhadji@gmail.com\\\" -DPACKAGE_URL=\\\"\\\" -DSTDC_HEADERS=1 -DHAVE_SYS_TYPES_H=1 -DHAVE_SYS_STAT_H=1 -DHAVE_STDLIB_H=1 -DHAVE_STRING_H=1 -DHAVE_MEMORY_H=1 -DHAVE_STRINGS_H=1 -DHAVE_INTTYPES_H=1 -DHAVE_STDINT_H=1 -DHAVE_UNISTD_H=1 -DHAVE_DLFCN_H=1 -DLT_OBJDIR=\\\".libs/\\\" -DPACKAGE=\\\"spatialindex-src\\\" -DVERSION=\\\"1.8.5\\\" -DHAVE_FCNTL_H=1 -DHAVE_UNISTD_H=1 -DHAVE_SYS_TYPES_H=1 -DHAVE_SYS_STAT_H=1 -DHAVE_PTHREAD_H=1 -DHAVE_SYS_RESOURCE_H=1 -DHAVE_SYS_TIME_H=1 -DHAVE_STDINT_H=1 -DHAVE_FEATURES_H=1 -DHAVE_GETTIMEOFDAY=1 -DHAVE_MEMSET=1 -DHAVE_MEMCPY=1 -DHAVE_BCOPY=1 -DHAVE_SRAND48=1 -I. -I../../include -Wall -Wno-long-long -pedantic -std=c++98 -O2 -DNDEBUG -MT SpatialIndexImpl.lo -MD -MP -MF .deps/SpatialIndexImpl.Tpo -c SpatialIndexImpl.cc  -fPIC -DPIC -o .libs/SpatialIndexImpl.o\n",
      "libtool: compile:  g++ -DPACKAGE_NAME=\\\"spatialindex\\\" -DPACKAGE_TARNAME=\\\"spatialindex-src\\\" -DPACKAGE_VERSION=\\\"1.8.5\\\" \"-DPACKAGE_STRING=\\\"spatialindex 1.8.5\\\"\" -DPACKAGE_BUGREPORT=\\\"mhadji@gmail.com\\\" -DPACKAGE_URL=\\\"\\\" -DSTDC_HEADERS=1 -DHAVE_SYS_TYPES_H=1 -DHAVE_SYS_STAT_H=1 -DHAVE_STDLIB_H=1 -DHAVE_STRING_H=1 -DHAVE_MEMORY_H=1 -DHAVE_STRINGS_H=1 -DHAVE_INTTYPES_H=1 -DHAVE_STDINT_H=1 -DHAVE_UNISTD_H=1 -DHAVE_DLFCN_H=1 -DLT_OBJDIR=\\\".libs/\\\" -DPACKAGE=\\\"spatialindex-src\\\" -DVERSION=\\\"1.8.5\\\" -DHAVE_FCNTL_H=1 -DHAVE_UNISTD_H=1 -DHAVE_SYS_TYPES_H=1 -DHAVE_SYS_STAT_H=1 -DHAVE_PTHREAD_H=1 -DHAVE_SYS_RESOURCE_H=1 -DHAVE_SYS_TIME_H=1 -DHAVE_STDINT_H=1 -DHAVE_FEATURES_H=1 -DHAVE_GETTIMEOFDAY=1 -DHAVE_MEMSET=1 -DHAVE_MEMCPY=1 -DHAVE_BCOPY=1 -DHAVE_SRAND48=1 -I. -I../../include -Wall -Wno-long-long -pedantic -std=c++98 -O2 -DNDEBUG -MT SpatialIndexImpl.lo -MD -MP -MF .deps/SpatialIndexImpl.Tpo -c SpatialIndexImpl.cc -o SpatialIndexImpl.o >/dev/null 2>&1\n",
      "/bin/bash ../../libtool  --tag=CXX   --mode=link g++  -Wall -Wno-long-long -pedantic -std=c++98  -O2 -DNDEBUG   -o liblibrary.la  Point.lo Region.lo LineSegment.lo MovingPoint.lo MovingRegion.lo TimePoint.lo TimeRegion.lo SpatialIndexImpl.lo  -lpthread\n",
      "libtool: link: ar cru .libs/liblibrary.a .libs/Point.o .libs/Region.o .libs/LineSegment.o .libs/MovingPoint.o .libs/MovingRegion.o .libs/TimePoint.o .libs/TimeRegion.o .libs/SpatialIndexImpl.o \n",
      "ar: `u' modifier ignored since `D' is the default (see `U')\n",
      "libtool: link: ranlib .libs/liblibrary.a\n",
      "libtool: link: ( cd \".libs\" && rm -f \"liblibrary.la\" && ln -s \"../liblibrary.la\" \"liblibrary.la\" )\n",
      "make[2]: Leaving directory '/content/spatialindex-src-1.8.5/src/spatialindex'\n",
      "Making all in rtree\n",
      "make[2]: Entering directory '/content/spatialindex-src-1.8.5/src/rtree'\n",
      "depbase=`echo BulkLoader.lo | sed 's|[^/]*$|.deps/&|;s|\\.lo$||'`;\\\n",
      "/bin/bash ../../libtool  --tag=CXX   --mode=compile g++ -DPACKAGE_NAME=\\\"spatialindex\\\" -DPACKAGE_TARNAME=\\\"spatialindex-src\\\" -DPACKAGE_VERSION=\\\"1.8.5\\\" -DPACKAGE_STRING=\\\"spatialindex\\ 1.8.5\\\" -DPACKAGE_BUGREPORT=\\\"mhadji@gmail.com\\\" -DPACKAGE_URL=\\\"\\\" -DSTDC_HEADERS=1 -DHAVE_SYS_TYPES_H=1 -DHAVE_SYS_STAT_H=1 -DHAVE_STDLIB_H=1 -DHAVE_STRING_H=1 -DHAVE_MEMORY_H=1 -DHAVE_STRINGS_H=1 -DHAVE_INTTYPES_H=1 -DHAVE_STDINT_H=1 -DHAVE_UNISTD_H=1 -DHAVE_DLFCN_H=1 -DLT_OBJDIR=\\\".libs/\\\" -DPACKAGE=\\\"spatialindex-src\\\" -DVERSION=\\\"1.8.5\\\" -DHAVE_FCNTL_H=1 -DHAVE_UNISTD_H=1 -DHAVE_SYS_TYPES_H=1 -DHAVE_SYS_STAT_H=1 -DHAVE_PTHREAD_H=1 -DHAVE_SYS_RESOURCE_H=1 -DHAVE_SYS_TIME_H=1 -DHAVE_STDINT_H=1 -DHAVE_FEATURES_H=1 -DHAVE_GETTIMEOFDAY=1 -DHAVE_MEMSET=1 -DHAVE_MEMCPY=1 -DHAVE_BCOPY=1 -DHAVE_SRAND48=1 -I. -I../../include     -Wall -Wno-long-long -pedantic -std=c++98  -O2 -DNDEBUG -MT BulkLoader.lo -MD -MP -MF $depbase.Tpo -c -o BulkLoader.lo BulkLoader.cc &&\\\n",
      "mv -f $depbase.Tpo $depbase.Plo\n",
      "libtool: compile:  g++ -DPACKAGE_NAME=\\\"spatialindex\\\" -DPACKAGE_TARNAME=\\\"spatialindex-src\\\" -DPACKAGE_VERSION=\\\"1.8.5\\\" \"-DPACKAGE_STRING=\\\"spatialindex 1.8.5\\\"\" -DPACKAGE_BUGREPORT=\\\"mhadji@gmail.com\\\" -DPACKAGE_URL=\\\"\\\" -DSTDC_HEADERS=1 -DHAVE_SYS_TYPES_H=1 -DHAVE_SYS_STAT_H=1 -DHAVE_STDLIB_H=1 -DHAVE_STRING_H=1 -DHAVE_MEMORY_H=1 -DHAVE_STRINGS_H=1 -DHAVE_INTTYPES_H=1 -DHAVE_STDINT_H=1 -DHAVE_UNISTD_H=1 -DHAVE_DLFCN_H=1 -DLT_OBJDIR=\\\".libs/\\\" -DPACKAGE=\\\"spatialindex-src\\\" -DVERSION=\\\"1.8.5\\\" -DHAVE_FCNTL_H=1 -DHAVE_UNISTD_H=1 -DHAVE_SYS_TYPES_H=1 -DHAVE_SYS_STAT_H=1 -DHAVE_PTHREAD_H=1 -DHAVE_SYS_RESOURCE_H=1 -DHAVE_SYS_TIME_H=1 -DHAVE_STDINT_H=1 -DHAVE_FEATURES_H=1 -DHAVE_GETTIMEOFDAY=1 -DHAVE_MEMSET=1 -DHAVE_MEMCPY=1 -DHAVE_BCOPY=1 -DHAVE_SRAND48=1 -I. -I../../include -Wall -Wno-long-long -pedantic -std=c++98 -O2 -DNDEBUG -MT BulkLoader.lo -MD -MP -MF .deps/BulkLoader.Tpo -c BulkLoader.cc  -fPIC -DPIC -o .libs/BulkLoader.o\n",
      "libtool: compile:  g++ -DPACKAGE_NAME=\\\"spatialindex\\\" -DPACKAGE_TARNAME=\\\"spatialindex-src\\\" -DPACKAGE_VERSION=\\\"1.8.5\\\" \"-DPACKAGE_STRING=\\\"spatialindex 1.8.5\\\"\" -DPACKAGE_BUGREPORT=\\\"mhadji@gmail.com\\\" -DPACKAGE_URL=\\\"\\\" -DSTDC_HEADERS=1 -DHAVE_SYS_TYPES_H=1 -DHAVE_SYS_STAT_H=1 -DHAVE_STDLIB_H=1 -DHAVE_STRING_H=1 -DHAVE_MEMORY_H=1 -DHAVE_STRINGS_H=1 -DHAVE_INTTYPES_H=1 -DHAVE_STDINT_H=1 -DHAVE_UNISTD_H=1 -DHAVE_DLFCN_H=1 -DLT_OBJDIR=\\\".libs/\\\" -DPACKAGE=\\\"spatialindex-src\\\" -DVERSION=\\\"1.8.5\\\" -DHAVE_FCNTL_H=1 -DHAVE_UNISTD_H=1 -DHAVE_SYS_TYPES_H=1 -DHAVE_SYS_STAT_H=1 -DHAVE_PTHREAD_H=1 -DHAVE_SYS_RESOURCE_H=1 -DHAVE_SYS_TIME_H=1 -DHAVE_STDINT_H=1 -DHAVE_FEATURES_H=1 -DHAVE_GETTIMEOFDAY=1 -DHAVE_MEMSET=1 -DHAVE_MEMCPY=1 -DHAVE_BCOPY=1 -DHAVE_SRAND48=1 -I. -I../../include -Wall -Wno-long-long -pedantic -std=c++98 -O2 -DNDEBUG -MT BulkLoader.lo -MD -MP -MF .deps/BulkLoader.Tpo -c BulkLoader.cc -o BulkLoader.o >/dev/null 2>&1\n",
      "depbase=`echo Index.lo | sed 's|[^/]*$|.deps/&|;s|\\.lo$||'`;\\\n",
      "/bin/bash ../../libtool  --tag=CXX   --mode=compile g++ -DPACKAGE_NAME=\\\"spatialindex\\\" -DPACKAGE_TARNAME=\\\"spatialindex-src\\\" -DPACKAGE_VERSION=\\\"1.8.5\\\" -DPACKAGE_STRING=\\\"spatialindex\\ 1.8.5\\\" -DPACKAGE_BUGREPORT=\\\"mhadji@gmail.com\\\" -DPACKAGE_URL=\\\"\\\" -DSTDC_HEADERS=1 -DHAVE_SYS_TYPES_H=1 -DHAVE_SYS_STAT_H=1 -DHAVE_STDLIB_H=1 -DHAVE_STRING_H=1 -DHAVE_MEMORY_H=1 -DHAVE_STRINGS_H=1 -DHAVE_INTTYPES_H=1 -DHAVE_STDINT_H=1 -DHAVE_UNISTD_H=1 -DHAVE_DLFCN_H=1 -DLT_OBJDIR=\\\".libs/\\\" -DPACKAGE=\\\"spatialindex-src\\\" -DVERSION=\\\"1.8.5\\\" -DHAVE_FCNTL_H=1 -DHAVE_UNISTD_H=1 -DHAVE_SYS_TYPES_H=1 -DHAVE_SYS_STAT_H=1 -DHAVE_PTHREAD_H=1 -DHAVE_SYS_RESOURCE_H=1 -DHAVE_SYS_TIME_H=1 -DHAVE_STDINT_H=1 -DHAVE_FEATURES_H=1 -DHAVE_GETTIMEOFDAY=1 -DHAVE_MEMSET=1 -DHAVE_MEMCPY=1 -DHAVE_BCOPY=1 -DHAVE_SRAND48=1 -I. -I../../include     -Wall -Wno-long-long -pedantic -std=c++98  -O2 -DNDEBUG -MT Index.lo -MD -MP -MF $depbase.Tpo -c -o Index.lo Index.cc &&\\\n",
      "mv -f $depbase.Tpo $depbase.Plo\n",
      "libtool: compile:  g++ -DPACKAGE_NAME=\\\"spatialindex\\\" -DPACKAGE_TARNAME=\\\"spatialindex-src\\\" -DPACKAGE_VERSION=\\\"1.8.5\\\" \"-DPACKAGE_STRING=\\\"spatialindex 1.8.5\\\"\" -DPACKAGE_BUGREPORT=\\\"mhadji@gmail.com\\\" -DPACKAGE_URL=\\\"\\\" -DSTDC_HEADERS=1 -DHAVE_SYS_TYPES_H=1 -DHAVE_SYS_STAT_H=1 -DHAVE_STDLIB_H=1 -DHAVE_STRING_H=1 -DHAVE_MEMORY_H=1 -DHAVE_STRINGS_H=1 -DHAVE_INTTYPES_H=1 -DHAVE_STDINT_H=1 -DHAVE_UNISTD_H=1 -DHAVE_DLFCN_H=1 -DLT_OBJDIR=\\\".libs/\\\" -DPACKAGE=\\\"spatialindex-src\\\" -DVERSION=\\\"1.8.5\\\" -DHAVE_FCNTL_H=1 -DHAVE_UNISTD_H=1 -DHAVE_SYS_TYPES_H=1 -DHAVE_SYS_STAT_H=1 -DHAVE_PTHREAD_H=1 -DHAVE_SYS_RESOURCE_H=1 -DHAVE_SYS_TIME_H=1 -DHAVE_STDINT_H=1 -DHAVE_FEATURES_H=1 -DHAVE_GETTIMEOFDAY=1 -DHAVE_MEMSET=1 -DHAVE_MEMCPY=1 -DHAVE_BCOPY=1 -DHAVE_SRAND48=1 -I. -I../../include -Wall -Wno-long-long -pedantic -std=c++98 -O2 -DNDEBUG -MT Index.lo -MD -MP -MF .deps/Index.Tpo -c Index.cc  -fPIC -DPIC -o .libs/Index.o\n",
      "libtool: compile:  g++ -DPACKAGE_NAME=\\\"spatialindex\\\" -DPACKAGE_TARNAME=\\\"spatialindex-src\\\" -DPACKAGE_VERSION=\\\"1.8.5\\\" \"-DPACKAGE_STRING=\\\"spatialindex 1.8.5\\\"\" -DPACKAGE_BUGREPORT=\\\"mhadji@gmail.com\\\" -DPACKAGE_URL=\\\"\\\" -DSTDC_HEADERS=1 -DHAVE_SYS_TYPES_H=1 -DHAVE_SYS_STAT_H=1 -DHAVE_STDLIB_H=1 -DHAVE_STRING_H=1 -DHAVE_MEMORY_H=1 -DHAVE_STRINGS_H=1 -DHAVE_INTTYPES_H=1 -DHAVE_STDINT_H=1 -DHAVE_UNISTD_H=1 -DHAVE_DLFCN_H=1 -DLT_OBJDIR=\\\".libs/\\\" -DPACKAGE=\\\"spatialindex-src\\\" -DVERSION=\\\"1.8.5\\\" -DHAVE_FCNTL_H=1 -DHAVE_UNISTD_H=1 -DHAVE_SYS_TYPES_H=1 -DHAVE_SYS_STAT_H=1 -DHAVE_PTHREAD_H=1 -DHAVE_SYS_RESOURCE_H=1 -DHAVE_SYS_TIME_H=1 -DHAVE_STDINT_H=1 -DHAVE_FEATURES_H=1 -DHAVE_GETTIMEOFDAY=1 -DHAVE_MEMSET=1 -DHAVE_MEMCPY=1 -DHAVE_BCOPY=1 -DHAVE_SRAND48=1 -I. -I../../include -Wall -Wno-long-long -pedantic -std=c++98 -O2 -DNDEBUG -MT Index.lo -MD -MP -MF .deps/Index.Tpo -c Index.cc -o Index.o >/dev/null 2>&1\n",
      "depbase=`echo Leaf.lo | sed 's|[^/]*$|.deps/&|;s|\\.lo$||'`;\\\n",
      "/bin/bash ../../libtool  --tag=CXX   --mode=compile g++ -DPACKAGE_NAME=\\\"spatialindex\\\" -DPACKAGE_TARNAME=\\\"spatialindex-src\\\" -DPACKAGE_VERSION=\\\"1.8.5\\\" -DPACKAGE_STRING=\\\"spatialindex\\ 1.8.5\\\" -DPACKAGE_BUGREPORT=\\\"mhadji@gmail.com\\\" -DPACKAGE_URL=\\\"\\\" -DSTDC_HEADERS=1 -DHAVE_SYS_TYPES_H=1 -DHAVE_SYS_STAT_H=1 -DHAVE_STDLIB_H=1 -DHAVE_STRING_H=1 -DHAVE_MEMORY_H=1 -DHAVE_STRINGS_H=1 -DHAVE_INTTYPES_H=1 -DHAVE_STDINT_H=1 -DHAVE_UNISTD_H=1 -DHAVE_DLFCN_H=1 -DLT_OBJDIR=\\\".libs/\\\" -DPACKAGE=\\\"spatialindex-src\\\" -DVERSION=\\\"1.8.5\\\" -DHAVE_FCNTL_H=1 -DHAVE_UNISTD_H=1 -DHAVE_SYS_TYPES_H=1 -DHAVE_SYS_STAT_H=1 -DHAVE_PTHREAD_H=1 -DHAVE_SYS_RESOURCE_H=1 -DHAVE_SYS_TIME_H=1 -DHAVE_STDINT_H=1 -DHAVE_FEATURES_H=1 -DHAVE_GETTIMEOFDAY=1 -DHAVE_MEMSET=1 -DHAVE_MEMCPY=1 -DHAVE_BCOPY=1 -DHAVE_SRAND48=1 -I. -I../../include     -Wall -Wno-long-long -pedantic -std=c++98  -O2 -DNDEBUG -MT Leaf.lo -MD -MP -MF $depbase.Tpo -c -o Leaf.lo Leaf.cc &&\\\n",
      "mv -f $depbase.Tpo $depbase.Plo\n",
      "libtool: compile:  g++ -DPACKAGE_NAME=\\\"spatialindex\\\" -DPACKAGE_TARNAME=\\\"spatialindex-src\\\" -DPACKAGE_VERSION=\\\"1.8.5\\\" \"-DPACKAGE_STRING=\\\"spatialindex 1.8.5\\\"\" -DPACKAGE_BUGREPORT=\\\"mhadji@gmail.com\\\" -DPACKAGE_URL=\\\"\\\" -DSTDC_HEADERS=1 -DHAVE_SYS_TYPES_H=1 -DHAVE_SYS_STAT_H=1 -DHAVE_STDLIB_H=1 -DHAVE_STRING_H=1 -DHAVE_MEMORY_H=1 -DHAVE_STRINGS_H=1 -DHAVE_INTTYPES_H=1 -DHAVE_STDINT_H=1 -DHAVE_UNISTD_H=1 -DHAVE_DLFCN_H=1 -DLT_OBJDIR=\\\".libs/\\\" -DPACKAGE=\\\"spatialindex-src\\\" -DVERSION=\\\"1.8.5\\\" -DHAVE_FCNTL_H=1 -DHAVE_UNISTD_H=1 -DHAVE_SYS_TYPES_H=1 -DHAVE_SYS_STAT_H=1 -DHAVE_PTHREAD_H=1 -DHAVE_SYS_RESOURCE_H=1 -DHAVE_SYS_TIME_H=1 -DHAVE_STDINT_H=1 -DHAVE_FEATURES_H=1 -DHAVE_GETTIMEOFDAY=1 -DHAVE_MEMSET=1 -DHAVE_MEMCPY=1 -DHAVE_BCOPY=1 -DHAVE_SRAND48=1 -I. -I../../include -Wall -Wno-long-long -pedantic -std=c++98 -O2 -DNDEBUG -MT Leaf.lo -MD -MP -MF .deps/Leaf.Tpo -c Leaf.cc  -fPIC -DPIC -o .libs/Leaf.o\n",
      "libtool: compile:  g++ -DPACKAGE_NAME=\\\"spatialindex\\\" -DPACKAGE_TARNAME=\\\"spatialindex-src\\\" -DPACKAGE_VERSION=\\\"1.8.5\\\" \"-DPACKAGE_STRING=\\\"spatialindex 1.8.5\\\"\" -DPACKAGE_BUGREPORT=\\\"mhadji@gmail.com\\\" -DPACKAGE_URL=\\\"\\\" -DSTDC_HEADERS=1 -DHAVE_SYS_TYPES_H=1 -DHAVE_SYS_STAT_H=1 -DHAVE_STDLIB_H=1 -DHAVE_STRING_H=1 -DHAVE_MEMORY_H=1 -DHAVE_STRINGS_H=1 -DHAVE_INTTYPES_H=1 -DHAVE_STDINT_H=1 -DHAVE_UNISTD_H=1 -DHAVE_DLFCN_H=1 -DLT_OBJDIR=\\\".libs/\\\" -DPACKAGE=\\\"spatialindex-src\\\" -DVERSION=\\\"1.8.5\\\" -DHAVE_FCNTL_H=1 -DHAVE_UNISTD_H=1 -DHAVE_SYS_TYPES_H=1 -DHAVE_SYS_STAT_H=1 -DHAVE_PTHREAD_H=1 -DHAVE_SYS_RESOURCE_H=1 -DHAVE_SYS_TIME_H=1 -DHAVE_STDINT_H=1 -DHAVE_FEATURES_H=1 -DHAVE_GETTIMEOFDAY=1 -DHAVE_MEMSET=1 -DHAVE_MEMCPY=1 -DHAVE_BCOPY=1 -DHAVE_SRAND48=1 -I. -I../../include -Wall -Wno-long-long -pedantic -std=c++98 -O2 -DNDEBUG -MT Leaf.lo -MD -MP -MF .deps/Leaf.Tpo -c Leaf.cc -o Leaf.o >/dev/null 2>&1\n",
      "depbase=`echo Node.lo | sed 's|[^/]*$|.deps/&|;s|\\.lo$||'`;\\\n",
      "/bin/bash ../../libtool  --tag=CXX   --mode=compile g++ -DPACKAGE_NAME=\\\"spatialindex\\\" -DPACKAGE_TARNAME=\\\"spatialindex-src\\\" -DPACKAGE_VERSION=\\\"1.8.5\\\" -DPACKAGE_STRING=\\\"spatialindex\\ 1.8.5\\\" -DPACKAGE_BUGREPORT=\\\"mhadji@gmail.com\\\" -DPACKAGE_URL=\\\"\\\" -DSTDC_HEADERS=1 -DHAVE_SYS_TYPES_H=1 -DHAVE_SYS_STAT_H=1 -DHAVE_STDLIB_H=1 -DHAVE_STRING_H=1 -DHAVE_MEMORY_H=1 -DHAVE_STRINGS_H=1 -DHAVE_INTTYPES_H=1 -DHAVE_STDINT_H=1 -DHAVE_UNISTD_H=1 -DHAVE_DLFCN_H=1 -DLT_OBJDIR=\\\".libs/\\\" -DPACKAGE=\\\"spatialindex-src\\\" -DVERSION=\\\"1.8.5\\\" -DHAVE_FCNTL_H=1 -DHAVE_UNISTD_H=1 -DHAVE_SYS_TYPES_H=1 -DHAVE_SYS_STAT_H=1 -DHAVE_PTHREAD_H=1 -DHAVE_SYS_RESOURCE_H=1 -DHAVE_SYS_TIME_H=1 -DHAVE_STDINT_H=1 -DHAVE_FEATURES_H=1 -DHAVE_GETTIMEOFDAY=1 -DHAVE_MEMSET=1 -DHAVE_MEMCPY=1 -DHAVE_BCOPY=1 -DHAVE_SRAND48=1 -I. -I../../include     -Wall -Wno-long-long -pedantic -std=c++98  -O2 -DNDEBUG -MT Node.lo -MD -MP -MF $depbase.Tpo -c -o Node.lo Node.cc &&\\\n",
      "mv -f $depbase.Tpo $depbase.Plo\n",
      "libtool: compile:  g++ -DPACKAGE_NAME=\\\"spatialindex\\\" -DPACKAGE_TARNAME=\\\"spatialindex-src\\\" -DPACKAGE_VERSION=\\\"1.8.5\\\" \"-DPACKAGE_STRING=\\\"spatialindex 1.8.5\\\"\" -DPACKAGE_BUGREPORT=\\\"mhadji@gmail.com\\\" -DPACKAGE_URL=\\\"\\\" -DSTDC_HEADERS=1 -DHAVE_SYS_TYPES_H=1 -DHAVE_SYS_STAT_H=1 -DHAVE_STDLIB_H=1 -DHAVE_STRING_H=1 -DHAVE_MEMORY_H=1 -DHAVE_STRINGS_H=1 -DHAVE_INTTYPES_H=1 -DHAVE_STDINT_H=1 -DHAVE_UNISTD_H=1 -DHAVE_DLFCN_H=1 -DLT_OBJDIR=\\\".libs/\\\" -DPACKAGE=\\\"spatialindex-src\\\" -DVERSION=\\\"1.8.5\\\" -DHAVE_FCNTL_H=1 -DHAVE_UNISTD_H=1 -DHAVE_SYS_TYPES_H=1 -DHAVE_SYS_STAT_H=1 -DHAVE_PTHREAD_H=1 -DHAVE_SYS_RESOURCE_H=1 -DHAVE_SYS_TIME_H=1 -DHAVE_STDINT_H=1 -DHAVE_FEATURES_H=1 -DHAVE_GETTIMEOFDAY=1 -DHAVE_MEMSET=1 -DHAVE_MEMCPY=1 -DHAVE_BCOPY=1 -DHAVE_SRAND48=1 -I. -I../../include -Wall -Wno-long-long -pedantic -std=c++98 -O2 -DNDEBUG -MT Node.lo -MD -MP -MF .deps/Node.Tpo -c Node.cc  -fPIC -DPIC -o .libs/Node.o\n",
      "libtool: compile:  g++ -DPACKAGE_NAME=\\\"spatialindex\\\" -DPACKAGE_TARNAME=\\\"spatialindex-src\\\" -DPACKAGE_VERSION=\\\"1.8.5\\\" \"-DPACKAGE_STRING=\\\"spatialindex 1.8.5\\\"\" -DPACKAGE_BUGREPORT=\\\"mhadji@gmail.com\\\" -DPACKAGE_URL=\\\"\\\" -DSTDC_HEADERS=1 -DHAVE_SYS_TYPES_H=1 -DHAVE_SYS_STAT_H=1 -DHAVE_STDLIB_H=1 -DHAVE_STRING_H=1 -DHAVE_MEMORY_H=1 -DHAVE_STRINGS_H=1 -DHAVE_INTTYPES_H=1 -DHAVE_STDINT_H=1 -DHAVE_UNISTD_H=1 -DHAVE_DLFCN_H=1 -DLT_OBJDIR=\\\".libs/\\\" -DPACKAGE=\\\"spatialindex-src\\\" -DVERSION=\\\"1.8.5\\\" -DHAVE_FCNTL_H=1 -DHAVE_UNISTD_H=1 -DHAVE_SYS_TYPES_H=1 -DHAVE_SYS_STAT_H=1 -DHAVE_PTHREAD_H=1 -DHAVE_SYS_RESOURCE_H=1 -DHAVE_SYS_TIME_H=1 -DHAVE_STDINT_H=1 -DHAVE_FEATURES_H=1 -DHAVE_GETTIMEOFDAY=1 -DHAVE_MEMSET=1 -DHAVE_MEMCPY=1 -DHAVE_BCOPY=1 -DHAVE_SRAND48=1 -I. -I../../include -Wall -Wno-long-long -pedantic -std=c++98 -O2 -DNDEBUG -MT Node.lo -MD -MP -MF .deps/Node.Tpo -c Node.cc -o Node.o >/dev/null 2>&1\n",
      "depbase=`echo RTree.lo | sed 's|[^/]*$|.deps/&|;s|\\.lo$||'`;\\\n",
      "/bin/bash ../../libtool  --tag=CXX   --mode=compile g++ -DPACKAGE_NAME=\\\"spatialindex\\\" -DPACKAGE_TARNAME=\\\"spatialindex-src\\\" -DPACKAGE_VERSION=\\\"1.8.5\\\" -DPACKAGE_STRING=\\\"spatialindex\\ 1.8.5\\\" -DPACKAGE_BUGREPORT=\\\"mhadji@gmail.com\\\" -DPACKAGE_URL=\\\"\\\" -DSTDC_HEADERS=1 -DHAVE_SYS_TYPES_H=1 -DHAVE_SYS_STAT_H=1 -DHAVE_STDLIB_H=1 -DHAVE_STRING_H=1 -DHAVE_MEMORY_H=1 -DHAVE_STRINGS_H=1 -DHAVE_INTTYPES_H=1 -DHAVE_STDINT_H=1 -DHAVE_UNISTD_H=1 -DHAVE_DLFCN_H=1 -DLT_OBJDIR=\\\".libs/\\\" -DPACKAGE=\\\"spatialindex-src\\\" -DVERSION=\\\"1.8.5\\\" -DHAVE_FCNTL_H=1 -DHAVE_UNISTD_H=1 -DHAVE_SYS_TYPES_H=1 -DHAVE_SYS_STAT_H=1 -DHAVE_PTHREAD_H=1 -DHAVE_SYS_RESOURCE_H=1 -DHAVE_SYS_TIME_H=1 -DHAVE_STDINT_H=1 -DHAVE_FEATURES_H=1 -DHAVE_GETTIMEOFDAY=1 -DHAVE_MEMSET=1 -DHAVE_MEMCPY=1 -DHAVE_BCOPY=1 -DHAVE_SRAND48=1 -I. -I../../include     -Wall -Wno-long-long -pedantic -std=c++98  -O2 -DNDEBUG -MT RTree.lo -MD -MP -MF $depbase.Tpo -c -o RTree.lo RTree.cc &&\\\n",
      "mv -f $depbase.Tpo $depbase.Plo\n",
      "libtool: compile:  g++ -DPACKAGE_NAME=\\\"spatialindex\\\" -DPACKAGE_TARNAME=\\\"spatialindex-src\\\" -DPACKAGE_VERSION=\\\"1.8.5\\\" \"-DPACKAGE_STRING=\\\"spatialindex 1.8.5\\\"\" -DPACKAGE_BUGREPORT=\\\"mhadji@gmail.com\\\" -DPACKAGE_URL=\\\"\\\" -DSTDC_HEADERS=1 -DHAVE_SYS_TYPES_H=1 -DHAVE_SYS_STAT_H=1 -DHAVE_STDLIB_H=1 -DHAVE_STRING_H=1 -DHAVE_MEMORY_H=1 -DHAVE_STRINGS_H=1 -DHAVE_INTTYPES_H=1 -DHAVE_STDINT_H=1 -DHAVE_UNISTD_H=1 -DHAVE_DLFCN_H=1 -DLT_OBJDIR=\\\".libs/\\\" -DPACKAGE=\\\"spatialindex-src\\\" -DVERSION=\\\"1.8.5\\\" -DHAVE_FCNTL_H=1 -DHAVE_UNISTD_H=1 -DHAVE_SYS_TYPES_H=1 -DHAVE_SYS_STAT_H=1 -DHAVE_PTHREAD_H=1 -DHAVE_SYS_RESOURCE_H=1 -DHAVE_SYS_TIME_H=1 -DHAVE_STDINT_H=1 -DHAVE_FEATURES_H=1 -DHAVE_GETTIMEOFDAY=1 -DHAVE_MEMSET=1 -DHAVE_MEMCPY=1 -DHAVE_BCOPY=1 -DHAVE_SRAND48=1 -I. -I../../include -Wall -Wno-long-long -pedantic -std=c++98 -O2 -DNDEBUG -MT RTree.lo -MD -MP -MF .deps/RTree.Tpo -c RTree.cc  -fPIC -DPIC -o .libs/RTree.o\n",
      "libtool: compile:  g++ -DPACKAGE_NAME=\\\"spatialindex\\\" -DPACKAGE_TARNAME=\\\"spatialindex-src\\\" -DPACKAGE_VERSION=\\\"1.8.5\\\" \"-DPACKAGE_STRING=\\\"spatialindex 1.8.5\\\"\" -DPACKAGE_BUGREPORT=\\\"mhadji@gmail.com\\\" -DPACKAGE_URL=\\\"\\\" -DSTDC_HEADERS=1 -DHAVE_SYS_TYPES_H=1 -DHAVE_SYS_STAT_H=1 -DHAVE_STDLIB_H=1 -DHAVE_STRING_H=1 -DHAVE_MEMORY_H=1 -DHAVE_STRINGS_H=1 -DHAVE_INTTYPES_H=1 -DHAVE_STDINT_H=1 -DHAVE_UNISTD_H=1 -DHAVE_DLFCN_H=1 -DLT_OBJDIR=\\\".libs/\\\" -DPACKAGE=\\\"spatialindex-src\\\" -DVERSION=\\\"1.8.5\\\" -DHAVE_FCNTL_H=1 -DHAVE_UNISTD_H=1 -DHAVE_SYS_TYPES_H=1 -DHAVE_SYS_STAT_H=1 -DHAVE_PTHREAD_H=1 -DHAVE_SYS_RESOURCE_H=1 -DHAVE_SYS_TIME_H=1 -DHAVE_STDINT_H=1 -DHAVE_FEATURES_H=1 -DHAVE_GETTIMEOFDAY=1 -DHAVE_MEMSET=1 -DHAVE_MEMCPY=1 -DHAVE_BCOPY=1 -DHAVE_SRAND48=1 -I. -I../../include -Wall -Wno-long-long -pedantic -std=c++98 -O2 -DNDEBUG -MT RTree.lo -MD -MP -MF .deps/RTree.Tpo -c RTree.cc -o RTree.o >/dev/null 2>&1\n",
      "depbase=`echo Statistics.lo | sed 's|[^/]*$|.deps/&|;s|\\.lo$||'`;\\\n",
      "/bin/bash ../../libtool  --tag=CXX   --mode=compile g++ -DPACKAGE_NAME=\\\"spatialindex\\\" -DPACKAGE_TARNAME=\\\"spatialindex-src\\\" -DPACKAGE_VERSION=\\\"1.8.5\\\" -DPACKAGE_STRING=\\\"spatialindex\\ 1.8.5\\\" -DPACKAGE_BUGREPORT=\\\"mhadji@gmail.com\\\" -DPACKAGE_URL=\\\"\\\" -DSTDC_HEADERS=1 -DHAVE_SYS_TYPES_H=1 -DHAVE_SYS_STAT_H=1 -DHAVE_STDLIB_H=1 -DHAVE_STRING_H=1 -DHAVE_MEMORY_H=1 -DHAVE_STRINGS_H=1 -DHAVE_INTTYPES_H=1 -DHAVE_STDINT_H=1 -DHAVE_UNISTD_H=1 -DHAVE_DLFCN_H=1 -DLT_OBJDIR=\\\".libs/\\\" -DPACKAGE=\\\"spatialindex-src\\\" -DVERSION=\\\"1.8.5\\\" -DHAVE_FCNTL_H=1 -DHAVE_UNISTD_H=1 -DHAVE_SYS_TYPES_H=1 -DHAVE_SYS_STAT_H=1 -DHAVE_PTHREAD_H=1 -DHAVE_SYS_RESOURCE_H=1 -DHAVE_SYS_TIME_H=1 -DHAVE_STDINT_H=1 -DHAVE_FEATURES_H=1 -DHAVE_GETTIMEOFDAY=1 -DHAVE_MEMSET=1 -DHAVE_MEMCPY=1 -DHAVE_BCOPY=1 -DHAVE_SRAND48=1 -I. -I../../include     -Wall -Wno-long-long -pedantic -std=c++98  -O2 -DNDEBUG -MT Statistics.lo -MD -MP -MF $depbase.Tpo -c -o Statistics.lo Statistics.cc &&\\\n",
      "mv -f $depbase.Tpo $depbase.Plo\n",
      "libtool: compile:  g++ -DPACKAGE_NAME=\\\"spatialindex\\\" -DPACKAGE_TARNAME=\\\"spatialindex-src\\\" -DPACKAGE_VERSION=\\\"1.8.5\\\" \"-DPACKAGE_STRING=\\\"spatialindex 1.8.5\\\"\" -DPACKAGE_BUGREPORT=\\\"mhadji@gmail.com\\\" -DPACKAGE_URL=\\\"\\\" -DSTDC_HEADERS=1 -DHAVE_SYS_TYPES_H=1 -DHAVE_SYS_STAT_H=1 -DHAVE_STDLIB_H=1 -DHAVE_STRING_H=1 -DHAVE_MEMORY_H=1 -DHAVE_STRINGS_H=1 -DHAVE_INTTYPES_H=1 -DHAVE_STDINT_H=1 -DHAVE_UNISTD_H=1 -DHAVE_DLFCN_H=1 -DLT_OBJDIR=\\\".libs/\\\" -DPACKAGE=\\\"spatialindex-src\\\" -DVERSION=\\\"1.8.5\\\" -DHAVE_FCNTL_H=1 -DHAVE_UNISTD_H=1 -DHAVE_SYS_TYPES_H=1 -DHAVE_SYS_STAT_H=1 -DHAVE_PTHREAD_H=1 -DHAVE_SYS_RESOURCE_H=1 -DHAVE_SYS_TIME_H=1 -DHAVE_STDINT_H=1 -DHAVE_FEATURES_H=1 -DHAVE_GETTIMEOFDAY=1 -DHAVE_MEMSET=1 -DHAVE_MEMCPY=1 -DHAVE_BCOPY=1 -DHAVE_SRAND48=1 -I. -I../../include -Wall -Wno-long-long -pedantic -std=c++98 -O2 -DNDEBUG -MT Statistics.lo -MD -MP -MF .deps/Statistics.Tpo -c Statistics.cc  -fPIC -DPIC -o .libs/Statistics.o\n",
      "libtool: compile:  g++ -DPACKAGE_NAME=\\\"spatialindex\\\" -DPACKAGE_TARNAME=\\\"spatialindex-src\\\" -DPACKAGE_VERSION=\\\"1.8.5\\\" \"-DPACKAGE_STRING=\\\"spatialindex 1.8.5\\\"\" -DPACKAGE_BUGREPORT=\\\"mhadji@gmail.com\\\" -DPACKAGE_URL=\\\"\\\" -DSTDC_HEADERS=1 -DHAVE_SYS_TYPES_H=1 -DHAVE_SYS_STAT_H=1 -DHAVE_STDLIB_H=1 -DHAVE_STRING_H=1 -DHAVE_MEMORY_H=1 -DHAVE_STRINGS_H=1 -DHAVE_INTTYPES_H=1 -DHAVE_STDINT_H=1 -DHAVE_UNISTD_H=1 -DHAVE_DLFCN_H=1 -DLT_OBJDIR=\\\".libs/\\\" -DPACKAGE=\\\"spatialindex-src\\\" -DVERSION=\\\"1.8.5\\\" -DHAVE_FCNTL_H=1 -DHAVE_UNISTD_H=1 -DHAVE_SYS_TYPES_H=1 -DHAVE_SYS_STAT_H=1 -DHAVE_PTHREAD_H=1 -DHAVE_SYS_RESOURCE_H=1 -DHAVE_SYS_TIME_H=1 -DHAVE_STDINT_H=1 -DHAVE_FEATURES_H=1 -DHAVE_GETTIMEOFDAY=1 -DHAVE_MEMSET=1 -DHAVE_MEMCPY=1 -DHAVE_BCOPY=1 -DHAVE_SRAND48=1 -I. -I../../include -Wall -Wno-long-long -pedantic -std=c++98 -O2 -DNDEBUG -MT Statistics.lo -MD -MP -MF .deps/Statistics.Tpo -c Statistics.cc -o Statistics.o >/dev/null 2>&1\n",
      "/bin/bash ../../libtool  --tag=CXX   --mode=link g++  -Wall -Wno-long-long -pedantic -std=c++98  -O2 -DNDEBUG   -o librtree.la  BulkLoader.lo Index.lo Leaf.lo Node.lo RTree.lo Statistics.lo  -lpthread\n",
      "libtool: link: ar cru .libs/librtree.a .libs/BulkLoader.o .libs/Index.o .libs/Leaf.o .libs/Node.o .libs/RTree.o .libs/Statistics.o \n",
      "ar: `u' modifier ignored since `D' is the default (see `U')\n",
      "libtool: link: ranlib .libs/librtree.a\n",
      "libtool: link: ( cd \".libs\" && rm -f \"librtree.la\" && ln -s \"../librtree.la\" \"librtree.la\" )\n",
      "make[2]: Leaving directory '/content/spatialindex-src-1.8.5/src/rtree'\n",
      "Making all in mvrtree\n",
      "make[2]: Entering directory '/content/spatialindex-src-1.8.5/src/mvrtree'\n",
      "depbase=`echo Index.lo | sed 's|[^/]*$|.deps/&|;s|\\.lo$||'`;\\\n",
      "/bin/bash ../../libtool  --tag=CXX   --mode=compile g++ -DPACKAGE_NAME=\\\"spatialindex\\\" -DPACKAGE_TARNAME=\\\"spatialindex-src\\\" -DPACKAGE_VERSION=\\\"1.8.5\\\" -DPACKAGE_STRING=\\\"spatialindex\\ 1.8.5\\\" -DPACKAGE_BUGREPORT=\\\"mhadji@gmail.com\\\" -DPACKAGE_URL=\\\"\\\" -DSTDC_HEADERS=1 -DHAVE_SYS_TYPES_H=1 -DHAVE_SYS_STAT_H=1 -DHAVE_STDLIB_H=1 -DHAVE_STRING_H=1 -DHAVE_MEMORY_H=1 -DHAVE_STRINGS_H=1 -DHAVE_INTTYPES_H=1 -DHAVE_STDINT_H=1 -DHAVE_UNISTD_H=1 -DHAVE_DLFCN_H=1 -DLT_OBJDIR=\\\".libs/\\\" -DPACKAGE=\\\"spatialindex-src\\\" -DVERSION=\\\"1.8.5\\\" -DHAVE_FCNTL_H=1 -DHAVE_UNISTD_H=1 -DHAVE_SYS_TYPES_H=1 -DHAVE_SYS_STAT_H=1 -DHAVE_PTHREAD_H=1 -DHAVE_SYS_RESOURCE_H=1 -DHAVE_SYS_TIME_H=1 -DHAVE_STDINT_H=1 -DHAVE_FEATURES_H=1 -DHAVE_GETTIMEOFDAY=1 -DHAVE_MEMSET=1 -DHAVE_MEMCPY=1 -DHAVE_BCOPY=1 -DHAVE_SRAND48=1 -I. -I../../include     -Wall -Wno-long-long -pedantic -std=c++98  -O2 -DNDEBUG -MT Index.lo -MD -MP -MF $depbase.Tpo -c -o Index.lo Index.cc &&\\\n",
      "mv -f $depbase.Tpo $depbase.Plo\n",
      "libtool: compile:  g++ -DPACKAGE_NAME=\\\"spatialindex\\\" -DPACKAGE_TARNAME=\\\"spatialindex-src\\\" -DPACKAGE_VERSION=\\\"1.8.5\\\" \"-DPACKAGE_STRING=\\\"spatialindex 1.8.5\\\"\" -DPACKAGE_BUGREPORT=\\\"mhadji@gmail.com\\\" -DPACKAGE_URL=\\\"\\\" -DSTDC_HEADERS=1 -DHAVE_SYS_TYPES_H=1 -DHAVE_SYS_STAT_H=1 -DHAVE_STDLIB_H=1 -DHAVE_STRING_H=1 -DHAVE_MEMORY_H=1 -DHAVE_STRINGS_H=1 -DHAVE_INTTYPES_H=1 -DHAVE_STDINT_H=1 -DHAVE_UNISTD_H=1 -DHAVE_DLFCN_H=1 -DLT_OBJDIR=\\\".libs/\\\" -DPACKAGE=\\\"spatialindex-src\\\" -DVERSION=\\\"1.8.5\\\" -DHAVE_FCNTL_H=1 -DHAVE_UNISTD_H=1 -DHAVE_SYS_TYPES_H=1 -DHAVE_SYS_STAT_H=1 -DHAVE_PTHREAD_H=1 -DHAVE_SYS_RESOURCE_H=1 -DHAVE_SYS_TIME_H=1 -DHAVE_STDINT_H=1 -DHAVE_FEATURES_H=1 -DHAVE_GETTIMEOFDAY=1 -DHAVE_MEMSET=1 -DHAVE_MEMCPY=1 -DHAVE_BCOPY=1 -DHAVE_SRAND48=1 -I. -I../../include -Wall -Wno-long-long -pedantic -std=c++98 -O2 -DNDEBUG -MT Index.lo -MD -MP -MF .deps/Index.Tpo -c Index.cc  -fPIC -DPIC -o .libs/Index.o\n",
      "libtool: compile:  g++ -DPACKAGE_NAME=\\\"spatialindex\\\" -DPACKAGE_TARNAME=\\\"spatialindex-src\\\" -DPACKAGE_VERSION=\\\"1.8.5\\\" \"-DPACKAGE_STRING=\\\"spatialindex 1.8.5\\\"\" -DPACKAGE_BUGREPORT=\\\"mhadji@gmail.com\\\" -DPACKAGE_URL=\\\"\\\" -DSTDC_HEADERS=1 -DHAVE_SYS_TYPES_H=1 -DHAVE_SYS_STAT_H=1 -DHAVE_STDLIB_H=1 -DHAVE_STRING_H=1 -DHAVE_MEMORY_H=1 -DHAVE_STRINGS_H=1 -DHAVE_INTTYPES_H=1 -DHAVE_STDINT_H=1 -DHAVE_UNISTD_H=1 -DHAVE_DLFCN_H=1 -DLT_OBJDIR=\\\".libs/\\\" -DPACKAGE=\\\"spatialindex-src\\\" -DVERSION=\\\"1.8.5\\\" -DHAVE_FCNTL_H=1 -DHAVE_UNISTD_H=1 -DHAVE_SYS_TYPES_H=1 -DHAVE_SYS_STAT_H=1 -DHAVE_PTHREAD_H=1 -DHAVE_SYS_RESOURCE_H=1 -DHAVE_SYS_TIME_H=1 -DHAVE_STDINT_H=1 -DHAVE_FEATURES_H=1 -DHAVE_GETTIMEOFDAY=1 -DHAVE_MEMSET=1 -DHAVE_MEMCPY=1 -DHAVE_BCOPY=1 -DHAVE_SRAND48=1 -I. -I../../include -Wall -Wno-long-long -pedantic -std=c++98 -O2 -DNDEBUG -MT Index.lo -MD -MP -MF .deps/Index.Tpo -c Index.cc -o Index.o >/dev/null 2>&1\n",
      "depbase=`echo Leaf.lo | sed 's|[^/]*$|.deps/&|;s|\\.lo$||'`;\\\n",
      "/bin/bash ../../libtool  --tag=CXX   --mode=compile g++ -DPACKAGE_NAME=\\\"spatialindex\\\" -DPACKAGE_TARNAME=\\\"spatialindex-src\\\" -DPACKAGE_VERSION=\\\"1.8.5\\\" -DPACKAGE_STRING=\\\"spatialindex\\ 1.8.5\\\" -DPACKAGE_BUGREPORT=\\\"mhadji@gmail.com\\\" -DPACKAGE_URL=\\\"\\\" -DSTDC_HEADERS=1 -DHAVE_SYS_TYPES_H=1 -DHAVE_SYS_STAT_H=1 -DHAVE_STDLIB_H=1 -DHAVE_STRING_H=1 -DHAVE_MEMORY_H=1 -DHAVE_STRINGS_H=1 -DHAVE_INTTYPES_H=1 -DHAVE_STDINT_H=1 -DHAVE_UNISTD_H=1 -DHAVE_DLFCN_H=1 -DLT_OBJDIR=\\\".libs/\\\" -DPACKAGE=\\\"spatialindex-src\\\" -DVERSION=\\\"1.8.5\\\" -DHAVE_FCNTL_H=1 -DHAVE_UNISTD_H=1 -DHAVE_SYS_TYPES_H=1 -DHAVE_SYS_STAT_H=1 -DHAVE_PTHREAD_H=1 -DHAVE_SYS_RESOURCE_H=1 -DHAVE_SYS_TIME_H=1 -DHAVE_STDINT_H=1 -DHAVE_FEATURES_H=1 -DHAVE_GETTIMEOFDAY=1 -DHAVE_MEMSET=1 -DHAVE_MEMCPY=1 -DHAVE_BCOPY=1 -DHAVE_SRAND48=1 -I. -I../../include     -Wall -Wno-long-long -pedantic -std=c++98  -O2 -DNDEBUG -MT Leaf.lo -MD -MP -MF $depbase.Tpo -c -o Leaf.lo Leaf.cc &&\\\n",
      "mv -f $depbase.Tpo $depbase.Plo\n",
      "libtool: compile:  g++ -DPACKAGE_NAME=\\\"spatialindex\\\" -DPACKAGE_TARNAME=\\\"spatialindex-src\\\" -DPACKAGE_VERSION=\\\"1.8.5\\\" \"-DPACKAGE_STRING=\\\"spatialindex 1.8.5\\\"\" -DPACKAGE_BUGREPORT=\\\"mhadji@gmail.com\\\" -DPACKAGE_URL=\\\"\\\" -DSTDC_HEADERS=1 -DHAVE_SYS_TYPES_H=1 -DHAVE_SYS_STAT_H=1 -DHAVE_STDLIB_H=1 -DHAVE_STRING_H=1 -DHAVE_MEMORY_H=1 -DHAVE_STRINGS_H=1 -DHAVE_INTTYPES_H=1 -DHAVE_STDINT_H=1 -DHAVE_UNISTD_H=1 -DHAVE_DLFCN_H=1 -DLT_OBJDIR=\\\".libs/\\\" -DPACKAGE=\\\"spatialindex-src\\\" -DVERSION=\\\"1.8.5\\\" -DHAVE_FCNTL_H=1 -DHAVE_UNISTD_H=1 -DHAVE_SYS_TYPES_H=1 -DHAVE_SYS_STAT_H=1 -DHAVE_PTHREAD_H=1 -DHAVE_SYS_RESOURCE_H=1 -DHAVE_SYS_TIME_H=1 -DHAVE_STDINT_H=1 -DHAVE_FEATURES_H=1 -DHAVE_GETTIMEOFDAY=1 -DHAVE_MEMSET=1 -DHAVE_MEMCPY=1 -DHAVE_BCOPY=1 -DHAVE_SRAND48=1 -I. -I../../include -Wall -Wno-long-long -pedantic -std=c++98 -O2 -DNDEBUG -MT Leaf.lo -MD -MP -MF .deps/Leaf.Tpo -c Leaf.cc  -fPIC -DPIC -o .libs/Leaf.o\n",
      "libtool: compile:  g++ -DPACKAGE_NAME=\\\"spatialindex\\\" -DPACKAGE_TARNAME=\\\"spatialindex-src\\\" -DPACKAGE_VERSION=\\\"1.8.5\\\" \"-DPACKAGE_STRING=\\\"spatialindex 1.8.5\\\"\" -DPACKAGE_BUGREPORT=\\\"mhadji@gmail.com\\\" -DPACKAGE_URL=\\\"\\\" -DSTDC_HEADERS=1 -DHAVE_SYS_TYPES_H=1 -DHAVE_SYS_STAT_H=1 -DHAVE_STDLIB_H=1 -DHAVE_STRING_H=1 -DHAVE_MEMORY_H=1 -DHAVE_STRINGS_H=1 -DHAVE_INTTYPES_H=1 -DHAVE_STDINT_H=1 -DHAVE_UNISTD_H=1 -DHAVE_DLFCN_H=1 -DLT_OBJDIR=\\\".libs/\\\" -DPACKAGE=\\\"spatialindex-src\\\" -DVERSION=\\\"1.8.5\\\" -DHAVE_FCNTL_H=1 -DHAVE_UNISTD_H=1 -DHAVE_SYS_TYPES_H=1 -DHAVE_SYS_STAT_H=1 -DHAVE_PTHREAD_H=1 -DHAVE_SYS_RESOURCE_H=1 -DHAVE_SYS_TIME_H=1 -DHAVE_STDINT_H=1 -DHAVE_FEATURES_H=1 -DHAVE_GETTIMEOFDAY=1 -DHAVE_MEMSET=1 -DHAVE_MEMCPY=1 -DHAVE_BCOPY=1 -DHAVE_SRAND48=1 -I. -I../../include -Wall -Wno-long-long -pedantic -std=c++98 -O2 -DNDEBUG -MT Leaf.lo -MD -MP -MF .deps/Leaf.Tpo -c Leaf.cc -o Leaf.o >/dev/null 2>&1\n",
      "depbase=`echo Node.lo | sed 's|[^/]*$|.deps/&|;s|\\.lo$||'`;\\\n",
      "/bin/bash ../../libtool  --tag=CXX   --mode=compile g++ -DPACKAGE_NAME=\\\"spatialindex\\\" -DPACKAGE_TARNAME=\\\"spatialindex-src\\\" -DPACKAGE_VERSION=\\\"1.8.5\\\" -DPACKAGE_STRING=\\\"spatialindex\\ 1.8.5\\\" -DPACKAGE_BUGREPORT=\\\"mhadji@gmail.com\\\" -DPACKAGE_URL=\\\"\\\" -DSTDC_HEADERS=1 -DHAVE_SYS_TYPES_H=1 -DHAVE_SYS_STAT_H=1 -DHAVE_STDLIB_H=1 -DHAVE_STRING_H=1 -DHAVE_MEMORY_H=1 -DHAVE_STRINGS_H=1 -DHAVE_INTTYPES_H=1 -DHAVE_STDINT_H=1 -DHAVE_UNISTD_H=1 -DHAVE_DLFCN_H=1 -DLT_OBJDIR=\\\".libs/\\\" -DPACKAGE=\\\"spatialindex-src\\\" -DVERSION=\\\"1.8.5\\\" -DHAVE_FCNTL_H=1 -DHAVE_UNISTD_H=1 -DHAVE_SYS_TYPES_H=1 -DHAVE_SYS_STAT_H=1 -DHAVE_PTHREAD_H=1 -DHAVE_SYS_RESOURCE_H=1 -DHAVE_SYS_TIME_H=1 -DHAVE_STDINT_H=1 -DHAVE_FEATURES_H=1 -DHAVE_GETTIMEOFDAY=1 -DHAVE_MEMSET=1 -DHAVE_MEMCPY=1 -DHAVE_BCOPY=1 -DHAVE_SRAND48=1 -I. -I../../include     -Wall -Wno-long-long -pedantic -std=c++98  -O2 -DNDEBUG -MT Node.lo -MD -MP -MF $depbase.Tpo -c -o Node.lo Node.cc &&\\\n",
      "mv -f $depbase.Tpo $depbase.Plo\n",
      "libtool: compile:  g++ -DPACKAGE_NAME=\\\"spatialindex\\\" -DPACKAGE_TARNAME=\\\"spatialindex-src\\\" -DPACKAGE_VERSION=\\\"1.8.5\\\" \"-DPACKAGE_STRING=\\\"spatialindex 1.8.5\\\"\" -DPACKAGE_BUGREPORT=\\\"mhadji@gmail.com\\\" -DPACKAGE_URL=\\\"\\\" -DSTDC_HEADERS=1 -DHAVE_SYS_TYPES_H=1 -DHAVE_SYS_STAT_H=1 -DHAVE_STDLIB_H=1 -DHAVE_STRING_H=1 -DHAVE_MEMORY_H=1 -DHAVE_STRINGS_H=1 -DHAVE_INTTYPES_H=1 -DHAVE_STDINT_H=1 -DHAVE_UNISTD_H=1 -DHAVE_DLFCN_H=1 -DLT_OBJDIR=\\\".libs/\\\" -DPACKAGE=\\\"spatialindex-src\\\" -DVERSION=\\\"1.8.5\\\" -DHAVE_FCNTL_H=1 -DHAVE_UNISTD_H=1 -DHAVE_SYS_TYPES_H=1 -DHAVE_SYS_STAT_H=1 -DHAVE_PTHREAD_H=1 -DHAVE_SYS_RESOURCE_H=1 -DHAVE_SYS_TIME_H=1 -DHAVE_STDINT_H=1 -DHAVE_FEATURES_H=1 -DHAVE_GETTIMEOFDAY=1 -DHAVE_MEMSET=1 -DHAVE_MEMCPY=1 -DHAVE_BCOPY=1 -DHAVE_SRAND48=1 -I. -I../../include -Wall -Wno-long-long -pedantic -std=c++98 -O2 -DNDEBUG -MT Node.lo -MD -MP -MF .deps/Node.Tpo -c Node.cc  -fPIC -DPIC -o .libs/Node.o\n",
      "libtool: compile:  g++ -DPACKAGE_NAME=\\\"spatialindex\\\" -DPACKAGE_TARNAME=\\\"spatialindex-src\\\" -DPACKAGE_VERSION=\\\"1.8.5\\\" \"-DPACKAGE_STRING=\\\"spatialindex 1.8.5\\\"\" -DPACKAGE_BUGREPORT=\\\"mhadji@gmail.com\\\" -DPACKAGE_URL=\\\"\\\" -DSTDC_HEADERS=1 -DHAVE_SYS_TYPES_H=1 -DHAVE_SYS_STAT_H=1 -DHAVE_STDLIB_H=1 -DHAVE_STRING_H=1 -DHAVE_MEMORY_H=1 -DHAVE_STRINGS_H=1 -DHAVE_INTTYPES_H=1 -DHAVE_STDINT_H=1 -DHAVE_UNISTD_H=1 -DHAVE_DLFCN_H=1 -DLT_OBJDIR=\\\".libs/\\\" -DPACKAGE=\\\"spatialindex-src\\\" -DVERSION=\\\"1.8.5\\\" -DHAVE_FCNTL_H=1 -DHAVE_UNISTD_H=1 -DHAVE_SYS_TYPES_H=1 -DHAVE_SYS_STAT_H=1 -DHAVE_PTHREAD_H=1 -DHAVE_SYS_RESOURCE_H=1 -DHAVE_SYS_TIME_H=1 -DHAVE_STDINT_H=1 -DHAVE_FEATURES_H=1 -DHAVE_GETTIMEOFDAY=1 -DHAVE_MEMSET=1 -DHAVE_MEMCPY=1 -DHAVE_BCOPY=1 -DHAVE_SRAND48=1 -I. -I../../include -Wall -Wno-long-long -pedantic -std=c++98 -O2 -DNDEBUG -MT Node.lo -MD -MP -MF .deps/Node.Tpo -c Node.cc -o Node.o >/dev/null 2>&1\n",
      "depbase=`echo MVRTree.lo | sed 's|[^/]*$|.deps/&|;s|\\.lo$||'`;\\\n",
      "/bin/bash ../../libtool  --tag=CXX   --mode=compile g++ -DPACKAGE_NAME=\\\"spatialindex\\\" -DPACKAGE_TARNAME=\\\"spatialindex-src\\\" -DPACKAGE_VERSION=\\\"1.8.5\\\" -DPACKAGE_STRING=\\\"spatialindex\\ 1.8.5\\\" -DPACKAGE_BUGREPORT=\\\"mhadji@gmail.com\\\" -DPACKAGE_URL=\\\"\\\" -DSTDC_HEADERS=1 -DHAVE_SYS_TYPES_H=1 -DHAVE_SYS_STAT_H=1 -DHAVE_STDLIB_H=1 -DHAVE_STRING_H=1 -DHAVE_MEMORY_H=1 -DHAVE_STRINGS_H=1 -DHAVE_INTTYPES_H=1 -DHAVE_STDINT_H=1 -DHAVE_UNISTD_H=1 -DHAVE_DLFCN_H=1 -DLT_OBJDIR=\\\".libs/\\\" -DPACKAGE=\\\"spatialindex-src\\\" -DVERSION=\\\"1.8.5\\\" -DHAVE_FCNTL_H=1 -DHAVE_UNISTD_H=1 -DHAVE_SYS_TYPES_H=1 -DHAVE_SYS_STAT_H=1 -DHAVE_PTHREAD_H=1 -DHAVE_SYS_RESOURCE_H=1 -DHAVE_SYS_TIME_H=1 -DHAVE_STDINT_H=1 -DHAVE_FEATURES_H=1 -DHAVE_GETTIMEOFDAY=1 -DHAVE_MEMSET=1 -DHAVE_MEMCPY=1 -DHAVE_BCOPY=1 -DHAVE_SRAND48=1 -I. -I../../include     -Wall -Wno-long-long -pedantic -std=c++98  -O2 -DNDEBUG -MT MVRTree.lo -MD -MP -MF $depbase.Tpo -c -o MVRTree.lo MVRTree.cc &&\\\n",
      "mv -f $depbase.Tpo $depbase.Plo\n",
      "libtool: compile:  g++ -DPACKAGE_NAME=\\\"spatialindex\\\" -DPACKAGE_TARNAME=\\\"spatialindex-src\\\" -DPACKAGE_VERSION=\\\"1.8.5\\\" \"-DPACKAGE_STRING=\\\"spatialindex 1.8.5\\\"\" -DPACKAGE_BUGREPORT=\\\"mhadji@gmail.com\\\" -DPACKAGE_URL=\\\"\\\" -DSTDC_HEADERS=1 -DHAVE_SYS_TYPES_H=1 -DHAVE_SYS_STAT_H=1 -DHAVE_STDLIB_H=1 -DHAVE_STRING_H=1 -DHAVE_MEMORY_H=1 -DHAVE_STRINGS_H=1 -DHAVE_INTTYPES_H=1 -DHAVE_STDINT_H=1 -DHAVE_UNISTD_H=1 -DHAVE_DLFCN_H=1 -DLT_OBJDIR=\\\".libs/\\\" -DPACKAGE=\\\"spatialindex-src\\\" -DVERSION=\\\"1.8.5\\\" -DHAVE_FCNTL_H=1 -DHAVE_UNISTD_H=1 -DHAVE_SYS_TYPES_H=1 -DHAVE_SYS_STAT_H=1 -DHAVE_PTHREAD_H=1 -DHAVE_SYS_RESOURCE_H=1 -DHAVE_SYS_TIME_H=1 -DHAVE_STDINT_H=1 -DHAVE_FEATURES_H=1 -DHAVE_GETTIMEOFDAY=1 -DHAVE_MEMSET=1 -DHAVE_MEMCPY=1 -DHAVE_BCOPY=1 -DHAVE_SRAND48=1 -I. -I../../include -Wall -Wno-long-long -pedantic -std=c++98 -O2 -DNDEBUG -MT MVRTree.lo -MD -MP -MF .deps/MVRTree.Tpo -c MVRTree.cc  -fPIC -DPIC -o .libs/MVRTree.o\n",
      "libtool: compile:  g++ -DPACKAGE_NAME=\\\"spatialindex\\\" -DPACKAGE_TARNAME=\\\"spatialindex-src\\\" -DPACKAGE_VERSION=\\\"1.8.5\\\" \"-DPACKAGE_STRING=\\\"spatialindex 1.8.5\\\"\" -DPACKAGE_BUGREPORT=\\\"mhadji@gmail.com\\\" -DPACKAGE_URL=\\\"\\\" -DSTDC_HEADERS=1 -DHAVE_SYS_TYPES_H=1 -DHAVE_SYS_STAT_H=1 -DHAVE_STDLIB_H=1 -DHAVE_STRING_H=1 -DHAVE_MEMORY_H=1 -DHAVE_STRINGS_H=1 -DHAVE_INTTYPES_H=1 -DHAVE_STDINT_H=1 -DHAVE_UNISTD_H=1 -DHAVE_DLFCN_H=1 -DLT_OBJDIR=\\\".libs/\\\" -DPACKAGE=\\\"spatialindex-src\\\" -DVERSION=\\\"1.8.5\\\" -DHAVE_FCNTL_H=1 -DHAVE_UNISTD_H=1 -DHAVE_SYS_TYPES_H=1 -DHAVE_SYS_STAT_H=1 -DHAVE_PTHREAD_H=1 -DHAVE_SYS_RESOURCE_H=1 -DHAVE_SYS_TIME_H=1 -DHAVE_STDINT_H=1 -DHAVE_FEATURES_H=1 -DHAVE_GETTIMEOFDAY=1 -DHAVE_MEMSET=1 -DHAVE_MEMCPY=1 -DHAVE_BCOPY=1 -DHAVE_SRAND48=1 -I. -I../../include -Wall -Wno-long-long -pedantic -std=c++98 -O2 -DNDEBUG -MT MVRTree.lo -MD -MP -MF .deps/MVRTree.Tpo -c MVRTree.cc -o MVRTree.o >/dev/null 2>&1\n",
      "depbase=`echo Statistics.lo | sed 's|[^/]*$|.deps/&|;s|\\.lo$||'`;\\\n",
      "/bin/bash ../../libtool  --tag=CXX   --mode=compile g++ -DPACKAGE_NAME=\\\"spatialindex\\\" -DPACKAGE_TARNAME=\\\"spatialindex-src\\\" -DPACKAGE_VERSION=\\\"1.8.5\\\" -DPACKAGE_STRING=\\\"spatialindex\\ 1.8.5\\\" -DPACKAGE_BUGREPORT=\\\"mhadji@gmail.com\\\" -DPACKAGE_URL=\\\"\\\" -DSTDC_HEADERS=1 -DHAVE_SYS_TYPES_H=1 -DHAVE_SYS_STAT_H=1 -DHAVE_STDLIB_H=1 -DHAVE_STRING_H=1 -DHAVE_MEMORY_H=1 -DHAVE_STRINGS_H=1 -DHAVE_INTTYPES_H=1 -DHAVE_STDINT_H=1 -DHAVE_UNISTD_H=1 -DHAVE_DLFCN_H=1 -DLT_OBJDIR=\\\".libs/\\\" -DPACKAGE=\\\"spatialindex-src\\\" -DVERSION=\\\"1.8.5\\\" -DHAVE_FCNTL_H=1 -DHAVE_UNISTD_H=1 -DHAVE_SYS_TYPES_H=1 -DHAVE_SYS_STAT_H=1 -DHAVE_PTHREAD_H=1 -DHAVE_SYS_RESOURCE_H=1 -DHAVE_SYS_TIME_H=1 -DHAVE_STDINT_H=1 -DHAVE_FEATURES_H=1 -DHAVE_GETTIMEOFDAY=1 -DHAVE_MEMSET=1 -DHAVE_MEMCPY=1 -DHAVE_BCOPY=1 -DHAVE_SRAND48=1 -I. -I../../include     -Wall -Wno-long-long -pedantic -std=c++98  -O2 -DNDEBUG -MT Statistics.lo -MD -MP -MF $depbase.Tpo -c -o Statistics.lo Statistics.cc &&\\\n",
      "mv -f $depbase.Tpo $depbase.Plo\n",
      "libtool: compile:  g++ -DPACKAGE_NAME=\\\"spatialindex\\\" -DPACKAGE_TARNAME=\\\"spatialindex-src\\\" -DPACKAGE_VERSION=\\\"1.8.5\\\" \"-DPACKAGE_STRING=\\\"spatialindex 1.8.5\\\"\" -DPACKAGE_BUGREPORT=\\\"mhadji@gmail.com\\\" -DPACKAGE_URL=\\\"\\\" -DSTDC_HEADERS=1 -DHAVE_SYS_TYPES_H=1 -DHAVE_SYS_STAT_H=1 -DHAVE_STDLIB_H=1 -DHAVE_STRING_H=1 -DHAVE_MEMORY_H=1 -DHAVE_STRINGS_H=1 -DHAVE_INTTYPES_H=1 -DHAVE_STDINT_H=1 -DHAVE_UNISTD_H=1 -DHAVE_DLFCN_H=1 -DLT_OBJDIR=\\\".libs/\\\" -DPACKAGE=\\\"spatialindex-src\\\" -DVERSION=\\\"1.8.5\\\" -DHAVE_FCNTL_H=1 -DHAVE_UNISTD_H=1 -DHAVE_SYS_TYPES_H=1 -DHAVE_SYS_STAT_H=1 -DHAVE_PTHREAD_H=1 -DHAVE_SYS_RESOURCE_H=1 -DHAVE_SYS_TIME_H=1 -DHAVE_STDINT_H=1 -DHAVE_FEATURES_H=1 -DHAVE_GETTIMEOFDAY=1 -DHAVE_MEMSET=1 -DHAVE_MEMCPY=1 -DHAVE_BCOPY=1 -DHAVE_SRAND48=1 -I. -I../../include -Wall -Wno-long-long -pedantic -std=c++98 -O2 -DNDEBUG -MT Statistics.lo -MD -MP -MF .deps/Statistics.Tpo -c Statistics.cc  -fPIC -DPIC -o .libs/Statistics.o\n",
      "libtool: compile:  g++ -DPACKAGE_NAME=\\\"spatialindex\\\" -DPACKAGE_TARNAME=\\\"spatialindex-src\\\" -DPACKAGE_VERSION=\\\"1.8.5\\\" \"-DPACKAGE_STRING=\\\"spatialindex 1.8.5\\\"\" -DPACKAGE_BUGREPORT=\\\"mhadji@gmail.com\\\" -DPACKAGE_URL=\\\"\\\" -DSTDC_HEADERS=1 -DHAVE_SYS_TYPES_H=1 -DHAVE_SYS_STAT_H=1 -DHAVE_STDLIB_H=1 -DHAVE_STRING_H=1 -DHAVE_MEMORY_H=1 -DHAVE_STRINGS_H=1 -DHAVE_INTTYPES_H=1 -DHAVE_STDINT_H=1 -DHAVE_UNISTD_H=1 -DHAVE_DLFCN_H=1 -DLT_OBJDIR=\\\".libs/\\\" -DPACKAGE=\\\"spatialindex-src\\\" -DVERSION=\\\"1.8.5\\\" -DHAVE_FCNTL_H=1 -DHAVE_UNISTD_H=1 -DHAVE_SYS_TYPES_H=1 -DHAVE_SYS_STAT_H=1 -DHAVE_PTHREAD_H=1 -DHAVE_SYS_RESOURCE_H=1 -DHAVE_SYS_TIME_H=1 -DHAVE_STDINT_H=1 -DHAVE_FEATURES_H=1 -DHAVE_GETTIMEOFDAY=1 -DHAVE_MEMSET=1 -DHAVE_MEMCPY=1 -DHAVE_BCOPY=1 -DHAVE_SRAND48=1 -I. -I../../include -Wall -Wno-long-long -pedantic -std=c++98 -O2 -DNDEBUG -MT Statistics.lo -MD -MP -MF .deps/Statistics.Tpo -c Statistics.cc -o Statistics.o >/dev/null 2>&1\n",
      "/bin/bash ../../libtool  --tag=CXX   --mode=link g++  -Wall -Wno-long-long -pedantic -std=c++98  -O2 -DNDEBUG   -o libmvrtree.la  Index.lo Leaf.lo Node.lo MVRTree.lo Statistics.lo  -lpthread\n",
      "libtool: link: ar cru .libs/libmvrtree.a .libs/Index.o .libs/Leaf.o .libs/Node.o .libs/MVRTree.o .libs/Statistics.o \n",
      "ar: `u' modifier ignored since `D' is the default (see `U')\n",
      "libtool: link: ranlib .libs/libmvrtree.a\n",
      "libtool: link: ( cd \".libs\" && rm -f \"libmvrtree.la\" && ln -s \"../libmvrtree.la\" \"libmvrtree.la\" )\n",
      "make[2]: Leaving directory '/content/spatialindex-src-1.8.5/src/mvrtree'\n",
      "Making all in tprtree\n",
      "make[2]: Entering directory '/content/spatialindex-src-1.8.5/src/tprtree'\n",
      "depbase=`echo Index.lo | sed 's|[^/]*$|.deps/&|;s|\\.lo$||'`;\\\n",
      "/bin/bash ../../libtool  --tag=CXX   --mode=compile g++ -DPACKAGE_NAME=\\\"spatialindex\\\" -DPACKAGE_TARNAME=\\\"spatialindex-src\\\" -DPACKAGE_VERSION=\\\"1.8.5\\\" -DPACKAGE_STRING=\\\"spatialindex\\ 1.8.5\\\" -DPACKAGE_BUGREPORT=\\\"mhadji@gmail.com\\\" -DPACKAGE_URL=\\\"\\\" -DSTDC_HEADERS=1 -DHAVE_SYS_TYPES_H=1 -DHAVE_SYS_STAT_H=1 -DHAVE_STDLIB_H=1 -DHAVE_STRING_H=1 -DHAVE_MEMORY_H=1 -DHAVE_STRINGS_H=1 -DHAVE_INTTYPES_H=1 -DHAVE_STDINT_H=1 -DHAVE_UNISTD_H=1 -DHAVE_DLFCN_H=1 -DLT_OBJDIR=\\\".libs/\\\" -DPACKAGE=\\\"spatialindex-src\\\" -DVERSION=\\\"1.8.5\\\" -DHAVE_FCNTL_H=1 -DHAVE_UNISTD_H=1 -DHAVE_SYS_TYPES_H=1 -DHAVE_SYS_STAT_H=1 -DHAVE_PTHREAD_H=1 -DHAVE_SYS_RESOURCE_H=1 -DHAVE_SYS_TIME_H=1 -DHAVE_STDINT_H=1 -DHAVE_FEATURES_H=1 -DHAVE_GETTIMEOFDAY=1 -DHAVE_MEMSET=1 -DHAVE_MEMCPY=1 -DHAVE_BCOPY=1 -DHAVE_SRAND48=1 -I. -I../../include     -Wall -Wno-long-long -pedantic -std=c++98  -O2 -DNDEBUG -MT Index.lo -MD -MP -MF $depbase.Tpo -c -o Index.lo Index.cc &&\\\n",
      "mv -f $depbase.Tpo $depbase.Plo\n",
      "libtool: compile:  g++ -DPACKAGE_NAME=\\\"spatialindex\\\" -DPACKAGE_TARNAME=\\\"spatialindex-src\\\" -DPACKAGE_VERSION=\\\"1.8.5\\\" \"-DPACKAGE_STRING=\\\"spatialindex 1.8.5\\\"\" -DPACKAGE_BUGREPORT=\\\"mhadji@gmail.com\\\" -DPACKAGE_URL=\\\"\\\" -DSTDC_HEADERS=1 -DHAVE_SYS_TYPES_H=1 -DHAVE_SYS_STAT_H=1 -DHAVE_STDLIB_H=1 -DHAVE_STRING_H=1 -DHAVE_MEMORY_H=1 -DHAVE_STRINGS_H=1 -DHAVE_INTTYPES_H=1 -DHAVE_STDINT_H=1 -DHAVE_UNISTD_H=1 -DHAVE_DLFCN_H=1 -DLT_OBJDIR=\\\".libs/\\\" -DPACKAGE=\\\"spatialindex-src\\\" -DVERSION=\\\"1.8.5\\\" -DHAVE_FCNTL_H=1 -DHAVE_UNISTD_H=1 -DHAVE_SYS_TYPES_H=1 -DHAVE_SYS_STAT_H=1 -DHAVE_PTHREAD_H=1 -DHAVE_SYS_RESOURCE_H=1 -DHAVE_SYS_TIME_H=1 -DHAVE_STDINT_H=1 -DHAVE_FEATURES_H=1 -DHAVE_GETTIMEOFDAY=1 -DHAVE_MEMSET=1 -DHAVE_MEMCPY=1 -DHAVE_BCOPY=1 -DHAVE_SRAND48=1 -I. -I../../include -Wall -Wno-long-long -pedantic -std=c++98 -O2 -DNDEBUG -MT Index.lo -MD -MP -MF .deps/Index.Tpo -c Index.cc  -fPIC -DPIC -o .libs/Index.o\n",
      "libtool: compile:  g++ -DPACKAGE_NAME=\\\"spatialindex\\\" -DPACKAGE_TARNAME=\\\"spatialindex-src\\\" -DPACKAGE_VERSION=\\\"1.8.5\\\" \"-DPACKAGE_STRING=\\\"spatialindex 1.8.5\\\"\" -DPACKAGE_BUGREPORT=\\\"mhadji@gmail.com\\\" -DPACKAGE_URL=\\\"\\\" -DSTDC_HEADERS=1 -DHAVE_SYS_TYPES_H=1 -DHAVE_SYS_STAT_H=1 -DHAVE_STDLIB_H=1 -DHAVE_STRING_H=1 -DHAVE_MEMORY_H=1 -DHAVE_STRINGS_H=1 -DHAVE_INTTYPES_H=1 -DHAVE_STDINT_H=1 -DHAVE_UNISTD_H=1 -DHAVE_DLFCN_H=1 -DLT_OBJDIR=\\\".libs/\\\" -DPACKAGE=\\\"spatialindex-src\\\" -DVERSION=\\\"1.8.5\\\" -DHAVE_FCNTL_H=1 -DHAVE_UNISTD_H=1 -DHAVE_SYS_TYPES_H=1 -DHAVE_SYS_STAT_H=1 -DHAVE_PTHREAD_H=1 -DHAVE_SYS_RESOURCE_H=1 -DHAVE_SYS_TIME_H=1 -DHAVE_STDINT_H=1 -DHAVE_FEATURES_H=1 -DHAVE_GETTIMEOFDAY=1 -DHAVE_MEMSET=1 -DHAVE_MEMCPY=1 -DHAVE_BCOPY=1 -DHAVE_SRAND48=1 -I. -I../../include -Wall -Wno-long-long -pedantic -std=c++98 -O2 -DNDEBUG -MT Index.lo -MD -MP -MF .deps/Index.Tpo -c Index.cc -o Index.o >/dev/null 2>&1\n",
      "depbase=`echo Leaf.lo | sed 's|[^/]*$|.deps/&|;s|\\.lo$||'`;\\\n",
      "/bin/bash ../../libtool  --tag=CXX   --mode=compile g++ -DPACKAGE_NAME=\\\"spatialindex\\\" -DPACKAGE_TARNAME=\\\"spatialindex-src\\\" -DPACKAGE_VERSION=\\\"1.8.5\\\" -DPACKAGE_STRING=\\\"spatialindex\\ 1.8.5\\\" -DPACKAGE_BUGREPORT=\\\"mhadji@gmail.com\\\" -DPACKAGE_URL=\\\"\\\" -DSTDC_HEADERS=1 -DHAVE_SYS_TYPES_H=1 -DHAVE_SYS_STAT_H=1 -DHAVE_STDLIB_H=1 -DHAVE_STRING_H=1 -DHAVE_MEMORY_H=1 -DHAVE_STRINGS_H=1 -DHAVE_INTTYPES_H=1 -DHAVE_STDINT_H=1 -DHAVE_UNISTD_H=1 -DHAVE_DLFCN_H=1 -DLT_OBJDIR=\\\".libs/\\\" -DPACKAGE=\\\"spatialindex-src\\\" -DVERSION=\\\"1.8.5\\\" -DHAVE_FCNTL_H=1 -DHAVE_UNISTD_H=1 -DHAVE_SYS_TYPES_H=1 -DHAVE_SYS_STAT_H=1 -DHAVE_PTHREAD_H=1 -DHAVE_SYS_RESOURCE_H=1 -DHAVE_SYS_TIME_H=1 -DHAVE_STDINT_H=1 -DHAVE_FEATURES_H=1 -DHAVE_GETTIMEOFDAY=1 -DHAVE_MEMSET=1 -DHAVE_MEMCPY=1 -DHAVE_BCOPY=1 -DHAVE_SRAND48=1 -I. -I../../include     -Wall -Wno-long-long -pedantic -std=c++98  -O2 -DNDEBUG -MT Leaf.lo -MD -MP -MF $depbase.Tpo -c -o Leaf.lo Leaf.cc &&\\\n",
      "mv -f $depbase.Tpo $depbase.Plo\n",
      "libtool: compile:  g++ -DPACKAGE_NAME=\\\"spatialindex\\\" -DPACKAGE_TARNAME=\\\"spatialindex-src\\\" -DPACKAGE_VERSION=\\\"1.8.5\\\" \"-DPACKAGE_STRING=\\\"spatialindex 1.8.5\\\"\" -DPACKAGE_BUGREPORT=\\\"mhadji@gmail.com\\\" -DPACKAGE_URL=\\\"\\\" -DSTDC_HEADERS=1 -DHAVE_SYS_TYPES_H=1 -DHAVE_SYS_STAT_H=1 -DHAVE_STDLIB_H=1 -DHAVE_STRING_H=1 -DHAVE_MEMORY_H=1 -DHAVE_STRINGS_H=1 -DHAVE_INTTYPES_H=1 -DHAVE_STDINT_H=1 -DHAVE_UNISTD_H=1 -DHAVE_DLFCN_H=1 -DLT_OBJDIR=\\\".libs/\\\" -DPACKAGE=\\\"spatialindex-src\\\" -DVERSION=\\\"1.8.5\\\" -DHAVE_FCNTL_H=1 -DHAVE_UNISTD_H=1 -DHAVE_SYS_TYPES_H=1 -DHAVE_SYS_STAT_H=1 -DHAVE_PTHREAD_H=1 -DHAVE_SYS_RESOURCE_H=1 -DHAVE_SYS_TIME_H=1 -DHAVE_STDINT_H=1 -DHAVE_FEATURES_H=1 -DHAVE_GETTIMEOFDAY=1 -DHAVE_MEMSET=1 -DHAVE_MEMCPY=1 -DHAVE_BCOPY=1 -DHAVE_SRAND48=1 -I. -I../../include -Wall -Wno-long-long -pedantic -std=c++98 -O2 -DNDEBUG -MT Leaf.lo -MD -MP -MF .deps/Leaf.Tpo -c Leaf.cc  -fPIC -DPIC -o .libs/Leaf.o\n",
      "libtool: compile:  g++ -DPACKAGE_NAME=\\\"spatialindex\\\" -DPACKAGE_TARNAME=\\\"spatialindex-src\\\" -DPACKAGE_VERSION=\\\"1.8.5\\\" \"-DPACKAGE_STRING=\\\"spatialindex 1.8.5\\\"\" -DPACKAGE_BUGREPORT=\\\"mhadji@gmail.com\\\" -DPACKAGE_URL=\\\"\\\" -DSTDC_HEADERS=1 -DHAVE_SYS_TYPES_H=1 -DHAVE_SYS_STAT_H=1 -DHAVE_STDLIB_H=1 -DHAVE_STRING_H=1 -DHAVE_MEMORY_H=1 -DHAVE_STRINGS_H=1 -DHAVE_INTTYPES_H=1 -DHAVE_STDINT_H=1 -DHAVE_UNISTD_H=1 -DHAVE_DLFCN_H=1 -DLT_OBJDIR=\\\".libs/\\\" -DPACKAGE=\\\"spatialindex-src\\\" -DVERSION=\\\"1.8.5\\\" -DHAVE_FCNTL_H=1 -DHAVE_UNISTD_H=1 -DHAVE_SYS_TYPES_H=1 -DHAVE_SYS_STAT_H=1 -DHAVE_PTHREAD_H=1 -DHAVE_SYS_RESOURCE_H=1 -DHAVE_SYS_TIME_H=1 -DHAVE_STDINT_H=1 -DHAVE_FEATURES_H=1 -DHAVE_GETTIMEOFDAY=1 -DHAVE_MEMSET=1 -DHAVE_MEMCPY=1 -DHAVE_BCOPY=1 -DHAVE_SRAND48=1 -I. -I../../include -Wall -Wno-long-long -pedantic -std=c++98 -O2 -DNDEBUG -MT Leaf.lo -MD -MP -MF .deps/Leaf.Tpo -c Leaf.cc -o Leaf.o >/dev/null 2>&1\n",
      "depbase=`echo Node.lo | sed 's|[^/]*$|.deps/&|;s|\\.lo$||'`;\\\n",
      "/bin/bash ../../libtool  --tag=CXX   --mode=compile g++ -DPACKAGE_NAME=\\\"spatialindex\\\" -DPACKAGE_TARNAME=\\\"spatialindex-src\\\" -DPACKAGE_VERSION=\\\"1.8.5\\\" -DPACKAGE_STRING=\\\"spatialindex\\ 1.8.5\\\" -DPACKAGE_BUGREPORT=\\\"mhadji@gmail.com\\\" -DPACKAGE_URL=\\\"\\\" -DSTDC_HEADERS=1 -DHAVE_SYS_TYPES_H=1 -DHAVE_SYS_STAT_H=1 -DHAVE_STDLIB_H=1 -DHAVE_STRING_H=1 -DHAVE_MEMORY_H=1 -DHAVE_STRINGS_H=1 -DHAVE_INTTYPES_H=1 -DHAVE_STDINT_H=1 -DHAVE_UNISTD_H=1 -DHAVE_DLFCN_H=1 -DLT_OBJDIR=\\\".libs/\\\" -DPACKAGE=\\\"spatialindex-src\\\" -DVERSION=\\\"1.8.5\\\" -DHAVE_FCNTL_H=1 -DHAVE_UNISTD_H=1 -DHAVE_SYS_TYPES_H=1 -DHAVE_SYS_STAT_H=1 -DHAVE_PTHREAD_H=1 -DHAVE_SYS_RESOURCE_H=1 -DHAVE_SYS_TIME_H=1 -DHAVE_STDINT_H=1 -DHAVE_FEATURES_H=1 -DHAVE_GETTIMEOFDAY=1 -DHAVE_MEMSET=1 -DHAVE_MEMCPY=1 -DHAVE_BCOPY=1 -DHAVE_SRAND48=1 -I. -I../../include     -Wall -Wno-long-long -pedantic -std=c++98  -O2 -DNDEBUG -MT Node.lo -MD -MP -MF $depbase.Tpo -c -o Node.lo Node.cc &&\\\n",
      "mv -f $depbase.Tpo $depbase.Plo\n",
      "libtool: compile:  g++ -DPACKAGE_NAME=\\\"spatialindex\\\" -DPACKAGE_TARNAME=\\\"spatialindex-src\\\" -DPACKAGE_VERSION=\\\"1.8.5\\\" \"-DPACKAGE_STRING=\\\"spatialindex 1.8.5\\\"\" -DPACKAGE_BUGREPORT=\\\"mhadji@gmail.com\\\" -DPACKAGE_URL=\\\"\\\" -DSTDC_HEADERS=1 -DHAVE_SYS_TYPES_H=1 -DHAVE_SYS_STAT_H=1 -DHAVE_STDLIB_H=1 -DHAVE_STRING_H=1 -DHAVE_MEMORY_H=1 -DHAVE_STRINGS_H=1 -DHAVE_INTTYPES_H=1 -DHAVE_STDINT_H=1 -DHAVE_UNISTD_H=1 -DHAVE_DLFCN_H=1 -DLT_OBJDIR=\\\".libs/\\\" -DPACKAGE=\\\"spatialindex-src\\\" -DVERSION=\\\"1.8.5\\\" -DHAVE_FCNTL_H=1 -DHAVE_UNISTD_H=1 -DHAVE_SYS_TYPES_H=1 -DHAVE_SYS_STAT_H=1 -DHAVE_PTHREAD_H=1 -DHAVE_SYS_RESOURCE_H=1 -DHAVE_SYS_TIME_H=1 -DHAVE_STDINT_H=1 -DHAVE_FEATURES_H=1 -DHAVE_GETTIMEOFDAY=1 -DHAVE_MEMSET=1 -DHAVE_MEMCPY=1 -DHAVE_BCOPY=1 -DHAVE_SRAND48=1 -I. -I../../include -Wall -Wno-long-long -pedantic -std=c++98 -O2 -DNDEBUG -MT Node.lo -MD -MP -MF .deps/Node.Tpo -c Node.cc  -fPIC -DPIC -o .libs/Node.o\n",
      "libtool: compile:  g++ -DPACKAGE_NAME=\\\"spatialindex\\\" -DPACKAGE_TARNAME=\\\"spatialindex-src\\\" -DPACKAGE_VERSION=\\\"1.8.5\\\" \"-DPACKAGE_STRING=\\\"spatialindex 1.8.5\\\"\" -DPACKAGE_BUGREPORT=\\\"mhadji@gmail.com\\\" -DPACKAGE_URL=\\\"\\\" -DSTDC_HEADERS=1 -DHAVE_SYS_TYPES_H=1 -DHAVE_SYS_STAT_H=1 -DHAVE_STDLIB_H=1 -DHAVE_STRING_H=1 -DHAVE_MEMORY_H=1 -DHAVE_STRINGS_H=1 -DHAVE_INTTYPES_H=1 -DHAVE_STDINT_H=1 -DHAVE_UNISTD_H=1 -DHAVE_DLFCN_H=1 -DLT_OBJDIR=\\\".libs/\\\" -DPACKAGE=\\\"spatialindex-src\\\" -DVERSION=\\\"1.8.5\\\" -DHAVE_FCNTL_H=1 -DHAVE_UNISTD_H=1 -DHAVE_SYS_TYPES_H=1 -DHAVE_SYS_STAT_H=1 -DHAVE_PTHREAD_H=1 -DHAVE_SYS_RESOURCE_H=1 -DHAVE_SYS_TIME_H=1 -DHAVE_STDINT_H=1 -DHAVE_FEATURES_H=1 -DHAVE_GETTIMEOFDAY=1 -DHAVE_MEMSET=1 -DHAVE_MEMCPY=1 -DHAVE_BCOPY=1 -DHAVE_SRAND48=1 -I. -I../../include -Wall -Wno-long-long -pedantic -std=c++98 -O2 -DNDEBUG -MT Node.lo -MD -MP -MF .deps/Node.Tpo -c Node.cc -o Node.o >/dev/null 2>&1\n",
      "depbase=`echo TPRTree.lo | sed 's|[^/]*$|.deps/&|;s|\\.lo$||'`;\\\n",
      "/bin/bash ../../libtool  --tag=CXX   --mode=compile g++ -DPACKAGE_NAME=\\\"spatialindex\\\" -DPACKAGE_TARNAME=\\\"spatialindex-src\\\" -DPACKAGE_VERSION=\\\"1.8.5\\\" -DPACKAGE_STRING=\\\"spatialindex\\ 1.8.5\\\" -DPACKAGE_BUGREPORT=\\\"mhadji@gmail.com\\\" -DPACKAGE_URL=\\\"\\\" -DSTDC_HEADERS=1 -DHAVE_SYS_TYPES_H=1 -DHAVE_SYS_STAT_H=1 -DHAVE_STDLIB_H=1 -DHAVE_STRING_H=1 -DHAVE_MEMORY_H=1 -DHAVE_STRINGS_H=1 -DHAVE_INTTYPES_H=1 -DHAVE_STDINT_H=1 -DHAVE_UNISTD_H=1 -DHAVE_DLFCN_H=1 -DLT_OBJDIR=\\\".libs/\\\" -DPACKAGE=\\\"spatialindex-src\\\" -DVERSION=\\\"1.8.5\\\" -DHAVE_FCNTL_H=1 -DHAVE_UNISTD_H=1 -DHAVE_SYS_TYPES_H=1 -DHAVE_SYS_STAT_H=1 -DHAVE_PTHREAD_H=1 -DHAVE_SYS_RESOURCE_H=1 -DHAVE_SYS_TIME_H=1 -DHAVE_STDINT_H=1 -DHAVE_FEATURES_H=1 -DHAVE_GETTIMEOFDAY=1 -DHAVE_MEMSET=1 -DHAVE_MEMCPY=1 -DHAVE_BCOPY=1 -DHAVE_SRAND48=1 -I. -I../../include     -Wall -Wno-long-long -pedantic -std=c++98  -O2 -DNDEBUG -MT TPRTree.lo -MD -MP -MF $depbase.Tpo -c -o TPRTree.lo TPRTree.cc &&\\\n",
      "mv -f $depbase.Tpo $depbase.Plo\n",
      "libtool: compile:  g++ -DPACKAGE_NAME=\\\"spatialindex\\\" -DPACKAGE_TARNAME=\\\"spatialindex-src\\\" -DPACKAGE_VERSION=\\\"1.8.5\\\" \"-DPACKAGE_STRING=\\\"spatialindex 1.8.5\\\"\" -DPACKAGE_BUGREPORT=\\\"mhadji@gmail.com\\\" -DPACKAGE_URL=\\\"\\\" -DSTDC_HEADERS=1 -DHAVE_SYS_TYPES_H=1 -DHAVE_SYS_STAT_H=1 -DHAVE_STDLIB_H=1 -DHAVE_STRING_H=1 -DHAVE_MEMORY_H=1 -DHAVE_STRINGS_H=1 -DHAVE_INTTYPES_H=1 -DHAVE_STDINT_H=1 -DHAVE_UNISTD_H=1 -DHAVE_DLFCN_H=1 -DLT_OBJDIR=\\\".libs/\\\" -DPACKAGE=\\\"spatialindex-src\\\" -DVERSION=\\\"1.8.5\\\" -DHAVE_FCNTL_H=1 -DHAVE_UNISTD_H=1 -DHAVE_SYS_TYPES_H=1 -DHAVE_SYS_STAT_H=1 -DHAVE_PTHREAD_H=1 -DHAVE_SYS_RESOURCE_H=1 -DHAVE_SYS_TIME_H=1 -DHAVE_STDINT_H=1 -DHAVE_FEATURES_H=1 -DHAVE_GETTIMEOFDAY=1 -DHAVE_MEMSET=1 -DHAVE_MEMCPY=1 -DHAVE_BCOPY=1 -DHAVE_SRAND48=1 -I. -I../../include -Wall -Wno-long-long -pedantic -std=c++98 -O2 -DNDEBUG -MT TPRTree.lo -MD -MP -MF .deps/TPRTree.Tpo -c TPRTree.cc  -fPIC -DPIC -o .libs/TPRTree.o\n",
      "libtool: compile:  g++ -DPACKAGE_NAME=\\\"spatialindex\\\" -DPACKAGE_TARNAME=\\\"spatialindex-src\\\" -DPACKAGE_VERSION=\\\"1.8.5\\\" \"-DPACKAGE_STRING=\\\"spatialindex 1.8.5\\\"\" -DPACKAGE_BUGREPORT=\\\"mhadji@gmail.com\\\" -DPACKAGE_URL=\\\"\\\" -DSTDC_HEADERS=1 -DHAVE_SYS_TYPES_H=1 -DHAVE_SYS_STAT_H=1 -DHAVE_STDLIB_H=1 -DHAVE_STRING_H=1 -DHAVE_MEMORY_H=1 -DHAVE_STRINGS_H=1 -DHAVE_INTTYPES_H=1 -DHAVE_STDINT_H=1 -DHAVE_UNISTD_H=1 -DHAVE_DLFCN_H=1 -DLT_OBJDIR=\\\".libs/\\\" -DPACKAGE=\\\"spatialindex-src\\\" -DVERSION=\\\"1.8.5\\\" -DHAVE_FCNTL_H=1 -DHAVE_UNISTD_H=1 -DHAVE_SYS_TYPES_H=1 -DHAVE_SYS_STAT_H=1 -DHAVE_PTHREAD_H=1 -DHAVE_SYS_RESOURCE_H=1 -DHAVE_SYS_TIME_H=1 -DHAVE_STDINT_H=1 -DHAVE_FEATURES_H=1 -DHAVE_GETTIMEOFDAY=1 -DHAVE_MEMSET=1 -DHAVE_MEMCPY=1 -DHAVE_BCOPY=1 -DHAVE_SRAND48=1 -I. -I../../include -Wall -Wno-long-long -pedantic -std=c++98 -O2 -DNDEBUG -MT TPRTree.lo -MD -MP -MF .deps/TPRTree.Tpo -c TPRTree.cc -o TPRTree.o >/dev/null 2>&1\n",
      "depbase=`echo Statistics.lo | sed 's|[^/]*$|.deps/&|;s|\\.lo$||'`;\\\n",
      "/bin/bash ../../libtool  --tag=CXX   --mode=compile g++ -DPACKAGE_NAME=\\\"spatialindex\\\" -DPACKAGE_TARNAME=\\\"spatialindex-src\\\" -DPACKAGE_VERSION=\\\"1.8.5\\\" -DPACKAGE_STRING=\\\"spatialindex\\ 1.8.5\\\" -DPACKAGE_BUGREPORT=\\\"mhadji@gmail.com\\\" -DPACKAGE_URL=\\\"\\\" -DSTDC_HEADERS=1 -DHAVE_SYS_TYPES_H=1 -DHAVE_SYS_STAT_H=1 -DHAVE_STDLIB_H=1 -DHAVE_STRING_H=1 -DHAVE_MEMORY_H=1 -DHAVE_STRINGS_H=1 -DHAVE_INTTYPES_H=1 -DHAVE_STDINT_H=1 -DHAVE_UNISTD_H=1 -DHAVE_DLFCN_H=1 -DLT_OBJDIR=\\\".libs/\\\" -DPACKAGE=\\\"spatialindex-src\\\" -DVERSION=\\\"1.8.5\\\" -DHAVE_FCNTL_H=1 -DHAVE_UNISTD_H=1 -DHAVE_SYS_TYPES_H=1 -DHAVE_SYS_STAT_H=1 -DHAVE_PTHREAD_H=1 -DHAVE_SYS_RESOURCE_H=1 -DHAVE_SYS_TIME_H=1 -DHAVE_STDINT_H=1 -DHAVE_FEATURES_H=1 -DHAVE_GETTIMEOFDAY=1 -DHAVE_MEMSET=1 -DHAVE_MEMCPY=1 -DHAVE_BCOPY=1 -DHAVE_SRAND48=1 -I. -I../../include     -Wall -Wno-long-long -pedantic -std=c++98  -O2 -DNDEBUG -MT Statistics.lo -MD -MP -MF $depbase.Tpo -c -o Statistics.lo Statistics.cc &&\\\n",
      "mv -f $depbase.Tpo $depbase.Plo\n",
      "libtool: compile:  g++ -DPACKAGE_NAME=\\\"spatialindex\\\" -DPACKAGE_TARNAME=\\\"spatialindex-src\\\" -DPACKAGE_VERSION=\\\"1.8.5\\\" \"-DPACKAGE_STRING=\\\"spatialindex 1.8.5\\\"\" -DPACKAGE_BUGREPORT=\\\"mhadji@gmail.com\\\" -DPACKAGE_URL=\\\"\\\" -DSTDC_HEADERS=1 -DHAVE_SYS_TYPES_H=1 -DHAVE_SYS_STAT_H=1 -DHAVE_STDLIB_H=1 -DHAVE_STRING_H=1 -DHAVE_MEMORY_H=1 -DHAVE_STRINGS_H=1 -DHAVE_INTTYPES_H=1 -DHAVE_STDINT_H=1 -DHAVE_UNISTD_H=1 -DHAVE_DLFCN_H=1 -DLT_OBJDIR=\\\".libs/\\\" -DPACKAGE=\\\"spatialindex-src\\\" -DVERSION=\\\"1.8.5\\\" -DHAVE_FCNTL_H=1 -DHAVE_UNISTD_H=1 -DHAVE_SYS_TYPES_H=1 -DHAVE_SYS_STAT_H=1 -DHAVE_PTHREAD_H=1 -DHAVE_SYS_RESOURCE_H=1 -DHAVE_SYS_TIME_H=1 -DHAVE_STDINT_H=1 -DHAVE_FEATURES_H=1 -DHAVE_GETTIMEOFDAY=1 -DHAVE_MEMSET=1 -DHAVE_MEMCPY=1 -DHAVE_BCOPY=1 -DHAVE_SRAND48=1 -I. -I../../include -Wall -Wno-long-long -pedantic -std=c++98 -O2 -DNDEBUG -MT Statistics.lo -MD -MP -MF .deps/Statistics.Tpo -c Statistics.cc  -fPIC -DPIC -o .libs/Statistics.o\n",
      "libtool: compile:  g++ -DPACKAGE_NAME=\\\"spatialindex\\\" -DPACKAGE_TARNAME=\\\"spatialindex-src\\\" -DPACKAGE_VERSION=\\\"1.8.5\\\" \"-DPACKAGE_STRING=\\\"spatialindex 1.8.5\\\"\" -DPACKAGE_BUGREPORT=\\\"mhadji@gmail.com\\\" -DPACKAGE_URL=\\\"\\\" -DSTDC_HEADERS=1 -DHAVE_SYS_TYPES_H=1 -DHAVE_SYS_STAT_H=1 -DHAVE_STDLIB_H=1 -DHAVE_STRING_H=1 -DHAVE_MEMORY_H=1 -DHAVE_STRINGS_H=1 -DHAVE_INTTYPES_H=1 -DHAVE_STDINT_H=1 -DHAVE_UNISTD_H=1 -DHAVE_DLFCN_H=1 -DLT_OBJDIR=\\\".libs/\\\" -DPACKAGE=\\\"spatialindex-src\\\" -DVERSION=\\\"1.8.5\\\" -DHAVE_FCNTL_H=1 -DHAVE_UNISTD_H=1 -DHAVE_SYS_TYPES_H=1 -DHAVE_SYS_STAT_H=1 -DHAVE_PTHREAD_H=1 -DHAVE_SYS_RESOURCE_H=1 -DHAVE_SYS_TIME_H=1 -DHAVE_STDINT_H=1 -DHAVE_FEATURES_H=1 -DHAVE_GETTIMEOFDAY=1 -DHAVE_MEMSET=1 -DHAVE_MEMCPY=1 -DHAVE_BCOPY=1 -DHAVE_SRAND48=1 -I. -I../../include -Wall -Wno-long-long -pedantic -std=c++98 -O2 -DNDEBUG -MT Statistics.lo -MD -MP -MF .deps/Statistics.Tpo -c Statistics.cc -o Statistics.o >/dev/null 2>&1\n",
      "/bin/bash ../../libtool  --tag=CXX   --mode=link g++  -Wall -Wno-long-long -pedantic -std=c++98  -O2 -DNDEBUG   -o libtprtree.la  Index.lo Leaf.lo Node.lo TPRTree.lo Statistics.lo  -lpthread\n",
      "libtool: link: ar cru .libs/libtprtree.a .libs/Index.o .libs/Leaf.o .libs/Node.o .libs/TPRTree.o .libs/Statistics.o \n",
      "ar: `u' modifier ignored since `D' is the default (see `U')\n",
      "libtool: link: ranlib .libs/libtprtree.a\n",
      "libtool: link: ( cd \".libs\" && rm -f \"libtprtree.la\" && ln -s \"../libtprtree.la\" \"libtprtree.la\" )\n",
      "make[2]: Leaving directory '/content/spatialindex-src-1.8.5/src/tprtree'\n",
      "Making all in tools\n",
      "make[2]: Entering directory '/content/spatialindex-src-1.8.5/src/tools'\n",
      "depbase=`echo Tools.lo | sed 's|[^/]*$|.deps/&|;s|\\.lo$||'`;\\\n",
      "/bin/bash ../../libtool  --tag=CXX   --mode=compile g++ -DPACKAGE_NAME=\\\"spatialindex\\\" -DPACKAGE_TARNAME=\\\"spatialindex-src\\\" -DPACKAGE_VERSION=\\\"1.8.5\\\" -DPACKAGE_STRING=\\\"spatialindex\\ 1.8.5\\\" -DPACKAGE_BUGREPORT=\\\"mhadji@gmail.com\\\" -DPACKAGE_URL=\\\"\\\" -DSTDC_HEADERS=1 -DHAVE_SYS_TYPES_H=1 -DHAVE_SYS_STAT_H=1 -DHAVE_STDLIB_H=1 -DHAVE_STRING_H=1 -DHAVE_MEMORY_H=1 -DHAVE_STRINGS_H=1 -DHAVE_INTTYPES_H=1 -DHAVE_STDINT_H=1 -DHAVE_UNISTD_H=1 -DHAVE_DLFCN_H=1 -DLT_OBJDIR=\\\".libs/\\\" -DPACKAGE=\\\"spatialindex-src\\\" -DVERSION=\\\"1.8.5\\\" -DHAVE_FCNTL_H=1 -DHAVE_UNISTD_H=1 -DHAVE_SYS_TYPES_H=1 -DHAVE_SYS_STAT_H=1 -DHAVE_PTHREAD_H=1 -DHAVE_SYS_RESOURCE_H=1 -DHAVE_SYS_TIME_H=1 -DHAVE_STDINT_H=1 -DHAVE_FEATURES_H=1 -DHAVE_GETTIMEOFDAY=1 -DHAVE_MEMSET=1 -DHAVE_MEMCPY=1 -DHAVE_BCOPY=1 -DHAVE_SRAND48=1 -I. -I../../include    -Wall -Wno-long-long -pedantic -std=c++98  -O2 -DNDEBUG -MT Tools.lo -MD -MP -MF $depbase.Tpo -c -o Tools.lo Tools.cc &&\\\n",
      "mv -f $depbase.Tpo $depbase.Plo\n",
      "libtool: compile:  g++ -DPACKAGE_NAME=\\\"spatialindex\\\" -DPACKAGE_TARNAME=\\\"spatialindex-src\\\" -DPACKAGE_VERSION=\\\"1.8.5\\\" \"-DPACKAGE_STRING=\\\"spatialindex 1.8.5\\\"\" -DPACKAGE_BUGREPORT=\\\"mhadji@gmail.com\\\" -DPACKAGE_URL=\\\"\\\" -DSTDC_HEADERS=1 -DHAVE_SYS_TYPES_H=1 -DHAVE_SYS_STAT_H=1 -DHAVE_STDLIB_H=1 -DHAVE_STRING_H=1 -DHAVE_MEMORY_H=1 -DHAVE_STRINGS_H=1 -DHAVE_INTTYPES_H=1 -DHAVE_STDINT_H=1 -DHAVE_UNISTD_H=1 -DHAVE_DLFCN_H=1 -DLT_OBJDIR=\\\".libs/\\\" -DPACKAGE=\\\"spatialindex-src\\\" -DVERSION=\\\"1.8.5\\\" -DHAVE_FCNTL_H=1 -DHAVE_UNISTD_H=1 -DHAVE_SYS_TYPES_H=1 -DHAVE_SYS_STAT_H=1 -DHAVE_PTHREAD_H=1 -DHAVE_SYS_RESOURCE_H=1 -DHAVE_SYS_TIME_H=1 -DHAVE_STDINT_H=1 -DHAVE_FEATURES_H=1 -DHAVE_GETTIMEOFDAY=1 -DHAVE_MEMSET=1 -DHAVE_MEMCPY=1 -DHAVE_BCOPY=1 -DHAVE_SRAND48=1 -I. -I../../include -Wall -Wno-long-long -pedantic -std=c++98 -O2 -DNDEBUG -MT Tools.lo -MD -MP -MF .deps/Tools.Tpo -c Tools.cc  -fPIC -DPIC -o .libs/Tools.o\n",
      "libtool: compile:  g++ -DPACKAGE_NAME=\\\"spatialindex\\\" -DPACKAGE_TARNAME=\\\"spatialindex-src\\\" -DPACKAGE_VERSION=\\\"1.8.5\\\" \"-DPACKAGE_STRING=\\\"spatialindex 1.8.5\\\"\" -DPACKAGE_BUGREPORT=\\\"mhadji@gmail.com\\\" -DPACKAGE_URL=\\\"\\\" -DSTDC_HEADERS=1 -DHAVE_SYS_TYPES_H=1 -DHAVE_SYS_STAT_H=1 -DHAVE_STDLIB_H=1 -DHAVE_STRING_H=1 -DHAVE_MEMORY_H=1 -DHAVE_STRINGS_H=1 -DHAVE_INTTYPES_H=1 -DHAVE_STDINT_H=1 -DHAVE_UNISTD_H=1 -DHAVE_DLFCN_H=1 -DLT_OBJDIR=\\\".libs/\\\" -DPACKAGE=\\\"spatialindex-src\\\" -DVERSION=\\\"1.8.5\\\" -DHAVE_FCNTL_H=1 -DHAVE_UNISTD_H=1 -DHAVE_SYS_TYPES_H=1 -DHAVE_SYS_STAT_H=1 -DHAVE_PTHREAD_H=1 -DHAVE_SYS_RESOURCE_H=1 -DHAVE_SYS_TIME_H=1 -DHAVE_STDINT_H=1 -DHAVE_FEATURES_H=1 -DHAVE_GETTIMEOFDAY=1 -DHAVE_MEMSET=1 -DHAVE_MEMCPY=1 -DHAVE_BCOPY=1 -DHAVE_SRAND48=1 -I. -I../../include -Wall -Wno-long-long -pedantic -std=c++98 -O2 -DNDEBUG -MT Tools.lo -MD -MP -MF .deps/Tools.Tpo -c Tools.cc -o Tools.o >/dev/null 2>&1\n",
      "depbase=`echo rand48.lo | sed 's|[^/]*$|.deps/&|;s|\\.lo$||'`;\\\n",
      "/bin/bash ../../libtool  --tag=CXX   --mode=compile g++ -DPACKAGE_NAME=\\\"spatialindex\\\" -DPACKAGE_TARNAME=\\\"spatialindex-src\\\" -DPACKAGE_VERSION=\\\"1.8.5\\\" -DPACKAGE_STRING=\\\"spatialindex\\ 1.8.5\\\" -DPACKAGE_BUGREPORT=\\\"mhadji@gmail.com\\\" -DPACKAGE_URL=\\\"\\\" -DSTDC_HEADERS=1 -DHAVE_SYS_TYPES_H=1 -DHAVE_SYS_STAT_H=1 -DHAVE_STDLIB_H=1 -DHAVE_STRING_H=1 -DHAVE_MEMORY_H=1 -DHAVE_STRINGS_H=1 -DHAVE_INTTYPES_H=1 -DHAVE_STDINT_H=1 -DHAVE_UNISTD_H=1 -DHAVE_DLFCN_H=1 -DLT_OBJDIR=\\\".libs/\\\" -DPACKAGE=\\\"spatialindex-src\\\" -DVERSION=\\\"1.8.5\\\" -DHAVE_FCNTL_H=1 -DHAVE_UNISTD_H=1 -DHAVE_SYS_TYPES_H=1 -DHAVE_SYS_STAT_H=1 -DHAVE_PTHREAD_H=1 -DHAVE_SYS_RESOURCE_H=1 -DHAVE_SYS_TIME_H=1 -DHAVE_STDINT_H=1 -DHAVE_FEATURES_H=1 -DHAVE_GETTIMEOFDAY=1 -DHAVE_MEMSET=1 -DHAVE_MEMCPY=1 -DHAVE_BCOPY=1 -DHAVE_SRAND48=1 -I. -I../../include    -Wall -Wno-long-long -pedantic -std=c++98  -O2 -DNDEBUG -MT rand48.lo -MD -MP -MF $depbase.Tpo -c -o rand48.lo rand48.cc &&\\\n",
      "mv -f $depbase.Tpo $depbase.Plo\n",
      "libtool: compile:  g++ -DPACKAGE_NAME=\\\"spatialindex\\\" -DPACKAGE_TARNAME=\\\"spatialindex-src\\\" -DPACKAGE_VERSION=\\\"1.8.5\\\" \"-DPACKAGE_STRING=\\\"spatialindex 1.8.5\\\"\" -DPACKAGE_BUGREPORT=\\\"mhadji@gmail.com\\\" -DPACKAGE_URL=\\\"\\\" -DSTDC_HEADERS=1 -DHAVE_SYS_TYPES_H=1 -DHAVE_SYS_STAT_H=1 -DHAVE_STDLIB_H=1 -DHAVE_STRING_H=1 -DHAVE_MEMORY_H=1 -DHAVE_STRINGS_H=1 -DHAVE_INTTYPES_H=1 -DHAVE_STDINT_H=1 -DHAVE_UNISTD_H=1 -DHAVE_DLFCN_H=1 -DLT_OBJDIR=\\\".libs/\\\" -DPACKAGE=\\\"spatialindex-src\\\" -DVERSION=\\\"1.8.5\\\" -DHAVE_FCNTL_H=1 -DHAVE_UNISTD_H=1 -DHAVE_SYS_TYPES_H=1 -DHAVE_SYS_STAT_H=1 -DHAVE_PTHREAD_H=1 -DHAVE_SYS_RESOURCE_H=1 -DHAVE_SYS_TIME_H=1 -DHAVE_STDINT_H=1 -DHAVE_FEATURES_H=1 -DHAVE_GETTIMEOFDAY=1 -DHAVE_MEMSET=1 -DHAVE_MEMCPY=1 -DHAVE_BCOPY=1 -DHAVE_SRAND48=1 -I. -I../../include -Wall -Wno-long-long -pedantic -std=c++98 -O2 -DNDEBUG -MT rand48.lo -MD -MP -MF .deps/rand48.Tpo -c rand48.cc  -fPIC -DPIC -o .libs/rand48.o\n",
      "libtool: compile:  g++ -DPACKAGE_NAME=\\\"spatialindex\\\" -DPACKAGE_TARNAME=\\\"spatialindex-src\\\" -DPACKAGE_VERSION=\\\"1.8.5\\\" \"-DPACKAGE_STRING=\\\"spatialindex 1.8.5\\\"\" -DPACKAGE_BUGREPORT=\\\"mhadji@gmail.com\\\" -DPACKAGE_URL=\\\"\\\" -DSTDC_HEADERS=1 -DHAVE_SYS_TYPES_H=1 -DHAVE_SYS_STAT_H=1 -DHAVE_STDLIB_H=1 -DHAVE_STRING_H=1 -DHAVE_MEMORY_H=1 -DHAVE_STRINGS_H=1 -DHAVE_INTTYPES_H=1 -DHAVE_STDINT_H=1 -DHAVE_UNISTD_H=1 -DHAVE_DLFCN_H=1 -DLT_OBJDIR=\\\".libs/\\\" -DPACKAGE=\\\"spatialindex-src\\\" -DVERSION=\\\"1.8.5\\\" -DHAVE_FCNTL_H=1 -DHAVE_UNISTD_H=1 -DHAVE_SYS_TYPES_H=1 -DHAVE_SYS_STAT_H=1 -DHAVE_PTHREAD_H=1 -DHAVE_SYS_RESOURCE_H=1 -DHAVE_SYS_TIME_H=1 -DHAVE_STDINT_H=1 -DHAVE_FEATURES_H=1 -DHAVE_GETTIMEOFDAY=1 -DHAVE_MEMSET=1 -DHAVE_MEMCPY=1 -DHAVE_BCOPY=1 -DHAVE_SRAND48=1 -I. -I../../include -Wall -Wno-long-long -pedantic -std=c++98 -O2 -DNDEBUG -MT rand48.lo -MD -MP -MF .deps/rand48.Tpo -c rand48.cc -o rand48.o >/dev/null 2>&1\n",
      "/bin/bash ../../libtool  --tag=CXX   --mode=link g++  -Wall -Wno-long-long -pedantic -std=c++98  -O2 -DNDEBUG   -o libtools.la  Tools.lo rand48.lo  -lpthread\n",
      "libtool: link: ar cru .libs/libtools.a .libs/Tools.o .libs/rand48.o \n",
      "ar: `u' modifier ignored since `D' is the default (see `U')\n",
      "libtool: link: ranlib .libs/libtools.a\n",
      "libtool: link: ( cd \".libs\" && rm -f \"libtools.la\" && ln -s \"../libtools.la\" \"libtools.la\" )\n",
      "make[2]: Leaving directory '/content/spatialindex-src-1.8.5/src/tools'\n",
      "Making all in capi\n",
      "make[2]: Entering directory '/content/spatialindex-src-1.8.5/src/capi'\n",
      "depbase=`echo BoundsQuery.lo | sed 's|[^/]*$|.deps/&|;s|\\.lo$||'`;\\\n",
      "/bin/bash ../../libtool  --tag=CXX   --mode=compile g++ -DPACKAGE_NAME=\\\"spatialindex\\\" -DPACKAGE_TARNAME=\\\"spatialindex-src\\\" -DPACKAGE_VERSION=\\\"1.8.5\\\" -DPACKAGE_STRING=\\\"spatialindex\\ 1.8.5\\\" -DPACKAGE_BUGREPORT=\\\"mhadji@gmail.com\\\" -DPACKAGE_URL=\\\"\\\" -DSTDC_HEADERS=1 -DHAVE_SYS_TYPES_H=1 -DHAVE_SYS_STAT_H=1 -DHAVE_STDLIB_H=1 -DHAVE_STRING_H=1 -DHAVE_MEMORY_H=1 -DHAVE_STRINGS_H=1 -DHAVE_INTTYPES_H=1 -DHAVE_STDINT_H=1 -DHAVE_UNISTD_H=1 -DHAVE_DLFCN_H=1 -DLT_OBJDIR=\\\".libs/\\\" -DPACKAGE=\\\"spatialindex-src\\\" -DVERSION=\\\"1.8.5\\\" -DHAVE_FCNTL_H=1 -DHAVE_UNISTD_H=1 -DHAVE_SYS_TYPES_H=1 -DHAVE_SYS_STAT_H=1 -DHAVE_PTHREAD_H=1 -DHAVE_SYS_RESOURCE_H=1 -DHAVE_SYS_TIME_H=1 -DHAVE_STDINT_H=1 -DHAVE_FEATURES_H=1 -DHAVE_GETTIMEOFDAY=1 -DHAVE_MEMSET=1 -DHAVE_MEMCPY=1 -DHAVE_BCOPY=1 -DHAVE_SRAND48=1 -I. -I../../include -I../../include/capi    -Wall -Wno-long-long -pedantic -std=c++98  -O2 -DNDEBUG -MT BoundsQuery.lo -MD -MP -MF $depbase.Tpo -c -o BoundsQuery.lo BoundsQuery.cc &&\\\n",
      "mv -f $depbase.Tpo $depbase.Plo\n",
      "libtool: compile:  g++ -DPACKAGE_NAME=\\\"spatialindex\\\" -DPACKAGE_TARNAME=\\\"spatialindex-src\\\" -DPACKAGE_VERSION=\\\"1.8.5\\\" \"-DPACKAGE_STRING=\\\"spatialindex 1.8.5\\\"\" -DPACKAGE_BUGREPORT=\\\"mhadji@gmail.com\\\" -DPACKAGE_URL=\\\"\\\" -DSTDC_HEADERS=1 -DHAVE_SYS_TYPES_H=1 -DHAVE_SYS_STAT_H=1 -DHAVE_STDLIB_H=1 -DHAVE_STRING_H=1 -DHAVE_MEMORY_H=1 -DHAVE_STRINGS_H=1 -DHAVE_INTTYPES_H=1 -DHAVE_STDINT_H=1 -DHAVE_UNISTD_H=1 -DHAVE_DLFCN_H=1 -DLT_OBJDIR=\\\".libs/\\\" -DPACKAGE=\\\"spatialindex-src\\\" -DVERSION=\\\"1.8.5\\\" -DHAVE_FCNTL_H=1 -DHAVE_UNISTD_H=1 -DHAVE_SYS_TYPES_H=1 -DHAVE_SYS_STAT_H=1 -DHAVE_PTHREAD_H=1 -DHAVE_SYS_RESOURCE_H=1 -DHAVE_SYS_TIME_H=1 -DHAVE_STDINT_H=1 -DHAVE_FEATURES_H=1 -DHAVE_GETTIMEOFDAY=1 -DHAVE_MEMSET=1 -DHAVE_MEMCPY=1 -DHAVE_BCOPY=1 -DHAVE_SRAND48=1 -I. -I../../include -I../../include/capi -Wall -Wno-long-long -pedantic -std=c++98 -O2 -DNDEBUG -MT BoundsQuery.lo -MD -MP -MF .deps/BoundsQuery.Tpo -c BoundsQuery.cc  -fPIC -DPIC -o .libs/BoundsQuery.o\n",
      "libtool: compile:  g++ -DPACKAGE_NAME=\\\"spatialindex\\\" -DPACKAGE_TARNAME=\\\"spatialindex-src\\\" -DPACKAGE_VERSION=\\\"1.8.5\\\" \"-DPACKAGE_STRING=\\\"spatialindex 1.8.5\\\"\" -DPACKAGE_BUGREPORT=\\\"mhadji@gmail.com\\\" -DPACKAGE_URL=\\\"\\\" -DSTDC_HEADERS=1 -DHAVE_SYS_TYPES_H=1 -DHAVE_SYS_STAT_H=1 -DHAVE_STDLIB_H=1 -DHAVE_STRING_H=1 -DHAVE_MEMORY_H=1 -DHAVE_STRINGS_H=1 -DHAVE_INTTYPES_H=1 -DHAVE_STDINT_H=1 -DHAVE_UNISTD_H=1 -DHAVE_DLFCN_H=1 -DLT_OBJDIR=\\\".libs/\\\" -DPACKAGE=\\\"spatialindex-src\\\" -DVERSION=\\\"1.8.5\\\" -DHAVE_FCNTL_H=1 -DHAVE_UNISTD_H=1 -DHAVE_SYS_TYPES_H=1 -DHAVE_SYS_STAT_H=1 -DHAVE_PTHREAD_H=1 -DHAVE_SYS_RESOURCE_H=1 -DHAVE_SYS_TIME_H=1 -DHAVE_STDINT_H=1 -DHAVE_FEATURES_H=1 -DHAVE_GETTIMEOFDAY=1 -DHAVE_MEMSET=1 -DHAVE_MEMCPY=1 -DHAVE_BCOPY=1 -DHAVE_SRAND48=1 -I. -I../../include -I../../include/capi -Wall -Wno-long-long -pedantic -std=c++98 -O2 -DNDEBUG -MT BoundsQuery.lo -MD -MP -MF .deps/BoundsQuery.Tpo -c BoundsQuery.cc -o BoundsQuery.o >/dev/null 2>&1\n",
      "depbase=`echo CountVisitor.lo | sed 's|[^/]*$|.deps/&|;s|\\.lo$||'`;\\\n",
      "/bin/bash ../../libtool  --tag=CXX   --mode=compile g++ -DPACKAGE_NAME=\\\"spatialindex\\\" -DPACKAGE_TARNAME=\\\"spatialindex-src\\\" -DPACKAGE_VERSION=\\\"1.8.5\\\" -DPACKAGE_STRING=\\\"spatialindex\\ 1.8.5\\\" -DPACKAGE_BUGREPORT=\\\"mhadji@gmail.com\\\" -DPACKAGE_URL=\\\"\\\" -DSTDC_HEADERS=1 -DHAVE_SYS_TYPES_H=1 -DHAVE_SYS_STAT_H=1 -DHAVE_STDLIB_H=1 -DHAVE_STRING_H=1 -DHAVE_MEMORY_H=1 -DHAVE_STRINGS_H=1 -DHAVE_INTTYPES_H=1 -DHAVE_STDINT_H=1 -DHAVE_UNISTD_H=1 -DHAVE_DLFCN_H=1 -DLT_OBJDIR=\\\".libs/\\\" -DPACKAGE=\\\"spatialindex-src\\\" -DVERSION=\\\"1.8.5\\\" -DHAVE_FCNTL_H=1 -DHAVE_UNISTD_H=1 -DHAVE_SYS_TYPES_H=1 -DHAVE_SYS_STAT_H=1 -DHAVE_PTHREAD_H=1 -DHAVE_SYS_RESOURCE_H=1 -DHAVE_SYS_TIME_H=1 -DHAVE_STDINT_H=1 -DHAVE_FEATURES_H=1 -DHAVE_GETTIMEOFDAY=1 -DHAVE_MEMSET=1 -DHAVE_MEMCPY=1 -DHAVE_BCOPY=1 -DHAVE_SRAND48=1 -I. -I../../include -I../../include/capi    -Wall -Wno-long-long -pedantic -std=c++98  -O2 -DNDEBUG -MT CountVisitor.lo -MD -MP -MF $depbase.Tpo -c -o CountVisitor.lo CountVisitor.cc &&\\\n",
      "mv -f $depbase.Tpo $depbase.Plo\n",
      "libtool: compile:  g++ -DPACKAGE_NAME=\\\"spatialindex\\\" -DPACKAGE_TARNAME=\\\"spatialindex-src\\\" -DPACKAGE_VERSION=\\\"1.8.5\\\" \"-DPACKAGE_STRING=\\\"spatialindex 1.8.5\\\"\" -DPACKAGE_BUGREPORT=\\\"mhadji@gmail.com\\\" -DPACKAGE_URL=\\\"\\\" -DSTDC_HEADERS=1 -DHAVE_SYS_TYPES_H=1 -DHAVE_SYS_STAT_H=1 -DHAVE_STDLIB_H=1 -DHAVE_STRING_H=1 -DHAVE_MEMORY_H=1 -DHAVE_STRINGS_H=1 -DHAVE_INTTYPES_H=1 -DHAVE_STDINT_H=1 -DHAVE_UNISTD_H=1 -DHAVE_DLFCN_H=1 -DLT_OBJDIR=\\\".libs/\\\" -DPACKAGE=\\\"spatialindex-src\\\" -DVERSION=\\\"1.8.5\\\" -DHAVE_FCNTL_H=1 -DHAVE_UNISTD_H=1 -DHAVE_SYS_TYPES_H=1 -DHAVE_SYS_STAT_H=1 -DHAVE_PTHREAD_H=1 -DHAVE_SYS_RESOURCE_H=1 -DHAVE_SYS_TIME_H=1 -DHAVE_STDINT_H=1 -DHAVE_FEATURES_H=1 -DHAVE_GETTIMEOFDAY=1 -DHAVE_MEMSET=1 -DHAVE_MEMCPY=1 -DHAVE_BCOPY=1 -DHAVE_SRAND48=1 -I. -I../../include -I../../include/capi -Wall -Wno-long-long -pedantic -std=c++98 -O2 -DNDEBUG -MT CountVisitor.lo -MD -MP -MF .deps/CountVisitor.Tpo -c CountVisitor.cc  -fPIC -DPIC -o .libs/CountVisitor.o\n",
      "libtool: compile:  g++ -DPACKAGE_NAME=\\\"spatialindex\\\" -DPACKAGE_TARNAME=\\\"spatialindex-src\\\" -DPACKAGE_VERSION=\\\"1.8.5\\\" \"-DPACKAGE_STRING=\\\"spatialindex 1.8.5\\\"\" -DPACKAGE_BUGREPORT=\\\"mhadji@gmail.com\\\" -DPACKAGE_URL=\\\"\\\" -DSTDC_HEADERS=1 -DHAVE_SYS_TYPES_H=1 -DHAVE_SYS_STAT_H=1 -DHAVE_STDLIB_H=1 -DHAVE_STRING_H=1 -DHAVE_MEMORY_H=1 -DHAVE_STRINGS_H=1 -DHAVE_INTTYPES_H=1 -DHAVE_STDINT_H=1 -DHAVE_UNISTD_H=1 -DHAVE_DLFCN_H=1 -DLT_OBJDIR=\\\".libs/\\\" -DPACKAGE=\\\"spatialindex-src\\\" -DVERSION=\\\"1.8.5\\\" -DHAVE_FCNTL_H=1 -DHAVE_UNISTD_H=1 -DHAVE_SYS_TYPES_H=1 -DHAVE_SYS_STAT_H=1 -DHAVE_PTHREAD_H=1 -DHAVE_SYS_RESOURCE_H=1 -DHAVE_SYS_TIME_H=1 -DHAVE_STDINT_H=1 -DHAVE_FEATURES_H=1 -DHAVE_GETTIMEOFDAY=1 -DHAVE_MEMSET=1 -DHAVE_MEMCPY=1 -DHAVE_BCOPY=1 -DHAVE_SRAND48=1 -I. -I../../include -I../../include/capi -Wall -Wno-long-long -pedantic -std=c++98 -O2 -DNDEBUG -MT CountVisitor.lo -MD -MP -MF .deps/CountVisitor.Tpo -c CountVisitor.cc -o CountVisitor.o >/dev/null 2>&1\n",
      "depbase=`echo CustomStorage.lo | sed 's|[^/]*$|.deps/&|;s|\\.lo$||'`;\\\n",
      "/bin/bash ../../libtool  --tag=CXX   --mode=compile g++ -DPACKAGE_NAME=\\\"spatialindex\\\" -DPACKAGE_TARNAME=\\\"spatialindex-src\\\" -DPACKAGE_VERSION=\\\"1.8.5\\\" -DPACKAGE_STRING=\\\"spatialindex\\ 1.8.5\\\" -DPACKAGE_BUGREPORT=\\\"mhadji@gmail.com\\\" -DPACKAGE_URL=\\\"\\\" -DSTDC_HEADERS=1 -DHAVE_SYS_TYPES_H=1 -DHAVE_SYS_STAT_H=1 -DHAVE_STDLIB_H=1 -DHAVE_STRING_H=1 -DHAVE_MEMORY_H=1 -DHAVE_STRINGS_H=1 -DHAVE_INTTYPES_H=1 -DHAVE_STDINT_H=1 -DHAVE_UNISTD_H=1 -DHAVE_DLFCN_H=1 -DLT_OBJDIR=\\\".libs/\\\" -DPACKAGE=\\\"spatialindex-src\\\" -DVERSION=\\\"1.8.5\\\" -DHAVE_FCNTL_H=1 -DHAVE_UNISTD_H=1 -DHAVE_SYS_TYPES_H=1 -DHAVE_SYS_STAT_H=1 -DHAVE_PTHREAD_H=1 -DHAVE_SYS_RESOURCE_H=1 -DHAVE_SYS_TIME_H=1 -DHAVE_STDINT_H=1 -DHAVE_FEATURES_H=1 -DHAVE_GETTIMEOFDAY=1 -DHAVE_MEMSET=1 -DHAVE_MEMCPY=1 -DHAVE_BCOPY=1 -DHAVE_SRAND48=1 -I. -I../../include -I../../include/capi    -Wall -Wno-long-long -pedantic -std=c++98  -O2 -DNDEBUG -MT CustomStorage.lo -MD -MP -MF $depbase.Tpo -c -o CustomStorage.lo CustomStorage.cc &&\\\n",
      "mv -f $depbase.Tpo $depbase.Plo\n",
      "libtool: compile:  g++ -DPACKAGE_NAME=\\\"spatialindex\\\" -DPACKAGE_TARNAME=\\\"spatialindex-src\\\" -DPACKAGE_VERSION=\\\"1.8.5\\\" \"-DPACKAGE_STRING=\\\"spatialindex 1.8.5\\\"\" -DPACKAGE_BUGREPORT=\\\"mhadji@gmail.com\\\" -DPACKAGE_URL=\\\"\\\" -DSTDC_HEADERS=1 -DHAVE_SYS_TYPES_H=1 -DHAVE_SYS_STAT_H=1 -DHAVE_STDLIB_H=1 -DHAVE_STRING_H=1 -DHAVE_MEMORY_H=1 -DHAVE_STRINGS_H=1 -DHAVE_INTTYPES_H=1 -DHAVE_STDINT_H=1 -DHAVE_UNISTD_H=1 -DHAVE_DLFCN_H=1 -DLT_OBJDIR=\\\".libs/\\\" -DPACKAGE=\\\"spatialindex-src\\\" -DVERSION=\\\"1.8.5\\\" -DHAVE_FCNTL_H=1 -DHAVE_UNISTD_H=1 -DHAVE_SYS_TYPES_H=1 -DHAVE_SYS_STAT_H=1 -DHAVE_PTHREAD_H=1 -DHAVE_SYS_RESOURCE_H=1 -DHAVE_SYS_TIME_H=1 -DHAVE_STDINT_H=1 -DHAVE_FEATURES_H=1 -DHAVE_GETTIMEOFDAY=1 -DHAVE_MEMSET=1 -DHAVE_MEMCPY=1 -DHAVE_BCOPY=1 -DHAVE_SRAND48=1 -I. -I../../include -I../../include/capi -Wall -Wno-long-long -pedantic -std=c++98 -O2 -DNDEBUG -MT CustomStorage.lo -MD -MP -MF .deps/CustomStorage.Tpo -c CustomStorage.cc  -fPIC -DPIC -o .libs/CustomStorage.o\n",
      "libtool: compile:  g++ -DPACKAGE_NAME=\\\"spatialindex\\\" -DPACKAGE_TARNAME=\\\"spatialindex-src\\\" -DPACKAGE_VERSION=\\\"1.8.5\\\" \"-DPACKAGE_STRING=\\\"spatialindex 1.8.5\\\"\" -DPACKAGE_BUGREPORT=\\\"mhadji@gmail.com\\\" -DPACKAGE_URL=\\\"\\\" -DSTDC_HEADERS=1 -DHAVE_SYS_TYPES_H=1 -DHAVE_SYS_STAT_H=1 -DHAVE_STDLIB_H=1 -DHAVE_STRING_H=1 -DHAVE_MEMORY_H=1 -DHAVE_STRINGS_H=1 -DHAVE_INTTYPES_H=1 -DHAVE_STDINT_H=1 -DHAVE_UNISTD_H=1 -DHAVE_DLFCN_H=1 -DLT_OBJDIR=\\\".libs/\\\" -DPACKAGE=\\\"spatialindex-src\\\" -DVERSION=\\\"1.8.5\\\" -DHAVE_FCNTL_H=1 -DHAVE_UNISTD_H=1 -DHAVE_SYS_TYPES_H=1 -DHAVE_SYS_STAT_H=1 -DHAVE_PTHREAD_H=1 -DHAVE_SYS_RESOURCE_H=1 -DHAVE_SYS_TIME_H=1 -DHAVE_STDINT_H=1 -DHAVE_FEATURES_H=1 -DHAVE_GETTIMEOFDAY=1 -DHAVE_MEMSET=1 -DHAVE_MEMCPY=1 -DHAVE_BCOPY=1 -DHAVE_SRAND48=1 -I. -I../../include -I../../include/capi -Wall -Wno-long-long -pedantic -std=c++98 -O2 -DNDEBUG -MT CustomStorage.lo -MD -MP -MF .deps/CustomStorage.Tpo -c CustomStorage.cc -o CustomStorage.o >/dev/null 2>&1\n",
      "depbase=`echo DataStream.lo | sed 's|[^/]*$|.deps/&|;s|\\.lo$||'`;\\\n",
      "/bin/bash ../../libtool  --tag=CXX   --mode=compile g++ -DPACKAGE_NAME=\\\"spatialindex\\\" -DPACKAGE_TARNAME=\\\"spatialindex-src\\\" -DPACKAGE_VERSION=\\\"1.8.5\\\" -DPACKAGE_STRING=\\\"spatialindex\\ 1.8.5\\\" -DPACKAGE_BUGREPORT=\\\"mhadji@gmail.com\\\" -DPACKAGE_URL=\\\"\\\" -DSTDC_HEADERS=1 -DHAVE_SYS_TYPES_H=1 -DHAVE_SYS_STAT_H=1 -DHAVE_STDLIB_H=1 -DHAVE_STRING_H=1 -DHAVE_MEMORY_H=1 -DHAVE_STRINGS_H=1 -DHAVE_INTTYPES_H=1 -DHAVE_STDINT_H=1 -DHAVE_UNISTD_H=1 -DHAVE_DLFCN_H=1 -DLT_OBJDIR=\\\".libs/\\\" -DPACKAGE=\\\"spatialindex-src\\\" -DVERSION=\\\"1.8.5\\\" -DHAVE_FCNTL_H=1 -DHAVE_UNISTD_H=1 -DHAVE_SYS_TYPES_H=1 -DHAVE_SYS_STAT_H=1 -DHAVE_PTHREAD_H=1 -DHAVE_SYS_RESOURCE_H=1 -DHAVE_SYS_TIME_H=1 -DHAVE_STDINT_H=1 -DHAVE_FEATURES_H=1 -DHAVE_GETTIMEOFDAY=1 -DHAVE_MEMSET=1 -DHAVE_MEMCPY=1 -DHAVE_BCOPY=1 -DHAVE_SRAND48=1 -I. -I../../include -I../../include/capi    -Wall -Wno-long-long -pedantic -std=c++98  -O2 -DNDEBUG -MT DataStream.lo -MD -MP -MF $depbase.Tpo -c -o DataStream.lo DataStream.cc &&\\\n",
      "mv -f $depbase.Tpo $depbase.Plo\n",
      "libtool: compile:  g++ -DPACKAGE_NAME=\\\"spatialindex\\\" -DPACKAGE_TARNAME=\\\"spatialindex-src\\\" -DPACKAGE_VERSION=\\\"1.8.5\\\" \"-DPACKAGE_STRING=\\\"spatialindex 1.8.5\\\"\" -DPACKAGE_BUGREPORT=\\\"mhadji@gmail.com\\\" -DPACKAGE_URL=\\\"\\\" -DSTDC_HEADERS=1 -DHAVE_SYS_TYPES_H=1 -DHAVE_SYS_STAT_H=1 -DHAVE_STDLIB_H=1 -DHAVE_STRING_H=1 -DHAVE_MEMORY_H=1 -DHAVE_STRINGS_H=1 -DHAVE_INTTYPES_H=1 -DHAVE_STDINT_H=1 -DHAVE_UNISTD_H=1 -DHAVE_DLFCN_H=1 -DLT_OBJDIR=\\\".libs/\\\" -DPACKAGE=\\\"spatialindex-src\\\" -DVERSION=\\\"1.8.5\\\" -DHAVE_FCNTL_H=1 -DHAVE_UNISTD_H=1 -DHAVE_SYS_TYPES_H=1 -DHAVE_SYS_STAT_H=1 -DHAVE_PTHREAD_H=1 -DHAVE_SYS_RESOURCE_H=1 -DHAVE_SYS_TIME_H=1 -DHAVE_STDINT_H=1 -DHAVE_FEATURES_H=1 -DHAVE_GETTIMEOFDAY=1 -DHAVE_MEMSET=1 -DHAVE_MEMCPY=1 -DHAVE_BCOPY=1 -DHAVE_SRAND48=1 -I. -I../../include -I../../include/capi -Wall -Wno-long-long -pedantic -std=c++98 -O2 -DNDEBUG -MT DataStream.lo -MD -MP -MF .deps/DataStream.Tpo -c DataStream.cc  -fPIC -DPIC -o .libs/DataStream.o\n",
      "libtool: compile:  g++ -DPACKAGE_NAME=\\\"spatialindex\\\" -DPACKAGE_TARNAME=\\\"spatialindex-src\\\" -DPACKAGE_VERSION=\\\"1.8.5\\\" \"-DPACKAGE_STRING=\\\"spatialindex 1.8.5\\\"\" -DPACKAGE_BUGREPORT=\\\"mhadji@gmail.com\\\" -DPACKAGE_URL=\\\"\\\" -DSTDC_HEADERS=1 -DHAVE_SYS_TYPES_H=1 -DHAVE_SYS_STAT_H=1 -DHAVE_STDLIB_H=1 -DHAVE_STRING_H=1 -DHAVE_MEMORY_H=1 -DHAVE_STRINGS_H=1 -DHAVE_INTTYPES_H=1 -DHAVE_STDINT_H=1 -DHAVE_UNISTD_H=1 -DHAVE_DLFCN_H=1 -DLT_OBJDIR=\\\".libs/\\\" -DPACKAGE=\\\"spatialindex-src\\\" -DVERSION=\\\"1.8.5\\\" -DHAVE_FCNTL_H=1 -DHAVE_UNISTD_H=1 -DHAVE_SYS_TYPES_H=1 -DHAVE_SYS_STAT_H=1 -DHAVE_PTHREAD_H=1 -DHAVE_SYS_RESOURCE_H=1 -DHAVE_SYS_TIME_H=1 -DHAVE_STDINT_H=1 -DHAVE_FEATURES_H=1 -DHAVE_GETTIMEOFDAY=1 -DHAVE_MEMSET=1 -DHAVE_MEMCPY=1 -DHAVE_BCOPY=1 -DHAVE_SRAND48=1 -I. -I../../include -I../../include/capi -Wall -Wno-long-long -pedantic -std=c++98 -O2 -DNDEBUG -MT DataStream.lo -MD -MP -MF .deps/DataStream.Tpo -c DataStream.cc -o DataStream.o >/dev/null 2>&1\n",
      "depbase=`echo Error.lo | sed 's|[^/]*$|.deps/&|;s|\\.lo$||'`;\\\n",
      "/bin/bash ../../libtool  --tag=CXX   --mode=compile g++ -DPACKAGE_NAME=\\\"spatialindex\\\" -DPACKAGE_TARNAME=\\\"spatialindex-src\\\" -DPACKAGE_VERSION=\\\"1.8.5\\\" -DPACKAGE_STRING=\\\"spatialindex\\ 1.8.5\\\" -DPACKAGE_BUGREPORT=\\\"mhadji@gmail.com\\\" -DPACKAGE_URL=\\\"\\\" -DSTDC_HEADERS=1 -DHAVE_SYS_TYPES_H=1 -DHAVE_SYS_STAT_H=1 -DHAVE_STDLIB_H=1 -DHAVE_STRING_H=1 -DHAVE_MEMORY_H=1 -DHAVE_STRINGS_H=1 -DHAVE_INTTYPES_H=1 -DHAVE_STDINT_H=1 -DHAVE_UNISTD_H=1 -DHAVE_DLFCN_H=1 -DLT_OBJDIR=\\\".libs/\\\" -DPACKAGE=\\\"spatialindex-src\\\" -DVERSION=\\\"1.8.5\\\" -DHAVE_FCNTL_H=1 -DHAVE_UNISTD_H=1 -DHAVE_SYS_TYPES_H=1 -DHAVE_SYS_STAT_H=1 -DHAVE_PTHREAD_H=1 -DHAVE_SYS_RESOURCE_H=1 -DHAVE_SYS_TIME_H=1 -DHAVE_STDINT_H=1 -DHAVE_FEATURES_H=1 -DHAVE_GETTIMEOFDAY=1 -DHAVE_MEMSET=1 -DHAVE_MEMCPY=1 -DHAVE_BCOPY=1 -DHAVE_SRAND48=1 -I. -I../../include -I../../include/capi    -Wall -Wno-long-long -pedantic -std=c++98  -O2 -DNDEBUG -MT Error.lo -MD -MP -MF $depbase.Tpo -c -o Error.lo Error.cc &&\\\n",
      "mv -f $depbase.Tpo $depbase.Plo\n",
      "libtool: compile:  g++ -DPACKAGE_NAME=\\\"spatialindex\\\" -DPACKAGE_TARNAME=\\\"spatialindex-src\\\" -DPACKAGE_VERSION=\\\"1.8.5\\\" \"-DPACKAGE_STRING=\\\"spatialindex 1.8.5\\\"\" -DPACKAGE_BUGREPORT=\\\"mhadji@gmail.com\\\" -DPACKAGE_URL=\\\"\\\" -DSTDC_HEADERS=1 -DHAVE_SYS_TYPES_H=1 -DHAVE_SYS_STAT_H=1 -DHAVE_STDLIB_H=1 -DHAVE_STRING_H=1 -DHAVE_MEMORY_H=1 -DHAVE_STRINGS_H=1 -DHAVE_INTTYPES_H=1 -DHAVE_STDINT_H=1 -DHAVE_UNISTD_H=1 -DHAVE_DLFCN_H=1 -DLT_OBJDIR=\\\".libs/\\\" -DPACKAGE=\\\"spatialindex-src\\\" -DVERSION=\\\"1.8.5\\\" -DHAVE_FCNTL_H=1 -DHAVE_UNISTD_H=1 -DHAVE_SYS_TYPES_H=1 -DHAVE_SYS_STAT_H=1 -DHAVE_PTHREAD_H=1 -DHAVE_SYS_RESOURCE_H=1 -DHAVE_SYS_TIME_H=1 -DHAVE_STDINT_H=1 -DHAVE_FEATURES_H=1 -DHAVE_GETTIMEOFDAY=1 -DHAVE_MEMSET=1 -DHAVE_MEMCPY=1 -DHAVE_BCOPY=1 -DHAVE_SRAND48=1 -I. -I../../include -I../../include/capi -Wall -Wno-long-long -pedantic -std=c++98 -O2 -DNDEBUG -MT Error.lo -MD -MP -MF .deps/Error.Tpo -c Error.cc  -fPIC -DPIC -o .libs/Error.o\n",
      "libtool: compile:  g++ -DPACKAGE_NAME=\\\"spatialindex\\\" -DPACKAGE_TARNAME=\\\"spatialindex-src\\\" -DPACKAGE_VERSION=\\\"1.8.5\\\" \"-DPACKAGE_STRING=\\\"spatialindex 1.8.5\\\"\" -DPACKAGE_BUGREPORT=\\\"mhadji@gmail.com\\\" -DPACKAGE_URL=\\\"\\\" -DSTDC_HEADERS=1 -DHAVE_SYS_TYPES_H=1 -DHAVE_SYS_STAT_H=1 -DHAVE_STDLIB_H=1 -DHAVE_STRING_H=1 -DHAVE_MEMORY_H=1 -DHAVE_STRINGS_H=1 -DHAVE_INTTYPES_H=1 -DHAVE_STDINT_H=1 -DHAVE_UNISTD_H=1 -DHAVE_DLFCN_H=1 -DLT_OBJDIR=\\\".libs/\\\" -DPACKAGE=\\\"spatialindex-src\\\" -DVERSION=\\\"1.8.5\\\" -DHAVE_FCNTL_H=1 -DHAVE_UNISTD_H=1 -DHAVE_SYS_TYPES_H=1 -DHAVE_SYS_STAT_H=1 -DHAVE_PTHREAD_H=1 -DHAVE_SYS_RESOURCE_H=1 -DHAVE_SYS_TIME_H=1 -DHAVE_STDINT_H=1 -DHAVE_FEATURES_H=1 -DHAVE_GETTIMEOFDAY=1 -DHAVE_MEMSET=1 -DHAVE_MEMCPY=1 -DHAVE_BCOPY=1 -DHAVE_SRAND48=1 -I. -I../../include -I../../include/capi -Wall -Wno-long-long -pedantic -std=c++98 -O2 -DNDEBUG -MT Error.lo -MD -MP -MF .deps/Error.Tpo -c Error.cc -o Error.o >/dev/null 2>&1\n",
      "depbase=`echo IdVisitor.lo | sed 's|[^/]*$|.deps/&|;s|\\.lo$||'`;\\\n",
      "/bin/bash ../../libtool  --tag=CXX   --mode=compile g++ -DPACKAGE_NAME=\\\"spatialindex\\\" -DPACKAGE_TARNAME=\\\"spatialindex-src\\\" -DPACKAGE_VERSION=\\\"1.8.5\\\" -DPACKAGE_STRING=\\\"spatialindex\\ 1.8.5\\\" -DPACKAGE_BUGREPORT=\\\"mhadji@gmail.com\\\" -DPACKAGE_URL=\\\"\\\" -DSTDC_HEADERS=1 -DHAVE_SYS_TYPES_H=1 -DHAVE_SYS_STAT_H=1 -DHAVE_STDLIB_H=1 -DHAVE_STRING_H=1 -DHAVE_MEMORY_H=1 -DHAVE_STRINGS_H=1 -DHAVE_INTTYPES_H=1 -DHAVE_STDINT_H=1 -DHAVE_UNISTD_H=1 -DHAVE_DLFCN_H=1 -DLT_OBJDIR=\\\".libs/\\\" -DPACKAGE=\\\"spatialindex-src\\\" -DVERSION=\\\"1.8.5\\\" -DHAVE_FCNTL_H=1 -DHAVE_UNISTD_H=1 -DHAVE_SYS_TYPES_H=1 -DHAVE_SYS_STAT_H=1 -DHAVE_PTHREAD_H=1 -DHAVE_SYS_RESOURCE_H=1 -DHAVE_SYS_TIME_H=1 -DHAVE_STDINT_H=1 -DHAVE_FEATURES_H=1 -DHAVE_GETTIMEOFDAY=1 -DHAVE_MEMSET=1 -DHAVE_MEMCPY=1 -DHAVE_BCOPY=1 -DHAVE_SRAND48=1 -I. -I../../include -I../../include/capi    -Wall -Wno-long-long -pedantic -std=c++98  -O2 -DNDEBUG -MT IdVisitor.lo -MD -MP -MF $depbase.Tpo -c -o IdVisitor.lo IdVisitor.cc &&\\\n",
      "mv -f $depbase.Tpo $depbase.Plo\n",
      "libtool: compile:  g++ -DPACKAGE_NAME=\\\"spatialindex\\\" -DPACKAGE_TARNAME=\\\"spatialindex-src\\\" -DPACKAGE_VERSION=\\\"1.8.5\\\" \"-DPACKAGE_STRING=\\\"spatialindex 1.8.5\\\"\" -DPACKAGE_BUGREPORT=\\\"mhadji@gmail.com\\\" -DPACKAGE_URL=\\\"\\\" -DSTDC_HEADERS=1 -DHAVE_SYS_TYPES_H=1 -DHAVE_SYS_STAT_H=1 -DHAVE_STDLIB_H=1 -DHAVE_STRING_H=1 -DHAVE_MEMORY_H=1 -DHAVE_STRINGS_H=1 -DHAVE_INTTYPES_H=1 -DHAVE_STDINT_H=1 -DHAVE_UNISTD_H=1 -DHAVE_DLFCN_H=1 -DLT_OBJDIR=\\\".libs/\\\" -DPACKAGE=\\\"spatialindex-src\\\" -DVERSION=\\\"1.8.5\\\" -DHAVE_FCNTL_H=1 -DHAVE_UNISTD_H=1 -DHAVE_SYS_TYPES_H=1 -DHAVE_SYS_STAT_H=1 -DHAVE_PTHREAD_H=1 -DHAVE_SYS_RESOURCE_H=1 -DHAVE_SYS_TIME_H=1 -DHAVE_STDINT_H=1 -DHAVE_FEATURES_H=1 -DHAVE_GETTIMEOFDAY=1 -DHAVE_MEMSET=1 -DHAVE_MEMCPY=1 -DHAVE_BCOPY=1 -DHAVE_SRAND48=1 -I. -I../../include -I../../include/capi -Wall -Wno-long-long -pedantic -std=c++98 -O2 -DNDEBUG -MT IdVisitor.lo -MD -MP -MF .deps/IdVisitor.Tpo -c IdVisitor.cc  -fPIC -DPIC -o .libs/IdVisitor.o\n",
      "libtool: compile:  g++ -DPACKAGE_NAME=\\\"spatialindex\\\" -DPACKAGE_TARNAME=\\\"spatialindex-src\\\" -DPACKAGE_VERSION=\\\"1.8.5\\\" \"-DPACKAGE_STRING=\\\"spatialindex 1.8.5\\\"\" -DPACKAGE_BUGREPORT=\\\"mhadji@gmail.com\\\" -DPACKAGE_URL=\\\"\\\" -DSTDC_HEADERS=1 -DHAVE_SYS_TYPES_H=1 -DHAVE_SYS_STAT_H=1 -DHAVE_STDLIB_H=1 -DHAVE_STRING_H=1 -DHAVE_MEMORY_H=1 -DHAVE_STRINGS_H=1 -DHAVE_INTTYPES_H=1 -DHAVE_STDINT_H=1 -DHAVE_UNISTD_H=1 -DHAVE_DLFCN_H=1 -DLT_OBJDIR=\\\".libs/\\\" -DPACKAGE=\\\"spatialindex-src\\\" -DVERSION=\\\"1.8.5\\\" -DHAVE_FCNTL_H=1 -DHAVE_UNISTD_H=1 -DHAVE_SYS_TYPES_H=1 -DHAVE_SYS_STAT_H=1 -DHAVE_PTHREAD_H=1 -DHAVE_SYS_RESOURCE_H=1 -DHAVE_SYS_TIME_H=1 -DHAVE_STDINT_H=1 -DHAVE_FEATURES_H=1 -DHAVE_GETTIMEOFDAY=1 -DHAVE_MEMSET=1 -DHAVE_MEMCPY=1 -DHAVE_BCOPY=1 -DHAVE_SRAND48=1 -I. -I../../include -I../../include/capi -Wall -Wno-long-long -pedantic -std=c++98 -O2 -DNDEBUG -MT IdVisitor.lo -MD -MP -MF .deps/IdVisitor.Tpo -c IdVisitor.cc -o IdVisitor.o >/dev/null 2>&1\n",
      "depbase=`echo Index.lo | sed 's|[^/]*$|.deps/&|;s|\\.lo$||'`;\\\n",
      "/bin/bash ../../libtool  --tag=CXX   --mode=compile g++ -DPACKAGE_NAME=\\\"spatialindex\\\" -DPACKAGE_TARNAME=\\\"spatialindex-src\\\" -DPACKAGE_VERSION=\\\"1.8.5\\\" -DPACKAGE_STRING=\\\"spatialindex\\ 1.8.5\\\" -DPACKAGE_BUGREPORT=\\\"mhadji@gmail.com\\\" -DPACKAGE_URL=\\\"\\\" -DSTDC_HEADERS=1 -DHAVE_SYS_TYPES_H=1 -DHAVE_SYS_STAT_H=1 -DHAVE_STDLIB_H=1 -DHAVE_STRING_H=1 -DHAVE_MEMORY_H=1 -DHAVE_STRINGS_H=1 -DHAVE_INTTYPES_H=1 -DHAVE_STDINT_H=1 -DHAVE_UNISTD_H=1 -DHAVE_DLFCN_H=1 -DLT_OBJDIR=\\\".libs/\\\" -DPACKAGE=\\\"spatialindex-src\\\" -DVERSION=\\\"1.8.5\\\" -DHAVE_FCNTL_H=1 -DHAVE_UNISTD_H=1 -DHAVE_SYS_TYPES_H=1 -DHAVE_SYS_STAT_H=1 -DHAVE_PTHREAD_H=1 -DHAVE_SYS_RESOURCE_H=1 -DHAVE_SYS_TIME_H=1 -DHAVE_STDINT_H=1 -DHAVE_FEATURES_H=1 -DHAVE_GETTIMEOFDAY=1 -DHAVE_MEMSET=1 -DHAVE_MEMCPY=1 -DHAVE_BCOPY=1 -DHAVE_SRAND48=1 -I. -I../../include -I../../include/capi    -Wall -Wno-long-long -pedantic -std=c++98  -O2 -DNDEBUG -MT Index.lo -MD -MP -MF $depbase.Tpo -c -o Index.lo Index.cc &&\\\n",
      "mv -f $depbase.Tpo $depbase.Plo\n",
      "libtool: compile:  g++ -DPACKAGE_NAME=\\\"spatialindex\\\" -DPACKAGE_TARNAME=\\\"spatialindex-src\\\" -DPACKAGE_VERSION=\\\"1.8.5\\\" \"-DPACKAGE_STRING=\\\"spatialindex 1.8.5\\\"\" -DPACKAGE_BUGREPORT=\\\"mhadji@gmail.com\\\" -DPACKAGE_URL=\\\"\\\" -DSTDC_HEADERS=1 -DHAVE_SYS_TYPES_H=1 -DHAVE_SYS_STAT_H=1 -DHAVE_STDLIB_H=1 -DHAVE_STRING_H=1 -DHAVE_MEMORY_H=1 -DHAVE_STRINGS_H=1 -DHAVE_INTTYPES_H=1 -DHAVE_STDINT_H=1 -DHAVE_UNISTD_H=1 -DHAVE_DLFCN_H=1 -DLT_OBJDIR=\\\".libs/\\\" -DPACKAGE=\\\"spatialindex-src\\\" -DVERSION=\\\"1.8.5\\\" -DHAVE_FCNTL_H=1 -DHAVE_UNISTD_H=1 -DHAVE_SYS_TYPES_H=1 -DHAVE_SYS_STAT_H=1 -DHAVE_PTHREAD_H=1 -DHAVE_SYS_RESOURCE_H=1 -DHAVE_SYS_TIME_H=1 -DHAVE_STDINT_H=1 -DHAVE_FEATURES_H=1 -DHAVE_GETTIMEOFDAY=1 -DHAVE_MEMSET=1 -DHAVE_MEMCPY=1 -DHAVE_BCOPY=1 -DHAVE_SRAND48=1 -I. -I../../include -I../../include/capi -Wall -Wno-long-long -pedantic -std=c++98 -O2 -DNDEBUG -MT Index.lo -MD -MP -MF .deps/Index.Tpo -c Index.cc  -fPIC -DPIC -o .libs/Index.o\n",
      "libtool: compile:  g++ -DPACKAGE_NAME=\\\"spatialindex\\\" -DPACKAGE_TARNAME=\\\"spatialindex-src\\\" -DPACKAGE_VERSION=\\\"1.8.5\\\" \"-DPACKAGE_STRING=\\\"spatialindex 1.8.5\\\"\" -DPACKAGE_BUGREPORT=\\\"mhadji@gmail.com\\\" -DPACKAGE_URL=\\\"\\\" -DSTDC_HEADERS=1 -DHAVE_SYS_TYPES_H=1 -DHAVE_SYS_STAT_H=1 -DHAVE_STDLIB_H=1 -DHAVE_STRING_H=1 -DHAVE_MEMORY_H=1 -DHAVE_STRINGS_H=1 -DHAVE_INTTYPES_H=1 -DHAVE_STDINT_H=1 -DHAVE_UNISTD_H=1 -DHAVE_DLFCN_H=1 -DLT_OBJDIR=\\\".libs/\\\" -DPACKAGE=\\\"spatialindex-src\\\" -DVERSION=\\\"1.8.5\\\" -DHAVE_FCNTL_H=1 -DHAVE_UNISTD_H=1 -DHAVE_SYS_TYPES_H=1 -DHAVE_SYS_STAT_H=1 -DHAVE_PTHREAD_H=1 -DHAVE_SYS_RESOURCE_H=1 -DHAVE_SYS_TIME_H=1 -DHAVE_STDINT_H=1 -DHAVE_FEATURES_H=1 -DHAVE_GETTIMEOFDAY=1 -DHAVE_MEMSET=1 -DHAVE_MEMCPY=1 -DHAVE_BCOPY=1 -DHAVE_SRAND48=1 -I. -I../../include -I../../include/capi -Wall -Wno-long-long -pedantic -std=c++98 -O2 -DNDEBUG -MT Index.lo -MD -MP -MF .deps/Index.Tpo -c Index.cc -o Index.o >/dev/null 2>&1\n",
      "depbase=`echo LeafQuery.lo | sed 's|[^/]*$|.deps/&|;s|\\.lo$||'`;\\\n",
      "/bin/bash ../../libtool  --tag=CXX   --mode=compile g++ -DPACKAGE_NAME=\\\"spatialindex\\\" -DPACKAGE_TARNAME=\\\"spatialindex-src\\\" -DPACKAGE_VERSION=\\\"1.8.5\\\" -DPACKAGE_STRING=\\\"spatialindex\\ 1.8.5\\\" -DPACKAGE_BUGREPORT=\\\"mhadji@gmail.com\\\" -DPACKAGE_URL=\\\"\\\" -DSTDC_HEADERS=1 -DHAVE_SYS_TYPES_H=1 -DHAVE_SYS_STAT_H=1 -DHAVE_STDLIB_H=1 -DHAVE_STRING_H=1 -DHAVE_MEMORY_H=1 -DHAVE_STRINGS_H=1 -DHAVE_INTTYPES_H=1 -DHAVE_STDINT_H=1 -DHAVE_UNISTD_H=1 -DHAVE_DLFCN_H=1 -DLT_OBJDIR=\\\".libs/\\\" -DPACKAGE=\\\"spatialindex-src\\\" -DVERSION=\\\"1.8.5\\\" -DHAVE_FCNTL_H=1 -DHAVE_UNISTD_H=1 -DHAVE_SYS_TYPES_H=1 -DHAVE_SYS_STAT_H=1 -DHAVE_PTHREAD_H=1 -DHAVE_SYS_RESOURCE_H=1 -DHAVE_SYS_TIME_H=1 -DHAVE_STDINT_H=1 -DHAVE_FEATURES_H=1 -DHAVE_GETTIMEOFDAY=1 -DHAVE_MEMSET=1 -DHAVE_MEMCPY=1 -DHAVE_BCOPY=1 -DHAVE_SRAND48=1 -I. -I../../include -I../../include/capi    -Wall -Wno-long-long -pedantic -std=c++98  -O2 -DNDEBUG -MT LeafQuery.lo -MD -MP -MF $depbase.Tpo -c -o LeafQuery.lo LeafQuery.cc &&\\\n",
      "mv -f $depbase.Tpo $depbase.Plo\n",
      "libtool: compile:  g++ -DPACKAGE_NAME=\\\"spatialindex\\\" -DPACKAGE_TARNAME=\\\"spatialindex-src\\\" -DPACKAGE_VERSION=\\\"1.8.5\\\" \"-DPACKAGE_STRING=\\\"spatialindex 1.8.5\\\"\" -DPACKAGE_BUGREPORT=\\\"mhadji@gmail.com\\\" -DPACKAGE_URL=\\\"\\\" -DSTDC_HEADERS=1 -DHAVE_SYS_TYPES_H=1 -DHAVE_SYS_STAT_H=1 -DHAVE_STDLIB_H=1 -DHAVE_STRING_H=1 -DHAVE_MEMORY_H=1 -DHAVE_STRINGS_H=1 -DHAVE_INTTYPES_H=1 -DHAVE_STDINT_H=1 -DHAVE_UNISTD_H=1 -DHAVE_DLFCN_H=1 -DLT_OBJDIR=\\\".libs/\\\" -DPACKAGE=\\\"spatialindex-src\\\" -DVERSION=\\\"1.8.5\\\" -DHAVE_FCNTL_H=1 -DHAVE_UNISTD_H=1 -DHAVE_SYS_TYPES_H=1 -DHAVE_SYS_STAT_H=1 -DHAVE_PTHREAD_H=1 -DHAVE_SYS_RESOURCE_H=1 -DHAVE_SYS_TIME_H=1 -DHAVE_STDINT_H=1 -DHAVE_FEATURES_H=1 -DHAVE_GETTIMEOFDAY=1 -DHAVE_MEMSET=1 -DHAVE_MEMCPY=1 -DHAVE_BCOPY=1 -DHAVE_SRAND48=1 -I. -I../../include -I../../include/capi -Wall -Wno-long-long -pedantic -std=c++98 -O2 -DNDEBUG -MT LeafQuery.lo -MD -MP -MF .deps/LeafQuery.Tpo -c LeafQuery.cc  -fPIC -DPIC -o .libs/LeafQuery.o\n",
      "libtool: compile:  g++ -DPACKAGE_NAME=\\\"spatialindex\\\" -DPACKAGE_TARNAME=\\\"spatialindex-src\\\" -DPACKAGE_VERSION=\\\"1.8.5\\\" \"-DPACKAGE_STRING=\\\"spatialindex 1.8.5\\\"\" -DPACKAGE_BUGREPORT=\\\"mhadji@gmail.com\\\" -DPACKAGE_URL=\\\"\\\" -DSTDC_HEADERS=1 -DHAVE_SYS_TYPES_H=1 -DHAVE_SYS_STAT_H=1 -DHAVE_STDLIB_H=1 -DHAVE_STRING_H=1 -DHAVE_MEMORY_H=1 -DHAVE_STRINGS_H=1 -DHAVE_INTTYPES_H=1 -DHAVE_STDINT_H=1 -DHAVE_UNISTD_H=1 -DHAVE_DLFCN_H=1 -DLT_OBJDIR=\\\".libs/\\\" -DPACKAGE=\\\"spatialindex-src\\\" -DVERSION=\\\"1.8.5\\\" -DHAVE_FCNTL_H=1 -DHAVE_UNISTD_H=1 -DHAVE_SYS_TYPES_H=1 -DHAVE_SYS_STAT_H=1 -DHAVE_PTHREAD_H=1 -DHAVE_SYS_RESOURCE_H=1 -DHAVE_SYS_TIME_H=1 -DHAVE_STDINT_H=1 -DHAVE_FEATURES_H=1 -DHAVE_GETTIMEOFDAY=1 -DHAVE_MEMSET=1 -DHAVE_MEMCPY=1 -DHAVE_BCOPY=1 -DHAVE_SRAND48=1 -I. -I../../include -I../../include/capi -Wall -Wno-long-long -pedantic -std=c++98 -O2 -DNDEBUG -MT LeafQuery.lo -MD -MP -MF .deps/LeafQuery.Tpo -c LeafQuery.cc -o LeafQuery.o >/dev/null 2>&1\n",
      "depbase=`echo ObjVisitor.lo | sed 's|[^/]*$|.deps/&|;s|\\.lo$||'`;\\\n",
      "/bin/bash ../../libtool  --tag=CXX   --mode=compile g++ -DPACKAGE_NAME=\\\"spatialindex\\\" -DPACKAGE_TARNAME=\\\"spatialindex-src\\\" -DPACKAGE_VERSION=\\\"1.8.5\\\" -DPACKAGE_STRING=\\\"spatialindex\\ 1.8.5\\\" -DPACKAGE_BUGREPORT=\\\"mhadji@gmail.com\\\" -DPACKAGE_URL=\\\"\\\" -DSTDC_HEADERS=1 -DHAVE_SYS_TYPES_H=1 -DHAVE_SYS_STAT_H=1 -DHAVE_STDLIB_H=1 -DHAVE_STRING_H=1 -DHAVE_MEMORY_H=1 -DHAVE_STRINGS_H=1 -DHAVE_INTTYPES_H=1 -DHAVE_STDINT_H=1 -DHAVE_UNISTD_H=1 -DHAVE_DLFCN_H=1 -DLT_OBJDIR=\\\".libs/\\\" -DPACKAGE=\\\"spatialindex-src\\\" -DVERSION=\\\"1.8.5\\\" -DHAVE_FCNTL_H=1 -DHAVE_UNISTD_H=1 -DHAVE_SYS_TYPES_H=1 -DHAVE_SYS_STAT_H=1 -DHAVE_PTHREAD_H=1 -DHAVE_SYS_RESOURCE_H=1 -DHAVE_SYS_TIME_H=1 -DHAVE_STDINT_H=1 -DHAVE_FEATURES_H=1 -DHAVE_GETTIMEOFDAY=1 -DHAVE_MEMSET=1 -DHAVE_MEMCPY=1 -DHAVE_BCOPY=1 -DHAVE_SRAND48=1 -I. -I../../include -I../../include/capi    -Wall -Wno-long-long -pedantic -std=c++98  -O2 -DNDEBUG -MT ObjVisitor.lo -MD -MP -MF $depbase.Tpo -c -o ObjVisitor.lo ObjVisitor.cc &&\\\n",
      "mv -f $depbase.Tpo $depbase.Plo\n",
      "libtool: compile:  g++ -DPACKAGE_NAME=\\\"spatialindex\\\" -DPACKAGE_TARNAME=\\\"spatialindex-src\\\" -DPACKAGE_VERSION=\\\"1.8.5\\\" \"-DPACKAGE_STRING=\\\"spatialindex 1.8.5\\\"\" -DPACKAGE_BUGREPORT=\\\"mhadji@gmail.com\\\" -DPACKAGE_URL=\\\"\\\" -DSTDC_HEADERS=1 -DHAVE_SYS_TYPES_H=1 -DHAVE_SYS_STAT_H=1 -DHAVE_STDLIB_H=1 -DHAVE_STRING_H=1 -DHAVE_MEMORY_H=1 -DHAVE_STRINGS_H=1 -DHAVE_INTTYPES_H=1 -DHAVE_STDINT_H=1 -DHAVE_UNISTD_H=1 -DHAVE_DLFCN_H=1 -DLT_OBJDIR=\\\".libs/\\\" -DPACKAGE=\\\"spatialindex-src\\\" -DVERSION=\\\"1.8.5\\\" -DHAVE_FCNTL_H=1 -DHAVE_UNISTD_H=1 -DHAVE_SYS_TYPES_H=1 -DHAVE_SYS_STAT_H=1 -DHAVE_PTHREAD_H=1 -DHAVE_SYS_RESOURCE_H=1 -DHAVE_SYS_TIME_H=1 -DHAVE_STDINT_H=1 -DHAVE_FEATURES_H=1 -DHAVE_GETTIMEOFDAY=1 -DHAVE_MEMSET=1 -DHAVE_MEMCPY=1 -DHAVE_BCOPY=1 -DHAVE_SRAND48=1 -I. -I../../include -I../../include/capi -Wall -Wno-long-long -pedantic -std=c++98 -O2 -DNDEBUG -MT ObjVisitor.lo -MD -MP -MF .deps/ObjVisitor.Tpo -c ObjVisitor.cc  -fPIC -DPIC -o .libs/ObjVisitor.o\n",
      "libtool: compile:  g++ -DPACKAGE_NAME=\\\"spatialindex\\\" -DPACKAGE_TARNAME=\\\"spatialindex-src\\\" -DPACKAGE_VERSION=\\\"1.8.5\\\" \"-DPACKAGE_STRING=\\\"spatialindex 1.8.5\\\"\" -DPACKAGE_BUGREPORT=\\\"mhadji@gmail.com\\\" -DPACKAGE_URL=\\\"\\\" -DSTDC_HEADERS=1 -DHAVE_SYS_TYPES_H=1 -DHAVE_SYS_STAT_H=1 -DHAVE_STDLIB_H=1 -DHAVE_STRING_H=1 -DHAVE_MEMORY_H=1 -DHAVE_STRINGS_H=1 -DHAVE_INTTYPES_H=1 -DHAVE_STDINT_H=1 -DHAVE_UNISTD_H=1 -DHAVE_DLFCN_H=1 -DLT_OBJDIR=\\\".libs/\\\" -DPACKAGE=\\\"spatialindex-src\\\" -DVERSION=\\\"1.8.5\\\" -DHAVE_FCNTL_H=1 -DHAVE_UNISTD_H=1 -DHAVE_SYS_TYPES_H=1 -DHAVE_SYS_STAT_H=1 -DHAVE_PTHREAD_H=1 -DHAVE_SYS_RESOURCE_H=1 -DHAVE_SYS_TIME_H=1 -DHAVE_STDINT_H=1 -DHAVE_FEATURES_H=1 -DHAVE_GETTIMEOFDAY=1 -DHAVE_MEMSET=1 -DHAVE_MEMCPY=1 -DHAVE_BCOPY=1 -DHAVE_SRAND48=1 -I. -I../../include -I../../include/capi -Wall -Wno-long-long -pedantic -std=c++98 -O2 -DNDEBUG -MT ObjVisitor.lo -MD -MP -MF .deps/ObjVisitor.Tpo -c ObjVisitor.cc -o ObjVisitor.o >/dev/null 2>&1\n",
      "depbase=`echo sidx_api.lo | sed 's|[^/]*$|.deps/&|;s|\\.lo$||'`;\\\n",
      "/bin/bash ../../libtool  --tag=CXX   --mode=compile g++ -DPACKAGE_NAME=\\\"spatialindex\\\" -DPACKAGE_TARNAME=\\\"spatialindex-src\\\" -DPACKAGE_VERSION=\\\"1.8.5\\\" -DPACKAGE_STRING=\\\"spatialindex\\ 1.8.5\\\" -DPACKAGE_BUGREPORT=\\\"mhadji@gmail.com\\\" -DPACKAGE_URL=\\\"\\\" -DSTDC_HEADERS=1 -DHAVE_SYS_TYPES_H=1 -DHAVE_SYS_STAT_H=1 -DHAVE_STDLIB_H=1 -DHAVE_STRING_H=1 -DHAVE_MEMORY_H=1 -DHAVE_STRINGS_H=1 -DHAVE_INTTYPES_H=1 -DHAVE_STDINT_H=1 -DHAVE_UNISTD_H=1 -DHAVE_DLFCN_H=1 -DLT_OBJDIR=\\\".libs/\\\" -DPACKAGE=\\\"spatialindex-src\\\" -DVERSION=\\\"1.8.5\\\" -DHAVE_FCNTL_H=1 -DHAVE_UNISTD_H=1 -DHAVE_SYS_TYPES_H=1 -DHAVE_SYS_STAT_H=1 -DHAVE_PTHREAD_H=1 -DHAVE_SYS_RESOURCE_H=1 -DHAVE_SYS_TIME_H=1 -DHAVE_STDINT_H=1 -DHAVE_FEATURES_H=1 -DHAVE_GETTIMEOFDAY=1 -DHAVE_MEMSET=1 -DHAVE_MEMCPY=1 -DHAVE_BCOPY=1 -DHAVE_SRAND48=1 -I. -I../../include -I../../include/capi    -Wall -Wno-long-long -pedantic -std=c++98  -O2 -DNDEBUG -MT sidx_api.lo -MD -MP -MF $depbase.Tpo -c -o sidx_api.lo sidx_api.cc &&\\\n",
      "mv -f $depbase.Tpo $depbase.Plo\n",
      "libtool: compile:  g++ -DPACKAGE_NAME=\\\"spatialindex\\\" -DPACKAGE_TARNAME=\\\"spatialindex-src\\\" -DPACKAGE_VERSION=\\\"1.8.5\\\" \"-DPACKAGE_STRING=\\\"spatialindex 1.8.5\\\"\" -DPACKAGE_BUGREPORT=\\\"mhadji@gmail.com\\\" -DPACKAGE_URL=\\\"\\\" -DSTDC_HEADERS=1 -DHAVE_SYS_TYPES_H=1 -DHAVE_SYS_STAT_H=1 -DHAVE_STDLIB_H=1 -DHAVE_STRING_H=1 -DHAVE_MEMORY_H=1 -DHAVE_STRINGS_H=1 -DHAVE_INTTYPES_H=1 -DHAVE_STDINT_H=1 -DHAVE_UNISTD_H=1 -DHAVE_DLFCN_H=1 -DLT_OBJDIR=\\\".libs/\\\" -DPACKAGE=\\\"spatialindex-src\\\" -DVERSION=\\\"1.8.5\\\" -DHAVE_FCNTL_H=1 -DHAVE_UNISTD_H=1 -DHAVE_SYS_TYPES_H=1 -DHAVE_SYS_STAT_H=1 -DHAVE_PTHREAD_H=1 -DHAVE_SYS_RESOURCE_H=1 -DHAVE_SYS_TIME_H=1 -DHAVE_STDINT_H=1 -DHAVE_FEATURES_H=1 -DHAVE_GETTIMEOFDAY=1 -DHAVE_MEMSET=1 -DHAVE_MEMCPY=1 -DHAVE_BCOPY=1 -DHAVE_SRAND48=1 -I. -I../../include -I../../include/capi -Wall -Wno-long-long -pedantic -std=c++98 -O2 -DNDEBUG -MT sidx_api.lo -MD -MP -MF .deps/sidx_api.Tpo -c sidx_api.cc  -fPIC -DPIC -o .libs/sidx_api.o\n",
      "libtool: compile:  g++ -DPACKAGE_NAME=\\\"spatialindex\\\" -DPACKAGE_TARNAME=\\\"spatialindex-src\\\" -DPACKAGE_VERSION=\\\"1.8.5\\\" \"-DPACKAGE_STRING=\\\"spatialindex 1.8.5\\\"\" -DPACKAGE_BUGREPORT=\\\"mhadji@gmail.com\\\" -DPACKAGE_URL=\\\"\\\" -DSTDC_HEADERS=1 -DHAVE_SYS_TYPES_H=1 -DHAVE_SYS_STAT_H=1 -DHAVE_STDLIB_H=1 -DHAVE_STRING_H=1 -DHAVE_MEMORY_H=1 -DHAVE_STRINGS_H=1 -DHAVE_INTTYPES_H=1 -DHAVE_STDINT_H=1 -DHAVE_UNISTD_H=1 -DHAVE_DLFCN_H=1 -DLT_OBJDIR=\\\".libs/\\\" -DPACKAGE=\\\"spatialindex-src\\\" -DVERSION=\\\"1.8.5\\\" -DHAVE_FCNTL_H=1 -DHAVE_UNISTD_H=1 -DHAVE_SYS_TYPES_H=1 -DHAVE_SYS_STAT_H=1 -DHAVE_PTHREAD_H=1 -DHAVE_SYS_RESOURCE_H=1 -DHAVE_SYS_TIME_H=1 -DHAVE_STDINT_H=1 -DHAVE_FEATURES_H=1 -DHAVE_GETTIMEOFDAY=1 -DHAVE_MEMSET=1 -DHAVE_MEMCPY=1 -DHAVE_BCOPY=1 -DHAVE_SRAND48=1 -I. -I../../include -I../../include/capi -Wall -Wno-long-long -pedantic -std=c++98 -O2 -DNDEBUG -MT sidx_api.lo -MD -MP -MF .deps/sidx_api.Tpo -c sidx_api.cc -o sidx_api.o >/dev/null 2>&1\n",
      "depbase=`echo Utility.lo | sed 's|[^/]*$|.deps/&|;s|\\.lo$||'`;\\\n",
      "/bin/bash ../../libtool  --tag=CXX   --mode=compile g++ -DPACKAGE_NAME=\\\"spatialindex\\\" -DPACKAGE_TARNAME=\\\"spatialindex-src\\\" -DPACKAGE_VERSION=\\\"1.8.5\\\" -DPACKAGE_STRING=\\\"spatialindex\\ 1.8.5\\\" -DPACKAGE_BUGREPORT=\\\"mhadji@gmail.com\\\" -DPACKAGE_URL=\\\"\\\" -DSTDC_HEADERS=1 -DHAVE_SYS_TYPES_H=1 -DHAVE_SYS_STAT_H=1 -DHAVE_STDLIB_H=1 -DHAVE_STRING_H=1 -DHAVE_MEMORY_H=1 -DHAVE_STRINGS_H=1 -DHAVE_INTTYPES_H=1 -DHAVE_STDINT_H=1 -DHAVE_UNISTD_H=1 -DHAVE_DLFCN_H=1 -DLT_OBJDIR=\\\".libs/\\\" -DPACKAGE=\\\"spatialindex-src\\\" -DVERSION=\\\"1.8.5\\\" -DHAVE_FCNTL_H=1 -DHAVE_UNISTD_H=1 -DHAVE_SYS_TYPES_H=1 -DHAVE_SYS_STAT_H=1 -DHAVE_PTHREAD_H=1 -DHAVE_SYS_RESOURCE_H=1 -DHAVE_SYS_TIME_H=1 -DHAVE_STDINT_H=1 -DHAVE_FEATURES_H=1 -DHAVE_GETTIMEOFDAY=1 -DHAVE_MEMSET=1 -DHAVE_MEMCPY=1 -DHAVE_BCOPY=1 -DHAVE_SRAND48=1 -I. -I../../include -I../../include/capi    -Wall -Wno-long-long -pedantic -std=c++98  -O2 -DNDEBUG -MT Utility.lo -MD -MP -MF $depbase.Tpo -c -o Utility.lo Utility.cc &&\\\n",
      "mv -f $depbase.Tpo $depbase.Plo\n",
      "libtool: compile:  g++ -DPACKAGE_NAME=\\\"spatialindex\\\" -DPACKAGE_TARNAME=\\\"spatialindex-src\\\" -DPACKAGE_VERSION=\\\"1.8.5\\\" \"-DPACKAGE_STRING=\\\"spatialindex 1.8.5\\\"\" -DPACKAGE_BUGREPORT=\\\"mhadji@gmail.com\\\" -DPACKAGE_URL=\\\"\\\" -DSTDC_HEADERS=1 -DHAVE_SYS_TYPES_H=1 -DHAVE_SYS_STAT_H=1 -DHAVE_STDLIB_H=1 -DHAVE_STRING_H=1 -DHAVE_MEMORY_H=1 -DHAVE_STRINGS_H=1 -DHAVE_INTTYPES_H=1 -DHAVE_STDINT_H=1 -DHAVE_UNISTD_H=1 -DHAVE_DLFCN_H=1 -DLT_OBJDIR=\\\".libs/\\\" -DPACKAGE=\\\"spatialindex-src\\\" -DVERSION=\\\"1.8.5\\\" -DHAVE_FCNTL_H=1 -DHAVE_UNISTD_H=1 -DHAVE_SYS_TYPES_H=1 -DHAVE_SYS_STAT_H=1 -DHAVE_PTHREAD_H=1 -DHAVE_SYS_RESOURCE_H=1 -DHAVE_SYS_TIME_H=1 -DHAVE_STDINT_H=1 -DHAVE_FEATURES_H=1 -DHAVE_GETTIMEOFDAY=1 -DHAVE_MEMSET=1 -DHAVE_MEMCPY=1 -DHAVE_BCOPY=1 -DHAVE_SRAND48=1 -I. -I../../include -I../../include/capi -Wall -Wno-long-long -pedantic -std=c++98 -O2 -DNDEBUG -MT Utility.lo -MD -MP -MF .deps/Utility.Tpo -c Utility.cc  -fPIC -DPIC -o .libs/Utility.o\n",
      "libtool: compile:  g++ -DPACKAGE_NAME=\\\"spatialindex\\\" -DPACKAGE_TARNAME=\\\"spatialindex-src\\\" -DPACKAGE_VERSION=\\\"1.8.5\\\" \"-DPACKAGE_STRING=\\\"spatialindex 1.8.5\\\"\" -DPACKAGE_BUGREPORT=\\\"mhadji@gmail.com\\\" -DPACKAGE_URL=\\\"\\\" -DSTDC_HEADERS=1 -DHAVE_SYS_TYPES_H=1 -DHAVE_SYS_STAT_H=1 -DHAVE_STDLIB_H=1 -DHAVE_STRING_H=1 -DHAVE_MEMORY_H=1 -DHAVE_STRINGS_H=1 -DHAVE_INTTYPES_H=1 -DHAVE_STDINT_H=1 -DHAVE_UNISTD_H=1 -DHAVE_DLFCN_H=1 -DLT_OBJDIR=\\\".libs/\\\" -DPACKAGE=\\\"spatialindex-src\\\" -DVERSION=\\\"1.8.5\\\" -DHAVE_FCNTL_H=1 -DHAVE_UNISTD_H=1 -DHAVE_SYS_TYPES_H=1 -DHAVE_SYS_STAT_H=1 -DHAVE_PTHREAD_H=1 -DHAVE_SYS_RESOURCE_H=1 -DHAVE_SYS_TIME_H=1 -DHAVE_STDINT_H=1 -DHAVE_FEATURES_H=1 -DHAVE_GETTIMEOFDAY=1 -DHAVE_MEMSET=1 -DHAVE_MEMCPY=1 -DHAVE_BCOPY=1 -DHAVE_SRAND48=1 -I. -I../../include -I../../include/capi -Wall -Wno-long-long -pedantic -std=c++98 -O2 -DNDEBUG -MT Utility.lo -MD -MP -MF .deps/Utility.Tpo -c Utility.cc -o Utility.o >/dev/null 2>&1\n",
      "/bin/bash ../../libtool  --tag=CXX   --mode=link g++  -Wall -Wno-long-long -pedantic -std=c++98  -O2 -DNDEBUG   -o libsidxc.la  BoundsQuery.lo CountVisitor.lo CustomStorage.lo DataStream.lo Error.lo IdVisitor.lo Index.lo LeafQuery.lo ObjVisitor.lo sidx_api.lo Utility.lo  -lpthread\n",
      "libtool: link: ar cru .libs/libsidxc.a .libs/BoundsQuery.o .libs/CountVisitor.o .libs/CustomStorage.o .libs/DataStream.o .libs/Error.o .libs/IdVisitor.o .libs/Index.o .libs/LeafQuery.o .libs/ObjVisitor.o .libs/sidx_api.o .libs/Utility.o \n",
      "ar: `u' modifier ignored since `D' is the default (see `U')\n",
      "libtool: link: ranlib .libs/libsidxc.a\n",
      "libtool: link: ( cd \".libs\" && rm -f \"libsidxc.la\" && ln -s \"../libsidxc.la\" \"libsidxc.la\" )\n",
      "make[2]: Leaving directory '/content/spatialindex-src-1.8.5/src/capi'\n",
      "make[2]: Entering directory '/content/spatialindex-src-1.8.5/src'\n",
      "make[2]: Nothing to be done for 'all-am'.\n",
      "make[2]: Leaving directory '/content/spatialindex-src-1.8.5/src'\n",
      "make[1]: Leaving directory '/content/spatialindex-src-1.8.5/src'\n",
      "Making all in .\n",
      "make[1]: Entering directory '/content/spatialindex-src-1.8.5'\n",
      "/bin/bash ./libtool  --tag=CC   --mode=link gcc  -Wall -Wno-long-long -pedantic  -version-info 4:1:0 -no-undefined -lstdc++  -o libspatialindex.la -rpath /usr/local/lib  src/spatialindex/liblibrary.la src/storagemanager/libstoragemanager.la src/rtree/librtree.la src/mvrtree/libmvrtree.la src/tprtree/libtprtree.la src/tools/libtools.la -lpthread\n",
      "libtool: link: gcc -shared  -fPIC -DPIC  -Wl,--whole-archive src/spatialindex/.libs/liblibrary.a src/storagemanager/.libs/libstoragemanager.a src/rtree/.libs/librtree.a src/mvrtree/.libs/libmvrtree.a src/tprtree/.libs/libtprtree.a src/tools/.libs/libtools.a -Wl,--no-whole-archive  -lstdc++ -lpthread    -Wl,-soname -Wl,libspatialindex.so.4 -o .libs/libspatialindex.so.4.0.1\n",
      "src/tools/.libs/libtools.a(Tools.o): In function `Tools::TemporaryFile::TemporaryFile()':\n",
      "Tools.cc:(.text+0x3d35): warning: the use of `mktemp' is dangerous, better use `mkstemp' or `mkdtemp'\n",
      "libtool: link: (cd \".libs\" && rm -f \"libspatialindex.so.4\" && ln -s \"libspatialindex.so.4.0.1\" \"libspatialindex.so.4\")\n",
      "libtool: link: (cd \".libs\" && rm -f \"libspatialindex.so\" && ln -s \"libspatialindex.so.4.0.1\" \"libspatialindex.so\")\n",
      "libtool: link: (cd .libs/libspatialindex.lax/liblibrary.a && ar x \"/content/spatialindex-src-1.8.5/src/spatialindex/.libs/liblibrary.a\")\n",
      "libtool: link: (cd .libs/libspatialindex.lax/libstoragemanager.a && ar x \"/content/spatialindex-src-1.8.5/src/storagemanager/.libs/libstoragemanager.a\")\n",
      "libtool: link: (cd .libs/libspatialindex.lax/librtree.a && ar x \"/content/spatialindex-src-1.8.5/src/rtree/.libs/librtree.a\")\n",
      "libtool: link: (cd .libs/libspatialindex.lax/libmvrtree.a && ar x \"/content/spatialindex-src-1.8.5/src/mvrtree/.libs/libmvrtree.a\")\n",
      "libtool: link: (cd .libs/libspatialindex.lax/libtprtree.a && ar x \"/content/spatialindex-src-1.8.5/src/tprtree/.libs/libtprtree.a\")\n",
      "libtool: link: (cd .libs/libspatialindex.lax/libtools.a && ar x \"/content/spatialindex-src-1.8.5/src/tools/.libs/libtools.a\")\n",
      "copying selected object files to avoid basename conflicts...\n",
      "libtool: link: ln .libs/libspatialindex.lax/libmvrtree.a/Index.o .libs/libspatialindex.lax/lt1-Index.o || cp .libs/libspatialindex.lax/libmvrtree.a/Index.o .libs/libspatialindex.lax/lt1-Index.o\n",
      "libtool: link: ln .libs/libspatialindex.lax/libmvrtree.a/Leaf.o .libs/libspatialindex.lax/lt2-Leaf.o || cp .libs/libspatialindex.lax/libmvrtree.a/Leaf.o .libs/libspatialindex.lax/lt2-Leaf.o\n",
      "libtool: link: ln .libs/libspatialindex.lax/libmvrtree.a/Node.o .libs/libspatialindex.lax/lt3-Node.o || cp .libs/libspatialindex.lax/libmvrtree.a/Node.o .libs/libspatialindex.lax/lt3-Node.o\n",
      "libtool: link: ln .libs/libspatialindex.lax/libmvrtree.a/Statistics.o .libs/libspatialindex.lax/lt4-Statistics.o || cp .libs/libspatialindex.lax/libmvrtree.a/Statistics.o .libs/libspatialindex.lax/lt4-Statistics.o\n",
      "libtool: link: ln .libs/libspatialindex.lax/libtprtree.a/Index.o .libs/libspatialindex.lax/lt5-Index.o || cp .libs/libspatialindex.lax/libtprtree.a/Index.o .libs/libspatialindex.lax/lt5-Index.o\n",
      "libtool: link: ln .libs/libspatialindex.lax/libtprtree.a/Leaf.o .libs/libspatialindex.lax/lt6-Leaf.o || cp .libs/libspatialindex.lax/libtprtree.a/Leaf.o .libs/libspatialindex.lax/lt6-Leaf.o\n",
      "libtool: link: ln .libs/libspatialindex.lax/libtprtree.a/Node.o .libs/libspatialindex.lax/lt7-Node.o || cp .libs/libspatialindex.lax/libtprtree.a/Node.o .libs/libspatialindex.lax/lt7-Node.o\n",
      "libtool: link: ln .libs/libspatialindex.lax/libtprtree.a/Statistics.o .libs/libspatialindex.lax/lt8-Statistics.o || cp .libs/libspatialindex.lax/libtprtree.a/Statistics.o .libs/libspatialindex.lax/lt8-Statistics.o\n",
      "libtool: link: ar cru .libs/libspatialindex.a .libs/libspatialindex.lax/liblibrary.a/LineSegment.o .libs/libspatialindex.lax/liblibrary.a/MovingPoint.o .libs/libspatialindex.lax/liblibrary.a/MovingRegion.o .libs/libspatialindex.lax/liblibrary.a/Point.o .libs/libspatialindex.lax/liblibrary.a/Region.o .libs/libspatialindex.lax/liblibrary.a/SpatialIndexImpl.o .libs/libspatialindex.lax/liblibrary.a/TimePoint.o .libs/libspatialindex.lax/liblibrary.a/TimeRegion.o .libs/libspatialindex.lax/libstoragemanager.a/Buffer.o .libs/libspatialindex.lax/libstoragemanager.a/DiskStorageManager.o .libs/libspatialindex.lax/libstoragemanager.a/MemoryStorageManager.o .libs/libspatialindex.lax/libstoragemanager.a/RandomEvictionsBuffer.o .libs/libspatialindex.lax/librtree.a/BulkLoader.o .libs/libspatialindex.lax/librtree.a/Index.o .libs/libspatialindex.lax/librtree.a/Leaf.o .libs/libspatialindex.lax/librtree.a/Node.o .libs/libspatialindex.lax/librtree.a/RTree.o .libs/libspatialindex.lax/librtree.a/Statistics.o .libs/libspatialindex.lax/lt1-Index.o .libs/libspatialindex.lax/lt2-Leaf.o .libs/libspatialindex.lax/libmvrtree.a/MVRTree.o .libs/libspatialindex.lax/lt3-Node.o .libs/libspatialindex.lax/lt4-Statistics.o .libs/libspatialindex.lax/lt5-Index.o .libs/libspatialindex.lax/lt6-Leaf.o .libs/libspatialindex.lax/lt7-Node.o .libs/libspatialindex.lax/lt8-Statistics.o .libs/libspatialindex.lax/libtprtree.a/TPRTree.o .libs/libspatialindex.lax/libtools.a/Tools.o .libs/libspatialindex.lax/libtools.a/rand48.o\n",
      "ar: `u' modifier ignored since `D' is the default (see `U')\n",
      "libtool: link: ranlib .libs/libspatialindex.a\n",
      "libtool: link: rm -fr .libs/libspatialindex.lax .libs/libspatialindex.lax\n",
      "libtool: link: ( cd \".libs\" && rm -f \"libspatialindex.la\" && ln -s \"../libspatialindex.la\" \"libspatialindex.la\" )\n",
      "/bin/bash ./libtool  --tag=CC   --mode=link gcc  -Wall -Wno-long-long -pedantic  -version-info 4:1:0 -no-undefined -lstdc++  -o libspatialindex_c.la -rpath /usr/local/lib  libspatialindex.la src/capi/libsidxc.la -lpthread\n",
      "libtool: link: gcc -shared  -fPIC -DPIC  -Wl,--whole-archive src/capi/.libs/libsidxc.a -Wl,--no-whole-archive  -Wl,-rpath -Wl,/content/spatialindex-src-1.8.5/.libs -lstdc++ ./.libs/libspatialindex.so -lpthread    -Wl,-soname -Wl,libspatialindex_c.so.4 -o .libs/libspatialindex_c.so.4.0.1\n",
      "libtool: link: (cd \".libs\" && rm -f \"libspatialindex_c.so.4\" && ln -s \"libspatialindex_c.so.4.0.1\" \"libspatialindex_c.so.4\")\n",
      "libtool: link: (cd \".libs\" && rm -f \"libspatialindex_c.so\" && ln -s \"libspatialindex_c.so.4.0.1\" \"libspatialindex_c.so\")\n",
      "libtool: link: (cd .libs/libspatialindex_c.lax/libsidxc.a && ar x \"/content/spatialindex-src-1.8.5/src/capi/.libs/libsidxc.a\")\n",
      "libtool: link: ar cru .libs/libspatialindex_c.a   .libs/libspatialindex_c.lax/libsidxc.a/BoundsQuery.o .libs/libspatialindex_c.lax/libsidxc.a/CountVisitor.o .libs/libspatialindex_c.lax/libsidxc.a/CustomStorage.o .libs/libspatialindex_c.lax/libsidxc.a/DataStream.o .libs/libspatialindex_c.lax/libsidxc.a/Error.o .libs/libspatialindex_c.lax/libsidxc.a/IdVisitor.o .libs/libspatialindex_c.lax/libsidxc.a/Index.o .libs/libspatialindex_c.lax/libsidxc.a/LeafQuery.o .libs/libspatialindex_c.lax/libsidxc.a/ObjVisitor.o .libs/libspatialindex_c.lax/libsidxc.a/Utility.o .libs/libspatialindex_c.lax/libsidxc.a/sidx_api.o \n",
      "ar: `u' modifier ignored since `D' is the default (see `U')\n",
      "libtool: link: ranlib .libs/libspatialindex_c.a\n",
      "libtool: link: rm -fr .libs/libspatialindex_c.lax\n",
      "libtool: link: ( cd \".libs\" && rm -f \"libspatialindex_c.la\" && ln -s \"../libspatialindex_c.la\" \"libspatialindex_c.la\" )\n",
      "make[1]: Leaving directory '/content/spatialindex-src-1.8.5'\n",
      "Making all in test\n",
      "make[1]: Entering directory '/content/spatialindex-src-1.8.5/test'\n",
      "Making all in geometry\n",
      "make[2]: Entering directory '/content/spatialindex-src-1.8.5/test/geometry'\n",
      "depbase=`echo Intersection.o | sed 's|[^/]*$|.deps/&|;s|\\.o$||'`;\\\n",
      "g++ -DPACKAGE_NAME=\\\"spatialindex\\\" -DPACKAGE_TARNAME=\\\"spatialindex-src\\\" -DPACKAGE_VERSION=\\\"1.8.5\\\" -DPACKAGE_STRING=\\\"spatialindex\\ 1.8.5\\\" -DPACKAGE_BUGREPORT=\\\"mhadji@gmail.com\\\" -DPACKAGE_URL=\\\"\\\" -DSTDC_HEADERS=1 -DHAVE_SYS_TYPES_H=1 -DHAVE_SYS_STAT_H=1 -DHAVE_STDLIB_H=1 -DHAVE_STRING_H=1 -DHAVE_MEMORY_H=1 -DHAVE_STRINGS_H=1 -DHAVE_INTTYPES_H=1 -DHAVE_STDINT_H=1 -DHAVE_UNISTD_H=1 -DHAVE_DLFCN_H=1 -DLT_OBJDIR=\\\".libs/\\\" -DPACKAGE=\\\"spatialindex-src\\\" -DVERSION=\\\"1.8.5\\\" -DHAVE_FCNTL_H=1 -DHAVE_UNISTD_H=1 -DHAVE_SYS_TYPES_H=1 -DHAVE_SYS_STAT_H=1 -DHAVE_PTHREAD_H=1 -DHAVE_SYS_RESOURCE_H=1 -DHAVE_SYS_TIME_H=1 -DHAVE_STDINT_H=1 -DHAVE_FEATURES_H=1 -DHAVE_GETTIMEOFDAY=1 -DHAVE_MEMSET=1 -DHAVE_MEMCPY=1 -DHAVE_BCOPY=1 -DHAVE_SRAND48=1 -I. -I../../include    -Wall -Wno-long-long -pedantic -std=c++98  -O2 -DNDEBUG -MT Intersection.o -MD -MP -MF $depbase.Tpo -c -o Intersection.o Intersection.cc &&\\\n",
      "mv -f $depbase.Tpo $depbase.Po\n",
      "/bin/bash ../../libtool  --tag=CXX   --mode=link g++  -Wall -Wno-long-long -pedantic -std=c++98  -O2 -DNDEBUG   -o Intersection Intersection.o ../../libspatialindex.la -lpthread\n",
      "libtool: link: g++ -Wall -Wno-long-long -pedantic -std=c++98 -O2 -DNDEBUG -o .libs/Intersection Intersection.o  ../../.libs/libspatialindex.so -lpthread\n",
      "make[2]: Leaving directory '/content/spatialindex-src-1.8.5/test/geometry'\n",
      "Making all in rtree\n",
      "make[2]: Entering directory '/content/spatialindex-src-1.8.5/test/rtree'\n",
      "depbase=`echo Generator.o | sed 's|[^/]*$|.deps/&|;s|\\.o$||'`;\\\n",
      "g++ -DPACKAGE_NAME=\\\"spatialindex\\\" -DPACKAGE_TARNAME=\\\"spatialindex-src\\\" -DPACKAGE_VERSION=\\\"1.8.5\\\" -DPACKAGE_STRING=\\\"spatialindex\\ 1.8.5\\\" -DPACKAGE_BUGREPORT=\\\"mhadji@gmail.com\\\" -DPACKAGE_URL=\\\"\\\" -DSTDC_HEADERS=1 -DHAVE_SYS_TYPES_H=1 -DHAVE_SYS_STAT_H=1 -DHAVE_STDLIB_H=1 -DHAVE_STRING_H=1 -DHAVE_MEMORY_H=1 -DHAVE_STRINGS_H=1 -DHAVE_INTTYPES_H=1 -DHAVE_STDINT_H=1 -DHAVE_UNISTD_H=1 -DHAVE_DLFCN_H=1 -DLT_OBJDIR=\\\".libs/\\\" -DPACKAGE=\\\"spatialindex-src\\\" -DVERSION=\\\"1.8.5\\\" -DHAVE_FCNTL_H=1 -DHAVE_UNISTD_H=1 -DHAVE_SYS_TYPES_H=1 -DHAVE_SYS_STAT_H=1 -DHAVE_PTHREAD_H=1 -DHAVE_SYS_RESOURCE_H=1 -DHAVE_SYS_TIME_H=1 -DHAVE_STDINT_H=1 -DHAVE_FEATURES_H=1 -DHAVE_GETTIMEOFDAY=1 -DHAVE_MEMSET=1 -DHAVE_MEMCPY=1 -DHAVE_BCOPY=1 -DHAVE_SRAND48=1 -I. -I../../include     -Wall -Wno-long-long -pedantic -std=c++98  -O2 -DNDEBUG -MT Generator.o -MD -MP -MF $depbase.Tpo -c -o Generator.o Generator.cc &&\\\n",
      "mv -f $depbase.Tpo $depbase.Po\n",
      "/bin/bash ../../libtool  --tag=CXX   --mode=link g++  -Wall -Wno-long-long -pedantic -std=c++98  -O2 -DNDEBUG   -o Generator Generator.o ../../libspatialindex.la -lpthread\n",
      "libtool: link: g++ -Wall -Wno-long-long -pedantic -std=c++98 -O2 -DNDEBUG -o .libs/Generator Generator.o  ../../.libs/libspatialindex.so -lpthread\n",
      "depbase=`echo Exhaustive.o | sed 's|[^/]*$|.deps/&|;s|\\.o$||'`;\\\n",
      "g++ -DPACKAGE_NAME=\\\"spatialindex\\\" -DPACKAGE_TARNAME=\\\"spatialindex-src\\\" -DPACKAGE_VERSION=\\\"1.8.5\\\" -DPACKAGE_STRING=\\\"spatialindex\\ 1.8.5\\\" -DPACKAGE_BUGREPORT=\\\"mhadji@gmail.com\\\" -DPACKAGE_URL=\\\"\\\" -DSTDC_HEADERS=1 -DHAVE_SYS_TYPES_H=1 -DHAVE_SYS_STAT_H=1 -DHAVE_STDLIB_H=1 -DHAVE_STRING_H=1 -DHAVE_MEMORY_H=1 -DHAVE_STRINGS_H=1 -DHAVE_INTTYPES_H=1 -DHAVE_STDINT_H=1 -DHAVE_UNISTD_H=1 -DHAVE_DLFCN_H=1 -DLT_OBJDIR=\\\".libs/\\\" -DPACKAGE=\\\"spatialindex-src\\\" -DVERSION=\\\"1.8.5\\\" -DHAVE_FCNTL_H=1 -DHAVE_UNISTD_H=1 -DHAVE_SYS_TYPES_H=1 -DHAVE_SYS_STAT_H=1 -DHAVE_PTHREAD_H=1 -DHAVE_SYS_RESOURCE_H=1 -DHAVE_SYS_TIME_H=1 -DHAVE_STDINT_H=1 -DHAVE_FEATURES_H=1 -DHAVE_GETTIMEOFDAY=1 -DHAVE_MEMSET=1 -DHAVE_MEMCPY=1 -DHAVE_BCOPY=1 -DHAVE_SRAND48=1 -I. -I../../include     -Wall -Wno-long-long -pedantic -std=c++98  -O2 -DNDEBUG -MT Exhaustive.o -MD -MP -MF $depbase.Tpo -c -o Exhaustive.o Exhaustive.cc &&\\\n",
      "mv -f $depbase.Tpo $depbase.Po\n",
      "/bin/bash ../../libtool  --tag=CXX   --mode=link g++  -Wall -Wno-long-long -pedantic -std=c++98  -O2 -DNDEBUG   -o Exhaustive Exhaustive.o ../../libspatialindex.la -lpthread\n",
      "libtool: link: g++ -Wall -Wno-long-long -pedantic -std=c++98 -O2 -DNDEBUG -o .libs/Exhaustive Exhaustive.o  ../../.libs/libspatialindex.so -lpthread\n",
      "depbase=`echo RTreeLoad.o | sed 's|[^/]*$|.deps/&|;s|\\.o$||'`;\\\n",
      "g++ -DPACKAGE_NAME=\\\"spatialindex\\\" -DPACKAGE_TARNAME=\\\"spatialindex-src\\\" -DPACKAGE_VERSION=\\\"1.8.5\\\" -DPACKAGE_STRING=\\\"spatialindex\\ 1.8.5\\\" -DPACKAGE_BUGREPORT=\\\"mhadji@gmail.com\\\" -DPACKAGE_URL=\\\"\\\" -DSTDC_HEADERS=1 -DHAVE_SYS_TYPES_H=1 -DHAVE_SYS_STAT_H=1 -DHAVE_STDLIB_H=1 -DHAVE_STRING_H=1 -DHAVE_MEMORY_H=1 -DHAVE_STRINGS_H=1 -DHAVE_INTTYPES_H=1 -DHAVE_STDINT_H=1 -DHAVE_UNISTD_H=1 -DHAVE_DLFCN_H=1 -DLT_OBJDIR=\\\".libs/\\\" -DPACKAGE=\\\"spatialindex-src\\\" -DVERSION=\\\"1.8.5\\\" -DHAVE_FCNTL_H=1 -DHAVE_UNISTD_H=1 -DHAVE_SYS_TYPES_H=1 -DHAVE_SYS_STAT_H=1 -DHAVE_PTHREAD_H=1 -DHAVE_SYS_RESOURCE_H=1 -DHAVE_SYS_TIME_H=1 -DHAVE_STDINT_H=1 -DHAVE_FEATURES_H=1 -DHAVE_GETTIMEOFDAY=1 -DHAVE_MEMSET=1 -DHAVE_MEMCPY=1 -DHAVE_BCOPY=1 -DHAVE_SRAND48=1 -I. -I../../include     -Wall -Wno-long-long -pedantic -std=c++98  -O2 -DNDEBUG -MT RTreeLoad.o -MD -MP -MF $depbase.Tpo -c -o RTreeLoad.o RTreeLoad.cc &&\\\n",
      "mv -f $depbase.Tpo $depbase.Po\n",
      "/bin/bash ../../libtool  --tag=CXX   --mode=link g++  -Wall -Wno-long-long -pedantic -std=c++98  -O2 -DNDEBUG   -o RTreeLoad RTreeLoad.o ../../libspatialindex.la -lpthread\n",
      "libtool: link: g++ -Wall -Wno-long-long -pedantic -std=c++98 -O2 -DNDEBUG -o .libs/RTreeLoad RTreeLoad.o  ../../.libs/libspatialindex.so -lpthread\n",
      "depbase=`echo RTreeQuery.o | sed 's|[^/]*$|.deps/&|;s|\\.o$||'`;\\\n",
      "g++ -DPACKAGE_NAME=\\\"spatialindex\\\" -DPACKAGE_TARNAME=\\\"spatialindex-src\\\" -DPACKAGE_VERSION=\\\"1.8.5\\\" -DPACKAGE_STRING=\\\"spatialindex\\ 1.8.5\\\" -DPACKAGE_BUGREPORT=\\\"mhadji@gmail.com\\\" -DPACKAGE_URL=\\\"\\\" -DSTDC_HEADERS=1 -DHAVE_SYS_TYPES_H=1 -DHAVE_SYS_STAT_H=1 -DHAVE_STDLIB_H=1 -DHAVE_STRING_H=1 -DHAVE_MEMORY_H=1 -DHAVE_STRINGS_H=1 -DHAVE_INTTYPES_H=1 -DHAVE_STDINT_H=1 -DHAVE_UNISTD_H=1 -DHAVE_DLFCN_H=1 -DLT_OBJDIR=\\\".libs/\\\" -DPACKAGE=\\\"spatialindex-src\\\" -DVERSION=\\\"1.8.5\\\" -DHAVE_FCNTL_H=1 -DHAVE_UNISTD_H=1 -DHAVE_SYS_TYPES_H=1 -DHAVE_SYS_STAT_H=1 -DHAVE_PTHREAD_H=1 -DHAVE_SYS_RESOURCE_H=1 -DHAVE_SYS_TIME_H=1 -DHAVE_STDINT_H=1 -DHAVE_FEATURES_H=1 -DHAVE_GETTIMEOFDAY=1 -DHAVE_MEMSET=1 -DHAVE_MEMCPY=1 -DHAVE_BCOPY=1 -DHAVE_SRAND48=1 -I. -I../../include     -Wall -Wno-long-long -pedantic -std=c++98  -O2 -DNDEBUG -MT RTreeQuery.o -MD -MP -MF $depbase.Tpo -c -o RTreeQuery.o RTreeQuery.cc &&\\\n",
      "mv -f $depbase.Tpo $depbase.Po\n",
      "/bin/bash ../../libtool  --tag=CXX   --mode=link g++  -Wall -Wno-long-long -pedantic -std=c++98  -O2 -DNDEBUG   -o RTreeQuery RTreeQuery.o ../../libspatialindex.la -lpthread\n",
      "libtool: link: g++ -Wall -Wno-long-long -pedantic -std=c++98 -O2 -DNDEBUG -o .libs/RTreeQuery RTreeQuery.o  ../../.libs/libspatialindex.so -lpthread\n",
      "depbase=`echo RTreeBulkLoad.o | sed 's|[^/]*$|.deps/&|;s|\\.o$||'`;\\\n",
      "g++ -DPACKAGE_NAME=\\\"spatialindex\\\" -DPACKAGE_TARNAME=\\\"spatialindex-src\\\" -DPACKAGE_VERSION=\\\"1.8.5\\\" -DPACKAGE_STRING=\\\"spatialindex\\ 1.8.5\\\" -DPACKAGE_BUGREPORT=\\\"mhadji@gmail.com\\\" -DPACKAGE_URL=\\\"\\\" -DSTDC_HEADERS=1 -DHAVE_SYS_TYPES_H=1 -DHAVE_SYS_STAT_H=1 -DHAVE_STDLIB_H=1 -DHAVE_STRING_H=1 -DHAVE_MEMORY_H=1 -DHAVE_STRINGS_H=1 -DHAVE_INTTYPES_H=1 -DHAVE_STDINT_H=1 -DHAVE_UNISTD_H=1 -DHAVE_DLFCN_H=1 -DLT_OBJDIR=\\\".libs/\\\" -DPACKAGE=\\\"spatialindex-src\\\" -DVERSION=\\\"1.8.5\\\" -DHAVE_FCNTL_H=1 -DHAVE_UNISTD_H=1 -DHAVE_SYS_TYPES_H=1 -DHAVE_SYS_STAT_H=1 -DHAVE_PTHREAD_H=1 -DHAVE_SYS_RESOURCE_H=1 -DHAVE_SYS_TIME_H=1 -DHAVE_STDINT_H=1 -DHAVE_FEATURES_H=1 -DHAVE_GETTIMEOFDAY=1 -DHAVE_MEMSET=1 -DHAVE_MEMCPY=1 -DHAVE_BCOPY=1 -DHAVE_SRAND48=1 -I. -I../../include     -Wall -Wno-long-long -pedantic -std=c++98  -O2 -DNDEBUG -MT RTreeBulkLoad.o -MD -MP -MF $depbase.Tpo -c -o RTreeBulkLoad.o RTreeBulkLoad.cc &&\\\n",
      "mv -f $depbase.Tpo $depbase.Po\n",
      "/bin/bash ../../libtool  --tag=CXX   --mode=link g++  -Wall -Wno-long-long -pedantic -std=c++98  -O2 -DNDEBUG   -o RTreeBulkLoad RTreeBulkLoad.o ../../libspatialindex.la -lpthread\n",
      "libtool: link: g++ -Wall -Wno-long-long -pedantic -std=c++98 -O2 -DNDEBUG -o .libs/RTreeBulkLoad RTreeBulkLoad.o  ../../.libs/libspatialindex.so -lpthread\n",
      "make[2]: Leaving directory '/content/spatialindex-src-1.8.5/test/rtree'\n",
      "Making all in mvrtree\n",
      "make[2]: Entering directory '/content/spatialindex-src-1.8.5/test/mvrtree'\n",
      "depbase=`echo Generator.o | sed 's|[^/]*$|.deps/&|;s|\\.o$||'`;\\\n",
      "g++ -DPACKAGE_NAME=\\\"spatialindex\\\" -DPACKAGE_TARNAME=\\\"spatialindex-src\\\" -DPACKAGE_VERSION=\\\"1.8.5\\\" -DPACKAGE_STRING=\\\"spatialindex\\ 1.8.5\\\" -DPACKAGE_BUGREPORT=\\\"mhadji@gmail.com\\\" -DPACKAGE_URL=\\\"\\\" -DSTDC_HEADERS=1 -DHAVE_SYS_TYPES_H=1 -DHAVE_SYS_STAT_H=1 -DHAVE_STDLIB_H=1 -DHAVE_STRING_H=1 -DHAVE_MEMORY_H=1 -DHAVE_STRINGS_H=1 -DHAVE_INTTYPES_H=1 -DHAVE_STDINT_H=1 -DHAVE_UNISTD_H=1 -DHAVE_DLFCN_H=1 -DLT_OBJDIR=\\\".libs/\\\" -DPACKAGE=\\\"spatialindex-src\\\" -DVERSION=\\\"1.8.5\\\" -DHAVE_FCNTL_H=1 -DHAVE_UNISTD_H=1 -DHAVE_SYS_TYPES_H=1 -DHAVE_SYS_STAT_H=1 -DHAVE_PTHREAD_H=1 -DHAVE_SYS_RESOURCE_H=1 -DHAVE_SYS_TIME_H=1 -DHAVE_STDINT_H=1 -DHAVE_FEATURES_H=1 -DHAVE_GETTIMEOFDAY=1 -DHAVE_MEMSET=1 -DHAVE_MEMCPY=1 -DHAVE_BCOPY=1 -DHAVE_SRAND48=1 -I. -I../../include     -Wall -Wno-long-long -pedantic -std=c++98  -O2 -DNDEBUG -MT Generator.o -MD -MP -MF $depbase.Tpo -c -o Generator.o Generator.cc &&\\\n",
      "mv -f $depbase.Tpo $depbase.Po\n",
      "/bin/bash ../../libtool  --tag=CXX   --mode=link g++  -Wall -Wno-long-long -pedantic -std=c++98  -O2 -DNDEBUG   -o Generator Generator.o ../../libspatialindex.la -lpthread\n",
      "libtool: link: g++ -Wall -Wno-long-long -pedantic -std=c++98 -O2 -DNDEBUG -o .libs/Generator Generator.o  ../../.libs/libspatialindex.so -lpthread\n",
      "depbase=`echo Exhaustive.o | sed 's|[^/]*$|.deps/&|;s|\\.o$||'`;\\\n",
      "g++ -DPACKAGE_NAME=\\\"spatialindex\\\" -DPACKAGE_TARNAME=\\\"spatialindex-src\\\" -DPACKAGE_VERSION=\\\"1.8.5\\\" -DPACKAGE_STRING=\\\"spatialindex\\ 1.8.5\\\" -DPACKAGE_BUGREPORT=\\\"mhadji@gmail.com\\\" -DPACKAGE_URL=\\\"\\\" -DSTDC_HEADERS=1 -DHAVE_SYS_TYPES_H=1 -DHAVE_SYS_STAT_H=1 -DHAVE_STDLIB_H=1 -DHAVE_STRING_H=1 -DHAVE_MEMORY_H=1 -DHAVE_STRINGS_H=1 -DHAVE_INTTYPES_H=1 -DHAVE_STDINT_H=1 -DHAVE_UNISTD_H=1 -DHAVE_DLFCN_H=1 -DLT_OBJDIR=\\\".libs/\\\" -DPACKAGE=\\\"spatialindex-src\\\" -DVERSION=\\\"1.8.5\\\" -DHAVE_FCNTL_H=1 -DHAVE_UNISTD_H=1 -DHAVE_SYS_TYPES_H=1 -DHAVE_SYS_STAT_H=1 -DHAVE_PTHREAD_H=1 -DHAVE_SYS_RESOURCE_H=1 -DHAVE_SYS_TIME_H=1 -DHAVE_STDINT_H=1 -DHAVE_FEATURES_H=1 -DHAVE_GETTIMEOFDAY=1 -DHAVE_MEMSET=1 -DHAVE_MEMCPY=1 -DHAVE_BCOPY=1 -DHAVE_SRAND48=1 -I. -I../../include     -Wall -Wno-long-long -pedantic -std=c++98  -O2 -DNDEBUG -MT Exhaustive.o -MD -MP -MF $depbase.Tpo -c -o Exhaustive.o Exhaustive.cc &&\\\n",
      "mv -f $depbase.Tpo $depbase.Po\n",
      "/bin/bash ../../libtool  --tag=CXX   --mode=link g++  -Wall -Wno-long-long -pedantic -std=c++98  -O2 -DNDEBUG   -o Exhaustive Exhaustive.o ../../libspatialindex.la -lpthread\n",
      "libtool: link: g++ -Wall -Wno-long-long -pedantic -std=c++98 -O2 -DNDEBUG -o .libs/Exhaustive Exhaustive.o  ../../.libs/libspatialindex.so -lpthread\n",
      "depbase=`echo MVRTreeLoad.o | sed 's|[^/]*$|.deps/&|;s|\\.o$||'`;\\\n",
      "g++ -DPACKAGE_NAME=\\\"spatialindex\\\" -DPACKAGE_TARNAME=\\\"spatialindex-src\\\" -DPACKAGE_VERSION=\\\"1.8.5\\\" -DPACKAGE_STRING=\\\"spatialindex\\ 1.8.5\\\" -DPACKAGE_BUGREPORT=\\\"mhadji@gmail.com\\\" -DPACKAGE_URL=\\\"\\\" -DSTDC_HEADERS=1 -DHAVE_SYS_TYPES_H=1 -DHAVE_SYS_STAT_H=1 -DHAVE_STDLIB_H=1 -DHAVE_STRING_H=1 -DHAVE_MEMORY_H=1 -DHAVE_STRINGS_H=1 -DHAVE_INTTYPES_H=1 -DHAVE_STDINT_H=1 -DHAVE_UNISTD_H=1 -DHAVE_DLFCN_H=1 -DLT_OBJDIR=\\\".libs/\\\" -DPACKAGE=\\\"spatialindex-src\\\" -DVERSION=\\\"1.8.5\\\" -DHAVE_FCNTL_H=1 -DHAVE_UNISTD_H=1 -DHAVE_SYS_TYPES_H=1 -DHAVE_SYS_STAT_H=1 -DHAVE_PTHREAD_H=1 -DHAVE_SYS_RESOURCE_H=1 -DHAVE_SYS_TIME_H=1 -DHAVE_STDINT_H=1 -DHAVE_FEATURES_H=1 -DHAVE_GETTIMEOFDAY=1 -DHAVE_MEMSET=1 -DHAVE_MEMCPY=1 -DHAVE_BCOPY=1 -DHAVE_SRAND48=1 -I. -I../../include     -Wall -Wno-long-long -pedantic -std=c++98  -O2 -DNDEBUG -MT MVRTreeLoad.o -MD -MP -MF $depbase.Tpo -c -o MVRTreeLoad.o MVRTreeLoad.cc &&\\\n",
      "mv -f $depbase.Tpo $depbase.Po\n",
      "/bin/bash ../../libtool  --tag=CXX   --mode=link g++  -Wall -Wno-long-long -pedantic -std=c++98  -O2 -DNDEBUG   -o MVRTreeLoad MVRTreeLoad.o ../../libspatialindex.la -lpthread\n",
      "libtool: link: g++ -Wall -Wno-long-long -pedantic -std=c++98 -O2 -DNDEBUG -o .libs/MVRTreeLoad MVRTreeLoad.o  ../../.libs/libspatialindex.so -lpthread\n",
      "depbase=`echo MVRTreeQuery.o | sed 's|[^/]*$|.deps/&|;s|\\.o$||'`;\\\n",
      "g++ -DPACKAGE_NAME=\\\"spatialindex\\\" -DPACKAGE_TARNAME=\\\"spatialindex-src\\\" -DPACKAGE_VERSION=\\\"1.8.5\\\" -DPACKAGE_STRING=\\\"spatialindex\\ 1.8.5\\\" -DPACKAGE_BUGREPORT=\\\"mhadji@gmail.com\\\" -DPACKAGE_URL=\\\"\\\" -DSTDC_HEADERS=1 -DHAVE_SYS_TYPES_H=1 -DHAVE_SYS_STAT_H=1 -DHAVE_STDLIB_H=1 -DHAVE_STRING_H=1 -DHAVE_MEMORY_H=1 -DHAVE_STRINGS_H=1 -DHAVE_INTTYPES_H=1 -DHAVE_STDINT_H=1 -DHAVE_UNISTD_H=1 -DHAVE_DLFCN_H=1 -DLT_OBJDIR=\\\".libs/\\\" -DPACKAGE=\\\"spatialindex-src\\\" -DVERSION=\\\"1.8.5\\\" -DHAVE_FCNTL_H=1 -DHAVE_UNISTD_H=1 -DHAVE_SYS_TYPES_H=1 -DHAVE_SYS_STAT_H=1 -DHAVE_PTHREAD_H=1 -DHAVE_SYS_RESOURCE_H=1 -DHAVE_SYS_TIME_H=1 -DHAVE_STDINT_H=1 -DHAVE_FEATURES_H=1 -DHAVE_GETTIMEOFDAY=1 -DHAVE_MEMSET=1 -DHAVE_MEMCPY=1 -DHAVE_BCOPY=1 -DHAVE_SRAND48=1 -I. -I../../include     -Wall -Wno-long-long -pedantic -std=c++98  -O2 -DNDEBUG -MT MVRTreeQuery.o -MD -MP -MF $depbase.Tpo -c -o MVRTreeQuery.o MVRTreeQuery.cc &&\\\n",
      "mv -f $depbase.Tpo $depbase.Po\n",
      "/bin/bash ../../libtool  --tag=CXX   --mode=link g++  -Wall -Wno-long-long -pedantic -std=c++98  -O2 -DNDEBUG   -o MVRTreeQuery MVRTreeQuery.o ../../libspatialindex.la -lpthread\n",
      "libtool: link: g++ -Wall -Wno-long-long -pedantic -std=c++98 -O2 -DNDEBUG -o .libs/MVRTreeQuery MVRTreeQuery.o  ../../.libs/libspatialindex.so -lpthread\n",
      "make[2]: Leaving directory '/content/spatialindex-src-1.8.5/test/mvrtree'\n",
      "Making all in tprtree\n",
      "make[2]: Entering directory '/content/spatialindex-src-1.8.5/test/tprtree'\n",
      "depbase=`echo RandomGenerator.o | sed 's|[^/]*$|.deps/&|;s|\\.o$||'`;\\\n",
      "g++ -DPACKAGE_NAME=\\\"spatialindex\\\" -DPACKAGE_TARNAME=\\\"spatialindex-src\\\" -DPACKAGE_VERSION=\\\"1.8.5\\\" -DPACKAGE_STRING=\\\"spatialindex\\ 1.8.5\\\" -DPACKAGE_BUGREPORT=\\\"mhadji@gmail.com\\\" -DPACKAGE_URL=\\\"\\\" -DSTDC_HEADERS=1 -DHAVE_SYS_TYPES_H=1 -DHAVE_SYS_STAT_H=1 -DHAVE_STDLIB_H=1 -DHAVE_STRING_H=1 -DHAVE_MEMORY_H=1 -DHAVE_STRINGS_H=1 -DHAVE_INTTYPES_H=1 -DHAVE_STDINT_H=1 -DHAVE_UNISTD_H=1 -DHAVE_DLFCN_H=1 -DLT_OBJDIR=\\\".libs/\\\" -DPACKAGE=\\\"spatialindex-src\\\" -DVERSION=\\\"1.8.5\\\" -DHAVE_FCNTL_H=1 -DHAVE_UNISTD_H=1 -DHAVE_SYS_TYPES_H=1 -DHAVE_SYS_STAT_H=1 -DHAVE_PTHREAD_H=1 -DHAVE_SYS_RESOURCE_H=1 -DHAVE_SYS_TIME_H=1 -DHAVE_STDINT_H=1 -DHAVE_FEATURES_H=1 -DHAVE_GETTIMEOFDAY=1 -DHAVE_MEMSET=1 -DHAVE_MEMCPY=1 -DHAVE_BCOPY=1 -DHAVE_SRAND48=1 -I. -I../../include     -Wall -Wno-long-long -pedantic -std=c++98  -O2 -DNDEBUG -MT RandomGenerator.o -MD -MP -MF $depbase.Tpo -c -o RandomGenerator.o RandomGenerator.cc &&\\\n",
      "mv -f $depbase.Tpo $depbase.Po\n",
      "depbase=`echo Generator.o | sed 's|[^/]*$|.deps/&|;s|\\.o$||'`;\\\n",
      "g++ -DPACKAGE_NAME=\\\"spatialindex\\\" -DPACKAGE_TARNAME=\\\"spatialindex-src\\\" -DPACKAGE_VERSION=\\\"1.8.5\\\" -DPACKAGE_STRING=\\\"spatialindex\\ 1.8.5\\\" -DPACKAGE_BUGREPORT=\\\"mhadji@gmail.com\\\" -DPACKAGE_URL=\\\"\\\" -DSTDC_HEADERS=1 -DHAVE_SYS_TYPES_H=1 -DHAVE_SYS_STAT_H=1 -DHAVE_STDLIB_H=1 -DHAVE_STRING_H=1 -DHAVE_MEMORY_H=1 -DHAVE_STRINGS_H=1 -DHAVE_INTTYPES_H=1 -DHAVE_STDINT_H=1 -DHAVE_UNISTD_H=1 -DHAVE_DLFCN_H=1 -DLT_OBJDIR=\\\".libs/\\\" -DPACKAGE=\\\"spatialindex-src\\\" -DVERSION=\\\"1.8.5\\\" -DHAVE_FCNTL_H=1 -DHAVE_UNISTD_H=1 -DHAVE_SYS_TYPES_H=1 -DHAVE_SYS_STAT_H=1 -DHAVE_PTHREAD_H=1 -DHAVE_SYS_RESOURCE_H=1 -DHAVE_SYS_TIME_H=1 -DHAVE_STDINT_H=1 -DHAVE_FEATURES_H=1 -DHAVE_GETTIMEOFDAY=1 -DHAVE_MEMSET=1 -DHAVE_MEMCPY=1 -DHAVE_BCOPY=1 -DHAVE_SRAND48=1 -I. -I../../include     -Wall -Wno-long-long -pedantic -std=c++98  -O2 -DNDEBUG -MT Generator.o -MD -MP -MF $depbase.Tpo -c -o Generator.o Generator.cc &&\\\n",
      "mv -f $depbase.Tpo $depbase.Po\n",
      "/bin/bash ../../libtool  --tag=CXX   --mode=link g++  -Wall -Wno-long-long -pedantic -std=c++98  -O2 -DNDEBUG   -o Generator RandomGenerator.o Generator.o ../../libspatialindex.la -lpthread\n",
      "libtool: link: g++ -Wall -Wno-long-long -pedantic -std=c++98 -O2 -DNDEBUG -o .libs/Generator RandomGenerator.o Generator.o  ../../.libs/libspatialindex.so -lpthread\n",
      "depbase=`echo Exhaustive.o | sed 's|[^/]*$|.deps/&|;s|\\.o$||'`;\\\n",
      "g++ -DPACKAGE_NAME=\\\"spatialindex\\\" -DPACKAGE_TARNAME=\\\"spatialindex-src\\\" -DPACKAGE_VERSION=\\\"1.8.5\\\" -DPACKAGE_STRING=\\\"spatialindex\\ 1.8.5\\\" -DPACKAGE_BUGREPORT=\\\"mhadji@gmail.com\\\" -DPACKAGE_URL=\\\"\\\" -DSTDC_HEADERS=1 -DHAVE_SYS_TYPES_H=1 -DHAVE_SYS_STAT_H=1 -DHAVE_STDLIB_H=1 -DHAVE_STRING_H=1 -DHAVE_MEMORY_H=1 -DHAVE_STRINGS_H=1 -DHAVE_INTTYPES_H=1 -DHAVE_STDINT_H=1 -DHAVE_UNISTD_H=1 -DHAVE_DLFCN_H=1 -DLT_OBJDIR=\\\".libs/\\\" -DPACKAGE=\\\"spatialindex-src\\\" -DVERSION=\\\"1.8.5\\\" -DHAVE_FCNTL_H=1 -DHAVE_UNISTD_H=1 -DHAVE_SYS_TYPES_H=1 -DHAVE_SYS_STAT_H=1 -DHAVE_PTHREAD_H=1 -DHAVE_SYS_RESOURCE_H=1 -DHAVE_SYS_TIME_H=1 -DHAVE_STDINT_H=1 -DHAVE_FEATURES_H=1 -DHAVE_GETTIMEOFDAY=1 -DHAVE_MEMSET=1 -DHAVE_MEMCPY=1 -DHAVE_BCOPY=1 -DHAVE_SRAND48=1 -I. -I../../include     -Wall -Wno-long-long -pedantic -std=c++98  -O2 -DNDEBUG -MT Exhaustive.o -MD -MP -MF $depbase.Tpo -c -o Exhaustive.o Exhaustive.cc &&\\\n",
      "mv -f $depbase.Tpo $depbase.Po\n",
      "/bin/bash ../../libtool  --tag=CXX   --mode=link g++  -Wall -Wno-long-long -pedantic -std=c++98  -O2 -DNDEBUG   -o Exhaustive Exhaustive.o ../../libspatialindex.la -lpthread\n",
      "libtool: link: g++ -Wall -Wno-long-long -pedantic -std=c++98 -O2 -DNDEBUG -o .libs/Exhaustive Exhaustive.o  ../../.libs/libspatialindex.so -lpthread\n",
      "depbase=`echo TPRTreeLoad.o | sed 's|[^/]*$|.deps/&|;s|\\.o$||'`;\\\n",
      "g++ -DPACKAGE_NAME=\\\"spatialindex\\\" -DPACKAGE_TARNAME=\\\"spatialindex-src\\\" -DPACKAGE_VERSION=\\\"1.8.5\\\" -DPACKAGE_STRING=\\\"spatialindex\\ 1.8.5\\\" -DPACKAGE_BUGREPORT=\\\"mhadji@gmail.com\\\" -DPACKAGE_URL=\\\"\\\" -DSTDC_HEADERS=1 -DHAVE_SYS_TYPES_H=1 -DHAVE_SYS_STAT_H=1 -DHAVE_STDLIB_H=1 -DHAVE_STRING_H=1 -DHAVE_MEMORY_H=1 -DHAVE_STRINGS_H=1 -DHAVE_INTTYPES_H=1 -DHAVE_STDINT_H=1 -DHAVE_UNISTD_H=1 -DHAVE_DLFCN_H=1 -DLT_OBJDIR=\\\".libs/\\\" -DPACKAGE=\\\"spatialindex-src\\\" -DVERSION=\\\"1.8.5\\\" -DHAVE_FCNTL_H=1 -DHAVE_UNISTD_H=1 -DHAVE_SYS_TYPES_H=1 -DHAVE_SYS_STAT_H=1 -DHAVE_PTHREAD_H=1 -DHAVE_SYS_RESOURCE_H=1 -DHAVE_SYS_TIME_H=1 -DHAVE_STDINT_H=1 -DHAVE_FEATURES_H=1 -DHAVE_GETTIMEOFDAY=1 -DHAVE_MEMSET=1 -DHAVE_MEMCPY=1 -DHAVE_BCOPY=1 -DHAVE_SRAND48=1 -I. -I../../include     -Wall -Wno-long-long -pedantic -std=c++98  -O2 -DNDEBUG -MT TPRTreeLoad.o -MD -MP -MF $depbase.Tpo -c -o TPRTreeLoad.o TPRTreeLoad.cc &&\\\n",
      "mv -f $depbase.Tpo $depbase.Po\n",
      "/bin/bash ../../libtool  --tag=CXX   --mode=link g++  -Wall -Wno-long-long -pedantic -std=c++98  -O2 -DNDEBUG   -o TPRTreeLoad TPRTreeLoad.o ../../libspatialindex.la -lpthread\n",
      "libtool: link: g++ -Wall -Wno-long-long -pedantic -std=c++98 -O2 -DNDEBUG -o .libs/TPRTreeLoad TPRTreeLoad.o  ../../.libs/libspatialindex.so -lpthread\n",
      "depbase=`echo TPRTreeQuery.o | sed 's|[^/]*$|.deps/&|;s|\\.o$||'`;\\\n",
      "g++ -DPACKAGE_NAME=\\\"spatialindex\\\" -DPACKAGE_TARNAME=\\\"spatialindex-src\\\" -DPACKAGE_VERSION=\\\"1.8.5\\\" -DPACKAGE_STRING=\\\"spatialindex\\ 1.8.5\\\" -DPACKAGE_BUGREPORT=\\\"mhadji@gmail.com\\\" -DPACKAGE_URL=\\\"\\\" -DSTDC_HEADERS=1 -DHAVE_SYS_TYPES_H=1 -DHAVE_SYS_STAT_H=1 -DHAVE_STDLIB_H=1 -DHAVE_STRING_H=1 -DHAVE_MEMORY_H=1 -DHAVE_STRINGS_H=1 -DHAVE_INTTYPES_H=1 -DHAVE_STDINT_H=1 -DHAVE_UNISTD_H=1 -DHAVE_DLFCN_H=1 -DLT_OBJDIR=\\\".libs/\\\" -DPACKAGE=\\\"spatialindex-src\\\" -DVERSION=\\\"1.8.5\\\" -DHAVE_FCNTL_H=1 -DHAVE_UNISTD_H=1 -DHAVE_SYS_TYPES_H=1 -DHAVE_SYS_STAT_H=1 -DHAVE_PTHREAD_H=1 -DHAVE_SYS_RESOURCE_H=1 -DHAVE_SYS_TIME_H=1 -DHAVE_STDINT_H=1 -DHAVE_FEATURES_H=1 -DHAVE_GETTIMEOFDAY=1 -DHAVE_MEMSET=1 -DHAVE_MEMCPY=1 -DHAVE_BCOPY=1 -DHAVE_SRAND48=1 -I. -I../../include     -Wall -Wno-long-long -pedantic -std=c++98  -O2 -DNDEBUG -MT TPRTreeQuery.o -MD -MP -MF $depbase.Tpo -c -o TPRTreeQuery.o TPRTreeQuery.cc &&\\\n",
      "mv -f $depbase.Tpo $depbase.Po\n",
      "/bin/bash ../../libtool  --tag=CXX   --mode=link g++  -Wall -Wno-long-long -pedantic -std=c++98  -O2 -DNDEBUG   -o TPRTreeQuery TPRTreeQuery.o ../../libspatialindex.la -lpthread\n",
      "libtool: link: g++ -Wall -Wno-long-long -pedantic -std=c++98 -O2 -DNDEBUG -o .libs/TPRTreeQuery TPRTreeQuery.o  ../../.libs/libspatialindex.so -lpthread\n",
      "make[2]: Leaving directory '/content/spatialindex-src-1.8.5/test/tprtree'\n",
      "make[2]: Entering directory '/content/spatialindex-src-1.8.5/test'\n",
      "make[2]: Nothing to be done for 'all-am'.\n",
      "make[2]: Leaving directory '/content/spatialindex-src-1.8.5/test'\n",
      "make[1]: Leaving directory '/content/spatialindex-src-1.8.5/test'\n",
      "Making all in include\n",
      "make[1]: Entering directory '/content/spatialindex-src-1.8.5/include'\n",
      "make[1]: Nothing to be done for 'all'.\n",
      "make[1]: Leaving directory '/content/spatialindex-src-1.8.5/include'\n",
      "Making install in src\n",
      "make[1]: Entering directory '/content/spatialindex-src-1.8.5/src'\n",
      "Making install in storagemanager\n",
      "make[2]: Entering directory '/content/spatialindex-src-1.8.5/src/storagemanager'\n",
      "make[3]: Entering directory '/content/spatialindex-src-1.8.5/src/storagemanager'\n",
      "make[3]: Nothing to be done for 'install-exec-am'.\n",
      "make[3]: Nothing to be done for 'install-data-am'.\n",
      "make[3]: Leaving directory '/content/spatialindex-src-1.8.5/src/storagemanager'\n",
      "make[2]: Leaving directory '/content/spatialindex-src-1.8.5/src/storagemanager'\n",
      "Making install in spatialindex\n",
      "make[2]: Entering directory '/content/spatialindex-src-1.8.5/src/spatialindex'\n",
      "make[3]: Entering directory '/content/spatialindex-src-1.8.5/src/spatialindex'\n",
      "make[3]: Nothing to be done for 'install-exec-am'.\n",
      "make[3]: Nothing to be done for 'install-data-am'.\n",
      "make[3]: Leaving directory '/content/spatialindex-src-1.8.5/src/spatialindex'\n",
      "make[2]: Leaving directory '/content/spatialindex-src-1.8.5/src/spatialindex'\n",
      "Making install in rtree\n",
      "make[2]: Entering directory '/content/spatialindex-src-1.8.5/src/rtree'\n",
      "make[3]: Entering directory '/content/spatialindex-src-1.8.5/src/rtree'\n",
      "make[3]: Nothing to be done for 'install-exec-am'.\n",
      "make[3]: Nothing to be done for 'install-data-am'.\n",
      "make[3]: Leaving directory '/content/spatialindex-src-1.8.5/src/rtree'\n",
      "make[2]: Leaving directory '/content/spatialindex-src-1.8.5/src/rtree'\n",
      "Making install in mvrtree\n",
      "make[2]: Entering directory '/content/spatialindex-src-1.8.5/src/mvrtree'\n",
      "make[3]: Entering directory '/content/spatialindex-src-1.8.5/src/mvrtree'\n",
      "make[3]: Nothing to be done for 'install-exec-am'.\n",
      "make[3]: Nothing to be done for 'install-data-am'.\n",
      "make[3]: Leaving directory '/content/spatialindex-src-1.8.5/src/mvrtree'\n",
      "make[2]: Leaving directory '/content/spatialindex-src-1.8.5/src/mvrtree'\n",
      "Making install in tprtree\n",
      "make[2]: Entering directory '/content/spatialindex-src-1.8.5/src/tprtree'\n",
      "make[3]: Entering directory '/content/spatialindex-src-1.8.5/src/tprtree'\n",
      "make[3]: Nothing to be done for 'install-exec-am'.\n",
      "make[3]: Nothing to be done for 'install-data-am'.\n",
      "make[3]: Leaving directory '/content/spatialindex-src-1.8.5/src/tprtree'\n",
      "make[2]: Leaving directory '/content/spatialindex-src-1.8.5/src/tprtree'\n",
      "Making install in tools\n",
      "make[2]: Entering directory '/content/spatialindex-src-1.8.5/src/tools'\n",
      "make[3]: Entering directory '/content/spatialindex-src-1.8.5/src/tools'\n",
      "make[3]: Nothing to be done for 'install-exec-am'.\n",
      "make[3]: Nothing to be done for 'install-data-am'.\n",
      "make[3]: Leaving directory '/content/spatialindex-src-1.8.5/src/tools'\n",
      "make[2]: Leaving directory '/content/spatialindex-src-1.8.5/src/tools'\n",
      "Making install in capi\n",
      "make[2]: Entering directory '/content/spatialindex-src-1.8.5/src/capi'\n",
      "make[3]: Entering directory '/content/spatialindex-src-1.8.5/src/capi'\n",
      "make[3]: Nothing to be done for 'install-exec-am'.\n",
      "make[3]: Nothing to be done for 'install-data-am'.\n",
      "make[3]: Leaving directory '/content/spatialindex-src-1.8.5/src/capi'\n",
      "make[2]: Leaving directory '/content/spatialindex-src-1.8.5/src/capi'\n",
      "make[2]: Entering directory '/content/spatialindex-src-1.8.5/src'\n",
      "make[3]: Entering directory '/content/spatialindex-src-1.8.5/src'\n",
      "make[3]: Nothing to be done for 'install-exec-am'.\n",
      " /bin/mkdir -p '/usr/local/lib/pkgconfig'\n",
      " /usr/bin/install -c -m 644 libspatialindex.pc '/usr/local/lib/pkgconfig'\n",
      "make[3]: Leaving directory '/content/spatialindex-src-1.8.5/src'\n",
      "make[2]: Leaving directory '/content/spatialindex-src-1.8.5/src'\n",
      "make[1]: Leaving directory '/content/spatialindex-src-1.8.5/src'\n",
      "Making install in .\n",
      "make[1]: Entering directory '/content/spatialindex-src-1.8.5'\n",
      "make[2]: Entering directory '/content/spatialindex-src-1.8.5'\n",
      " /bin/mkdir -p '/usr/local/lib'\n",
      " /bin/bash ./libtool   --mode=install /usr/bin/install -c   libspatialindex.la libspatialindex_c.la '/usr/local/lib'\n",
      "libtool: install: /usr/bin/install -c .libs/libspatialindex.so.4.0.1 /usr/local/lib/libspatialindex.so.4.0.1\n",
      "libtool: install: (cd /usr/local/lib && { ln -s -f libspatialindex.so.4.0.1 libspatialindex.so.4 || { rm -f libspatialindex.so.4 && ln -s libspatialindex.so.4.0.1 libspatialindex.so.4; }; })\n",
      "libtool: install: (cd /usr/local/lib && { ln -s -f libspatialindex.so.4.0.1 libspatialindex.so || { rm -f libspatialindex.so && ln -s libspatialindex.so.4.0.1 libspatialindex.so; }; })\n",
      "libtool: install: /usr/bin/install -c .libs/libspatialindex.lai /usr/local/lib/libspatialindex.la\n",
      "libtool: install: warning: relinking `libspatialindex_c.la'\n",
      "libtool: install: (cd /content/spatialindex-src-1.8.5; /bin/bash /content/spatialindex-src-1.8.5/libtool  --tag CC --mode=relink gcc -Wall -Wno-long-long -pedantic -version-info 4:1:0 -no-undefined -lstdc++ -o libspatialindex_c.la -rpath /usr/local/lib libspatialindex.la src/capi/libsidxc.la -lpthread )\n",
      "libtool: relink: gcc -shared  -fPIC -DPIC  -Wl,--whole-archive src/capi/.libs/libsidxc.a -Wl,--no-whole-archive  -lstdc++ -L/usr/local/lib -lspatialindex -lpthread    -Wl,-soname -Wl,libspatialindex_c.so.4 -o .libs/libspatialindex_c.so.4.0.1\n",
      "libtool: install: /usr/bin/install -c .libs/libspatialindex_c.so.4.0.1T /usr/local/lib/libspatialindex_c.so.4.0.1\n",
      "libtool: install: (cd /usr/local/lib && { ln -s -f libspatialindex_c.so.4.0.1 libspatialindex_c.so.4 || { rm -f libspatialindex_c.so.4 && ln -s libspatialindex_c.so.4.0.1 libspatialindex_c.so.4; }; })\n",
      "libtool: install: (cd /usr/local/lib && { ln -s -f libspatialindex_c.so.4.0.1 libspatialindex_c.so || { rm -f libspatialindex_c.so && ln -s libspatialindex_c.so.4.0.1 libspatialindex_c.so; }; })\n",
      "libtool: install: /usr/bin/install -c .libs/libspatialindex_c.lai /usr/local/lib/libspatialindex_c.la\n",
      "libtool: install: /usr/bin/install -c .libs/libspatialindex.a /usr/local/lib/libspatialindex.a\n",
      "libtool: install: chmod 644 /usr/local/lib/libspatialindex.a\n",
      "libtool: install: ranlib /usr/local/lib/libspatialindex.a\n",
      "libtool: install: /usr/bin/install -c .libs/libspatialindex_c.a /usr/local/lib/libspatialindex_c.a\n",
      "libtool: install: chmod 644 /usr/local/lib/libspatialindex_c.a\n",
      "libtool: install: ranlib /usr/local/lib/libspatialindex_c.a\n",
      "libtool: finish: PATH=\"/usr/local/nvidia/bin:/usr/local/cuda/bin:/usr/local/sbin:/usr/local/bin:/usr/sbin:/usr/bin:/sbin:/bin:/tools/node/bin:/tools/google-cloud-sdk/bin:/opt/bin:/sbin\" ldconfig -n /usr/local/lib\n",
      "----------------------------------------------------------------------\n",
      "Libraries have been installed in:\n",
      "   /usr/local/lib\n",
      "\n",
      "If you ever happen to want to link against installed libraries\n",
      "in a given directory, LIBDIR, you must either use libtool, and\n",
      "specify the full pathname of the library, or use the `-LLIBDIR'\n",
      "flag during linking and do at least one of the following:\n",
      "   - add LIBDIR to the `LD_LIBRARY_PATH' environment variable\n",
      "     during execution\n",
      "   - add LIBDIR to the `LD_RUN_PATH' environment variable\n",
      "     during linking\n",
      "   - use the `-Wl,-rpath -Wl,LIBDIR' linker flag\n",
      "   - have your system administrator add LIBDIR to `/etc/ld.so.conf'\n",
      "\n",
      "See any operating system documentation about shared libraries for\n",
      "more information, such as the ld(1) and ld.so(8) manual pages.\n",
      "----------------------------------------------------------------------\n",
      "make[2]: Nothing to be done for 'install-data-am'.\n",
      "make[2]: Leaving directory '/content/spatialindex-src-1.8.5'\n",
      "make[1]: Leaving directory '/content/spatialindex-src-1.8.5'\n",
      "Making install in test\n",
      "make[1]: Entering directory '/content/spatialindex-src-1.8.5/test'\n",
      "Making install in geometry\n",
      "make[2]: Entering directory '/content/spatialindex-src-1.8.5/test/geometry'\n",
      "make[3]: Entering directory '/content/spatialindex-src-1.8.5/test/geometry'\n",
      "make[3]: Nothing to be done for 'install-exec-am'.\n",
      "make[3]: Nothing to be done for 'install-data-am'.\n",
      "make[3]: Leaving directory '/content/spatialindex-src-1.8.5/test/geometry'\n",
      "make[2]: Leaving directory '/content/spatialindex-src-1.8.5/test/geometry'\n",
      "Making install in rtree\n",
      "make[2]: Entering directory '/content/spatialindex-src-1.8.5/test/rtree'\n",
      "make[3]: Entering directory '/content/spatialindex-src-1.8.5/test/rtree'\n",
      "make[3]: Nothing to be done for 'install-exec-am'.\n",
      "make[3]: Nothing to be done for 'install-data-am'.\n",
      "make[3]: Leaving directory '/content/spatialindex-src-1.8.5/test/rtree'\n",
      "make[2]: Leaving directory '/content/spatialindex-src-1.8.5/test/rtree'\n",
      "Making install in mvrtree\n",
      "make[2]: Entering directory '/content/spatialindex-src-1.8.5/test/mvrtree'\n",
      "make[3]: Entering directory '/content/spatialindex-src-1.8.5/test/mvrtree'\n",
      "make[3]: Nothing to be done for 'install-exec-am'.\n",
      "make[3]: Nothing to be done for 'install-data-am'.\n",
      "make[3]: Leaving directory '/content/spatialindex-src-1.8.5/test/mvrtree'\n",
      "make[2]: Leaving directory '/content/spatialindex-src-1.8.5/test/mvrtree'\n",
      "Making install in tprtree\n",
      "make[2]: Entering directory '/content/spatialindex-src-1.8.5/test/tprtree'\n",
      "make[3]: Entering directory '/content/spatialindex-src-1.8.5/test/tprtree'\n",
      "make[3]: Nothing to be done for 'install-exec-am'.\n",
      "make[3]: Nothing to be done for 'install-data-am'.\n",
      "make[3]: Leaving directory '/content/spatialindex-src-1.8.5/test/tprtree'\n",
      "make[2]: Leaving directory '/content/spatialindex-src-1.8.5/test/tprtree'\n",
      "make[2]: Entering directory '/content/spatialindex-src-1.8.5/test'\n",
      "make[3]: Entering directory '/content/spatialindex-src-1.8.5/test'\n",
      "make[3]: Nothing to be done for 'install-exec-am'.\n",
      "make[3]: Nothing to be done for 'install-data-am'.\n",
      "make[3]: Leaving directory '/content/spatialindex-src-1.8.5/test'\n",
      "make[2]: Leaving directory '/content/spatialindex-src-1.8.5/test'\n",
      "make[1]: Leaving directory '/content/spatialindex-src-1.8.5/test'\n",
      "Making install in include\n",
      "make[1]: Entering directory '/content/spatialindex-src-1.8.5/include'\n",
      "make[2]: Entering directory '/content/spatialindex-src-1.8.5/include'\n",
      "make[2]: Nothing to be done for 'install-exec-am'.\n",
      " /bin/mkdir -p '/usr/local/include'\n",
      " /bin/mkdir -p '/usr/local/include/spatialindex/tools'\n",
      " /usr/bin/install -c -m 644  spatialindex/tools/PointerPool.h spatialindex/tools/PoolPointer.h spatialindex/tools/rand48.h spatialindex/tools/SmartPointer.h spatialindex/tools/Tools.h '/usr/local/include/spatialindex/tools'\n",
      " /bin/mkdir -p '/usr/local/include/spatialindex'\n",
      " /usr/bin/install -c -m 644  spatialindex/SpatialIndex.h spatialindex/RTree.h spatialindex/MVRTree.h spatialindex/TPRTree.h spatialindex/Point.h spatialindex/Region.h spatialindex/LineSegment.h spatialindex/TimePoint.h spatialindex/TimeRegion.h spatialindex/MovingPoint.h spatialindex/MovingRegion.h spatialindex/Version.h '/usr/local/include/spatialindex'\n",
      " /bin/mkdir -p '/usr/local/include/spatialindex/capi'\n",
      " /usr/bin/install -c -m 644  spatialindex/capi/BoundsQuery.h spatialindex/capi/CountVisitor.h spatialindex/capi/CustomStorage.h spatialindex/capi/DataStream.h spatialindex/capi/Error.h spatialindex/capi/IdVisitor.h spatialindex/capi/Index.h spatialindex/capi/LeafQuery.h spatialindex/capi/ObjVisitor.h spatialindex/capi/sidx_api.h spatialindex/capi/sidx_export.h spatialindex/capi/sidx_config.h spatialindex/capi/sidx_impl.h spatialindex/capi/Utility.h '/usr/local/include/spatialindex/capi'\n",
      "make[2]: Leaving directory '/content/spatialindex-src-1.8.5/include'\n",
      "make[1]: Leaving directory '/content/spatialindex-src-1.8.5/include'\n",
      "Collecting rtree\n",
      "  Downloading Rtree-0.9.7-cp37-cp37m-manylinux2010_x86_64.whl (994 kB)\n",
      "\u001b[K     |████████████████████████████████| 994 kB 5.2 MB/s \n",
      "\u001b[?25hInstalling collected packages: rtree\n",
      "Successfully installed rtree-0.9.7\n",
      "/sbin/ldconfig.real: /usr/local/lib/python3.7/dist-packages/ideep4py/lib/libmkldnn.so.0 is not a symbolic link\n",
      "\n",
      "Collecting scikit-mobility\n",
      "  Downloading scikit_mobility-1.2.2-py3-none-any.whl (153 kB)\n",
      "\u001b[K     |████████████████████████████████| 153 kB 5.2 MB/s \n",
      "\u001b[?25hCollecting python-igraph\n",
      "  Downloading python_igraph-0.9.6-cp37-cp37m-manylinux2010_x86_64.whl (3.2 MB)\n",
      "\u001b[K     |████████████████████████████████| 3.2 MB 44.2 MB/s \n",
      "\u001b[?25hRequirement already satisfied: scikit-learn in /usr/local/lib/python3.7/dist-packages (from scikit-mobility) (0.22.2.post1)\n",
      "Collecting geopandas\n",
      "  Downloading geopandas-0.9.0-py2.py3-none-any.whl (994 kB)\n",
      "\u001b[K     |████████████████████████████████| 994 kB 71.8 MB/s \n",
      "\u001b[?25hCollecting geojson\n",
      "  Downloading geojson-2.5.0-py2.py3-none-any.whl (14 kB)\n",
      "Requirement already satisfied: statsmodels in /usr/local/lib/python3.7/dist-packages (from scikit-mobility) (0.10.2)\n",
      "Collecting h3\n",
      "  Downloading h3-3.7.3-cp37-cp37m-manylinux2010_x86_64.whl (793 kB)\n",
      "\u001b[K     |████████████████████████████████| 793 kB 43.4 MB/s \n",
      "\u001b[?25hRequirement already satisfied: tqdm in /usr/local/lib/python3.7/dist-packages (from scikit-mobility) (4.41.1)\n",
      "Collecting powerlaw\n",
      "  Downloading powerlaw-1.4.6.tar.gz (27 kB)\n",
      "Requirement already satisfied: folium in /usr/local/lib/python3.7/dist-packages (from scikit-mobility) (0.8.3)\n",
      "Requirement already satisfied: requests in /usr/local/lib/python3.7/dist-packages (from scikit-mobility) (2.23.0)\n",
      "Requirement already satisfied: pandas in /usr/local/lib/python3.7/dist-packages (from scikit-mobility) (1.1.5)\n",
      "Requirement already satisfied: jinja2 in /usr/local/lib/python3.7/dist-packages (from folium->scikit-mobility) (2.11.3)\n",
      "Requirement already satisfied: numpy in /usr/local/lib/python3.7/dist-packages (from folium->scikit-mobility) (1.19.5)\n",
      "Requirement already satisfied: branca>=0.3.0 in /usr/local/lib/python3.7/dist-packages (from folium->scikit-mobility) (0.4.2)\n",
      "Requirement already satisfied: six in /usr/local/lib/python3.7/dist-packages (from folium->scikit-mobility) (1.15.0)\n",
      "Collecting pyproj>=2.2.0\n",
      "  Downloading pyproj-3.1.0-cp37-cp37m-manylinux2010_x86_64.whl (6.6 MB)\n",
      "\u001b[K     |████████████████████████████████| 6.6 MB 55.4 MB/s \n",
      "\u001b[?25hRequirement already satisfied: shapely>=1.6 in /usr/local/lib/python3.7/dist-packages (from geopandas->scikit-mobility) (1.7.1)\n",
      "Collecting fiona>=1.8\n",
      "  Downloading Fiona-1.8.20-cp37-cp37m-manylinux1_x86_64.whl (15.4 MB)\n",
      "\u001b[K     |████████████████████████████████| 15.4 MB 36 kB/s \n",
      "\u001b[?25hRequirement already satisfied: certifi in /usr/local/lib/python3.7/dist-packages (from fiona>=1.8->geopandas->scikit-mobility) (2021.5.30)\n",
      "Requirement already satisfied: click>=4.0 in /usr/local/lib/python3.7/dist-packages (from fiona>=1.8->geopandas->scikit-mobility) (7.1.2)\n",
      "Requirement already satisfied: setuptools in /usr/local/lib/python3.7/dist-packages (from fiona>=1.8->geopandas->scikit-mobility) (57.2.0)\n",
      "Collecting cligj>=0.5\n",
      "  Downloading cligj-0.7.2-py3-none-any.whl (7.1 kB)\n",
      "Collecting click-plugins>=1.0\n",
      "  Downloading click_plugins-1.1.1-py2.py3-none-any.whl (7.5 kB)\n",
      "Requirement already satisfied: attrs>=17 in /usr/local/lib/python3.7/dist-packages (from fiona>=1.8->geopandas->scikit-mobility) (21.2.0)\n",
      "Collecting munch\n",
      "  Downloading munch-2.5.0-py2.py3-none-any.whl (10 kB)\n",
      "Requirement already satisfied: python-dateutil>=2.7.3 in /usr/local/lib/python3.7/dist-packages (from pandas->scikit-mobility) (2.8.1)\n",
      "Requirement already satisfied: pytz>=2017.2 in /usr/local/lib/python3.7/dist-packages (from pandas->scikit-mobility) (2018.9)\n",
      "Requirement already satisfied: MarkupSafe>=0.23 in /usr/local/lib/python3.7/dist-packages (from jinja2->folium->scikit-mobility) (2.0.1)\n",
      "Requirement already satisfied: scipy in /usr/local/lib/python3.7/dist-packages (from powerlaw->scikit-mobility) (1.4.1)\n",
      "Requirement already satisfied: matplotlib in /usr/local/lib/python3.7/dist-packages (from powerlaw->scikit-mobility) (3.2.2)\n",
      "Requirement already satisfied: mpmath in /usr/local/lib/python3.7/dist-packages (from powerlaw->scikit-mobility) (1.2.1)\n",
      "Requirement already satisfied: pyparsing!=2.0.4,!=2.1.2,!=2.1.6,>=2.0.1 in /usr/local/lib/python3.7/dist-packages (from matplotlib->powerlaw->scikit-mobility) (2.4.7)\n",
      "Requirement already satisfied: cycler>=0.10 in /usr/local/lib/python3.7/dist-packages (from matplotlib->powerlaw->scikit-mobility) (0.10.0)\n",
      "Requirement already satisfied: kiwisolver>=1.0.1 in /usr/local/lib/python3.7/dist-packages (from matplotlib->powerlaw->scikit-mobility) (1.3.1)\n",
      "Collecting texttable>=1.6.2\n",
      "  Downloading texttable-1.6.4-py2.py3-none-any.whl (10 kB)\n",
      "Requirement already satisfied: urllib3!=1.25.0,!=1.25.1,<1.26,>=1.21.1 in /usr/local/lib/python3.7/dist-packages (from requests->scikit-mobility) (1.24.3)\n",
      "Requirement already satisfied: idna<3,>=2.5 in /usr/local/lib/python3.7/dist-packages (from requests->scikit-mobility) (2.10)\n",
      "Requirement already satisfied: chardet<4,>=3.0.2 in /usr/local/lib/python3.7/dist-packages (from requests->scikit-mobility) (3.0.4)\n",
      "Requirement already satisfied: joblib>=0.11 in /usr/local/lib/python3.7/dist-packages (from scikit-learn->scikit-mobility) (1.0.1)\n",
      "Requirement already satisfied: patsy>=0.4.0 in /usr/local/lib/python3.7/dist-packages (from statsmodels->scikit-mobility) (0.5.1)\n",
      "Building wheels for collected packages: powerlaw\n",
      "  Building wheel for powerlaw (setup.py) ... \u001b[?25l\u001b[?25hdone\n",
      "  Created wheel for powerlaw: filename=powerlaw-1.4.6-py3-none-any.whl size=24786 sha256=c092650f11e2c947993f5eaccd90a578ae9e79843601471ea20367eb3f88d7de\n",
      "  Stored in directory: /root/.cache/pip/wheels/ee/51/38/2e0f20cf80e1a0909acdd527df2288bd9feb8356b926d7d775\n",
      "Successfully built powerlaw\n",
      "Installing collected packages: munch, cligj, click-plugins, texttable, pyproj, fiona, python-igraph, powerlaw, h3, geopandas, geojson, scikit-mobility\n",
      "Successfully installed click-plugins-1.1.1 cligj-0.7.2 fiona-1.8.20 geojson-2.5.0 geopandas-0.9.0 h3-3.7.3 munch-2.5.0 powerlaw-1.4.6 pyproj-3.1.0 python-igraph-0.9.6 scikit-mobility-1.2.2 texttable-1.6.4\n"
     ]
    }
   ],
   "source": [
    "!apt-get install -qq curl g++ make\n",
    "!curl -L http://download.osgeo.org/libspatialindex/spatialindex-src-1.8.5.tar.gz | tar xz\n",
    "import os\n",
    "os.chdir('spatialindex-src-1.8.5')\n",
    "!./configure\n",
    "!make\n",
    "!make install\n",
    "!pip install rtree\n",
    "!ldconfig\n",
    "!pip install scikit-mobility\n"
   ]
  },
  {
   "cell_type": "code",
   "execution_count": 63,
   "metadata": {
    "id": "BB5s9VzX1uRo"
   },
   "outputs": [],
   "source": [
    "import datetime\n",
    "def get_nday_list(n):\n",
    "    before_n_days = []\n",
    "    for i in range(1, n + 1)[::-1]:\n",
    "        before_n_days.append(str(datetime.date.today() - datetime.timedelta(days=i)))\n",
    "    return before_n_days\n",
    "\n",
    "a = get_nday_list(traj[0].shape[0])\n",
    "b = get_nday_list(traj[717].shape[0])\n",
    "c = get_nday_list(traj[855].shape[0])\n",
    "d = get_nday_list(traj[795].shape[0])\n",
    "e = get_nday_list(traj[386].shape[0])\n",
    "f = get_nday_list(traj[755].shape[0])"
   ]
  },
  {
   "cell_type": "code",
   "execution_count": 48,
   "metadata": {
    "colab": {
     "base_uri": "https://localhost:8080/",
     "height": 204
    },
    "id": "Sj5pCKdN3dgR",
    "outputId": "c0c35c91-b1fc-41bd-80b8-1a7b084ef5c5"
   },
   "outputs": [
    {
     "data": {
      "text/html": [
       "<div>\n",
       "<style scoped>\n",
       "    .dataframe tbody tr th:only-of-type {\n",
       "        vertical-align: middle;\n",
       "    }\n",
       "\n",
       "    .dataframe tbody tr th {\n",
       "        vertical-align: top;\n",
       "    }\n",
       "\n",
       "    .dataframe thead th {\n",
       "        text-align: right;\n",
       "    }\n",
       "</style>\n",
       "<table border=\"1\" class=\"dataframe\">\n",
       "  <thead>\n",
       "    <tr style=\"text-align: right;\">\n",
       "      <th></th>\n",
       "      <th>0</th>\n",
       "      <th>1</th>\n",
       "      <th>datetime</th>\n",
       "      <th>uid</th>\n",
       "    </tr>\n",
       "  </thead>\n",
       "  <tbody>\n",
       "    <tr>\n",
       "      <th>0</th>\n",
       "      <td>-8.639847</td>\n",
       "      <td>41.159826</td>\n",
       "      <td>2021-07-23</td>\n",
       "      <td>1</td>\n",
       "    </tr>\n",
       "    <tr>\n",
       "      <th>1</th>\n",
       "      <td>-8.640351</td>\n",
       "      <td>41.159871</td>\n",
       "      <td>2021-07-24</td>\n",
       "      <td>1</td>\n",
       "    </tr>\n",
       "    <tr>\n",
       "      <th>2</th>\n",
       "      <td>-8.642196</td>\n",
       "      <td>41.160114</td>\n",
       "      <td>2021-07-25</td>\n",
       "      <td>1</td>\n",
       "    </tr>\n",
       "    <tr>\n",
       "      <th>3</th>\n",
       "      <td>-8.644455</td>\n",
       "      <td>41.160492</td>\n",
       "      <td>2021-07-26</td>\n",
       "      <td>1</td>\n",
       "    </tr>\n",
       "    <tr>\n",
       "      <th>4</th>\n",
       "      <td>-8.646921</td>\n",
       "      <td>41.160951</td>\n",
       "      <td>2021-07-27</td>\n",
       "      <td>1</td>\n",
       "    </tr>\n",
       "  </tbody>\n",
       "</table>\n",
       "</div>"
      ],
      "text/plain": [
       "          0          1    datetime  uid\n",
       "0 -8.639847  41.159826  2021-07-23    1\n",
       "1 -8.640351  41.159871  2021-07-24    1\n",
       "2 -8.642196  41.160114  2021-07-25    1\n",
       "3 -8.644455  41.160492  2021-07-26    1\n",
       "4 -8.646921  41.160951  2021-07-27    1"
      ]
     },
     "execution_count": 48,
     "metadata": {
      "tags": []
     },
     "output_type": "execute_result"
    }
   ],
   "source": [
    "df1 = pd.DataFrame(traj[0])\n",
    "df1['datetime'] = a\n",
    "df1['uid'] =1\n",
    "df1.head()"
   ]
  },
  {
   "cell_type": "code",
   "execution_count": 50,
   "metadata": {
    "colab": {
     "base_uri": "https://localhost:8080/",
     "height": 204
    },
    "id": "Tzkiq-NJ4Wpx",
    "outputId": "d5db720d-5ec9-472b-e46d-68f8b8a8fd21"
   },
   "outputs": [
    {
     "data": {
      "text/html": [
       "<div>\n",
       "<style scoped>\n",
       "    .dataframe tbody tr th:only-of-type {\n",
       "        vertical-align: middle;\n",
       "    }\n",
       "\n",
       "    .dataframe tbody tr th {\n",
       "        vertical-align: top;\n",
       "    }\n",
       "\n",
       "    .dataframe thead th {\n",
       "        text-align: right;\n",
       "    }\n",
       "</style>\n",
       "<table border=\"1\" class=\"dataframe\">\n",
       "  <thead>\n",
       "    <tr style=\"text-align: right;\">\n",
       "      <th></th>\n",
       "      <th>0</th>\n",
       "      <th>1</th>\n",
       "      <th>datetime</th>\n",
       "      <th>uid</th>\n",
       "    </tr>\n",
       "  </thead>\n",
       "  <tbody>\n",
       "    <tr>\n",
       "      <th>0</th>\n",
       "      <td>-8.607186</td>\n",
       "      <td>41.145633</td>\n",
       "      <td>2021-04-26</td>\n",
       "      <td>2</td>\n",
       "    </tr>\n",
       "    <tr>\n",
       "      <th>1</th>\n",
       "      <td>-8.607213</td>\n",
       "      <td>41.145651</td>\n",
       "      <td>2021-04-27</td>\n",
       "      <td>2</td>\n",
       "    </tr>\n",
       "    <tr>\n",
       "      <th>2</th>\n",
       "      <td>-8.607033</td>\n",
       "      <td>41.145939</td>\n",
       "      <td>2021-04-28</td>\n",
       "      <td>2</td>\n",
       "    </tr>\n",
       "    <tr>\n",
       "      <th>3</th>\n",
       "      <td>-8.606934</td>\n",
       "      <td>41.146470</td>\n",
       "      <td>2021-04-29</td>\n",
       "      <td>2</td>\n",
       "    </tr>\n",
       "    <tr>\n",
       "      <th>4</th>\n",
       "      <td>-8.606871</td>\n",
       "      <td>41.146596</td>\n",
       "      <td>2021-04-30</td>\n",
       "      <td>2</td>\n",
       "    </tr>\n",
       "  </tbody>\n",
       "</table>\n",
       "</div>"
      ],
      "text/plain": [
       "          0          1    datetime  uid\n",
       "0 -8.607186  41.145633  2021-04-26    2\n",
       "1 -8.607213  41.145651  2021-04-27    2\n",
       "2 -8.607033  41.145939  2021-04-28    2\n",
       "3 -8.606934  41.146470  2021-04-29    2\n",
       "4 -8.606871  41.146596  2021-04-30    2"
      ]
     },
     "execution_count": 50,
     "metadata": {
      "tags": []
     },
     "output_type": "execute_result"
    }
   ],
   "source": [
    "df2 = pd.DataFrame(traj[717])\n",
    "df2['datetime'] = b\n",
    "df2['uid'] =2\n",
    "df2.head()"
   ]
  },
  {
   "cell_type": "code",
   "execution_count": 52,
   "metadata": {
    "id": "r-J-WBHD4ow6"
   },
   "outputs": [],
   "source": [
    "df = pd.concat([df1,df2])"
   ]
  },
  {
   "cell_type": "code",
   "execution_count": 53,
   "metadata": {
    "id": "TWGXnOu60LUL"
   },
   "outputs": [],
   "source": [
    "import skmob\n",
    "tdf = skmob.TrajDataFrame(df, latitude=0, longitude=1, datetime=2,user_id=3)"
   ]
  },
  {
   "cell_type": "code",
   "execution_count": 59,
   "metadata": {
    "colab": {
     "base_uri": "https://localhost:8080/",
     "height": 896
    },
    "id": "0R9gahqy35p-",
    "outputId": "931af841-46d6-42a9-c8ca-0933552413af"
   },
   "outputs": [
    {
     "name": "stderr",
     "output_type": "stream",
     "text": [
      "/usr/local/lib/python3.7/dist-packages/skmob/utils/plot.py:133: UserWarning: Only the trajectories of the first 10 users will be plotted. Use the argument `max_users` to specify the desired number of users, or filter the TrajDataFrame.\n",
      "  warnings.warn(\"Only the trajectories of the first 10 users will be plotted. Use the argument `max_users` to specify the desired number of users, or filter the TrajDataFrame.\")\n",
      "/usr/local/lib/python3.7/dist-packages/skmob/utils/plot.py:158: UserWarning: If necessary, trajectories will be down-sampled to have at most `max_points` points. To avoid this, sepecify `max_points=None`.\n",
      "  warnings.warn(\"If necessary, trajectories will be down-sampled to have at most `max_points` points. To avoid this, sepecify `max_points=None`.\")\n"
     ]
    },
    {
     "data": {
      "text/html": [
       "<div style=\"width:100%;\"><div style=\"position:relative;width:100%;height:0;padding-bottom:60%;\"><span style=\"color:#565656\">Make this Notebook Trusted to load map: File -> Trust Notebook</span><iframe src=\"about:blank\" style=\"position:absolute;width:100%;height:100%;left:0;top:0;border:none !important;\" data-html=%3C%21DOCTYPE%20html%3E%0A%3Chead%3E%20%20%20%20%0A%20%20%20%20%3Cmeta%20http-equiv%3D%22content-type%22%20content%3D%22text/html%3B%20charset%3DUTF-8%22%20/%3E%0A%20%20%20%20%3Cscript%3EL_PREFER_CANVAS%3Dfalse%3B%20L_NO_TOUCH%3Dfalse%3B%20L_DISABLE_3D%3Dfalse%3B%3C/script%3E%0A%20%20%20%20%3Cscript%20src%3D%22https%3A//cdn.jsdelivr.net/npm/leaflet%401.4.0/dist/leaflet.js%22%3E%3C/script%3E%0A%20%20%20%20%3Cscript%20src%3D%22https%3A//code.jquery.com/jquery-1.12.4.min.js%22%3E%3C/script%3E%0A%20%20%20%20%3Cscript%20src%3D%22https%3A//maxcdn.bootstrapcdn.com/bootstrap/3.2.0/js/bootstrap.min.js%22%3E%3C/script%3E%0A%20%20%20%20%3Cscript%20src%3D%22https%3A//cdnjs.cloudflare.com/ajax/libs/Leaflet.awesome-markers/2.0.2/leaflet.awesome-markers.js%22%3E%3C/script%3E%0A%20%20%20%20%3Clink%20rel%3D%22stylesheet%22%20href%3D%22https%3A//cdn.jsdelivr.net/npm/leaflet%401.4.0/dist/leaflet.css%22/%3E%0A%20%20%20%20%3Clink%20rel%3D%22stylesheet%22%20href%3D%22https%3A//maxcdn.bootstrapcdn.com/bootstrap/3.2.0/css/bootstrap.min.css%22/%3E%0A%20%20%20%20%3Clink%20rel%3D%22stylesheet%22%20href%3D%22https%3A//maxcdn.bootstrapcdn.com/bootstrap/3.2.0/css/bootstrap-theme.min.css%22/%3E%0A%20%20%20%20%3Clink%20rel%3D%22stylesheet%22%20href%3D%22https%3A//maxcdn.bootstrapcdn.com/font-awesome/4.6.3/css/font-awesome.min.css%22/%3E%0A%20%20%20%20%3Clink%20rel%3D%22stylesheet%22%20href%3D%22https%3A//cdnjs.cloudflare.com/ajax/libs/Leaflet.awesome-markers/2.0.2/leaflet.awesome-markers.css%22/%3E%0A%20%20%20%20%3Clink%20rel%3D%22stylesheet%22%20href%3D%22https%3A//rawcdn.githack.com/python-visualization/folium/master/folium/templates/leaflet.awesome.rotate.css%22/%3E%0A%20%20%20%20%3Cstyle%3Ehtml%2C%20body%20%7Bwidth%3A%20100%25%3Bheight%3A%20100%25%3Bmargin%3A%200%3Bpadding%3A%200%3B%7D%3C/style%3E%0A%20%20%20%20%3Cstyle%3E%23map%20%7Bposition%3Aabsolute%3Btop%3A0%3Bbottom%3A0%3Bright%3A0%3Bleft%3A0%3B%7D%3C/style%3E%0A%20%20%20%20%0A%20%20%20%20%3Cmeta%20name%3D%22viewport%22%20content%3D%22width%3Ddevice-width%2C%0A%20%20%20%20%20%20%20%20initial-scale%3D1.0%2C%20maximum-scale%3D1.0%2C%20user-scalable%3Dno%22%20/%3E%0A%20%20%20%20%3Cstyle%3E%23map_c236480d70f64cfb8586deefb7f42bbb%20%7B%0A%20%20%20%20%20%20%20%20position%3A%20relative%3B%0A%20%20%20%20%20%20%20%20width%3A%20100.0%25%3B%0A%20%20%20%20%20%20%20%20height%3A%20100.0%25%3B%0A%20%20%20%20%20%20%20%20left%3A%200.0%25%3B%0A%20%20%20%20%20%20%20%20top%3A%200.0%25%3B%0A%20%20%20%20%20%20%20%20%7D%0A%20%20%20%20%3C/style%3E%0A%3C/head%3E%0A%3Cbody%3E%20%20%20%20%0A%20%20%20%20%0A%20%20%20%20%3Cdiv%20class%3D%22folium-map%22%20id%3D%22map_c236480d70f64cfb8586deefb7f42bbb%22%20%3E%3C/div%3E%0A%3C/body%3E%0A%3Cscript%3E%20%20%20%20%0A%20%20%20%20%0A%20%20%20%20%0A%20%20%20%20%20%20%20%20var%20bounds%20%3D%20null%3B%0A%20%20%20%20%0A%0A%20%20%20%20var%20map_c236480d70f64cfb8586deefb7f42bbb%20%3D%20L.map%28%0A%20%20%20%20%20%20%20%20%27map_c236480d70f64cfb8586deefb7f42bbb%27%2C%20%7B%0A%20%20%20%20%20%20%20%20center%3A%20%5B-8.663112%2C%2041.163687%5D%2C%0A%20%20%20%20%20%20%20%20zoom%3A%2013%2C%0A%20%20%20%20%20%20%20%20maxBounds%3A%20bounds%2C%0A%20%20%20%20%20%20%20%20layers%3A%20%5B%5D%2C%0A%20%20%20%20%20%20%20%20worldCopyJump%3A%20false%2C%0A%20%20%20%20%20%20%20%20crs%3A%20L.CRS.EPSG3857%2C%0A%20%20%20%20%20%20%20%20zoomControl%3A%20true%2C%0A%20%20%20%20%20%20%20%20%7D%29%3B%0AL.control.scale%28%29.addTo%28map_c236480d70f64cfb8586deefb7f42bbb%29%3B%0A%0A%20%20%20%20%0A%20%20%20%20var%20tile_layer_3bea873d57a74ffcaf34f0da7874193f%20%3D%20L.tileLayer%28%0A%20%20%20%20%20%20%20%20%27https%3A//cartodb-basemaps-%7Bs%7D.global.ssl.fastly.net/light_all/%7Bz%7D/%7Bx%7D/%7By%7D.png%27%2C%0A%20%20%20%20%20%20%20%20%7B%0A%20%20%20%20%20%20%20%20%22attribution%22%3A%20null%2C%0A%20%20%20%20%20%20%20%20%22detectRetina%22%3A%20false%2C%0A%20%20%20%20%20%20%20%20%22maxNativeZoom%22%3A%2018%2C%0A%20%20%20%20%20%20%20%20%22maxZoom%22%3A%2018%2C%0A%20%20%20%20%20%20%20%20%22minZoom%22%3A%200%2C%0A%20%20%20%20%20%20%20%20%22noWrap%22%3A%20false%2C%0A%20%20%20%20%20%20%20%20%22opacity%22%3A%201%2C%0A%20%20%20%20%20%20%20%20%22subdomains%22%3A%20%22abc%22%2C%0A%20%20%20%20%20%20%20%20%22tms%22%3A%20false%0A%7D%29.addTo%28map_c236480d70f64cfb8586deefb7f42bbb%29%3B%0A%20%20%20%20%0A%20%20%20%20%20%20%20%20var%20geo_json_a87370ecc5834e3f8eef8d690b373913%20%3D%20L.geoJson%28%0A%20%20%20%20%20%20%20%20%20%20%20%20%7B%22features%22%3A%20%5B%7B%22geometry%22%3A%20%7B%22coordinates%22%3A%20%5B%5B41.159826%2C%20-8.639847%5D%2C%20%5B41.159871%2C%20-8.640351%5D%2C%20%5B41.160114%2C%20-8.642196%5D%2C%20%5B41.160492%2C%20-8.644455%5D%2C%20%5B41.160951%2C%20-8.646921%5D%2C%20%5B41.161491%2C%20-8.649999%5D%2C%20%5B41.162031%2C%20-8.653167%5D%2C%20%5B41.16258%2C%20-8.656434%5D%2C%20%5B41.163192%2C%20-8.660178%5D%2C%20%5B41.163687%2C%20-8.663112%5D%2C%20%5B41.1642%2C%20-8.666235%5D%2C%20%5B41.164704%2C%20-8.669169%5D%2C%20%5B41.165136%2C%20-8.670852%5D%2C%20%5B41.166576%2C%20-8.670942%5D%2C%20%5B41.167962%2C%20-8.66961%5D%2C%20%5B41.168988%2C%20-8.668098%5D%2C%20%5B41.170005%2C%20-8.66664%5D%2C%20%5B41.170635%2C%20-8.665767%5D%2C%20%5B41.170671%2C%20-8.66574%5D%5D%2C%20%22type%22%3A%20%22LineString%22%7D%2C%20%22properties%22%3A%20%7B%22highlight%22%3A%20%7B%7D%2C%20%22style%22%3A%20%7B%22color%22%3A%20%22%23008169%22%2C%20%22dashArray%22%3A%20%220%2C%200%22%2C%20%22opacity%22%3A%200.9%2C%20%22weight%22%3A%203%7D%7D%2C%20%22type%22%3A%20%22Feature%22%7D%5D%2C%20%22type%22%3A%20%22FeatureCollection%22%7D%2C%0A%20%20%20%20%20%20%20%20%20%20%20%20%7B%0A%20%20%20%20%20%20%20%20%20%20%20%20%7D%0A%20%20%20%20%20%20%20%20%29.addTo%28map_c236480d70f64cfb8586deefb7f42bbb%20%29%3B%0A%20%20%20%20%20%20%20%20geo_json_a87370ecc5834e3f8eef8d690b373913.setStyle%28function%28feature%29%20%7Breturn%20feature.properties.style%3B%7D%29%3B%0A%20%20%20%20%20%20%20%20%0A%20%20%20%20%0A%20%20%20%20%20%20%20%20var%20marker_5f5ca53fb9e44575b206013998864208%20%3D%20L.marker%28%0A%20%20%20%20%20%20%20%20%20%20%20%20%5B-8.639847%2C%2041.159826%5D%2C%0A%20%20%20%20%20%20%20%20%20%20%20%20%7B%0A%20%20%20%20%20%20%20%20%20%20%20%20%20%20%20%20icon%3A%20new%20L.Icon.Default%28%29%2C%0A%20%20%20%20%20%20%20%20%20%20%20%20%20%20%20%20%7D%0A%20%20%20%20%20%20%20%20%20%20%20%20%29.addTo%28map_c236480d70f64cfb8586deefb7f42bbb%29%3B%0A%20%20%20%20%20%20%20%20%0A%20%20%20%20%0A%0A%20%20%20%20%20%20%20%20%20%20%20%20%20%20%20%20var%20icon_037f4495e222476f9d74faa3a06918ca%20%3D%20L.AwesomeMarkers.icon%28%7B%0A%20%20%20%20%20%20%20%20%20%20%20%20%20%20%20%20%20%20%20%20icon%3A%20%27info-sign%27%2C%0A%20%20%20%20%20%20%20%20%20%20%20%20%20%20%20%20%20%20%20%20iconColor%3A%20%27white%27%2C%0A%20%20%20%20%20%20%20%20%20%20%20%20%20%20%20%20%20%20%20%20markerColor%3A%20%27green%27%2C%0A%20%20%20%20%20%20%20%20%20%20%20%20%20%20%20%20%20%20%20%20prefix%3A%20%27glyphicon%27%2C%0A%20%20%20%20%20%20%20%20%20%20%20%20%20%20%20%20%20%20%20%20extraClasses%3A%20%27fa-rotate-0%27%0A%20%20%20%20%20%20%20%20%20%20%20%20%20%20%20%20%20%20%20%20%7D%29%3B%0A%20%20%20%20%20%20%20%20%20%20%20%20%20%20%20%20marker_5f5ca53fb9e44575b206013998864208.setIcon%28icon_037f4495e222476f9d74faa3a06918ca%29%3B%0A%20%20%20%20%20%20%20%20%20%20%20%20%0A%20%20%20%20%0A%20%20%20%20%20%20%20%20%20%20%20%20var%20popup_2746335ca8da4579af111469ed91cc4f%20%3D%20L.popup%28%7BmaxWidth%3A%20%27300%27%0A%20%20%20%20%20%20%20%20%20%20%20%20%0A%20%20%20%20%20%20%20%20%20%20%20%20%7D%29%3B%0A%0A%20%20%20%20%20%20%20%20%20%20%20%20%0A%20%20%20%20%20%20%20%20%20%20%20%20%20%20%20%20var%20html_9a5e70d6e9c3402eb27f74e5e385b096%20%3D%20%24%28%60%3Cdiv%20id%3D%22html_9a5e70d6e9c3402eb27f74e5e385b096%22%20style%3D%22width%3A%20100.0%25%3B%20height%3A%20100.0%25%3B%22%3E%3Ci%3EStart%3C/i%3E%3CBR%3E2021/07/23%2000%3A00%3CBR%3ECoord%3A%20%3Ca%20href%3D%22https%3A//www.google.co.uk/maps/place/-8.639847%2C41.159826%22%20target%3D%22_blank%22%3E-8.6398%2C%2041.1598%3C/a%3E%3C/div%3E%60%29%5B0%5D%3B%0A%20%20%20%20%20%20%20%20%20%20%20%20%20%20%20%20popup_2746335ca8da4579af111469ed91cc4f.setContent%28html_9a5e70d6e9c3402eb27f74e5e385b096%29%3B%0A%20%20%20%20%20%20%20%20%20%20%20%20%0A%0A%20%20%20%20%20%20%20%20%20%20%20%20marker_5f5ca53fb9e44575b206013998864208.bindPopup%28popup_2746335ca8da4579af111469ed91cc4f%29%0A%20%20%20%20%20%20%20%20%20%20%20%20%3B%0A%0A%20%20%20%20%20%20%20%20%20%20%20%20%0A%20%20%20%20%20%20%20%20%0A%20%20%20%20%0A%20%20%20%20%20%20%20%20var%20marker_f0e6dea396944431a0e9cbe2ca05b42f%20%3D%20L.marker%28%0A%20%20%20%20%20%20%20%20%20%20%20%20%5B-8.66574%2C%2041.170671%5D%2C%0A%20%20%20%20%20%20%20%20%20%20%20%20%7B%0A%20%20%20%20%20%20%20%20%20%20%20%20%20%20%20%20icon%3A%20new%20L.Icon.Default%28%29%2C%0A%20%20%20%20%20%20%20%20%20%20%20%20%20%20%20%20%7D%0A%20%20%20%20%20%20%20%20%20%20%20%20%29.addTo%28map_c236480d70f64cfb8586deefb7f42bbb%29%3B%0A%20%20%20%20%20%20%20%20%0A%20%20%20%20%0A%0A%20%20%20%20%20%20%20%20%20%20%20%20%20%20%20%20var%20icon_6de62e92b563496dbbf100b97f31d025%20%3D%20L.AwesomeMarkers.icon%28%7B%0A%20%20%20%20%20%20%20%20%20%20%20%20%20%20%20%20%20%20%20%20icon%3A%20%27info-sign%27%2C%0A%20%20%20%20%20%20%20%20%20%20%20%20%20%20%20%20%20%20%20%20iconColor%3A%20%27white%27%2C%0A%20%20%20%20%20%20%20%20%20%20%20%20%20%20%20%20%20%20%20%20markerColor%3A%20%27red%27%2C%0A%20%20%20%20%20%20%20%20%20%20%20%20%20%20%20%20%20%20%20%20prefix%3A%20%27glyphicon%27%2C%0A%20%20%20%20%20%20%20%20%20%20%20%20%20%20%20%20%20%20%20%20extraClasses%3A%20%27fa-rotate-0%27%0A%20%20%20%20%20%20%20%20%20%20%20%20%20%20%20%20%20%20%20%20%7D%29%3B%0A%20%20%20%20%20%20%20%20%20%20%20%20%20%20%20%20marker_f0e6dea396944431a0e9cbe2ca05b42f.setIcon%28icon_6de62e92b563496dbbf100b97f31d025%29%3B%0A%20%20%20%20%20%20%20%20%20%20%20%20%0A%20%20%20%20%0A%20%20%20%20%20%20%20%20%20%20%20%20var%20popup_977649e8775f470689163419da3f2be9%20%3D%20L.popup%28%7BmaxWidth%3A%20%27300%27%0A%20%20%20%20%20%20%20%20%20%20%20%20%0A%20%20%20%20%20%20%20%20%20%20%20%20%7D%29%3B%0A%0A%20%20%20%20%20%20%20%20%20%20%20%20%0A%20%20%20%20%20%20%20%20%20%20%20%20%20%20%20%20var%20html_1a020936aaea4af09e59b718b25ef0bc%20%3D%20%24%28%60%3Cdiv%20id%3D%22html_1a020936aaea4af09e59b718b25ef0bc%22%20style%3D%22width%3A%20100.0%25%3B%20height%3A%20100.0%25%3B%22%3E%3Ci%3EEnd%3C/i%3E%3CBR%3E2021/08/10%2000%3A00%3CBR%3ECoord%3A%20%3Ca%20href%3D%22https%3A//www.google.co.uk/maps/place/-8.66574%2C41.170671%22%20target%3D%22_blank%22%3E-8.6657%2C%2041.1707%3C/a%3E%3C/div%3E%60%29%5B0%5D%3B%0A%20%20%20%20%20%20%20%20%20%20%20%20%20%20%20%20popup_977649e8775f470689163419da3f2be9.setContent%28html_1a020936aaea4af09e59b718b25ef0bc%29%3B%0A%20%20%20%20%20%20%20%20%20%20%20%20%0A%0A%20%20%20%20%20%20%20%20%20%20%20%20marker_f0e6dea396944431a0e9cbe2ca05b42f.bindPopup%28popup_977649e8775f470689163419da3f2be9%29%0A%20%20%20%20%20%20%20%20%20%20%20%20%3B%0A%0A%20%20%20%20%20%20%20%20%20%20%20%20%0A%20%20%20%20%20%20%20%20%0A%20%20%20%20%0A%20%20%20%20%20%20%20%20var%20geo_json_f7bb81b90c30473b87a8b2b442a7a3e3%20%3D%20L.geoJson%28%0A%20%20%20%20%20%20%20%20%20%20%20%20%7B%22features%22%3A%20%5B%7B%22geometry%22%3A%20%7B%22coordinates%22%3A%20%5B%5B41.145633%2C%20-8.607186%5D%2C%20%5B41.145651%2C%20-8.607213%5D%2C%20%5B41.145939%2C%20-8.607033%5D%2C%20%5B41.14647%2C%20-8.606934%5D%2C%20%5B41.146596%2C%20-8.606871%5D%2C%20%5B41.147091%2C%20-8.607006%5D%2C%20%5B41.14728%2C%20-8.607519%5D%2C%20%5B41.147235%2C%20-8.607906%5D%2C%20%5B41.147379%2C%20-8.608437%5D%2C%20%5B41.147352%2C%20-8.6085%5D%2C%20%5B41.147379%2C%20-8.608473%5D%2C%20%5B41.14746%2C%20-8.608689%5D%2C%20%5B41.147622%2C%20-8.609922%5D%2C%20%5B41.147775%2C%20-8.610156%5D%2C%20%5B41.147748%2C%20-8.610336%5D%2C%20%5B41.147928%2C%20-8.611533%5D%2C%20%5B41.147505%2C%20-8.620956%5D%2C%20%5B41.147613%2C%20-8.622108%5D%2C%20%5B41.147721%2C%20-8.622459%5D%2C%20%5B41.148063%2C%20-8.623854%5D%2C%20%5B41.148432%2C%20-8.625015%5D%2C%20%5B41.149521%2C%20-8.625564%5D%2C%20%5B41.150358%2C%20-8.625789%5D%2C%20%5B41.151789%2C%20-8.62587%5D%2C%20%5B41.152077%2C%20-8.625987%5D%2C%20%5B41.152059%2C%20-8.626014%5D%2C%20%5B41.152284%2C%20-8.62605%5D%2C%20%5B41.152509%2C%20-8.626122%5D%2C%20%5B41.152536%2C%20-8.626689%5D%2C%20%5B41.152482%2C%20-8.628462%5D%2C%20%5B41.152689%2C%20-8.630154%5D%2C%20%5B41.152707%2C%20-8.631855%5D%2C%20%5B41.152644%2C%20-8.632827%5D%2C%20%5B41.152662%2C%20-8.632854%5D%2C%20%5B41.152617%2C%20-8.633367%5D%2C%20%5B41.152518%2C%20-8.633691%5D%2C%20%5B41.152554%2C%20-8.633655%5D%2C%20%5B41.152581%2C%20-8.633844%5D%2C%20%5B41.152554%2C%20-8.634294%5D%2C%20%5B41.1525%2C%20-8.634528%5D%2C%20%5B41.152437%2C%20-8.63505%5D%2C%20%5B41.152401%2C%20-8.635122%5D%2C%20%5B41.152428%2C%20-8.635302%5D%2C%20%5B41.152428%2C%20-8.63532%5D%2C%20%5B41.152464%2C%20-8.635734%5D%2C%20%5B41.152464%2C%20-8.635905%5D%2C%20%5B41.1525%2C%20-8.636013%5D%2C%20%5B41.152626%2C%20-8.636274%5D%2C%20%5B41.152725%2C%20-8.636688%5D%2C%20%5B41.152734%2C%20-8.637012%5D%2C%20%5B41.152743%2C%20-8.637048%5D%2C%20%5B41.152824%2C%20-8.637273%5D%2C%20%5B41.153076%2C%20-8.638173%5D%2C%20%5B41.153859%2C%20-8.638299%5D%2C%20%5B41.154768%2C%20-8.637849%5D%2C%20%5B41.155929%2C%20-8.637327%5D%2C%20%5B41.157486%2C%20-8.636508%5D%2C%20%5B41.157999%2C%20-8.636292%5D%2C%20%5B41.158665%2C%20-8.635977%5D%2C%20%5B41.158872%2C%20-8.635905%5D%2C%20%5B41.159349%2C%20-8.637372%5D%2C%20%5B41.159745%2C%20-8.639748%5D%2C%20%5B41.160078%2C%20-8.641233%5D%2C%20%5B41.160402%2C%20-8.643033%5D%2C%20%5B41.160762%2C%20-8.64486%5D%2C%20%5B41.160879%2C%20-8.646327%5D%2C%20%5B41.161005%2C%20-8.647335%5D%2C%20%5B41.161302%2C%20-8.648694%5D%2C%20%5B41.161563%2C%20-8.650188%5D%2C%20%5B41.161581%2C%20-8.650476%5D%2C%20%5B41.161635%2C%20-8.650818%5D%2C%20%5B41.161842%2C%20-8.652033%5D%2C%20%5B41.162112%2C%20-8.65359%5D%2C%20%5B41.162328%2C%20-8.654922%5D%2C%20%5B41.162733%2C%20-8.656803%5D%2C%20%5B41.163066%2C%20-8.659044%5D%2C%20%5B41.16339%2C%20-8.661105%5D%2C%20%5B41.163507%2C%20-8.661933%5D%2C%20%5B41.163462%2C%20-8.661987%5D%2C%20%5B41.163489%2C%20-8.66214%5D%2C%20%5B41.163795%2C%20-8.66358%5D%2C%20%5B41.164101%2C%20-8.66547%5D%2C%20%5B41.164443%2C%20-8.667441%5D%2C%20%5B41.164731%2C%20-8.669232%5D%2C%20%5B41.164992%2C%20-8.670816%5D%2C%20%5B41.165595%2C%20-8.671851%5D%2C%20%5B41.167395%2C%20-8.671518%5D%2C%20%5B41.169006%2C%20-8.671203%5D%2C%20%5B41.170338%2C%20-8.67123%5D%2C%20%5B41.170392%2C%20-8.671131%5D%2C%20%5B41.170419%2C%20-8.671095%5D%2C%20%5B41.170977%2C%20-8.671374%5D%2C%20%5B41.171769%2C%20-8.672742%5D%2C%20%5B41.172228%2C%20-8.67339%5D%2C%20%5B41.172534%2C%20-8.674065%5D%2C%20%5B41.172651%2C%20-8.674002%5D%2C%20%5B41.172732%2C%20-8.674506%5D%2C%20%5B41.171778%2C%20-8.677413%5D%2C%20%5B41.172039%2C%20-8.680509%5D%2C%20%5B41.173254%2C%20-8.682957%5D%2C%20%5B41.17374%2C%20-8.685792%5D%2C%20%5B41.173587%2C%20-8.688231%5D%2C%20%5B41.173227%2C%20-8.689104%5D%2C%20%5B41.173128%2C%20-8.688177%5D%2C%20%5B41.173326%2C%20-8.687781%5D%2C%20%5B41.173299%2C%20-8.687745%5D%2C%20%5B41.173299%2C%20-8.687754%5D%5D%2C%20%22type%22%3A%20%22LineString%22%7D%2C%20%22properties%22%3A%20%7B%22highlight%22%3A%20%7B%7D%2C%20%22style%22%3A%20%7B%22color%22%3A%20%22%23008169%22%2C%20%22dashArray%22%3A%20%220%2C%200%22%2C%20%22opacity%22%3A%200.9%2C%20%22weight%22%3A%203%7D%7D%2C%20%22type%22%3A%20%22Feature%22%7D%5D%2C%20%22type%22%3A%20%22FeatureCollection%22%7D%2C%0A%20%20%20%20%20%20%20%20%20%20%20%20%7B%0A%20%20%20%20%20%20%20%20%20%20%20%20%7D%0A%20%20%20%20%20%20%20%20%29.addTo%28map_c236480d70f64cfb8586deefb7f42bbb%20%29%3B%0A%20%20%20%20%20%20%20%20geo_json_f7bb81b90c30473b87a8b2b442a7a3e3.setStyle%28function%28feature%29%20%7Breturn%20feature.properties.style%3B%7D%29%3B%0A%20%20%20%20%20%20%20%20%0A%20%20%20%20%0A%20%20%20%20%20%20%20%20var%20marker_e9806816fd0146ca88a87d64ed12537a%20%3D%20L.marker%28%0A%20%20%20%20%20%20%20%20%20%20%20%20%5B-8.607186%2C%2041.145633%5D%2C%0A%20%20%20%20%20%20%20%20%20%20%20%20%7B%0A%20%20%20%20%20%20%20%20%20%20%20%20%20%20%20%20icon%3A%20new%20L.Icon.Default%28%29%2C%0A%20%20%20%20%20%20%20%20%20%20%20%20%20%20%20%20%7D%0A%20%20%20%20%20%20%20%20%20%20%20%20%29.addTo%28map_c236480d70f64cfb8586deefb7f42bbb%29%3B%0A%20%20%20%20%20%20%20%20%0A%20%20%20%20%0A%0A%20%20%20%20%20%20%20%20%20%20%20%20%20%20%20%20var%20icon_a895a74aab5a4c01a3328e0154f4e080%20%3D%20L.AwesomeMarkers.icon%28%7B%0A%20%20%20%20%20%20%20%20%20%20%20%20%20%20%20%20%20%20%20%20icon%3A%20%27info-sign%27%2C%0A%20%20%20%20%20%20%20%20%20%20%20%20%20%20%20%20%20%20%20%20iconColor%3A%20%27white%27%2C%0A%20%20%20%20%20%20%20%20%20%20%20%20%20%20%20%20%20%20%20%20markerColor%3A%20%27green%27%2C%0A%20%20%20%20%20%20%20%20%20%20%20%20%20%20%20%20%20%20%20%20prefix%3A%20%27glyphicon%27%2C%0A%20%20%20%20%20%20%20%20%20%20%20%20%20%20%20%20%20%20%20%20extraClasses%3A%20%27fa-rotate-0%27%0A%20%20%20%20%20%20%20%20%20%20%20%20%20%20%20%20%20%20%20%20%7D%29%3B%0A%20%20%20%20%20%20%20%20%20%20%20%20%20%20%20%20marker_e9806816fd0146ca88a87d64ed12537a.setIcon%28icon_a895a74aab5a4c01a3328e0154f4e080%29%3B%0A%20%20%20%20%20%20%20%20%20%20%20%20%0A%20%20%20%20%0A%20%20%20%20%20%20%20%20%20%20%20%20var%20popup_c46f3cfdd167436b9ff33256612ada91%20%3D%20L.popup%28%7BmaxWidth%3A%20%27300%27%0A%20%20%20%20%20%20%20%20%20%20%20%20%0A%20%20%20%20%20%20%20%20%20%20%20%20%7D%29%3B%0A%0A%20%20%20%20%20%20%20%20%20%20%20%20%0A%20%20%20%20%20%20%20%20%20%20%20%20%20%20%20%20var%20html_4c8fc79fc67547fbbf2e97d3c7ec93c3%20%3D%20%24%28%60%3Cdiv%20id%3D%22html_4c8fc79fc67547fbbf2e97d3c7ec93c3%22%20style%3D%22width%3A%20100.0%25%3B%20height%3A%20100.0%25%3B%22%3E%3Ci%3EStart%3C/i%3E%3CBR%3E2021/04/26%2000%3A00%3CBR%3ECoord%3A%20%3Ca%20href%3D%22https%3A//www.google.co.uk/maps/place/-8.607186%2C41.145633%22%20target%3D%22_blank%22%3E-8.6072%2C%2041.1456%3C/a%3E%3C/div%3E%60%29%5B0%5D%3B%0A%20%20%20%20%20%20%20%20%20%20%20%20%20%20%20%20popup_c46f3cfdd167436b9ff33256612ada91.setContent%28html_4c8fc79fc67547fbbf2e97d3c7ec93c3%29%3B%0A%20%20%20%20%20%20%20%20%20%20%20%20%0A%0A%20%20%20%20%20%20%20%20%20%20%20%20marker_e9806816fd0146ca88a87d64ed12537a.bindPopup%28popup_c46f3cfdd167436b9ff33256612ada91%29%0A%20%20%20%20%20%20%20%20%20%20%20%20%3B%0A%0A%20%20%20%20%20%20%20%20%20%20%20%20%0A%20%20%20%20%20%20%20%20%0A%20%20%20%20%0A%20%20%20%20%20%20%20%20var%20marker_a61ca692f9994761a605c2b406bb1bf7%20%3D%20L.marker%28%0A%20%20%20%20%20%20%20%20%20%20%20%20%5B-8.687754%2C%2041.173299%5D%2C%0A%20%20%20%20%20%20%20%20%20%20%20%20%7B%0A%20%20%20%20%20%20%20%20%20%20%20%20%20%20%20%20icon%3A%20new%20L.Icon.Default%28%29%2C%0A%20%20%20%20%20%20%20%20%20%20%20%20%20%20%20%20%7D%0A%20%20%20%20%20%20%20%20%20%20%20%20%29.addTo%28map_c236480d70f64cfb8586deefb7f42bbb%29%3B%0A%20%20%20%20%20%20%20%20%0A%20%20%20%20%0A%0A%20%20%20%20%20%20%20%20%20%20%20%20%20%20%20%20var%20icon_cb1fb56745044c89a6098675a0993bcd%20%3D%20L.AwesomeMarkers.icon%28%7B%0A%20%20%20%20%20%20%20%20%20%20%20%20%20%20%20%20%20%20%20%20icon%3A%20%27info-sign%27%2C%0A%20%20%20%20%20%20%20%20%20%20%20%20%20%20%20%20%20%20%20%20iconColor%3A%20%27white%27%2C%0A%20%20%20%20%20%20%20%20%20%20%20%20%20%20%20%20%20%20%20%20markerColor%3A%20%27red%27%2C%0A%20%20%20%20%20%20%20%20%20%20%20%20%20%20%20%20%20%20%20%20prefix%3A%20%27glyphicon%27%2C%0A%20%20%20%20%20%20%20%20%20%20%20%20%20%20%20%20%20%20%20%20extraClasses%3A%20%27fa-rotate-0%27%0A%20%20%20%20%20%20%20%20%20%20%20%20%20%20%20%20%20%20%20%20%7D%29%3B%0A%20%20%20%20%20%20%20%20%20%20%20%20%20%20%20%20marker_a61ca692f9994761a605c2b406bb1bf7.setIcon%28icon_cb1fb56745044c89a6098675a0993bcd%29%3B%0A%20%20%20%20%20%20%20%20%20%20%20%20%0A%20%20%20%20%0A%20%20%20%20%20%20%20%20%20%20%20%20var%20popup_26a14c71c02c45e8a511c2174dac3aa1%20%3D%20L.popup%28%7BmaxWidth%3A%20%27300%27%0A%20%20%20%20%20%20%20%20%20%20%20%20%0A%20%20%20%20%20%20%20%20%20%20%20%20%7D%29%3B%0A%0A%20%20%20%20%20%20%20%20%20%20%20%20%0A%20%20%20%20%20%20%20%20%20%20%20%20%20%20%20%20var%20html_4942c4ac3a47474dbc6fe7197f39b9cc%20%3D%20%24%28%60%3Cdiv%20id%3D%22html_4942c4ac3a47474dbc6fe7197f39b9cc%22%20style%3D%22width%3A%20100.0%25%3B%20height%3A%20100.0%25%3B%22%3E%3Ci%3EEnd%3C/i%3E%3CBR%3E2021/08/10%2000%3A00%3CBR%3ECoord%3A%20%3Ca%20href%3D%22https%3A//www.google.co.uk/maps/place/-8.687754%2C41.173299%22%20target%3D%22_blank%22%3E-8.6878%2C%2041.1733%3C/a%3E%3C/div%3E%60%29%5B0%5D%3B%0A%20%20%20%20%20%20%20%20%20%20%20%20%20%20%20%20popup_26a14c71c02c45e8a511c2174dac3aa1.setContent%28html_4942c4ac3a47474dbc6fe7197f39b9cc%29%3B%0A%20%20%20%20%20%20%20%20%20%20%20%20%0A%0A%20%20%20%20%20%20%20%20%20%20%20%20marker_a61ca692f9994761a605c2b406bb1bf7.bindPopup%28popup_26a14c71c02c45e8a511c2174dac3aa1%29%0A%20%20%20%20%20%20%20%20%20%20%20%20%3B%0A%0A%20%20%20%20%20%20%20%20%20%20%20%20%0A%20%20%20%20%20%20%20%20%0A%3C/script%3E onload=\"this.contentDocument.open();this.contentDocument.write(    decodeURIComponent(this.getAttribute('data-html')));this.contentDocument.close();\" allowfullscreen webkitallowfullscreen mozallowfullscreen></iframe></div></div>"
      ],
      "text/plain": [
       "<folium.folium.Map at 0x7f48b2892fd0>"
      ]
     },
     "execution_count": 59,
     "metadata": {
      "tags": []
     },
     "output_type": "execute_result"
    }
   ],
   "source": [
    "tdf.plot_trajectory(zoom=13, weight=3, opacity=0.9)"
   ]
  },
  {
   "cell_type": "code",
   "execution_count": 64,
   "metadata": {
    "id": "u0nYFlj9vNRF"
   },
   "outputs": [],
   "source": [
    "df3 = pd.DataFrame(traj[855])\n",
    "df3['datetime'] = c\n",
    "df3['uid'] =3\n",
    "\n",
    "df4 = pd.DataFrame(traj[795])\n",
    "df4['datetime'] = d\n",
    "df4['uid'] =4\n",
    "\n",
    "df5 = pd.DataFrame(traj[386])\n",
    "df5['datetime'] = e\n",
    "df5['uid'] =5\n",
    "\n",
    "df6 = pd.DataFrame(traj[755])\n",
    "df6['datetime'] = f\n",
    "df6['uid'] =6\n",
    "\n",
    "dfk5 = pd.concat([df1,df2,df3,df4,df5,df6])"
   ]
  },
  {
   "cell_type": "code",
   "execution_count": 68,
   "metadata": {
    "colab": {
     "base_uri": "https://localhost:8080/",
     "height": 896
    },
    "id": "4Wfzxvgh7M1Q",
    "outputId": "405be99d-4a52-46f2-fcec-3afdd9cd8e59"
   },
   "outputs": [
    {
     "name": "stderr",
     "output_type": "stream",
     "text": [
      "/usr/local/lib/python3.7/dist-packages/skmob/utils/plot.py:133: UserWarning: Only the trajectories of the first 10 users will be plotted. Use the argument `max_users` to specify the desired number of users, or filter the TrajDataFrame.\n",
      "  warnings.warn(\"Only the trajectories of the first 10 users will be plotted. Use the argument `max_users` to specify the desired number of users, or filter the TrajDataFrame.\")\n",
      "/usr/local/lib/python3.7/dist-packages/skmob/utils/plot.py:158: UserWarning: If necessary, trajectories will be down-sampled to have at most `max_points` points. To avoid this, sepecify `max_points=None`.\n",
      "  warnings.warn(\"If necessary, trajectories will be down-sampled to have at most `max_points` points. To avoid this, sepecify `max_points=None`.\")\n"
     ]
    },
    {
     "data": {
      "text/html": [
       "<div style=\"width:100%;\"><div style=\"position:relative;width:100%;height:0;padding-bottom:60%;\"><span style=\"color:#565656\">Make this Notebook Trusted to load map: File -> Trust Notebook</span><iframe src=\"about:blank\" style=\"position:absolute;width:100%;height:100%;left:0;top:0;border:none !important;\" data-html=%3C%21DOCTYPE%20html%3E%0A%3Chead%3E%20%20%20%20%0A%20%20%20%20%3Cmeta%20http-equiv%3D%22content-type%22%20content%3D%22text/html%3B%20charset%3DUTF-8%22%20/%3E%0A%20%20%20%20%3Cscript%3EL_PREFER_CANVAS%3Dfalse%3B%20L_NO_TOUCH%3Dfalse%3B%20L_DISABLE_3D%3Dfalse%3B%3C/script%3E%0A%20%20%20%20%3Cscript%20src%3D%22https%3A//cdn.jsdelivr.net/npm/leaflet%401.4.0/dist/leaflet.js%22%3E%3C/script%3E%0A%20%20%20%20%3Cscript%20src%3D%22https%3A//code.jquery.com/jquery-1.12.4.min.js%22%3E%3C/script%3E%0A%20%20%20%20%3Cscript%20src%3D%22https%3A//maxcdn.bootstrapcdn.com/bootstrap/3.2.0/js/bootstrap.min.js%22%3E%3C/script%3E%0A%20%20%20%20%3Cscript%20src%3D%22https%3A//cdnjs.cloudflare.com/ajax/libs/Leaflet.awesome-markers/2.0.2/leaflet.awesome-markers.js%22%3E%3C/script%3E%0A%20%20%20%20%3Clink%20rel%3D%22stylesheet%22%20href%3D%22https%3A//cdn.jsdelivr.net/npm/leaflet%401.4.0/dist/leaflet.css%22/%3E%0A%20%20%20%20%3Clink%20rel%3D%22stylesheet%22%20href%3D%22https%3A//maxcdn.bootstrapcdn.com/bootstrap/3.2.0/css/bootstrap.min.css%22/%3E%0A%20%20%20%20%3Clink%20rel%3D%22stylesheet%22%20href%3D%22https%3A//maxcdn.bootstrapcdn.com/bootstrap/3.2.0/css/bootstrap-theme.min.css%22/%3E%0A%20%20%20%20%3Clink%20rel%3D%22stylesheet%22%20href%3D%22https%3A//maxcdn.bootstrapcdn.com/font-awesome/4.6.3/css/font-awesome.min.css%22/%3E%0A%20%20%20%20%3Clink%20rel%3D%22stylesheet%22%20href%3D%22https%3A//cdnjs.cloudflare.com/ajax/libs/Leaflet.awesome-markers/2.0.2/leaflet.awesome-markers.css%22/%3E%0A%20%20%20%20%3Clink%20rel%3D%22stylesheet%22%20href%3D%22https%3A//rawcdn.githack.com/python-visualization/folium/master/folium/templates/leaflet.awesome.rotate.css%22/%3E%0A%20%20%20%20%3Cstyle%3Ehtml%2C%20body%20%7Bwidth%3A%20100%25%3Bheight%3A%20100%25%3Bmargin%3A%200%3Bpadding%3A%200%3B%7D%3C/style%3E%0A%20%20%20%20%3Cstyle%3E%23map%20%7Bposition%3Aabsolute%3Btop%3A0%3Bbottom%3A0%3Bright%3A0%3Bleft%3A0%3B%7D%3C/style%3E%0A%20%20%20%20%0A%20%20%20%20%3Cmeta%20name%3D%22viewport%22%20content%3D%22width%3Ddevice-width%2C%0A%20%20%20%20%20%20%20%20initial-scale%3D1.0%2C%20maximum-scale%3D1.0%2C%20user-scalable%3Dno%22%20/%3E%0A%20%20%20%20%3Cstyle%3E%23map_69cea415bdd845e8967ae96bfbd201a2%20%7B%0A%20%20%20%20%20%20%20%20position%3A%20relative%3B%0A%20%20%20%20%20%20%20%20width%3A%20100.0%25%3B%0A%20%20%20%20%20%20%20%20height%3A%20100.0%25%3B%0A%20%20%20%20%20%20%20%20left%3A%200.0%25%3B%0A%20%20%20%20%20%20%20%20top%3A%200.0%25%3B%0A%20%20%20%20%20%20%20%20%7D%0A%20%20%20%20%3C/style%3E%0A%3C/head%3E%0A%3Cbody%3E%20%20%20%20%0A%20%20%20%20%0A%20%20%20%20%3Cdiv%20class%3D%22folium-map%22%20id%3D%22map_69cea415bdd845e8967ae96bfbd201a2%22%20%3E%3C/div%3E%0A%3C/body%3E%0A%3Cscript%3E%20%20%20%20%0A%20%20%20%20%0A%20%20%20%20%0A%20%20%20%20%20%20%20%20var%20bounds%20%3D%20null%3B%0A%20%20%20%20%0A%0A%20%20%20%20var%20map_69cea415bdd845e8967ae96bfbd201a2%20%3D%20L.map%28%0A%20%20%20%20%20%20%20%20%27map_69cea415bdd845e8967ae96bfbd201a2%27%2C%20%7B%0A%20%20%20%20%20%20%20%20center%3A%20%5B-8.663112%2C%2041.163687%5D%2C%0A%20%20%20%20%20%20%20%20zoom%3A%2013%2C%0A%20%20%20%20%20%20%20%20maxBounds%3A%20bounds%2C%0A%20%20%20%20%20%20%20%20layers%3A%20%5B%5D%2C%0A%20%20%20%20%20%20%20%20worldCopyJump%3A%20false%2C%0A%20%20%20%20%20%20%20%20crs%3A%20L.CRS.EPSG3857%2C%0A%20%20%20%20%20%20%20%20zoomControl%3A%20true%2C%0A%20%20%20%20%20%20%20%20%7D%29%3B%0AL.control.scale%28%29.addTo%28map_69cea415bdd845e8967ae96bfbd201a2%29%3B%0A%0A%20%20%20%20%0A%20%20%20%20var%20tile_layer_c646ea942d614bbbb90b793d745e988f%20%3D%20L.tileLayer%28%0A%20%20%20%20%20%20%20%20%27https%3A//cartodb-basemaps-%7Bs%7D.global.ssl.fastly.net/light_all/%7Bz%7D/%7Bx%7D/%7By%7D.png%27%2C%0A%20%20%20%20%20%20%20%20%7B%0A%20%20%20%20%20%20%20%20%22attribution%22%3A%20null%2C%0A%20%20%20%20%20%20%20%20%22detectRetina%22%3A%20false%2C%0A%20%20%20%20%20%20%20%20%22maxNativeZoom%22%3A%2018%2C%0A%20%20%20%20%20%20%20%20%22maxZoom%22%3A%2018%2C%0A%20%20%20%20%20%20%20%20%22minZoom%22%3A%200%2C%0A%20%20%20%20%20%20%20%20%22noWrap%22%3A%20false%2C%0A%20%20%20%20%20%20%20%20%22opacity%22%3A%201%2C%0A%20%20%20%20%20%20%20%20%22subdomains%22%3A%20%22abc%22%2C%0A%20%20%20%20%20%20%20%20%22tms%22%3A%20false%0A%7D%29.addTo%28map_69cea415bdd845e8967ae96bfbd201a2%29%3B%0A%20%20%20%20%0A%20%20%20%20%20%20%20%20var%20geo_json_ae96105f239b42fcbf810f43e0b7896e%20%3D%20L.geoJson%28%0A%20%20%20%20%20%20%20%20%20%20%20%20%7B%22features%22%3A%20%5B%7B%22geometry%22%3A%20%7B%22coordinates%22%3A%20%5B%5B41.159826%2C%20-8.639847%5D%2C%20%5B41.159871%2C%20-8.640351%5D%2C%20%5B41.160114%2C%20-8.642196%5D%2C%20%5B41.160492%2C%20-8.644455%5D%2C%20%5B41.160951%2C%20-8.646921%5D%2C%20%5B41.161491%2C%20-8.649999%5D%2C%20%5B41.162031%2C%20-8.653167%5D%2C%20%5B41.16258%2C%20-8.656434%5D%2C%20%5B41.163192%2C%20-8.660178%5D%2C%20%5B41.163687%2C%20-8.663112%5D%2C%20%5B41.1642%2C%20-8.666235%5D%2C%20%5B41.164704%2C%20-8.669169%5D%2C%20%5B41.165136%2C%20-8.670852%5D%2C%20%5B41.166576%2C%20-8.670942%5D%2C%20%5B41.167962%2C%20-8.66961%5D%2C%20%5B41.168988%2C%20-8.668098%5D%2C%20%5B41.170005%2C%20-8.66664%5D%2C%20%5B41.170635%2C%20-8.665767%5D%2C%20%5B41.170671%2C%20-8.66574%5D%5D%2C%20%22type%22%3A%20%22LineString%22%7D%2C%20%22properties%22%3A%20%7B%22highlight%22%3A%20%7B%7D%2C%20%22style%22%3A%20%7B%22color%22%3A%20%22%23F60239%22%2C%20%22dashArray%22%3A%20%220%2C%200%22%2C%20%22opacity%22%3A%200.9%2C%20%22weight%22%3A%203%7D%7D%2C%20%22type%22%3A%20%22Feature%22%7D%5D%2C%20%22type%22%3A%20%22FeatureCollection%22%7D%2C%0A%20%20%20%20%20%20%20%20%20%20%20%20%7B%0A%20%20%20%20%20%20%20%20%20%20%20%20%7D%0A%20%20%20%20%20%20%20%20%29.addTo%28map_69cea415bdd845e8967ae96bfbd201a2%20%29%3B%0A%20%20%20%20%20%20%20%20geo_json_ae96105f239b42fcbf810f43e0b7896e.setStyle%28function%28feature%29%20%7Breturn%20feature.properties.style%3B%7D%29%3B%0A%20%20%20%20%20%20%20%20%0A%20%20%20%20%0A%20%20%20%20%20%20%20%20var%20marker_b6c409f007ac488199df20a577318f86%20%3D%20L.marker%28%0A%20%20%20%20%20%20%20%20%20%20%20%20%5B-8.639847%2C%2041.159826%5D%2C%0A%20%20%20%20%20%20%20%20%20%20%20%20%7B%0A%20%20%20%20%20%20%20%20%20%20%20%20%20%20%20%20icon%3A%20new%20L.Icon.Default%28%29%2C%0A%20%20%20%20%20%20%20%20%20%20%20%20%20%20%20%20%7D%0A%20%20%20%20%20%20%20%20%20%20%20%20%29.addTo%28map_69cea415bdd845e8967ae96bfbd201a2%29%3B%0A%20%20%20%20%20%20%20%20%0A%20%20%20%20%0A%0A%20%20%20%20%20%20%20%20%20%20%20%20%20%20%20%20var%20icon_f220bb8dab2842cf8ad9cead042c5102%20%3D%20L.AwesomeMarkers.icon%28%7B%0A%20%20%20%20%20%20%20%20%20%20%20%20%20%20%20%20%20%20%20%20icon%3A%20%27info-sign%27%2C%0A%20%20%20%20%20%20%20%20%20%20%20%20%20%20%20%20%20%20%20%20iconColor%3A%20%27white%27%2C%0A%20%20%20%20%20%20%20%20%20%20%20%20%20%20%20%20%20%20%20%20markerColor%3A%20%27green%27%2C%0A%20%20%20%20%20%20%20%20%20%20%20%20%20%20%20%20%20%20%20%20prefix%3A%20%27glyphicon%27%2C%0A%20%20%20%20%20%20%20%20%20%20%20%20%20%20%20%20%20%20%20%20extraClasses%3A%20%27fa-rotate-0%27%0A%20%20%20%20%20%20%20%20%20%20%20%20%20%20%20%20%20%20%20%20%7D%29%3B%0A%20%20%20%20%20%20%20%20%20%20%20%20%20%20%20%20marker_b6c409f007ac488199df20a577318f86.setIcon%28icon_f220bb8dab2842cf8ad9cead042c5102%29%3B%0A%20%20%20%20%20%20%20%20%20%20%20%20%0A%20%20%20%20%0A%20%20%20%20%20%20%20%20%20%20%20%20var%20popup_dd9e26334c6840c9a1317adae2ebe55f%20%3D%20L.popup%28%7BmaxWidth%3A%20%27300%27%0A%20%20%20%20%20%20%20%20%20%20%20%20%0A%20%20%20%20%20%20%20%20%20%20%20%20%7D%29%3B%0A%0A%20%20%20%20%20%20%20%20%20%20%20%20%0A%20%20%20%20%20%20%20%20%20%20%20%20%20%20%20%20var%20html_463705dfdd854b7897d64507de1dc456%20%3D%20%24%28%60%3Cdiv%20id%3D%22html_463705dfdd854b7897d64507de1dc456%22%20style%3D%22width%3A%20100.0%25%3B%20height%3A%20100.0%25%3B%22%3E%3Ci%3EStart%3C/i%3E%3CBR%3E2021/07/23%2000%3A00%3CBR%3ECoord%3A%20%3Ca%20href%3D%22https%3A//www.google.co.uk/maps/place/-8.639847%2C41.159826%22%20target%3D%22_blank%22%3E-8.6398%2C%2041.1598%3C/a%3E%3C/div%3E%60%29%5B0%5D%3B%0A%20%20%20%20%20%20%20%20%20%20%20%20%20%20%20%20popup_dd9e26334c6840c9a1317adae2ebe55f.setContent%28html_463705dfdd854b7897d64507de1dc456%29%3B%0A%20%20%20%20%20%20%20%20%20%20%20%20%0A%0A%20%20%20%20%20%20%20%20%20%20%20%20marker_b6c409f007ac488199df20a577318f86.bindPopup%28popup_dd9e26334c6840c9a1317adae2ebe55f%29%0A%20%20%20%20%20%20%20%20%20%20%20%20%3B%0A%0A%20%20%20%20%20%20%20%20%20%20%20%20%0A%20%20%20%20%20%20%20%20%0A%20%20%20%20%0A%20%20%20%20%20%20%20%20var%20marker_85b8ddaaa6d74ebcaccbbe92698c0fb1%20%3D%20L.marker%28%0A%20%20%20%20%20%20%20%20%20%20%20%20%5B-8.66574%2C%2041.170671%5D%2C%0A%20%20%20%20%20%20%20%20%20%20%20%20%7B%0A%20%20%20%20%20%20%20%20%20%20%20%20%20%20%20%20icon%3A%20new%20L.Icon.Default%28%29%2C%0A%20%20%20%20%20%20%20%20%20%20%20%20%20%20%20%20%7D%0A%20%20%20%20%20%20%20%20%20%20%20%20%29.addTo%28map_69cea415bdd845e8967ae96bfbd201a2%29%3B%0A%20%20%20%20%20%20%20%20%0A%20%20%20%20%0A%0A%20%20%20%20%20%20%20%20%20%20%20%20%20%20%20%20var%20icon_5b083d1278304f279ad016043b737ccb%20%3D%20L.AwesomeMarkers.icon%28%7B%0A%20%20%20%20%20%20%20%20%20%20%20%20%20%20%20%20%20%20%20%20icon%3A%20%27info-sign%27%2C%0A%20%20%20%20%20%20%20%20%20%20%20%20%20%20%20%20%20%20%20%20iconColor%3A%20%27white%27%2C%0A%20%20%20%20%20%20%20%20%20%20%20%20%20%20%20%20%20%20%20%20markerColor%3A%20%27red%27%2C%0A%20%20%20%20%20%20%20%20%20%20%20%20%20%20%20%20%20%20%20%20prefix%3A%20%27glyphicon%27%2C%0A%20%20%20%20%20%20%20%20%20%20%20%20%20%20%20%20%20%20%20%20extraClasses%3A%20%27fa-rotate-0%27%0A%20%20%20%20%20%20%20%20%20%20%20%20%20%20%20%20%20%20%20%20%7D%29%3B%0A%20%20%20%20%20%20%20%20%20%20%20%20%20%20%20%20marker_85b8ddaaa6d74ebcaccbbe92698c0fb1.setIcon%28icon_5b083d1278304f279ad016043b737ccb%29%3B%0A%20%20%20%20%20%20%20%20%20%20%20%20%0A%20%20%20%20%0A%20%20%20%20%20%20%20%20%20%20%20%20var%20popup_f50075ff9be34c71b685b66112d96524%20%3D%20L.popup%28%7BmaxWidth%3A%20%27300%27%0A%20%20%20%20%20%20%20%20%20%20%20%20%0A%20%20%20%20%20%20%20%20%20%20%20%20%7D%29%3B%0A%0A%20%20%20%20%20%20%20%20%20%20%20%20%0A%20%20%20%20%20%20%20%20%20%20%20%20%20%20%20%20var%20html_d00c3a298d5e4e249e6ed4ccf6b6f757%20%3D%20%24%28%60%3Cdiv%20id%3D%22html_d00c3a298d5e4e249e6ed4ccf6b6f757%22%20style%3D%22width%3A%20100.0%25%3B%20height%3A%20100.0%25%3B%22%3E%3Ci%3EEnd%3C/i%3E%3CBR%3E2021/08/10%2000%3A00%3CBR%3ECoord%3A%20%3Ca%20href%3D%22https%3A//www.google.co.uk/maps/place/-8.66574%2C41.170671%22%20target%3D%22_blank%22%3E-8.6657%2C%2041.1707%3C/a%3E%3C/div%3E%60%29%5B0%5D%3B%0A%20%20%20%20%20%20%20%20%20%20%20%20%20%20%20%20popup_f50075ff9be34c71b685b66112d96524.setContent%28html_d00c3a298d5e4e249e6ed4ccf6b6f757%29%3B%0A%20%20%20%20%20%20%20%20%20%20%20%20%0A%0A%20%20%20%20%20%20%20%20%20%20%20%20marker_85b8ddaaa6d74ebcaccbbe92698c0fb1.bindPopup%28popup_f50075ff9be34c71b685b66112d96524%29%0A%20%20%20%20%20%20%20%20%20%20%20%20%3B%0A%0A%20%20%20%20%20%20%20%20%20%20%20%20%0A%20%20%20%20%20%20%20%20%0A%20%20%20%20%0A%20%20%20%20%20%20%20%20var%20geo_json_c1816e4c84d24528b6d8590591fac103%20%3D%20L.geoJson%28%0A%20%20%20%20%20%20%20%20%20%20%20%20%7B%22features%22%3A%20%5B%7B%22geometry%22%3A%20%7B%22coordinates%22%3A%20%5B%5B41.145633%2C%20-8.607186%5D%2C%20%5B41.145651%2C%20-8.607213%5D%2C%20%5B41.145939%2C%20-8.607033%5D%2C%20%5B41.14647%2C%20-8.606934%5D%2C%20%5B41.146596%2C%20-8.606871%5D%2C%20%5B41.147091%2C%20-8.607006%5D%2C%20%5B41.14728%2C%20-8.607519%5D%2C%20%5B41.147235%2C%20-8.607906%5D%2C%20%5B41.147379%2C%20-8.608437%5D%2C%20%5B41.147352%2C%20-8.6085%5D%2C%20%5B41.147379%2C%20-8.608473%5D%2C%20%5B41.14746%2C%20-8.608689%5D%2C%20%5B41.147622%2C%20-8.609922%5D%2C%20%5B41.147775%2C%20-8.610156%5D%2C%20%5B41.147748%2C%20-8.610336%5D%2C%20%5B41.147928%2C%20-8.611533%5D%2C%20%5B41.147505%2C%20-8.620956%5D%2C%20%5B41.147613%2C%20-8.622108%5D%2C%20%5B41.147721%2C%20-8.622459%5D%2C%20%5B41.148063%2C%20-8.623854%5D%2C%20%5B41.148432%2C%20-8.625015%5D%2C%20%5B41.149521%2C%20-8.625564%5D%2C%20%5B41.150358%2C%20-8.625789%5D%2C%20%5B41.151789%2C%20-8.62587%5D%2C%20%5B41.152077%2C%20-8.625987%5D%2C%20%5B41.152059%2C%20-8.626014%5D%2C%20%5B41.152284%2C%20-8.62605%5D%2C%20%5B41.152509%2C%20-8.626122%5D%2C%20%5B41.152536%2C%20-8.626689%5D%2C%20%5B41.152482%2C%20-8.628462%5D%2C%20%5B41.152689%2C%20-8.630154%5D%2C%20%5B41.152707%2C%20-8.631855%5D%2C%20%5B41.152644%2C%20-8.632827%5D%2C%20%5B41.152662%2C%20-8.632854%5D%2C%20%5B41.152617%2C%20-8.633367%5D%2C%20%5B41.152518%2C%20-8.633691%5D%2C%20%5B41.152554%2C%20-8.633655%5D%2C%20%5B41.152581%2C%20-8.633844%5D%2C%20%5B41.152554%2C%20-8.634294%5D%2C%20%5B41.1525%2C%20-8.634528%5D%2C%20%5B41.152437%2C%20-8.63505%5D%2C%20%5B41.152401%2C%20-8.635122%5D%2C%20%5B41.152428%2C%20-8.635302%5D%2C%20%5B41.152428%2C%20-8.63532%5D%2C%20%5B41.152464%2C%20-8.635734%5D%2C%20%5B41.152464%2C%20-8.635905%5D%2C%20%5B41.1525%2C%20-8.636013%5D%2C%20%5B41.152626%2C%20-8.636274%5D%2C%20%5B41.152725%2C%20-8.636688%5D%2C%20%5B41.152734%2C%20-8.637012%5D%2C%20%5B41.152743%2C%20-8.637048%5D%2C%20%5B41.152824%2C%20-8.637273%5D%2C%20%5B41.153076%2C%20-8.638173%5D%2C%20%5B41.153859%2C%20-8.638299%5D%2C%20%5B41.154768%2C%20-8.637849%5D%2C%20%5B41.155929%2C%20-8.637327%5D%2C%20%5B41.157486%2C%20-8.636508%5D%2C%20%5B41.157999%2C%20-8.636292%5D%2C%20%5B41.158665%2C%20-8.635977%5D%2C%20%5B41.158872%2C%20-8.635905%5D%2C%20%5B41.159349%2C%20-8.637372%5D%2C%20%5B41.159745%2C%20-8.639748%5D%2C%20%5B41.160078%2C%20-8.641233%5D%2C%20%5B41.160402%2C%20-8.643033%5D%2C%20%5B41.160762%2C%20-8.64486%5D%2C%20%5B41.160879%2C%20-8.646327%5D%2C%20%5B41.161005%2C%20-8.647335%5D%2C%20%5B41.161302%2C%20-8.648694%5D%2C%20%5B41.161563%2C%20-8.650188%5D%2C%20%5B41.161581%2C%20-8.650476%5D%2C%20%5B41.161635%2C%20-8.650818%5D%2C%20%5B41.161842%2C%20-8.652033%5D%2C%20%5B41.162112%2C%20-8.65359%5D%2C%20%5B41.162328%2C%20-8.654922%5D%2C%20%5B41.162733%2C%20-8.656803%5D%2C%20%5B41.163066%2C%20-8.659044%5D%2C%20%5B41.16339%2C%20-8.661105%5D%2C%20%5B41.163507%2C%20-8.661933%5D%2C%20%5B41.163462%2C%20-8.661987%5D%2C%20%5B41.163489%2C%20-8.66214%5D%2C%20%5B41.163795%2C%20-8.66358%5D%2C%20%5B41.164101%2C%20-8.66547%5D%2C%20%5B41.164443%2C%20-8.667441%5D%2C%20%5B41.164731%2C%20-8.669232%5D%2C%20%5B41.164992%2C%20-8.670816%5D%2C%20%5B41.165595%2C%20-8.671851%5D%2C%20%5B41.167395%2C%20-8.671518%5D%2C%20%5B41.169006%2C%20-8.671203%5D%2C%20%5B41.170338%2C%20-8.67123%5D%2C%20%5B41.170392%2C%20-8.671131%5D%2C%20%5B41.170419%2C%20-8.671095%5D%2C%20%5B41.170977%2C%20-8.671374%5D%2C%20%5B41.171769%2C%20-8.672742%5D%2C%20%5B41.172228%2C%20-8.67339%5D%2C%20%5B41.172534%2C%20-8.674065%5D%2C%20%5B41.172651%2C%20-8.674002%5D%2C%20%5B41.172732%2C%20-8.674506%5D%2C%20%5B41.171778%2C%20-8.677413%5D%2C%20%5B41.172039%2C%20-8.680509%5D%2C%20%5B41.173254%2C%20-8.682957%5D%2C%20%5B41.17374%2C%20-8.685792%5D%2C%20%5B41.173587%2C%20-8.688231%5D%2C%20%5B41.173227%2C%20-8.689104%5D%2C%20%5B41.173128%2C%20-8.688177%5D%2C%20%5B41.173326%2C%20-8.687781%5D%2C%20%5B41.173299%2C%20-8.687745%5D%2C%20%5B41.173299%2C%20-8.687754%5D%5D%2C%20%22type%22%3A%20%22LineString%22%7D%2C%20%22properties%22%3A%20%7B%22highlight%22%3A%20%7B%7D%2C%20%22style%22%3A%20%7B%22color%22%3A%20%22%23FFCFE2%22%2C%20%22dashArray%22%3A%20%220%2C%200%22%2C%20%22opacity%22%3A%200.9%2C%20%22weight%22%3A%203%7D%7D%2C%20%22type%22%3A%20%22Feature%22%7D%5D%2C%20%22type%22%3A%20%22FeatureCollection%22%7D%2C%0A%20%20%20%20%20%20%20%20%20%20%20%20%7B%0A%20%20%20%20%20%20%20%20%20%20%20%20%7D%0A%20%20%20%20%20%20%20%20%29.addTo%28map_69cea415bdd845e8967ae96bfbd201a2%20%29%3B%0A%20%20%20%20%20%20%20%20geo_json_c1816e4c84d24528b6d8590591fac103.setStyle%28function%28feature%29%20%7Breturn%20feature.properties.style%3B%7D%29%3B%0A%20%20%20%20%20%20%20%20%0A%20%20%20%20%0A%20%20%20%20%20%20%20%20var%20marker_d6004e988fbe4c1eaf743bf4966ca3f6%20%3D%20L.marker%28%0A%20%20%20%20%20%20%20%20%20%20%20%20%5B-8.607186%2C%2041.145633%5D%2C%0A%20%20%20%20%20%20%20%20%20%20%20%20%7B%0A%20%20%20%20%20%20%20%20%20%20%20%20%20%20%20%20icon%3A%20new%20L.Icon.Default%28%29%2C%0A%20%20%20%20%20%20%20%20%20%20%20%20%20%20%20%20%7D%0A%20%20%20%20%20%20%20%20%20%20%20%20%29.addTo%28map_69cea415bdd845e8967ae96bfbd201a2%29%3B%0A%20%20%20%20%20%20%20%20%0A%20%20%20%20%0A%0A%20%20%20%20%20%20%20%20%20%20%20%20%20%20%20%20var%20icon_9fbb07e05c6641d0a979ebb03949b754%20%3D%20L.AwesomeMarkers.icon%28%7B%0A%20%20%20%20%20%20%20%20%20%20%20%20%20%20%20%20%20%20%20%20icon%3A%20%27info-sign%27%2C%0A%20%20%20%20%20%20%20%20%20%20%20%20%20%20%20%20%20%20%20%20iconColor%3A%20%27white%27%2C%0A%20%20%20%20%20%20%20%20%20%20%20%20%20%20%20%20%20%20%20%20markerColor%3A%20%27green%27%2C%0A%20%20%20%20%20%20%20%20%20%20%20%20%20%20%20%20%20%20%20%20prefix%3A%20%27glyphicon%27%2C%0A%20%20%20%20%20%20%20%20%20%20%20%20%20%20%20%20%20%20%20%20extraClasses%3A%20%27fa-rotate-0%27%0A%20%20%20%20%20%20%20%20%20%20%20%20%20%20%20%20%20%20%20%20%7D%29%3B%0A%20%20%20%20%20%20%20%20%20%20%20%20%20%20%20%20marker_d6004e988fbe4c1eaf743bf4966ca3f6.setIcon%28icon_9fbb07e05c6641d0a979ebb03949b754%29%3B%0A%20%20%20%20%20%20%20%20%20%20%20%20%0A%20%20%20%20%0A%20%20%20%20%20%20%20%20%20%20%20%20var%20popup_d606f048891742119c59e78e7503b343%20%3D%20L.popup%28%7BmaxWidth%3A%20%27300%27%0A%20%20%20%20%20%20%20%20%20%20%20%20%0A%20%20%20%20%20%20%20%20%20%20%20%20%7D%29%3B%0A%0A%20%20%20%20%20%20%20%20%20%20%20%20%0A%20%20%20%20%20%20%20%20%20%20%20%20%20%20%20%20var%20html_c465e1236e7a4c19ae4c91c2451a846d%20%3D%20%24%28%60%3Cdiv%20id%3D%22html_c465e1236e7a4c19ae4c91c2451a846d%22%20style%3D%22width%3A%20100.0%25%3B%20height%3A%20100.0%25%3B%22%3E%3Ci%3EStart%3C/i%3E%3CBR%3E2021/04/26%2000%3A00%3CBR%3ECoord%3A%20%3Ca%20href%3D%22https%3A//www.google.co.uk/maps/place/-8.607186%2C41.145633%22%20target%3D%22_blank%22%3E-8.6072%2C%2041.1456%3C/a%3E%3C/div%3E%60%29%5B0%5D%3B%0A%20%20%20%20%20%20%20%20%20%20%20%20%20%20%20%20popup_d606f048891742119c59e78e7503b343.setContent%28html_c465e1236e7a4c19ae4c91c2451a846d%29%3B%0A%20%20%20%20%20%20%20%20%20%20%20%20%0A%0A%20%20%20%20%20%20%20%20%20%20%20%20marker_d6004e988fbe4c1eaf743bf4966ca3f6.bindPopup%28popup_d606f048891742119c59e78e7503b343%29%0A%20%20%20%20%20%20%20%20%20%20%20%20%3B%0A%0A%20%20%20%20%20%20%20%20%20%20%20%20%0A%20%20%20%20%20%20%20%20%0A%20%20%20%20%0A%20%20%20%20%20%20%20%20var%20marker_1541da0ffd4541c885e58bb8cbbfb997%20%3D%20L.marker%28%0A%20%20%20%20%20%20%20%20%20%20%20%20%5B-8.687754%2C%2041.173299%5D%2C%0A%20%20%20%20%20%20%20%20%20%20%20%20%7B%0A%20%20%20%20%20%20%20%20%20%20%20%20%20%20%20%20icon%3A%20new%20L.Icon.Default%28%29%2C%0A%20%20%20%20%20%20%20%20%20%20%20%20%20%20%20%20%7D%0A%20%20%20%20%20%20%20%20%20%20%20%20%29.addTo%28map_69cea415bdd845e8967ae96bfbd201a2%29%3B%0A%20%20%20%20%20%20%20%20%0A%20%20%20%20%0A%0A%20%20%20%20%20%20%20%20%20%20%20%20%20%20%20%20var%20icon_e9db7371f20b452ca341d6df990b9633%20%3D%20L.AwesomeMarkers.icon%28%7B%0A%20%20%20%20%20%20%20%20%20%20%20%20%20%20%20%20%20%20%20%20icon%3A%20%27info-sign%27%2C%0A%20%20%20%20%20%20%20%20%20%20%20%20%20%20%20%20%20%20%20%20iconColor%3A%20%27white%27%2C%0A%20%20%20%20%20%20%20%20%20%20%20%20%20%20%20%20%20%20%20%20markerColor%3A%20%27red%27%2C%0A%20%20%20%20%20%20%20%20%20%20%20%20%20%20%20%20%20%20%20%20prefix%3A%20%27glyphicon%27%2C%0A%20%20%20%20%20%20%20%20%20%20%20%20%20%20%20%20%20%20%20%20extraClasses%3A%20%27fa-rotate-0%27%0A%20%20%20%20%20%20%20%20%20%20%20%20%20%20%20%20%20%20%20%20%7D%29%3B%0A%20%20%20%20%20%20%20%20%20%20%20%20%20%20%20%20marker_1541da0ffd4541c885e58bb8cbbfb997.setIcon%28icon_e9db7371f20b452ca341d6df990b9633%29%3B%0A%20%20%20%20%20%20%20%20%20%20%20%20%0A%20%20%20%20%0A%20%20%20%20%20%20%20%20%20%20%20%20var%20popup_7a9c385523b94fffa851d0a447cae3a7%20%3D%20L.popup%28%7BmaxWidth%3A%20%27300%27%0A%20%20%20%20%20%20%20%20%20%20%20%20%0A%20%20%20%20%20%20%20%20%20%20%20%20%7D%29%3B%0A%0A%20%20%20%20%20%20%20%20%20%20%20%20%0A%20%20%20%20%20%20%20%20%20%20%20%20%20%20%20%20var%20html_1478883459fe4a879c8a35ce56d08efd%20%3D%20%24%28%60%3Cdiv%20id%3D%22html_1478883459fe4a879c8a35ce56d08efd%22%20style%3D%22width%3A%20100.0%25%3B%20height%3A%20100.0%25%3B%22%3E%3Ci%3EEnd%3C/i%3E%3CBR%3E2021/08/10%2000%3A00%3CBR%3ECoord%3A%20%3Ca%20href%3D%22https%3A//www.google.co.uk/maps/place/-8.687754%2C41.173299%22%20target%3D%22_blank%22%3E-8.6878%2C%2041.1733%3C/a%3E%3C/div%3E%60%29%5B0%5D%3B%0A%20%20%20%20%20%20%20%20%20%20%20%20%20%20%20%20popup_7a9c385523b94fffa851d0a447cae3a7.setContent%28html_1478883459fe4a879c8a35ce56d08efd%29%3B%0A%20%20%20%20%20%20%20%20%20%20%20%20%0A%0A%20%20%20%20%20%20%20%20%20%20%20%20marker_1541da0ffd4541c885e58bb8cbbfb997.bindPopup%28popup_7a9c385523b94fffa851d0a447cae3a7%29%0A%20%20%20%20%20%20%20%20%20%20%20%20%3B%0A%0A%20%20%20%20%20%20%20%20%20%20%20%20%0A%20%20%20%20%20%20%20%20%0A%20%20%20%20%0A%20%20%20%20%20%20%20%20var%20geo_json_0384660c67524001b231efffe795e90b%20%3D%20L.geoJson%28%0A%20%20%20%20%20%20%20%20%20%20%20%20%7B%22features%22%3A%20%5B%7B%22geometry%22%3A%20%7B%22coordinates%22%3A%20%5B%5B41.159799%2C%20-8.639784%5D%2C%20%5B41.159799%2C%20-8.639784%5D%2C%20%5B41.159808%2C%20-8.640072%5D%2C%20%5B41.159898%2C%20-8.640612%5D%2C%20%5B41.159898%2C%20-8.640594%5D%2C%20%5B41.159898%2C%20-8.640603%5D%2C%20%5B41.160141%2C%20-8.642142%5D%2C%20%5B41.160474%2C%20-8.644203%5D%2C%20%5B41.160609%2C%20-8.644932%5D%2C%20%5B41.160717%2C%20-8.645589%5D%2C%20%5B41.160771%2C%20-8.645931%5D%2C%20%5B41.160771%2C%20-8.645922%5D%2C%20%5B41.160762%2C%20-8.645913%5D%2C%20%5B41.160789%2C%20-8.646093%5D%2C%20%5B41.161005%2C%20-8.647605%5D%2C%20%5B41.161293%2C%20-8.649369%5D%2C%20%5B41.161464%2C%20-8.650287%5D%2C%20%5B41.161788%2C%20-8.652258%5D%2C%20%5B41.162166%2C%20-8.654481%5D%2C%20%5B41.162202%2C%20-8.654643%5D%2C%20%5B41.162202%2C%20-8.654643%5D%2C%20%5B41.162202%2C%20-8.654652%5D%2C%20%5B41.162211%2C%20-8.654706%5D%2C%20%5B41.162256%2C%20-8.655021%5D%2C%20%5B41.162598%2C%20-8.657145%5D%2C%20%5B41.163057%2C%20-8.659935%5D%2C%20%5B41.163426%2C%20-8.662104%5D%2C%20%5B41.16348%2C%20-8.662239%5D%2C%20%5B41.163534%2C%20-8.662221%5D%2C%20%5B41.163516%2C%20-8.66223%5D%2C%20%5B41.163534%2C%20-8.662491%5D%2C%20%5B41.163849%2C%20-8.664111%5D%2C%20%5B41.164353%2C%20-8.667171%5D%2C%20%5B41.164866%2C%20-8.670204%5D%2C%20%5B41.165343%2C%20-8.673147%5D%2C%20%5B41.165856%2C%20-8.676117%5D%2C%20%5B41.166369%2C%20-8.679159%5D%2C%20%5B41.166801%2C%20-8.681841%5D%2C%20%5B41.167278%2C%20-8.684712%5D%2C%20%5B41.167719%2C%20-8.687223%5D%2C%20%5B41.16816%2C%20-8.688042%5D%2C%20%5B41.168475%2C%20-8.688663%5D%2C%20%5B41.168475%2C%20-8.688636%5D%2C%20%5B41.168331%2C%20-8.688978%5D%2C%20%5B41.167377%2C%20-8.688429%5D%2C%20%5B41.168403%2C%20-8.688069%5D%2C%20%5B41.16987%2C%20-8.686989%5D%2C%20%5B41.171778%2C%20-8.687583%5D%2C%20%5B41.173119%2C%20-8.688204%5D%2C%20%5B41.173425%2C%20-8.686476%5D%2C%20%5B41.173533%2C%20-8.684793%5D%2C%20%5B41.17302%2C%20-8.682786%5D%2C%20%5B41.172273%2C%20-8.681202%5D%2C%20%5B41.17158%2C%20-8.680014%5D%2C%20%5B41.171184%2C%20-8.679618%5D%2C%20%5B41.171283%2C%20-8.679492%5D%2C%20%5B41.17131%2C%20-8.67951%5D%2C%20%5B41.171337%2C%20-8.67951%5D%2C%20%5B41.171364%2C%20-8.679528%5D%2C%20%5B41.171373%2C%20-8.679528%5D%2C%20%5B41.171391%2C%20-8.679537%5D%2C%20%5B41.1714%2C%20-8.679537%5D%2C%20%5B41.1714%2C%20-8.679546%5D%2C%20%5B41.171391%2C%20-8.679528%5D%2C%20%5B41.171382%2C%20-8.679519%5D%2C%20%5B41.171382%2C%20-8.679519%5D%2C%20%5B41.171382%2C%20-8.679528%5D%2C%20%5B41.171382%2C%20-8.679528%5D%2C%20%5B41.171391%2C%20-8.679537%5D%2C%20%5B41.1714%2C%20-8.679537%5D%2C%20%5B41.171418%2C%20-8.679546%5D%2C%20%5B41.171436%2C%20-8.679546%5D%2C%20%5B41.1714%2C%20-8.679537%5D%2C%20%5B41.171391%2C%20-8.679528%5D%2C%20%5B41.171391%2C%20-8.679537%5D%2C%20%5B41.171391%2C%20-8.679528%5D%2C%20%5B41.1714%2C%20-8.679528%5D%2C%20%5B41.171391%2C%20-8.67951%5D%2C%20%5B41.171373%2C%20-8.679501%5D%2C%20%5B41.171382%2C%20-8.679213%5D%2C%20%5B41.171607%2C%20-8.677962%5D%2C%20%5B41.172183%2C%20-8.675244%5D%2C%20%5B41.172885%2C%20-8.67429%5D%2C%20%5B41.172903%2C%20-8.674371%5D%2C%20%5B41.171967%2C%20-8.676315%5D%2C%20%5B41.171634%2C%20-8.679321%5D%2C%20%5B41.17266%2C%20-8.68158%5D%2C%20%5B41.173758%2C%20-8.684181%5D%2C%20%5B41.173596%2C%20-8.687133%5D%2C%20%5B41.173641%2C%20-8.68842%5D%2C%20%5B41.173659%2C%20-8.689095%5D%2C%20%5B41.173299%2C%20-8.68914%5D%2C%20%5B41.172948%2C%20-8.68869%5D%2C%20%5B41.172876%2C%20-8.688429%5D%2C%20%5B41.172264%2C%20-8.688015%5D%2C%20%5B41.170914%2C%20-8.687196%5D%2C%20%5B41.169375%2C%20-8.687394%5D%2C%20%5B41.16879%2C%20-8.687862%5D%2C%20%5B41.168538%2C%20-8.688078%5D%2C%20%5B41.168367%2C%20-8.688348%5D%2C%20%5B41.168475%2C%20-8.688627%5D%2C%20%5B41.168484%2C%20-8.688627%5D%2C%20%5B41.168484%2C%20-8.688636%5D%5D%2C%20%22type%22%3A%20%22LineString%22%7D%2C%20%22properties%22%3A%20%7B%22highlight%22%3A%20%7B%7D%2C%20%22style%22%3A%20%7B%22color%22%3A%20%22%23FFCFE2%22%2C%20%22dashArray%22%3A%20%220%2C%200%22%2C%20%22opacity%22%3A%200.9%2C%20%22weight%22%3A%203%7D%7D%2C%20%22type%22%3A%20%22Feature%22%7D%5D%2C%20%22type%22%3A%20%22FeatureCollection%22%7D%2C%0A%20%20%20%20%20%20%20%20%20%20%20%20%7B%0A%20%20%20%20%20%20%20%20%20%20%20%20%7D%0A%20%20%20%20%20%20%20%20%29.addTo%28map_69cea415bdd845e8967ae96bfbd201a2%20%29%3B%0A%20%20%20%20%20%20%20%20geo_json_0384660c67524001b231efffe795e90b.setStyle%28function%28feature%29%20%7Breturn%20feature.properties.style%3B%7D%29%3B%0A%20%20%20%20%20%20%20%20%0A%20%20%20%20%0A%20%20%20%20%20%20%20%20var%20marker_21918e7c317a4e6e9c070260a52f41e8%20%3D%20L.marker%28%0A%20%20%20%20%20%20%20%20%20%20%20%20%5B-8.639784%2C%2041.159799%5D%2C%0A%20%20%20%20%20%20%20%20%20%20%20%20%7B%0A%20%20%20%20%20%20%20%20%20%20%20%20%20%20%20%20icon%3A%20new%20L.Icon.Default%28%29%2C%0A%20%20%20%20%20%20%20%20%20%20%20%20%20%20%20%20%7D%0A%20%20%20%20%20%20%20%20%20%20%20%20%29.addTo%28map_69cea415bdd845e8967ae96bfbd201a2%29%3B%0A%20%20%20%20%20%20%20%20%0A%20%20%20%20%0A%0A%20%20%20%20%20%20%20%20%20%20%20%20%20%20%20%20var%20icon_c9c2bd6ec6894b50a39b29a9b3fc0d2e%20%3D%20L.AwesomeMarkers.icon%28%7B%0A%20%20%20%20%20%20%20%20%20%20%20%20%20%20%20%20%20%20%20%20icon%3A%20%27info-sign%27%2C%0A%20%20%20%20%20%20%20%20%20%20%20%20%20%20%20%20%20%20%20%20iconColor%3A%20%27white%27%2C%0A%20%20%20%20%20%20%20%20%20%20%20%20%20%20%20%20%20%20%20%20markerColor%3A%20%27green%27%2C%0A%20%20%20%20%20%20%20%20%20%20%20%20%20%20%20%20%20%20%20%20prefix%3A%20%27glyphicon%27%2C%0A%20%20%20%20%20%20%20%20%20%20%20%20%20%20%20%20%20%20%20%20extraClasses%3A%20%27fa-rotate-0%27%0A%20%20%20%20%20%20%20%20%20%20%20%20%20%20%20%20%20%20%20%20%7D%29%3B%0A%20%20%20%20%20%20%20%20%20%20%20%20%20%20%20%20marker_21918e7c317a4e6e9c070260a52f41e8.setIcon%28icon_c9c2bd6ec6894b50a39b29a9b3fc0d2e%29%3B%0A%20%20%20%20%20%20%20%20%20%20%20%20%0A%20%20%20%20%0A%20%20%20%20%20%20%20%20%20%20%20%20var%20popup_108d25a6f0f141e1ae1fe6a3cdb3c87b%20%3D%20L.popup%28%7BmaxWidth%3A%20%27300%27%0A%20%20%20%20%20%20%20%20%20%20%20%20%0A%20%20%20%20%20%20%20%20%20%20%20%20%7D%29%3B%0A%0A%20%20%20%20%20%20%20%20%20%20%20%20%0A%20%20%20%20%20%20%20%20%20%20%20%20%20%20%20%20var%20html_265b030ceccd4272b22a0dae434097f5%20%3D%20%24%28%60%3Cdiv%20id%3D%22html_265b030ceccd4272b22a0dae434097f5%22%20style%3D%22width%3A%20100.0%25%3B%20height%3A%20100.0%25%3B%22%3E%3Ci%3EStart%3C/i%3E%3CBR%3E2021/04/30%2000%3A00%3CBR%3ECoord%3A%20%3Ca%20href%3D%22https%3A//www.google.co.uk/maps/place/-8.639784%2C41.159799%22%20target%3D%22_blank%22%3E-8.6398%2C%2041.1598%3C/a%3E%3C/div%3E%60%29%5B0%5D%3B%0A%20%20%20%20%20%20%20%20%20%20%20%20%20%20%20%20popup_108d25a6f0f141e1ae1fe6a3cdb3c87b.setContent%28html_265b030ceccd4272b22a0dae434097f5%29%3B%0A%20%20%20%20%20%20%20%20%20%20%20%20%0A%0A%20%20%20%20%20%20%20%20%20%20%20%20marker_21918e7c317a4e6e9c070260a52f41e8.bindPopup%28popup_108d25a6f0f141e1ae1fe6a3cdb3c87b%29%0A%20%20%20%20%20%20%20%20%20%20%20%20%3B%0A%0A%20%20%20%20%20%20%20%20%20%20%20%20%0A%20%20%20%20%20%20%20%20%0A%20%20%20%20%0A%20%20%20%20%20%20%20%20var%20marker_58444007098443ee9194214e7cfe64d9%20%3D%20L.marker%28%0A%20%20%20%20%20%20%20%20%20%20%20%20%5B-8.688636%2C%2041.168484%5D%2C%0A%20%20%20%20%20%20%20%20%20%20%20%20%7B%0A%20%20%20%20%20%20%20%20%20%20%20%20%20%20%20%20icon%3A%20new%20L.Icon.Default%28%29%2C%0A%20%20%20%20%20%20%20%20%20%20%20%20%20%20%20%20%7D%0A%20%20%20%20%20%20%20%20%20%20%20%20%29.addTo%28map_69cea415bdd845e8967ae96bfbd201a2%29%3B%0A%20%20%20%20%20%20%20%20%0A%20%20%20%20%0A%0A%20%20%20%20%20%20%20%20%20%20%20%20%20%20%20%20var%20icon_65334c41f5d344248ec1605b2b459a78%20%3D%20L.AwesomeMarkers.icon%28%7B%0A%20%20%20%20%20%20%20%20%20%20%20%20%20%20%20%20%20%20%20%20icon%3A%20%27info-sign%27%2C%0A%20%20%20%20%20%20%20%20%20%20%20%20%20%20%20%20%20%20%20%20iconColor%3A%20%27white%27%2C%0A%20%20%20%20%20%20%20%20%20%20%20%20%20%20%20%20%20%20%20%20markerColor%3A%20%27red%27%2C%0A%20%20%20%20%20%20%20%20%20%20%20%20%20%20%20%20%20%20%20%20prefix%3A%20%27glyphicon%27%2C%0A%20%20%20%20%20%20%20%20%20%20%20%20%20%20%20%20%20%20%20%20extraClasses%3A%20%27fa-rotate-0%27%0A%20%20%20%20%20%20%20%20%20%20%20%20%20%20%20%20%20%20%20%20%7D%29%3B%0A%20%20%20%20%20%20%20%20%20%20%20%20%20%20%20%20marker_58444007098443ee9194214e7cfe64d9.setIcon%28icon_65334c41f5d344248ec1605b2b459a78%29%3B%0A%20%20%20%20%20%20%20%20%20%20%20%20%0A%20%20%20%20%0A%20%20%20%20%20%20%20%20%20%20%20%20var%20popup_9ca33f3abeaf4e8dba1844853c8cd4f2%20%3D%20L.popup%28%7BmaxWidth%3A%20%27300%27%0A%20%20%20%20%20%20%20%20%20%20%20%20%0A%20%20%20%20%20%20%20%20%20%20%20%20%7D%29%3B%0A%0A%20%20%20%20%20%20%20%20%20%20%20%20%0A%20%20%20%20%20%20%20%20%20%20%20%20%20%20%20%20var%20html_7276568fd52e45e18b5694b0e7a070c1%20%3D%20%24%28%60%3Cdiv%20id%3D%22html_7276568fd52e45e18b5694b0e7a070c1%22%20style%3D%22width%3A%20100.0%25%3B%20height%3A%20100.0%25%3B%22%3E%3Ci%3EEnd%3C/i%3E%3CBR%3E2021/08/10%2000%3A00%3CBR%3ECoord%3A%20%3Ca%20href%3D%22https%3A//www.google.co.uk/maps/place/-8.688636%2C41.168484%22%20target%3D%22_blank%22%3E-8.6886%2C%2041.1685%3C/a%3E%3C/div%3E%60%29%5B0%5D%3B%0A%20%20%20%20%20%20%20%20%20%20%20%20%20%20%20%20popup_9ca33f3abeaf4e8dba1844853c8cd4f2.setContent%28html_7276568fd52e45e18b5694b0e7a070c1%29%3B%0A%20%20%20%20%20%20%20%20%20%20%20%20%0A%0A%20%20%20%20%20%20%20%20%20%20%20%20marker_58444007098443ee9194214e7cfe64d9.bindPopup%28popup_9ca33f3abeaf4e8dba1844853c8cd4f2%29%0A%20%20%20%20%20%20%20%20%20%20%20%20%3B%0A%0A%20%20%20%20%20%20%20%20%20%20%20%20%0A%20%20%20%20%20%20%20%20%0A%20%20%20%20%0A%20%20%20%20%20%20%20%20var%20geo_json_6a0cd0bd31b74bd395737d095e49fb38%20%3D%20L.geoJson%28%0A%20%20%20%20%20%20%20%20%20%20%20%20%7B%22features%22%3A%20%5B%7B%22geometry%22%3A%20%7B%22coordinates%22%3A%20%5B%5B41.159952%2C%20-8.640774%5D%2C%20%5B41.159952%2C%20-8.640909%5D%2C%20%5B41.159988%2C%20-8.640981%5D%2C%20%5B41.159925%2C%20-8.641008%5D%2C%20%5B41.160015%2C%20-8.641512%5D%5D%2C%20%22type%22%3A%20%22LineString%22%7D%2C%20%22properties%22%3A%20%7B%22highlight%22%3A%20%7B%7D%2C%20%22style%22%3A%20%7B%22color%22%3A%20%22%23F60239%22%2C%20%22dashArray%22%3A%20%220%2C%200%22%2C%20%22opacity%22%3A%200.9%2C%20%22weight%22%3A%203%7D%7D%2C%20%22type%22%3A%20%22Feature%22%7D%5D%2C%20%22type%22%3A%20%22FeatureCollection%22%7D%2C%0A%20%20%20%20%20%20%20%20%20%20%20%20%7B%0A%20%20%20%20%20%20%20%20%20%20%20%20%7D%0A%20%20%20%20%20%20%20%20%29.addTo%28map_69cea415bdd845e8967ae96bfbd201a2%20%29%3B%0A%20%20%20%20%20%20%20%20geo_json_6a0cd0bd31b74bd395737d095e49fb38.setStyle%28function%28feature%29%20%7Breturn%20feature.properties.style%3B%7D%29%3B%0A%20%20%20%20%20%20%20%20%0A%20%20%20%20%0A%20%20%20%20%20%20%20%20var%20marker_704af5ee0a5d43fb9ba86facbf2535b9%20%3D%20L.marker%28%0A%20%20%20%20%20%20%20%20%20%20%20%20%5B-8.640774%2C%2041.159952%5D%2C%0A%20%20%20%20%20%20%20%20%20%20%20%20%7B%0A%20%20%20%20%20%20%20%20%20%20%20%20%20%20%20%20icon%3A%20new%20L.Icon.Default%28%29%2C%0A%20%20%20%20%20%20%20%20%20%20%20%20%20%20%20%20%7D%0A%20%20%20%20%20%20%20%20%20%20%20%20%29.addTo%28map_69cea415bdd845e8967ae96bfbd201a2%29%3B%0A%20%20%20%20%20%20%20%20%0A%20%20%20%20%0A%0A%20%20%20%20%20%20%20%20%20%20%20%20%20%20%20%20var%20icon_e9442b34ff014d4fa6478412c0636197%20%3D%20L.AwesomeMarkers.icon%28%7B%0A%20%20%20%20%20%20%20%20%20%20%20%20%20%20%20%20%20%20%20%20icon%3A%20%27info-sign%27%2C%0A%20%20%20%20%20%20%20%20%20%20%20%20%20%20%20%20%20%20%20%20iconColor%3A%20%27white%27%2C%0A%20%20%20%20%20%20%20%20%20%20%20%20%20%20%20%20%20%20%20%20markerColor%3A%20%27green%27%2C%0A%20%20%20%20%20%20%20%20%20%20%20%20%20%20%20%20%20%20%20%20prefix%3A%20%27glyphicon%27%2C%0A%20%20%20%20%20%20%20%20%20%20%20%20%20%20%20%20%20%20%20%20extraClasses%3A%20%27fa-rotate-0%27%0A%20%20%20%20%20%20%20%20%20%20%20%20%20%20%20%20%20%20%20%20%7D%29%3B%0A%20%20%20%20%20%20%20%20%20%20%20%20%20%20%20%20marker_704af5ee0a5d43fb9ba86facbf2535b9.setIcon%28icon_e9442b34ff014d4fa6478412c0636197%29%3B%0A%20%20%20%20%20%20%20%20%20%20%20%20%0A%20%20%20%20%0A%20%20%20%20%20%20%20%20%20%20%20%20var%20popup_70b206de39414c8d864ab33a40051459%20%3D%20L.popup%28%7BmaxWidth%3A%20%27300%27%0A%20%20%20%20%20%20%20%20%20%20%20%20%0A%20%20%20%20%20%20%20%20%20%20%20%20%7D%29%3B%0A%0A%20%20%20%20%20%20%20%20%20%20%20%20%0A%20%20%20%20%20%20%20%20%20%20%20%20%20%20%20%20var%20html_91485e074f514090b18f80813cb91c1b%20%3D%20%24%28%60%3Cdiv%20id%3D%22html_91485e074f514090b18f80813cb91c1b%22%20style%3D%22width%3A%20100.0%25%3B%20height%3A%20100.0%25%3B%22%3E%3Ci%3EStart%3C/i%3E%3CBR%3E2021/08/06%2000%3A00%3CBR%3ECoord%3A%20%3Ca%20href%3D%22https%3A//www.google.co.uk/maps/place/-8.640774%2C41.159952%22%20target%3D%22_blank%22%3E-8.6408%2C%2041.16%3C/a%3E%3C/div%3E%60%29%5B0%5D%3B%0A%20%20%20%20%20%20%20%20%20%20%20%20%20%20%20%20popup_70b206de39414c8d864ab33a40051459.setContent%28html_91485e074f514090b18f80813cb91c1b%29%3B%0A%20%20%20%20%20%20%20%20%20%20%20%20%0A%0A%20%20%20%20%20%20%20%20%20%20%20%20marker_704af5ee0a5d43fb9ba86facbf2535b9.bindPopup%28popup_70b206de39414c8d864ab33a40051459%29%0A%20%20%20%20%20%20%20%20%20%20%20%20%3B%0A%0A%20%20%20%20%20%20%20%20%20%20%20%20%0A%20%20%20%20%20%20%20%20%0A%20%20%20%20%0A%20%20%20%20%20%20%20%20var%20marker_e8bb9d7f460c43389ecd16a5e8729f95%20%3D%20L.marker%28%0A%20%20%20%20%20%20%20%20%20%20%20%20%5B-8.641512%2C%2041.160015%5D%2C%0A%20%20%20%20%20%20%20%20%20%20%20%20%7B%0A%20%20%20%20%20%20%20%20%20%20%20%20%20%20%20%20icon%3A%20new%20L.Icon.Default%28%29%2C%0A%20%20%20%20%20%20%20%20%20%20%20%20%20%20%20%20%7D%0A%20%20%20%20%20%20%20%20%20%20%20%20%29.addTo%28map_69cea415bdd845e8967ae96bfbd201a2%29%3B%0A%20%20%20%20%20%20%20%20%0A%20%20%20%20%0A%0A%20%20%20%20%20%20%20%20%20%20%20%20%20%20%20%20var%20icon_0710490819594fedad06a51bc568f7ea%20%3D%20L.AwesomeMarkers.icon%28%7B%0A%20%20%20%20%20%20%20%20%20%20%20%20%20%20%20%20%20%20%20%20icon%3A%20%27info-sign%27%2C%0A%20%20%20%20%20%20%20%20%20%20%20%20%20%20%20%20%20%20%20%20iconColor%3A%20%27white%27%2C%0A%20%20%20%20%20%20%20%20%20%20%20%20%20%20%20%20%20%20%20%20markerColor%3A%20%27red%27%2C%0A%20%20%20%20%20%20%20%20%20%20%20%20%20%20%20%20%20%20%20%20prefix%3A%20%27glyphicon%27%2C%0A%20%20%20%20%20%20%20%20%20%20%20%20%20%20%20%20%20%20%20%20extraClasses%3A%20%27fa-rotate-0%27%0A%20%20%20%20%20%20%20%20%20%20%20%20%20%20%20%20%20%20%20%20%7D%29%3B%0A%20%20%20%20%20%20%20%20%20%20%20%20%20%20%20%20marker_e8bb9d7f460c43389ecd16a5e8729f95.setIcon%28icon_0710490819594fedad06a51bc568f7ea%29%3B%0A%20%20%20%20%20%20%20%20%20%20%20%20%0A%20%20%20%20%0A%20%20%20%20%20%20%20%20%20%20%20%20var%20popup_f36b529c9e4541d3be38a3dc16814aa7%20%3D%20L.popup%28%7BmaxWidth%3A%20%27300%27%0A%20%20%20%20%20%20%20%20%20%20%20%20%0A%20%20%20%20%20%20%20%20%20%20%20%20%7D%29%3B%0A%0A%20%20%20%20%20%20%20%20%20%20%20%20%0A%20%20%20%20%20%20%20%20%20%20%20%20%20%20%20%20var%20html_ab3ae0863017475bb26e824cb610105e%20%3D%20%24%28%60%3Cdiv%20id%3D%22html_ab3ae0863017475bb26e824cb610105e%22%20style%3D%22width%3A%20100.0%25%3B%20height%3A%20100.0%25%3B%22%3E%3Ci%3EEnd%3C/i%3E%3CBR%3E2021/08/10%2000%3A00%3CBR%3ECoord%3A%20%3Ca%20href%3D%22https%3A//www.google.co.uk/maps/place/-8.641512%2C41.160015%22%20target%3D%22_blank%22%3E-8.6415%2C%2041.16%3C/a%3E%3C/div%3E%60%29%5B0%5D%3B%0A%20%20%20%20%20%20%20%20%20%20%20%20%20%20%20%20popup_f36b529c9e4541d3be38a3dc16814aa7.setContent%28html_ab3ae0863017475bb26e824cb610105e%29%3B%0A%20%20%20%20%20%20%20%20%20%20%20%20%0A%0A%20%20%20%20%20%20%20%20%20%20%20%20marker_e8bb9d7f460c43389ecd16a5e8729f95.bindPopup%28popup_f36b529c9e4541d3be38a3dc16814aa7%29%0A%20%20%20%20%20%20%20%20%20%20%20%20%3B%0A%0A%20%20%20%20%20%20%20%20%20%20%20%20%0A%20%20%20%20%20%20%20%20%0A%20%20%20%20%0A%20%20%20%20%20%20%20%20var%20geo_json_f9cbd3dbc3d746ff932dfab2f4968666%20%3D%20L.geoJson%28%0A%20%20%20%20%20%20%20%20%20%20%20%20%7B%22features%22%3A%20%5B%7B%22geometry%22%3A%20%7B%22coordinates%22%3A%20%5B%5B41.159736%2C%20-8.639883%5D%2C%20%5B41.159772%2C%20-8.639901%5D%2C%20%5B41.159853%2C%20-8.640477%5D%2C%20%5B41.160114%2C%20-8.642088%5D%2C%20%5B41.160618%2C%20-8.64495%5D%2C%20%5B41.160915%2C%20-8.646498%5D%2C%20%5B41.161347%2C%20-8.649207%5D%2C%20%5B41.161851%2C%20-8.652213%5D%2C%20%5B41.162256%2C%20-8.654508%5D%2C%20%5B41.162355%2C%20-8.655282%5D%2C%20%5B41.162733%2C%20-8.657532%5D%2C%20%5B41.163264%2C%20-8.660709%5D%2C%20%5B41.163579%2C%20-8.662644%5D%2C%20%5B41.163606%2C%20-8.662698%5D%2C%20%5B41.163615%2C%20-8.662671%5D%2C%20%5B41.163615%2C%20-8.662671%5D%2C%20%5B41.163615%2C%20-8.662689%5D%2C%20%5B41.163912%2C%20-8.66475%5D%2C%20%5B41.164452%2C%20-8.667855%5D%2C%20%5B41.164983%2C%20-8.670915%5D%2C%20%5B41.165586%2C%20-8.674416%5D%2C%20%5B41.166126%2C%20-8.677584%5D%2C%20%5B41.166153%2C%20-8.677584%5D%2C%20%5B41.166153%2C%20-8.677584%5D%2C%20%5B41.166504%2C%20-8.679573%5D%2C%20%5B41.166954%2C%20-8.682399%5D%2C%20%5B41.16744%2C%20-8.685342%5D%2C%20%5B41.16789%2C%20-8.687844%5D%2C%20%5B41.169357%2C%20-8.687358%5D%2C%20%5B41.171418%2C%20-8.687376%5D%2C%20%5B41.172615%2C%20-8.688204%5D%2C%20%5B41.173398%2C%20-8.686917%5D%2C%20%5B41.173488%2C%20-8.685198%5D%2C%20%5B41.173371%2C%20-8.684847%5D%2C%20%5B41.172948%2C%20-8.684757%5D%2C%20%5B41.172939%2C%20-8.684757%5D%2C%20%5B41.17293%2C%20-8.684748%5D%2C%20%5B41.172939%2C%20-8.68473%5D%2C%20%5B41.172957%2C%20-8.68473%5D%5D%2C%20%22type%22%3A%20%22LineString%22%7D%2C%20%22properties%22%3A%20%7B%22highlight%22%3A%20%7B%7D%2C%20%22style%22%3A%20%7B%22color%22%3A%20%22%23008607%22%2C%20%22dashArray%22%3A%20%220%2C%200%22%2C%20%22opacity%22%3A%200.9%2C%20%22weight%22%3A%203%7D%7D%2C%20%22type%22%3A%20%22Feature%22%7D%5D%2C%20%22type%22%3A%20%22FeatureCollection%22%7D%2C%0A%20%20%20%20%20%20%20%20%20%20%20%20%7B%0A%20%20%20%20%20%20%20%20%20%20%20%20%7D%0A%20%20%20%20%20%20%20%20%29.addTo%28map_69cea415bdd845e8967ae96bfbd201a2%20%29%3B%0A%20%20%20%20%20%20%20%20geo_json_f9cbd3dbc3d746ff932dfab2f4968666.setStyle%28function%28feature%29%20%7Breturn%20feature.properties.style%3B%7D%29%3B%0A%20%20%20%20%20%20%20%20%0A%20%20%20%20%0A%20%20%20%20%20%20%20%20var%20marker_79d4270710624d09991230e811009f85%20%3D%20L.marker%28%0A%20%20%20%20%20%20%20%20%20%20%20%20%5B-8.639883%2C%2041.159736%5D%2C%0A%20%20%20%20%20%20%20%20%20%20%20%20%7B%0A%20%20%20%20%20%20%20%20%20%20%20%20%20%20%20%20icon%3A%20new%20L.Icon.Default%28%29%2C%0A%20%20%20%20%20%20%20%20%20%20%20%20%20%20%20%20%7D%0A%20%20%20%20%20%20%20%20%20%20%20%20%29.addTo%28map_69cea415bdd845e8967ae96bfbd201a2%29%3B%0A%20%20%20%20%20%20%20%20%0A%20%20%20%20%0A%0A%20%20%20%20%20%20%20%20%20%20%20%20%20%20%20%20var%20icon_5c968e3b24274eeeb9f2c3d495097cc7%20%3D%20L.AwesomeMarkers.icon%28%7B%0A%20%20%20%20%20%20%20%20%20%20%20%20%20%20%20%20%20%20%20%20icon%3A%20%27info-sign%27%2C%0A%20%20%20%20%20%20%20%20%20%20%20%20%20%20%20%20%20%20%20%20iconColor%3A%20%27white%27%2C%0A%20%20%20%20%20%20%20%20%20%20%20%20%20%20%20%20%20%20%20%20markerColor%3A%20%27green%27%2C%0A%20%20%20%20%20%20%20%20%20%20%20%20%20%20%20%20%20%20%20%20prefix%3A%20%27glyphicon%27%2C%0A%20%20%20%20%20%20%20%20%20%20%20%20%20%20%20%20%20%20%20%20extraClasses%3A%20%27fa-rotate-0%27%0A%20%20%20%20%20%20%20%20%20%20%20%20%20%20%20%20%20%20%20%20%7D%29%3B%0A%20%20%20%20%20%20%20%20%20%20%20%20%20%20%20%20marker_79d4270710624d09991230e811009f85.setIcon%28icon_5c968e3b24274eeeb9f2c3d495097cc7%29%3B%0A%20%20%20%20%20%20%20%20%20%20%20%20%0A%20%20%20%20%0A%20%20%20%20%20%20%20%20%20%20%20%20var%20popup_1dbbe977f4f947db8cce1aa2b9c66fd7%20%3D%20L.popup%28%7BmaxWidth%3A%20%27300%27%0A%20%20%20%20%20%20%20%20%20%20%20%20%0A%20%20%20%20%20%20%20%20%20%20%20%20%7D%29%3B%0A%0A%20%20%20%20%20%20%20%20%20%20%20%20%0A%20%20%20%20%20%20%20%20%20%20%20%20%20%20%20%20var%20html_5ccaeb10e2b84798b1ccf61706fcb467%20%3D%20%24%28%60%3Cdiv%20id%3D%22html_5ccaeb10e2b84798b1ccf61706fcb467%22%20style%3D%22width%3A%20100.0%25%3B%20height%3A%20100.0%25%3B%22%3E%3Ci%3EStart%3C/i%3E%3CBR%3E2021/07/03%2000%3A00%3CBR%3ECoord%3A%20%3Ca%20href%3D%22https%3A//www.google.co.uk/maps/place/-8.639883%2C41.159736%22%20target%3D%22_blank%22%3E-8.6399%2C%2041.1597%3C/a%3E%3C/div%3E%60%29%5B0%5D%3B%0A%20%20%20%20%20%20%20%20%20%20%20%20%20%20%20%20popup_1dbbe977f4f947db8cce1aa2b9c66fd7.setContent%28html_5ccaeb10e2b84798b1ccf61706fcb467%29%3B%0A%20%20%20%20%20%20%20%20%20%20%20%20%0A%0A%20%20%20%20%20%20%20%20%20%20%20%20marker_79d4270710624d09991230e811009f85.bindPopup%28popup_1dbbe977f4f947db8cce1aa2b9c66fd7%29%0A%20%20%20%20%20%20%20%20%20%20%20%20%3B%0A%0A%20%20%20%20%20%20%20%20%20%20%20%20%0A%20%20%20%20%20%20%20%20%0A%20%20%20%20%0A%20%20%20%20%20%20%20%20var%20marker_02b4a839d9b74a72889f1cf55ee56d66%20%3D%20L.marker%28%0A%20%20%20%20%20%20%20%20%20%20%20%20%5B-8.68473%2C%2041.172957%5D%2C%0A%20%20%20%20%20%20%20%20%20%20%20%20%7B%0A%20%20%20%20%20%20%20%20%20%20%20%20%20%20%20%20icon%3A%20new%20L.Icon.Default%28%29%2C%0A%20%20%20%20%20%20%20%20%20%20%20%20%20%20%20%20%7D%0A%20%20%20%20%20%20%20%20%20%20%20%20%29.addTo%28map_69cea415bdd845e8967ae96bfbd201a2%29%3B%0A%20%20%20%20%20%20%20%20%0A%20%20%20%20%0A%0A%20%20%20%20%20%20%20%20%20%20%20%20%20%20%20%20var%20icon_ffd89e075ebd42fe972f8178750c9d6d%20%3D%20L.AwesomeMarkers.icon%28%7B%0A%20%20%20%20%20%20%20%20%20%20%20%20%20%20%20%20%20%20%20%20icon%3A%20%27info-sign%27%2C%0A%20%20%20%20%20%20%20%20%20%20%20%20%20%20%20%20%20%20%20%20iconColor%3A%20%27white%27%2C%0A%20%20%20%20%20%20%20%20%20%20%20%20%20%20%20%20%20%20%20%20markerColor%3A%20%27red%27%2C%0A%20%20%20%20%20%20%20%20%20%20%20%20%20%20%20%20%20%20%20%20prefix%3A%20%27glyphicon%27%2C%0A%20%20%20%20%20%20%20%20%20%20%20%20%20%20%20%20%20%20%20%20extraClasses%3A%20%27fa-rotate-0%27%0A%20%20%20%20%20%20%20%20%20%20%20%20%20%20%20%20%20%20%20%20%7D%29%3B%0A%20%20%20%20%20%20%20%20%20%20%20%20%20%20%20%20marker_02b4a839d9b74a72889f1cf55ee56d66.setIcon%28icon_ffd89e075ebd42fe972f8178750c9d6d%29%3B%0A%20%20%20%20%20%20%20%20%20%20%20%20%0A%20%20%20%20%0A%20%20%20%20%20%20%20%20%20%20%20%20var%20popup_5b3702be1bd94d00b669086bd75a3e5b%20%3D%20L.popup%28%7BmaxWidth%3A%20%27300%27%0A%20%20%20%20%20%20%20%20%20%20%20%20%0A%20%20%20%20%20%20%20%20%20%20%20%20%7D%29%3B%0A%0A%20%20%20%20%20%20%20%20%20%20%20%20%0A%20%20%20%20%20%20%20%20%20%20%20%20%20%20%20%20var%20html_77dcd75d43ff40938866288ac39adb9f%20%3D%20%24%28%60%3Cdiv%20id%3D%22html_77dcd75d43ff40938866288ac39adb9f%22%20style%3D%22width%3A%20100.0%25%3B%20height%3A%20100.0%25%3B%22%3E%3Ci%3EEnd%3C/i%3E%3CBR%3E2021/08/10%2000%3A00%3CBR%3ECoord%3A%20%3Ca%20href%3D%22https%3A//www.google.co.uk/maps/place/-8.68473%2C41.172957%22%20target%3D%22_blank%22%3E-8.6847%2C%2041.173%3C/a%3E%3C/div%3E%60%29%5B0%5D%3B%0A%20%20%20%20%20%20%20%20%20%20%20%20%20%20%20%20popup_5b3702be1bd94d00b669086bd75a3e5b.setContent%28html_77dcd75d43ff40938866288ac39adb9f%29%3B%0A%20%20%20%20%20%20%20%20%20%20%20%20%0A%0A%20%20%20%20%20%20%20%20%20%20%20%20marker_02b4a839d9b74a72889f1cf55ee56d66.bindPopup%28popup_5b3702be1bd94d00b669086bd75a3e5b%29%0A%20%20%20%20%20%20%20%20%20%20%20%20%3B%0A%0A%20%20%20%20%20%20%20%20%20%20%20%20%0A%20%20%20%20%20%20%20%20%0A%20%20%20%20%0A%20%20%20%20%20%20%20%20var%20geo_json_12cdaa7c3352418f8f231f89ce4de8cc%20%3D%20L.geoJson%28%0A%20%20%20%20%20%20%20%20%20%20%20%20%7B%22features%22%3A%20%5B%7B%22geometry%22%3A%20%7B%22coordinates%22%3A%20%5B%5B41.148036%2C%20-8.61984%5D%2C%20%5B41.148036%2C%20-8.61984%5D%2C%20%5B41.148018%2C%20-8.61984%5D%2C%20%5B41.147802%2C%20-8.620137%5D%2C%20%5B41.147496%2C%20-8.620272%5D%2C%20%5B41.147451%2C%20-8.620371%5D%2C%20%5B41.147406%2C%20-8.620407%5D%2C%20%5B41.146596%2C%20-8.62029%5D%2C%20%5B41.146515%2C%20-8.620254%5D%2C%20%5B41.146515%2C%20-8.620245%5D%2C%20%5B41.146146%2C%20-8.620101%5D%2C%20%5B41.146227%2C%20-8.618823%5D%2C%20%5B41.14638%2C%20-8.617851%5D%2C%20%5B41.145669%2C%20-8.617491%5D%2C%20%5B41.144859%2C%20-8.616942%5D%2C%20%5B41.145372%2C%20-8.615835%5D%2C%20%5B41.145795%2C%20-8.614782%5D%2C%20%5B41.145894%2C%20-8.614458%5D%2C%20%5B41.145885%2C%20-8.613153%5D%2C%20%5B41.146047%2C%20-8.612316%5D%2C%20%5B41.146056%2C%20-8.612028%5D%2C%20%5B41.146074%2C%20-8.611974%5D%2C%20%5B41.146119%2C%20-8.611254%5D%2C%20%5B41.146029%2C%20-8.611164%5D%2C%20%5B41.145885%2C%20-8.61084%5D%2C%20%5B41.145093%2C%20-8.610921%5D%2C%20%5B41.14395%2C%20-8.610543%5D%2C%20%5B41.14323%2C%20-8.610012%5D%2C%20%5B41.143104%2C%20-8.608572%5D%2C%20%5B41.142303%2C%20-8.606835%5D%2C%20%5B41.143023%2C%20-8.605368%5D%2C%20%5B41.144013%2C%20-8.604936%5D%2C%20%5B41.144625%2C%20-8.604756%5D%2C%20%5B41.145372%2C%20-8.604009%5D%2C%20%5B41.145588%2C%20-8.602614%5D%2C%20%5B41.145624%2C%20-8.601885%5D%2C%20%5B41.145696%2C%20-8.601309%5D%2C%20%5B41.145696%2C%20-8.6013%5D%2C%20%5B41.145705%2C%20-8.601183%5D%2C%20%5B41.145786%2C%20-8.600418%5D%2C%20%5B41.146749%2C%20-8.600481%5D%2C%20%5B41.147622%2C%20-8.599455%5D%2C%20%5B41.147883%2C%20-8.599113%5D%2C%20%5B41.148018%2C%20-8.599059%5D%2C%20%5B41.148189%2C%20-8.598897%5D%2C%20%5B41.148171%2C%20-8.598897%5D%2C%20%5B41.148162%2C%20-8.598888%5D%2C%20%5B41.148432%2C%20-8.599311%5D%2C%20%5B41.148801%2C%20-8.601111%5D%2C%20%5B41.149215%2C%20-8.602803%5D%2C%20%5B41.149656%2C%20-8.604216%5D%2C%20%5B41.149863%2C%20-8.605431%5D%2C%20%5B41.150097%2C%20-8.606853%5D%2C%20%5B41.150007%2C%20-8.60697%5D%2C%20%5B41.149998%2C%20-8.606988%5D%2C%20%5B41.149998%2C%20-8.606997%5D%2C%20%5B41.149989%2C%20-8.607033%5D%2C%20%5B41.150178%2C%20-8.607582%5D%2C%20%5B41.150547%2C%20-8.608968%5D%2C%20%5B41.150808%2C%20-8.609859%5D%2C%20%5B41.150772%2C%20-8.609868%5D%2C%20%5B41.151213%2C%20-8.609724%5D%2C%20%5B41.151663%2C%20-8.609724%5D%2C%20%5B41.151753%2C%20-8.609895%5D%2C%20%5B41.151735%2C%20-8.610219%5D%2C%20%5B41.151573%2C%20-8.610516%5D%2C%20%5B41.150727%2C%20-8.610858%5D%2C%20%5B41.150511%2C%20-8.61174%5D%2C%20%5B41.150223%2C%20-8.612523%5D%2C%20%5B41.150034%2C%20-8.61336%5D%2C%20%5B41.149575%2C%20-8.613909%5D%2C%20%5B41.148612%2C%20-8.614224%5D%2C%20%5B41.148459%2C%20-8.614341%5D%2C%20%5B41.148369%2C%20-8.614413%5D%2C%20%5B41.14836%2C%20-8.614422%5D%2C%20%5B41.148126%2C%20-8.614449%5D%2C%20%5B41.14773%2C%20-8.614629%5D%2C%20%5B41.147514%2C%20-8.614854%5D%2C%20%5B41.147361%2C%20-8.6157%5D%2C%20%5B41.14728%2C%20-8.616708%5D%2C%20%5B41.147289%2C%20-8.617887%5D%2C%20%5B41.148441%2C%20-8.618256%5D%2C%20%5B41.148639%2C%20-8.619246%5D%2C%20%5B41.147847%2C%20-8.619975%5D%2C%20%5B41.147397%2C%20-8.620866%5D%2C%20%5B41.147712%2C%20-8.622324%5D%2C%20%5B41.14782%2C%20-8.622486%5D%2C%20%5B41.147838%2C%20-8.622549%5D%2C%20%5B41.148306%2C%20-8.62434%5D%2C%20%5B41.149377%2C%20-8.625636%5D%2C%20%5B41.15052%2C%20-8.625924%5D%2C%20%5B41.150754%2C%20-8.62596%5D%2C%20%5B41.151861%2C%20-8.626059%5D%2C%20%5B41.152248%2C%20-8.626113%5D%2C%20%5B41.15241%2C%20-8.626149%5D%2C%20%5B41.152491%2C%20-8.626689%5D%2C%20%5B41.152473%2C%20-8.627814%5D%2C%20%5B41.152545%2C%20-8.628759%5D%2C%20%5B41.152572%2C%20-8.629002%5D%2C%20%5B41.15259%2C%20-8.629281%5D%2C%20%5B41.152599%2C%20-8.62983%5D%2C%20%5B41.152635%2C%20-8.629929%5D%2C%20%5B41.152761%2C%20-8.63001%5D%2C%20%5B41.152761%2C%20-8.63001%5D%2C%20%5B41.152671%2C%20-8.630496%5D%2C%20%5B41.152599%2C%20-8.630586%5D%2C%20%5B41.152599%2C%20-8.630667%5D%2C%20%5B41.152599%2C%20-8.630874%5D%2C%20%5B41.152617%2C%20-8.631081%5D%2C%20%5B41.152671%2C%20-8.631135%5D%2C%20%5B41.15268%2C%20-8.631279%5D%2C%20%5B41.152671%2C%20-8.631396%5D%2C%20%5B41.152644%2C%20-8.631378%5D%2C%20%5B41.152644%2C%20-8.631414%5D%2C%20%5B41.152707%2C%20-8.631918%5D%2C%20%5B41.152698%2C%20-8.632269%5D%2C%20%5B41.152707%2C%20-8.632296%5D%2C%20%5B41.152716%2C%20-8.632314%5D%2C%20%5B41.152734%2C%20-8.632323%5D%2C%20%5B41.152779%2C%20-8.63235%5D%2C%20%5B41.152608%2C%20-8.633412%5D%2C%20%5B41.15259%2C%20-8.633655%5D%2C%20%5B41.152662%2C%20-8.633682%5D%2C%20%5B41.152653%2C%20-8.633772%5D%2C%20%5B41.152554%2C%20-8.634348%5D%2C%20%5B41.1525%2C%20-8.63451%5D%2C%20%5B41.152473%2C%20-8.634546%5D%2C%20%5B41.152446%2C%20-8.63505%5D%2C%20%5B41.152518%2C%20-8.635878%5D%2C%20%5B41.1525%2C%20-8.635977%5D%2C%20%5B41.152554%2C%20-8.63613%5D%2C%20%5B41.152725%2C%20-8.636499%5D%2C%20%5B41.152725%2C%20-8.636778%5D%2C%20%5B41.152914%2C%20-8.637237%5D%2C%20%5B41.153328%2C%20-8.638434%5D%2C%20%5B41.154309%2C%20-8.638209%5D%2C%20%5B41.155425%2C%20-8.63766%5D%2C%20%5B41.156883%2C%20-8.636931%5D%2C%20%5B41.158269%2C%20-8.636211%5D%2C%20%5B41.158854%2C%20-8.635905%5D%2C%20%5B41.158935%2C%20-8.635968%5D%2C%20%5B41.158899%2C%20-8.635887%5D%2C%20%5B41.158881%2C%20-8.635797%5D%2C%20%5B41.159304%2C%20-8.636598%5D%2C%20%5B41.159736%2C%20-8.639001%5D%2C%20%5B41.159817%2C%20-8.639928%5D%2C%20%5B41.160015%2C%20-8.641116%5D%2C%20%5B41.160249%2C%20-8.64261%5D%2C%20%5B41.160492%2C%20-8.643339%5D%2C%20%5B41.160591%2C%20-8.643402%5D%2C%20%5B41.160699%2C%20-8.644887%5D%2C%20%5B41.160915%2C%20-8.646507%5D%2C%20%5B41.161032%2C%20-8.647758%5D%2C%20%5B41.161014%2C%20-8.647929%5D%2C%20%5B41.16132%2C%20-8.649423%5D%2C%20%5B41.161698%2C%20-8.651439%5D%2C%20%5B41.161842%2C%20-8.652357%5D%2C%20%5B41.161932%2C%20-8.653032%5D%2C%20%5B41.162148%2C%20-8.654175%5D%2C%20%5B41.162166%2C%20-8.654391%5D%2C%20%5B41.162427%2C%20-8.655732%5D%2C%20%5B41.162607%2C%20-8.656623%5D%2C%20%5B41.162994%2C%20-8.658882%5D%2C%20%5B41.163444%2C%20-8.661636%5D%2C%20%5B41.163534%2C%20-8.662068%5D%2C%20%5B41.163687%2C%20-8.662707%5D%2C%20%5B41.163894%2C%20-8.664462%5D%2C%20%5B41.163381%2C%20-8.664255%5D%2C%20%5B41.163165%2C%20-8.66475%5D%2C%20%5B41.163309%2C%20-8.666064%5D%2C%20%5B41.162751%2C%20-8.666397%5D%2C%20%5B41.162715%2C%20-8.666595%5D%2C%20%5B41.162607%2C%20-8.666514%5D%2C%20%5B41.162679%2C%20-8.666649%5D%2C%20%5B41.162949%2C%20-8.668035%5D%2C%20%5B41.162517%2C%20-8.667882%5D%2C%20%5B41.161707%2C%20-8.667378%5D%2C%20%5B41.161473%2C%20-8.667324%5D%2C%20%5B41.161617%2C%20-8.667306%5D%2C%20%5B41.16168%2C%20-8.667369%5D%2C%20%5B41.161734%2C%20-8.667387%5D%2C%20%5B41.161815%2C%20-8.667414%5D%2C%20%5B41.161995%2C%20-8.667486%5D%2C%20%5B41.162076%2C%20-8.667531%5D%2C%20%5B41.162094%2C%20-8.66754%5D%2C%20%5B41.162067%2C%20-8.667522%5D%2C%20%5B41.16213%2C%20-8.667594%5D%2C%20%5B41.162085%2C%20-8.667558%5D%2C%20%5B41.162049%2C%20-8.667549%5D%2C%20%5B41.162022%2C%20-8.66754%5D%2C%20%5B41.162067%2C%20-8.667639%5D%2C%20%5B41.161356%2C%20-8.667351%5D%2C%20%5B41.160267%2C%20-8.666622%5D%2C%20%5B41.159268%2C%20-8.665911%5D%2C%20%5B41.158908%2C%20-8.665686%5D%2C%20%5B41.158386%2C%20-8.665389%5D%2C%20%5B41.158233%2C%20-8.665452%5D%2C%20%5B41.158179%2C%20-8.665461%5D%2C%20%5B41.157648%2C%20-8.666595%5D%2C%20%5B41.15718%2C%20-8.666667%5D%2C%20%5B41.156829%2C%20-8.66655%5D%2C%20%5B41.156766%2C%20-8.666712%5D%2C%20%5B41.156775%2C%20-8.666748%5D%2C%20%5B41.156775%2C%20-8.666757%5D%2C%20%5B41.156766%2C%20-8.666757%5D%2C%20%5B41.156748%2C%20-8.666775%5D%2C%20%5B41.156775%2C%20-8.66655%5D%2C%20%5B41.157189%2C%20-8.666649%5D%2C%20%5B41.157396%2C%20-8.666748%5D%2C%20%5B41.157738%2C%20-8.665983%5D%2C%20%5B41.158377%2C%20-8.664327%5D%2C%20%5B41.159277%2C%20-8.662014%5D%2C%20%5B41.160096%2C%20-8.659971%5D%2C%20%5B41.160177%2C%20-8.659773%5D%2C%20%5B41.160213%2C%20-8.659773%5D%2C%20%5B41.160231%2C%20-8.659899%5D%2C%20%5B41.160213%2C%20-8.659881%5D%2C%20%5B41.160204%2C%20-8.65989%5D%2C%20%5B41.16024%2C%20-8.65989%5D%2C%20%5B41.160258%2C%20-8.659899%5D%2C%20%5B41.160456%2C%20-8.65908%5D%2C%20%5B41.161221%2C%20-8.657352%5D%2C%20%5B41.16132%2C%20-8.657181%5D%2C%20%5B41.161329%2C%20-8.657181%5D%2C%20%5B41.161365%2C%20-8.657208%5D%2C%20%5B41.161365%2C%20-8.657208%5D%2C%20%5B41.161797%2C%20-8.656407%5D%2C%20%5B41.161356%2C%20-8.657505%5D%2C%20%5B41.160555%2C%20-8.659305%5D%2C%20%5B41.159853%2C%20-8.661096%5D%2C%20%5B41.159349%2C%20-8.662365%5D%2C%20%5B41.159268%2C%20-8.662581%5D%2C%20%5B41.15916%2C%20-8.662914%5D%2C%20%5B41.159025%2C%20-8.663247%5D%2C%20%5B41.158728%2C%20-8.663832%5D%2C%20%5B41.158629%2C%20-8.663823%5D%2C%20%5B41.158143%2C%20-8.663454%5D%2C%20%5B41.157999%2C%20-8.663373%5D%2C%20%5B41.158017%2C%20-8.663382%5D%2C%20%5B41.158008%2C%20-8.663373%5D%2C%20%5B41.157999%2C%20-8.663364%5D%2C%20%5B41.157999%2C%20-8.663355%5D%2C%20%5B41.15799%2C%20-8.663355%5D%5D%2C%20%22type%22%3A%20%22LineString%22%7D%2C%20%22properties%22%3A%20%7B%22highlight%22%3A%20%7B%7D%2C%20%22style%22%3A%20%7B%22color%22%3A%20%22%236A0213%22%2C%20%22dashArray%22%3A%20%220%2C%200%22%2C%20%22opacity%22%3A%200.9%2C%20%22weight%22%3A%203%7D%7D%2C%20%22type%22%3A%20%22Feature%22%7D%5D%2C%20%22type%22%3A%20%22FeatureCollection%22%7D%2C%0A%20%20%20%20%20%20%20%20%20%20%20%20%7B%0A%20%20%20%20%20%20%20%20%20%20%20%20%7D%0A%20%20%20%20%20%20%20%20%29.addTo%28map_69cea415bdd845e8967ae96bfbd201a2%20%29%3B%0A%20%20%20%20%20%20%20%20geo_json_12cdaa7c3352418f8f231f89ce4de8cc.setStyle%28function%28feature%29%20%7Breturn%20feature.properties.style%3B%7D%29%3B%0A%20%20%20%20%20%20%20%20%0A%20%20%20%20%0A%20%20%20%20%20%20%20%20var%20marker_c5f617e7e6f04f9a9b26e1337fd99c11%20%3D%20L.marker%28%0A%20%20%20%20%20%20%20%20%20%20%20%20%5B-8.61984%2C%2041.148036%5D%2C%0A%20%20%20%20%20%20%20%20%20%20%20%20%7B%0A%20%20%20%20%20%20%20%20%20%20%20%20%20%20%20%20icon%3A%20new%20L.Icon.Default%28%29%2C%0A%20%20%20%20%20%20%20%20%20%20%20%20%20%20%20%20%7D%0A%20%20%20%20%20%20%20%20%20%20%20%20%29.addTo%28map_69cea415bdd845e8967ae96bfbd201a2%29%3B%0A%20%20%20%20%20%20%20%20%0A%20%20%20%20%0A%0A%20%20%20%20%20%20%20%20%20%20%20%20%20%20%20%20var%20icon_5547d4da30684b079546cf63d4e39a22%20%3D%20L.AwesomeMarkers.icon%28%7B%0A%20%20%20%20%20%20%20%20%20%20%20%20%20%20%20%20%20%20%20%20icon%3A%20%27info-sign%27%2C%0A%20%20%20%20%20%20%20%20%20%20%20%20%20%20%20%20%20%20%20%20iconColor%3A%20%27white%27%2C%0A%20%20%20%20%20%20%20%20%20%20%20%20%20%20%20%20%20%20%20%20markerColor%3A%20%27green%27%2C%0A%20%20%20%20%20%20%20%20%20%20%20%20%20%20%20%20%20%20%20%20prefix%3A%20%27glyphicon%27%2C%0A%20%20%20%20%20%20%20%20%20%20%20%20%20%20%20%20%20%20%20%20extraClasses%3A%20%27fa-rotate-0%27%0A%20%20%20%20%20%20%20%20%20%20%20%20%20%20%20%20%20%20%20%20%7D%29%3B%0A%20%20%20%20%20%20%20%20%20%20%20%20%20%20%20%20marker_c5f617e7e6f04f9a9b26e1337fd99c11.setIcon%28icon_5547d4da30684b079546cf63d4e39a22%29%3B%0A%20%20%20%20%20%20%20%20%20%20%20%20%0A%20%20%20%20%0A%20%20%20%20%20%20%20%20%20%20%20%20var%20popup_a005ebf818ea4df4883e40486b8e7679%20%3D%20L.popup%28%7BmaxWidth%3A%20%27300%27%0A%20%20%20%20%20%20%20%20%20%20%20%20%0A%20%20%20%20%20%20%20%20%20%20%20%20%7D%29%3B%0A%0A%20%20%20%20%20%20%20%20%20%20%20%20%0A%20%20%20%20%20%20%20%20%20%20%20%20%20%20%20%20var%20html_e81dcdd1baf64751a225dd25ac6c096a%20%3D%20%24%28%60%3Cdiv%20id%3D%22html_e81dcdd1baf64751a225dd25ac6c096a%22%20style%3D%22width%3A%20100.0%25%3B%20height%3A%20100.0%25%3B%22%3E%3Ci%3EStart%3C/i%3E%3CBR%3E2020/12/11%2000%3A00%3CBR%3ECoord%3A%20%3Ca%20href%3D%22https%3A//www.google.co.uk/maps/place/-8.61984%2C41.148036%22%20target%3D%22_blank%22%3E-8.6198%2C%2041.148%3C/a%3E%3C/div%3E%60%29%5B0%5D%3B%0A%20%20%20%20%20%20%20%20%20%20%20%20%20%20%20%20popup_a005ebf818ea4df4883e40486b8e7679.setContent%28html_e81dcdd1baf64751a225dd25ac6c096a%29%3B%0A%20%20%20%20%20%20%20%20%20%20%20%20%0A%0A%20%20%20%20%20%20%20%20%20%20%20%20marker_c5f617e7e6f04f9a9b26e1337fd99c11.bindPopup%28popup_a005ebf818ea4df4883e40486b8e7679%29%0A%20%20%20%20%20%20%20%20%20%20%20%20%3B%0A%0A%20%20%20%20%20%20%20%20%20%20%20%20%0A%20%20%20%20%20%20%20%20%0A%20%20%20%20%0A%20%20%20%20%20%20%20%20var%20marker_56c615c41ca440a2bf41205fb28c508e%20%3D%20L.marker%28%0A%20%20%20%20%20%20%20%20%20%20%20%20%5B-8.663355%2C%2041.15799%5D%2C%0A%20%20%20%20%20%20%20%20%20%20%20%20%7B%0A%20%20%20%20%20%20%20%20%20%20%20%20%20%20%20%20icon%3A%20new%20L.Icon.Default%28%29%2C%0A%20%20%20%20%20%20%20%20%20%20%20%20%20%20%20%20%7D%0A%20%20%20%20%20%20%20%20%20%20%20%20%29.addTo%28map_69cea415bdd845e8967ae96bfbd201a2%29%3B%0A%20%20%20%20%20%20%20%20%0A%20%20%20%20%0A%0A%20%20%20%20%20%20%20%20%20%20%20%20%20%20%20%20var%20icon_0697b5acfc5e4468972faaeced382580%20%3D%20L.AwesomeMarkers.icon%28%7B%0A%20%20%20%20%20%20%20%20%20%20%20%20%20%20%20%20%20%20%20%20icon%3A%20%27info-sign%27%2C%0A%20%20%20%20%20%20%20%20%20%20%20%20%20%20%20%20%20%20%20%20iconColor%3A%20%27white%27%2C%0A%20%20%20%20%20%20%20%20%20%20%20%20%20%20%20%20%20%20%20%20markerColor%3A%20%27red%27%2C%0A%20%20%20%20%20%20%20%20%20%20%20%20%20%20%20%20%20%20%20%20prefix%3A%20%27glyphicon%27%2C%0A%20%20%20%20%20%20%20%20%20%20%20%20%20%20%20%20%20%20%20%20extraClasses%3A%20%27fa-rotate-0%27%0A%20%20%20%20%20%20%20%20%20%20%20%20%20%20%20%20%20%20%20%20%7D%29%3B%0A%20%20%20%20%20%20%20%20%20%20%20%20%20%20%20%20marker_56c615c41ca440a2bf41205fb28c508e.setIcon%28icon_0697b5acfc5e4468972faaeced382580%29%3B%0A%20%20%20%20%20%20%20%20%20%20%20%20%0A%20%20%20%20%0A%20%20%20%20%20%20%20%20%20%20%20%20var%20popup_09344b5e7b914e8881672b68286fa713%20%3D%20L.popup%28%7BmaxWidth%3A%20%27300%27%0A%20%20%20%20%20%20%20%20%20%20%20%20%0A%20%20%20%20%20%20%20%20%20%20%20%20%7D%29%3B%0A%0A%20%20%20%20%20%20%20%20%20%20%20%20%0A%20%20%20%20%20%20%20%20%20%20%20%20%20%20%20%20var%20html_7fc30f323af04ff38279f5faf67f6346%20%3D%20%24%28%60%3Cdiv%20id%3D%22html_7fc30f323af04ff38279f5faf67f6346%22%20style%3D%22width%3A%20100.0%25%3B%20height%3A%20100.0%25%3B%22%3E%3Ci%3EEnd%3C/i%3E%3CBR%3E2021/08/10%2000%3A00%3CBR%3ECoord%3A%20%3Ca%20href%3D%22https%3A//www.google.co.uk/maps/place/-8.663355%2C41.15799%22%20target%3D%22_blank%22%3E-8.6634%2C%2041.158%3C/a%3E%3C/div%3E%60%29%5B0%5D%3B%0A%20%20%20%20%20%20%20%20%20%20%20%20%20%20%20%20popup_09344b5e7b914e8881672b68286fa713.setContent%28html_7fc30f323af04ff38279f5faf67f6346%29%3B%0A%20%20%20%20%20%20%20%20%20%20%20%20%0A%0A%20%20%20%20%20%20%20%20%20%20%20%20marker_56c615c41ca440a2bf41205fb28c508e.bindPopup%28popup_09344b5e7b914e8881672b68286fa713%29%0A%20%20%20%20%20%20%20%20%20%20%20%20%3B%0A%0A%20%20%20%20%20%20%20%20%20%20%20%20%0A%20%20%20%20%20%20%20%20%0A%3C/script%3E onload=\"this.contentDocument.open();this.contentDocument.write(    decodeURIComponent(this.getAttribute('data-html')));this.contentDocument.close();\" allowfullscreen webkitallowfullscreen mozallowfullscreen></iframe></div></div>"
      ],
      "text/plain": [
       "<folium.folium.Map at 0x7f48b27f0190>"
      ]
     },
     "execution_count": 68,
     "metadata": {
      "tags": []
     },
     "output_type": "execute_result"
    }
   ],
   "source": [
    "tdfk5 = skmob.TrajDataFrame(dfk5, latitude=0, longitude=1, datetime=2,user_id=3)\n",
    "tdfk5.plot_trajectory(zoom=13, weight=3, opacity=0.9)"
   ]
  },
  {
   "cell_type": "markdown",
   "metadata": {
    "id": "qZ1Vy5WAvNRF"
   },
   "source": [
    "### Q3. Clustering: Spatial and Temporal Distributions of Chicago Crimes (30 points)  <span style='color:red'>  pts</span>\n",
    "\n",
    "In this question you will use k-means clustering in sklearn to answer the question, “Do different types of crime display different trends over space and time?”  The dataset “HW3Q3_1.csv” consists of data for 119 different types of crime, each of which occurred at least 100 times in Chicago during the year 2016.  For each crime type, we have various features representing the spatial and temporal distribution of crime, including:\n",
    "\n",
    "- The proportion of all crimes of that type that occurred on each day of the week (day_Sun, day_Mon, …, day_Sat).\n",
    "\n",
    "- The proportion of all crimes of that type that occurred on each hour of the day (hour_0 = midnight to 12:59am, hour_1 = 1am to 1:59am, …, hour_23 = 11pm to 11:59pm).\n",
    "\n",
    "- The proportion of all crime of that type that occurred in each of the 77 community areas of Chicago (community_area_1 … community_area_77).\n",
    "\n",
    "We also have, for each crime type, its categorization by the FBI:\n",
    "\n",
    "- Category = “P1V” corresponds to Part 1 Violent Crime, i.e., serious violent crimes\n",
    "\n",
    "- Category = “P1P” corresponds to Part 1 Property Crime, i.e., serious property crimes\n",
    "\n",
    "- Category = “P2” corresponds to Part 2 (less serious) crimes.\n",
    "\n",
    "To answer parts a through f, you should cluster the 119 crime types using k-means into k = 3 clusters using only the hour of day (hour_0..hour_23) attributes."
   ]
  },
  {
   "cell_type": "markdown",
   "metadata": {
    "id": "V3n7h6wevNRG"
   },
   "source": [
    "a) Copy each cluster’s mean values for hour_0…hour_23 into a DataFrame and create a line graph to visualize these values by cluster.  (5 pts)\n",
    "\n",
    "b) Describe the three different hour-of-day trends represented by these three clusters (5 pts).\n",
    "\n",
    "c) Do you notice any consistent trends about which crime types are assigned to which cluster?  Note that by a \"crime type\", we are referring to specific crimes such as \"narcotics\" or \"assault\", not the FBI categories. (5 pts)  \n",
    "\n",
    "d) Do the three clusters have different day-of-week trends?  Again, visualize the trends for each cluster by creating a line graph and discuss any notable differences.  (5 pts)\n",
    "\n",
    "e) Do the three clusters affect different types of communities/neighborhoods?  To answer this question, you could first compute the proportions of \"cluster 1\", \"cluster 2\", and \"cluster 3\" crimes for each community area, and identify particular community areas with disproportionate amounts of a given cluster.  You can then use the provided file (HW3Q3_2.csv), to determine whether these community areas have any notable common characteristics (poverty, overcrowding, etc.).  You may also wish to consult the Chicago Community Areas map at https://en.wikipedia.org/wiki/Community_areas_in_Chicago. (5 pts)\n",
    "\n",
    "f) How well do the three groups formed by clustering hour-of-day trends correspond to the FBI’s division between P1V, P1P, and P2 crimes? (5 pts)\n",
    "\n"
   ]
  },
  {
   "cell_type": "code",
   "execution_count": 3,
   "metadata": {
    "id": "qipixLoKvNRG",
    "scrolled": false
   },
   "outputs": [
    {
     "data": {
      "text/html": [
       "<div>\n",
       "<style scoped>\n",
       "    .dataframe tbody tr th:only-of-type {\n",
       "        vertical-align: middle;\n",
       "    }\n",
       "\n",
       "    .dataframe tbody tr th {\n",
       "        vertical-align: top;\n",
       "    }\n",
       "\n",
       "    .dataframe thead th {\n",
       "        text-align: right;\n",
       "    }\n",
       "</style>\n",
       "<table border=\"1\" class=\"dataframe\">\n",
       "  <thead>\n",
       "    <tr style=\"text-align: right;\">\n",
       "      <th></th>\n",
       "      <th>crime_type</th>\n",
       "      <th>Category</th>\n",
       "      <th>day_Sun</th>\n",
       "      <th>day_Mon</th>\n",
       "      <th>day_Tue</th>\n",
       "      <th>day_Wed</th>\n",
       "      <th>day_Thu</th>\n",
       "      <th>day_Fri</th>\n",
       "      <th>day_Sat</th>\n",
       "      <th>hour_0</th>\n",
       "      <th>...</th>\n",
       "      <th>community_area_68</th>\n",
       "      <th>community_area_69</th>\n",
       "      <th>community_area_70</th>\n",
       "      <th>community_area_71</th>\n",
       "      <th>community_area_72</th>\n",
       "      <th>community_area_73</th>\n",
       "      <th>community_area_74</th>\n",
       "      <th>community_area_75</th>\n",
       "      <th>community_area_76</th>\n",
       "      <th>community_area_77</th>\n",
       "    </tr>\n",
       "  </thead>\n",
       "  <tbody>\n",
       "    <tr>\n",
       "      <th>0</th>\n",
       "      <td>ARSON: BY FIRE</td>\n",
       "      <td>P1P</td>\n",
       "      <td>0.138810</td>\n",
       "      <td>0.135977</td>\n",
       "      <td>0.155807</td>\n",
       "      <td>0.121813</td>\n",
       "      <td>0.130312</td>\n",
       "      <td>0.147309</td>\n",
       "      <td>0.169972</td>\n",
       "      <td>0.073654</td>\n",
       "      <td>...</td>\n",
       "      <td>0.019830</td>\n",
       "      <td>0.016997</td>\n",
       "      <td>0.019830</td>\n",
       "      <td>0.022663</td>\n",
       "      <td>0.005666</td>\n",
       "      <td>0.000000</td>\n",
       "      <td>0.002833</td>\n",
       "      <td>0.005666</td>\n",
       "      <td>0.000000</td>\n",
       "      <td>0.002833</td>\n",
       "    </tr>\n",
       "    <tr>\n",
       "      <th>1</th>\n",
       "      <td>ASSAULT: AGG PO HANDS NO/MIN INJURY</td>\n",
       "      <td>P2</td>\n",
       "      <td>0.151852</td>\n",
       "      <td>0.118519</td>\n",
       "      <td>0.162963</td>\n",
       "      <td>0.122222</td>\n",
       "      <td>0.129630</td>\n",
       "      <td>0.129630</td>\n",
       "      <td>0.185185</td>\n",
       "      <td>0.055556</td>\n",
       "      <td>...</td>\n",
       "      <td>0.037037</td>\n",
       "      <td>0.048148</td>\n",
       "      <td>0.018519</td>\n",
       "      <td>0.025926</td>\n",
       "      <td>0.003704</td>\n",
       "      <td>0.003704</td>\n",
       "      <td>0.003704</td>\n",
       "      <td>0.011111</td>\n",
       "      <td>0.011111</td>\n",
       "      <td>0.007407</td>\n",
       "    </tr>\n",
       "    <tr>\n",
       "      <th>2</th>\n",
       "      <td>ASSAULT: AGGRAVATED: HANDGUN</td>\n",
       "      <td>P1V</td>\n",
       "      <td>0.149912</td>\n",
       "      <td>0.139405</td>\n",
       "      <td>0.141506</td>\n",
       "      <td>0.131349</td>\n",
       "      <td>0.136953</td>\n",
       "      <td>0.133100</td>\n",
       "      <td>0.167776</td>\n",
       "      <td>0.040630</td>\n",
       "      <td>...</td>\n",
       "      <td>0.035377</td>\n",
       "      <td>0.031524</td>\n",
       "      <td>0.013310</td>\n",
       "      <td>0.042732</td>\n",
       "      <td>0.002102</td>\n",
       "      <td>0.017863</td>\n",
       "      <td>0.000000</td>\n",
       "      <td>0.012259</td>\n",
       "      <td>0.002102</td>\n",
       "      <td>0.003152</td>\n",
       "    </tr>\n",
       "    <tr>\n",
       "      <th>3</th>\n",
       "      <td>ASSAULT: AGGRAVATED: OTHER DANG WEAPON</td>\n",
       "      <td>P1V</td>\n",
       "      <td>0.125000</td>\n",
       "      <td>0.139000</td>\n",
       "      <td>0.148000</td>\n",
       "      <td>0.153000</td>\n",
       "      <td>0.133000</td>\n",
       "      <td>0.142000</td>\n",
       "      <td>0.160000</td>\n",
       "      <td>0.034000</td>\n",
       "      <td>...</td>\n",
       "      <td>0.028000</td>\n",
       "      <td>0.030000</td>\n",
       "      <td>0.014000</td>\n",
       "      <td>0.037000</td>\n",
       "      <td>0.003000</td>\n",
       "      <td>0.010000</td>\n",
       "      <td>0.002000</td>\n",
       "      <td>0.002000</td>\n",
       "      <td>0.003000</td>\n",
       "      <td>0.006000</td>\n",
       "    </tr>\n",
       "    <tr>\n",
       "      <th>4</th>\n",
       "      <td>ASSAULT: AGGRAVATED: OTHER FIREARM</td>\n",
       "      <td>P1V</td>\n",
       "      <td>0.156863</td>\n",
       "      <td>0.107843</td>\n",
       "      <td>0.166667</td>\n",
       "      <td>0.117647</td>\n",
       "      <td>0.147059</td>\n",
       "      <td>0.117647</td>\n",
       "      <td>0.186275</td>\n",
       "      <td>0.009804</td>\n",
       "      <td>...</td>\n",
       "      <td>0.029412</td>\n",
       "      <td>0.019608</td>\n",
       "      <td>0.009804</td>\n",
       "      <td>0.019608</td>\n",
       "      <td>0.000000</td>\n",
       "      <td>0.000000</td>\n",
       "      <td>0.000000</td>\n",
       "      <td>0.009804</td>\n",
       "      <td>0.000000</td>\n",
       "      <td>0.000000</td>\n",
       "    </tr>\n",
       "  </tbody>\n",
       "</table>\n",
       "<p>5 rows × 110 columns</p>\n",
       "</div>"
      ],
      "text/plain": [
       "                               crime_type Category   day_Sun   day_Mon  \\\n",
       "0                          ARSON: BY FIRE      P1P  0.138810  0.135977   \n",
       "1     ASSAULT: AGG PO HANDS NO/MIN INJURY       P2  0.151852  0.118519   \n",
       "2            ASSAULT: AGGRAVATED: HANDGUN      P1V  0.149912  0.139405   \n",
       "3  ASSAULT: AGGRAVATED: OTHER DANG WEAPON      P1V  0.125000  0.139000   \n",
       "4      ASSAULT: AGGRAVATED: OTHER FIREARM      P1V  0.156863  0.107843   \n",
       "\n",
       "    day_Tue   day_Wed   day_Thu   day_Fri   day_Sat    hour_0  ...  \\\n",
       "0  0.155807  0.121813  0.130312  0.147309  0.169972  0.073654  ...   \n",
       "1  0.162963  0.122222  0.129630  0.129630  0.185185  0.055556  ...   \n",
       "2  0.141506  0.131349  0.136953  0.133100  0.167776  0.040630  ...   \n",
       "3  0.148000  0.153000  0.133000  0.142000  0.160000  0.034000  ...   \n",
       "4  0.166667  0.117647  0.147059  0.117647  0.186275  0.009804  ...   \n",
       "\n",
       "   community_area_68  community_area_69  community_area_70  community_area_71  \\\n",
       "0           0.019830           0.016997           0.019830           0.022663   \n",
       "1           0.037037           0.048148           0.018519           0.025926   \n",
       "2           0.035377           0.031524           0.013310           0.042732   \n",
       "3           0.028000           0.030000           0.014000           0.037000   \n",
       "4           0.029412           0.019608           0.009804           0.019608   \n",
       "\n",
       "   community_area_72  community_area_73  community_area_74  community_area_75  \\\n",
       "0           0.005666           0.000000           0.002833           0.005666   \n",
       "1           0.003704           0.003704           0.003704           0.011111   \n",
       "2           0.002102           0.017863           0.000000           0.012259   \n",
       "3           0.003000           0.010000           0.002000           0.002000   \n",
       "4           0.000000           0.000000           0.000000           0.009804   \n",
       "\n",
       "   community_area_76  community_area_77  \n",
       "0           0.000000           0.002833  \n",
       "1           0.011111           0.007407  \n",
       "2           0.002102           0.003152  \n",
       "3           0.003000           0.006000  \n",
       "4           0.000000           0.000000  \n",
       "\n",
       "[5 rows x 110 columns]"
      ]
     },
     "execution_count": 3,
     "metadata": {},
     "output_type": "execute_result"
    }
   ],
   "source": [
    "data3=pd.read_csv(\"HW3Q3_1.csv\")\n",
    "data3.head()"
   ]
  },
  {
   "cell_type": "code",
   "execution_count": 4,
   "metadata": {
    "id": "5EDSRxswvNRH"
   },
   "outputs": [
    {
     "data": {
      "text/html": [
       "<div>\n",
       "<style scoped>\n",
       "    .dataframe tbody tr th:only-of-type {\n",
       "        vertical-align: middle;\n",
       "    }\n",
       "\n",
       "    .dataframe tbody tr th {\n",
       "        vertical-align: top;\n",
       "    }\n",
       "\n",
       "    .dataframe thead th {\n",
       "        text-align: right;\n",
       "    }\n",
       "</style>\n",
       "<table border=\"1\" class=\"dataframe\">\n",
       "  <thead>\n",
       "    <tr style=\"text-align: right;\">\n",
       "      <th></th>\n",
       "      <th>Community Area Number</th>\n",
       "      <th>COMMUNITY AREA NAME</th>\n",
       "      <th>centroid_x</th>\n",
       "      <th>centroid_y</th>\n",
       "      <th>PERCENT OF HOUSING CROWDED</th>\n",
       "      <th>PERCENT HOUSEHOLDS BELOW POVERTY</th>\n",
       "      <th>PERCENT AGED 16+ UNEMPLOYED</th>\n",
       "      <th>PERCENT AGED 25+ WITHOUT HIGH SCHOOL DIPLOMA</th>\n",
       "      <th>PERCENT AGED UNDER 18 OR OVER 64</th>\n",
       "      <th>PER CAPITA INCOME</th>\n",
       "      <th>PERCENT OF HOUSING UNITS VACANT</th>\n",
       "      <th>NUM_CRIMES_2016</th>\n",
       "    </tr>\n",
       "  </thead>\n",
       "  <tbody>\n",
       "    <tr>\n",
       "      <th>0</th>\n",
       "      <td>1</td>\n",
       "      <td>Rogers Park</td>\n",
       "      <td>1164399.219</td>\n",
       "      <td>1947666.815</td>\n",
       "      <td>7.7</td>\n",
       "      <td>23.6</td>\n",
       "      <td>8.7</td>\n",
       "      <td>18.2</td>\n",
       "      <td>27.5</td>\n",
       "      <td>23939</td>\n",
       "      <td>11.870556</td>\n",
       "      <td>3420</td>\n",
       "    </tr>\n",
       "    <tr>\n",
       "      <th>1</th>\n",
       "      <td>2</td>\n",
       "      <td>West Ridge</td>\n",
       "      <td>1158307.200</td>\n",
       "      <td>1943243.722</td>\n",
       "      <td>7.8</td>\n",
       "      <td>17.2</td>\n",
       "      <td>8.8</td>\n",
       "      <td>20.8</td>\n",
       "      <td>38.5</td>\n",
       "      <td>23040</td>\n",
       "      <td>9.870385</td>\n",
       "      <td>3068</td>\n",
       "    </tr>\n",
       "    <tr>\n",
       "      <th>2</th>\n",
       "      <td>3</td>\n",
       "      <td>Uptown</td>\n",
       "      <td>1168228.082</td>\n",
       "      <td>1930980.022</td>\n",
       "      <td>3.8</td>\n",
       "      <td>24.0</td>\n",
       "      <td>8.9</td>\n",
       "      <td>11.8</td>\n",
       "      <td>22.2</td>\n",
       "      <td>35787</td>\n",
       "      <td>8.672137</td>\n",
       "      <td>3330</td>\n",
       "    </tr>\n",
       "    <tr>\n",
       "      <th>3</th>\n",
       "      <td>4</td>\n",
       "      <td>Lincoln Square</td>\n",
       "      <td>1159618.804</td>\n",
       "      <td>1933105.743</td>\n",
       "      <td>3.4</td>\n",
       "      <td>10.9</td>\n",
       "      <td>8.2</td>\n",
       "      <td>13.4</td>\n",
       "      <td>25.5</td>\n",
       "      <td>37524</td>\n",
       "      <td>8.600422</td>\n",
       "      <td>1859</td>\n",
       "    </tr>\n",
       "    <tr>\n",
       "      <th>4</th>\n",
       "      <td>5</td>\n",
       "      <td>North Center</td>\n",
       "      <td>1161104.228</td>\n",
       "      <td>1924056.010</td>\n",
       "      <td>0.3</td>\n",
       "      <td>7.5</td>\n",
       "      <td>5.2</td>\n",
       "      <td>4.5</td>\n",
       "      <td>26.2</td>\n",
       "      <td>57123</td>\n",
       "      <td>10.100636</td>\n",
       "      <td>1280</td>\n",
       "    </tr>\n",
       "  </tbody>\n",
       "</table>\n",
       "</div>"
      ],
      "text/plain": [
       "   Community Area Number COMMUNITY AREA NAME   centroid_x   centroid_y  \\\n",
       "0                      1         Rogers Park  1164399.219  1947666.815   \n",
       "1                      2          West Ridge  1158307.200  1943243.722   \n",
       "2                      3              Uptown  1168228.082  1930980.022   \n",
       "3                      4      Lincoln Square  1159618.804  1933105.743   \n",
       "4                      5        North Center  1161104.228  1924056.010   \n",
       "\n",
       "   PERCENT OF HOUSING CROWDED  PERCENT HOUSEHOLDS BELOW POVERTY  \\\n",
       "0                         7.7                              23.6   \n",
       "1                         7.8                              17.2   \n",
       "2                         3.8                              24.0   \n",
       "3                         3.4                              10.9   \n",
       "4                         0.3                               7.5   \n",
       "\n",
       "   PERCENT AGED 16+ UNEMPLOYED  PERCENT AGED 25+ WITHOUT HIGH SCHOOL DIPLOMA  \\\n",
       "0                          8.7                                          18.2   \n",
       "1                          8.8                                          20.8   \n",
       "2                          8.9                                          11.8   \n",
       "3                          8.2                                          13.4   \n",
       "4                          5.2                                           4.5   \n",
       "\n",
       "   PERCENT AGED UNDER 18 OR OVER 64  PER CAPITA INCOME   \\\n",
       "0                              27.5               23939   \n",
       "1                              38.5               23040   \n",
       "2                              22.2               35787   \n",
       "3                              25.5               37524   \n",
       "4                              26.2               57123   \n",
       "\n",
       "   PERCENT OF HOUSING UNITS VACANT  NUM_CRIMES_2016  \n",
       "0                        11.870556             3420  \n",
       "1                         9.870385             3068  \n",
       "2                         8.672137             3330  \n",
       "3                         8.600422             1859  \n",
       "4                        10.100636             1280  "
      ]
     },
     "execution_count": 4,
     "metadata": {},
     "output_type": "execute_result"
    }
   ],
   "source": [
    "data4=pd.read_csv(\"HW3Q3_2.csv\")\n",
    "data4.head()"
   ]
  },
  {
   "cell_type": "code",
   "execution_count": 57,
   "metadata": {},
   "outputs": [
    {
     "name": "stdout",
     "output_type": "stream",
     "text": [
      "Cluster assignments: [0 0 0 0 0 0 1 0 0 0 0 0 0 0 0 0 0 0 0 1 0 0 0 0 1 0 0 0 0 0 0 0 0 0 0 0 1\n",
      " 1 1 2 1 1 1 1 1 1 0 0 2 0 2 0 0 0 0 0 1 2 2 2 2 0 2 2 0 2 2 2 2 2 2 1 0 0\n",
      " 1 1 0 2 2 1 1 2 1 1 0 0 2 1 2 1 0 0 2 1 2 0 0 0 0 0 0 0 0 0 0 0 1 0 0 1 1\n",
      " 0 0 0 1 0 2 0 0]\n",
      "\n",
      "Cluster centers:\n",
      " [[0.05364158 0.04182416 0.03691183 0.03104211 0.02510576 0.01886402\n",
      "  0.01946212 0.02434162 0.02766839 0.0335171  0.03680552 0.03720506\n",
      "  0.04254665 0.03994431 0.04208987 0.0473956  0.05170137 0.05425891\n",
      "  0.05757893 0.05599685 0.0575726  0.05411778 0.05837336 0.0520345 ]\n",
      " [0.0424857  0.0124839  0.01063242 0.00917263 0.00935287 0.00782255\n",
      "  0.01345328 0.02374573 0.05099082 0.09235549 0.07911561 0.06020408\n",
      "  0.08877015 0.06328364 0.06309555 0.06824587 0.06216217 0.05215833\n",
      "  0.04915732 0.04164785 0.03414496 0.02476704 0.02192139 0.01883064]\n",
      " [0.02578926 0.01492578 0.01124032 0.00610476 0.00276913 0.00135912\n",
      "  0.00394105 0.00860188 0.01212724 0.02407099 0.05418393 0.07890851\n",
      "  0.0586388  0.05664272 0.05754662 0.04407949 0.03910712 0.04398485\n",
      "  0.07308993 0.10678483 0.09104323 0.08009888 0.06578688 0.03917468]]\n",
      "\n",
      "Sum of squared errors: 0.9291658724888441\n"
     ]
    }
   ],
   "source": [
    "# Use k-means package from sklearn\n",
    "from sklearn.cluster import KMeans\n",
    "hours=data3.iloc[:,9:33]\n",
    "km = KMeans(n_clusters=3)\n",
    "km.fit(hours)\n",
    "\n",
    "print('Cluster assignments:',km.labels_)\n",
    "print('\\nCluster centers:\\n',km.cluster_centers_)\n",
    "print('\\nSum of squared errors:',km.inertia_)"
   ]
  },
  {
   "cell_type": "code",
   "execution_count": 58,
   "metadata": {},
   "outputs": [
    {
     "data": {
      "text/html": [
       "<div>\n",
       "<style scoped>\n",
       "    .dataframe tbody tr th:only-of-type {\n",
       "        vertical-align: middle;\n",
       "    }\n",
       "\n",
       "    .dataframe tbody tr th {\n",
       "        vertical-align: top;\n",
       "    }\n",
       "\n",
       "    .dataframe thead th {\n",
       "        text-align: right;\n",
       "    }\n",
       "</style>\n",
       "<table border=\"1\" class=\"dataframe\">\n",
       "  <thead>\n",
       "    <tr style=\"text-align: right;\">\n",
       "      <th></th>\n",
       "      <th>0</th>\n",
       "      <th>1</th>\n",
       "      <th>2</th>\n",
       "      <th>3</th>\n",
       "      <th>4</th>\n",
       "      <th>5</th>\n",
       "      <th>6</th>\n",
       "      <th>7</th>\n",
       "      <th>8</th>\n",
       "      <th>9</th>\n",
       "      <th>...</th>\n",
       "      <th>14</th>\n",
       "      <th>15</th>\n",
       "      <th>16</th>\n",
       "      <th>17</th>\n",
       "      <th>18</th>\n",
       "      <th>19</th>\n",
       "      <th>20</th>\n",
       "      <th>21</th>\n",
       "      <th>22</th>\n",
       "      <th>23</th>\n",
       "    </tr>\n",
       "  </thead>\n",
       "  <tbody>\n",
       "    <tr>\n",
       "      <th>0</th>\n",
       "      <td>0.053642</td>\n",
       "      <td>0.041824</td>\n",
       "      <td>0.036912</td>\n",
       "      <td>0.031042</td>\n",
       "      <td>0.025106</td>\n",
       "      <td>0.018864</td>\n",
       "      <td>0.019462</td>\n",
       "      <td>0.024342</td>\n",
       "      <td>0.027668</td>\n",
       "      <td>0.033517</td>\n",
       "      <td>...</td>\n",
       "      <td>0.042090</td>\n",
       "      <td>0.047396</td>\n",
       "      <td>0.051701</td>\n",
       "      <td>0.054259</td>\n",
       "      <td>0.057579</td>\n",
       "      <td>0.055997</td>\n",
       "      <td>0.057573</td>\n",
       "      <td>0.054118</td>\n",
       "      <td>0.058373</td>\n",
       "      <td>0.052035</td>\n",
       "    </tr>\n",
       "    <tr>\n",
       "      <th>1</th>\n",
       "      <td>0.042486</td>\n",
       "      <td>0.012484</td>\n",
       "      <td>0.010632</td>\n",
       "      <td>0.009173</td>\n",
       "      <td>0.009353</td>\n",
       "      <td>0.007823</td>\n",
       "      <td>0.013453</td>\n",
       "      <td>0.023746</td>\n",
       "      <td>0.050991</td>\n",
       "      <td>0.092355</td>\n",
       "      <td>...</td>\n",
       "      <td>0.063096</td>\n",
       "      <td>0.068246</td>\n",
       "      <td>0.062162</td>\n",
       "      <td>0.052158</td>\n",
       "      <td>0.049157</td>\n",
       "      <td>0.041648</td>\n",
       "      <td>0.034145</td>\n",
       "      <td>0.024767</td>\n",
       "      <td>0.021921</td>\n",
       "      <td>0.018831</td>\n",
       "    </tr>\n",
       "    <tr>\n",
       "      <th>2</th>\n",
       "      <td>0.025789</td>\n",
       "      <td>0.014926</td>\n",
       "      <td>0.011240</td>\n",
       "      <td>0.006105</td>\n",
       "      <td>0.002769</td>\n",
       "      <td>0.001359</td>\n",
       "      <td>0.003941</td>\n",
       "      <td>0.008602</td>\n",
       "      <td>0.012127</td>\n",
       "      <td>0.024071</td>\n",
       "      <td>...</td>\n",
       "      <td>0.057547</td>\n",
       "      <td>0.044079</td>\n",
       "      <td>0.039107</td>\n",
       "      <td>0.043985</td>\n",
       "      <td>0.073090</td>\n",
       "      <td>0.106785</td>\n",
       "      <td>0.091043</td>\n",
       "      <td>0.080099</td>\n",
       "      <td>0.065787</td>\n",
       "      <td>0.039175</td>\n",
       "    </tr>\n",
       "  </tbody>\n",
       "</table>\n",
       "<p>3 rows × 24 columns</p>\n",
       "</div>"
      ],
      "text/plain": [
       "         0         1         2         3         4         5         6   \\\n",
       "0  0.053642  0.041824  0.036912  0.031042  0.025106  0.018864  0.019462   \n",
       "1  0.042486  0.012484  0.010632  0.009173  0.009353  0.007823  0.013453   \n",
       "2  0.025789  0.014926  0.011240  0.006105  0.002769  0.001359  0.003941   \n",
       "\n",
       "         7         8         9   ...        14        15        16        17  \\\n",
       "0  0.024342  0.027668  0.033517  ...  0.042090  0.047396  0.051701  0.054259   \n",
       "1  0.023746  0.050991  0.092355  ...  0.063096  0.068246  0.062162  0.052158   \n",
       "2  0.008602  0.012127  0.024071  ...  0.057547  0.044079  0.039107  0.043985   \n",
       "\n",
       "         18        19        20        21        22        23  \n",
       "0  0.057579  0.055997  0.057573  0.054118  0.058373  0.052035  \n",
       "1  0.049157  0.041648  0.034145  0.024767  0.021921  0.018831  \n",
       "2  0.073090  0.106785  0.091043  0.080099  0.065787  0.039175  \n",
       "\n",
       "[3 rows x 24 columns]"
      ]
     },
     "execution_count": 58,
     "metadata": {},
     "output_type": "execute_result"
    }
   ],
   "source": [
    "hour_df=pd.DataFrame(km.cluster_centers_)\n",
    "hour_df"
   ]
  },
  {
   "cell_type": "code",
   "execution_count": 40,
   "metadata": {},
   "outputs": [
    {
     "data": {
      "image/png": "[encoded data removed]",
      "text/plain": [
       "<Figure size 432x288 with 1 Axes>"
      ]
     },
     "metadata": {
      "needs_background": "light"
     },
     "output_type": "display_data"
    }
   ],
   "source": [
    "import matplotlib.pyplot as plt\n",
    "for i in range(3):\n",
    "    plt.plot(range(24),km.cluster_centers_[i], label='cluster {0}'.format(i+1))\n",
    "plt.legend()\n",
    "plt.show()"
   ]
  },
  {
   "cell_type": "markdown",
   "metadata": {},
   "source": [
    "For cluster 1, the type of crime is likely to happen between 9 am to 21 pm, and reach 2 peaks at 11 am and 7 pm. It is unlikely to happen after 12 pm, especailly rare at 5 am.    \n",
    "Cluster 2 is a type of crime which usually happen during 8-10 am, 11 am to 1pm, it has a drop at 12 am. And the crimes are unlikely to happen between 4 pm to 7 am in the next day.   \n",
    "Cluster 3 is unlikely to happen during 4 am to 3 pm, especially rare at 5 am. And it is likely to happen around 9 pm.  "
   ]
  },
  {
   "cell_type": "markdown",
   "metadata": {},
   "source": [
    "Theft is likely to be assigned in cluster 1. \n",
    "Deceptive practice is likely to be assigned in the cluster 2.\n",
    "Homicide and weapon violation are likely to be assigneed in cluster 3."
   ]
  },
  {
   "cell_type": "code",
   "execution_count": 46,
   "metadata": {},
   "outputs": [
    {
     "data": {
      "text/plain": [
       "KMeans(n_clusters=3)"
      ]
     },
     "execution_count": 46,
     "metadata": {},
     "output_type": "execute_result"
    }
   ],
   "source": [
    "from sklearn.cluster import KMeans\n",
    "days=data3.iloc[:,2:9]\n",
    "km = KMeans(n_clusters=3)\n",
    "km.fit(days)"
   ]
  },
  {
   "cell_type": "code",
   "execution_count": 49,
   "metadata": {},
   "outputs": [
    {
     "data": {
      "image/png": "[encoded data removed]",
      "text/plain": [
       "<Figure size 432x288 with 1 Axes>"
      ]
     },
     "metadata": {
      "needs_background": "light"
     },
     "output_type": "display_data"
    }
   ],
   "source": [
    "for i in range(3):\n",
    "    plt.plot(data3.iloc[:,2:9].columns,km.cluster_centers_[i], label='cluster {0}'.format(i+1))\n",
    "plt.legend()\n",
    "plt.show()"
   ]
  },
  {
   "cell_type": "markdown",
   "metadata": {},
   "source": [
    "The crime of cluster 1 is likely to happen during weekends. The cluster 2 has a slightly drop during weekends. The cirme of cluster 3 is likely to happen during weekdays, but rare at the weekends."
   ]
  },
  {
   "cell_type": "code",
   "execution_count": 101,
   "metadata": {},
   "outputs": [
    {
     "data": {
      "text/plain": [
       "KMeans(n_clusters=3)"
      ]
     },
     "execution_count": 101,
     "metadata": {},
     "output_type": "execute_result"
    }
   ],
   "source": [
    "from sklearn.cluster import KMeans\n",
    "community=data3.iloc[:,33:]\n",
    "km = KMeans(n_clusters=3)\n",
    "km.fit(community)"
   ]
  },
  {
   "cell_type": "code",
   "execution_count": 102,
   "metadata": {},
   "outputs": [
    {
     "data": {
      "image/png": "[encoded data removed]",
      "text/plain": [
       "<Figure size 432x288 with 1 Axes>"
      ]
     },
     "metadata": {
      "needs_background": "light"
     },
     "output_type": "display_data"
    }
   ],
   "source": [
    "for i in range(3):\n",
    "    plt.plot(range(77),km.cluster_centers_[i], label='cluster {0}'.format(i+1))\n",
    "plt.legend()\n",
    "plt.show()"
   ]
  },
  {
   "cell_type": "code",
   "execution_count": 108,
   "metadata": {},
   "outputs": [
    {
     "data": {
      "text/plain": [
       "7"
      ]
     },
     "execution_count": 108,
     "metadata": {},
     "output_type": "execute_result"
    }
   ],
   "source": [
    "list(km.cluster_centers_[0]).index(max(km.cluster_centers_[0]))"
   ]
  },
  {
   "cell_type": "code",
   "execution_count": 120,
   "metadata": {},
   "outputs": [
    {
     "data": {
      "text/plain": [
       "31"
      ]
     },
     "execution_count": 120,
     "metadata": {},
     "output_type": "execute_result"
    }
   ],
   "source": [
    "list(km.cluster_centers_[0]).index(0.07538662752000001)"
   ]
  },
  {
   "cell_type": "code",
   "execution_count": 109,
   "metadata": {},
   "outputs": [
    {
     "data": {
      "text/plain": [
       "24"
      ]
     },
     "execution_count": 109,
     "metadata": {},
     "output_type": "execute_result"
    }
   ],
   "source": [
    "list(km.cluster_centers_[1]).index(max(km.cluster_centers_[1]))"
   ]
  },
  {
   "cell_type": "code",
   "execution_count": 125,
   "metadata": {},
   "outputs": [
    {
     "data": {
      "text/plain": [
       "28"
      ]
     },
     "execution_count": 125,
     "metadata": {},
     "output_type": "execute_result"
    }
   ],
   "source": [
    "list(km.cluster_centers_[1]).index(0.04086511431395349)"
   ]
  },
  {
   "cell_type": "code",
   "execution_count": 110,
   "metadata": {},
   "outputs": [
    {
     "data": {
      "text/plain": [
       "24"
      ]
     },
     "execution_count": 110,
     "metadata": {},
     "output_type": "execute_result"
    }
   ],
   "source": [
    "list(km.cluster_centers_[2]).index(max(km.cluster_centers_[2]))"
   ]
  },
  {
   "cell_type": "code",
   "execution_count": 116,
   "metadata": {},
   "outputs": [
    {
     "data": {
      "text/plain": [
       "22"
      ]
     },
     "execution_count": 116,
     "metadata": {},
     "output_type": "execute_result"
    }
   ],
   "source": [
    "list(km.cluster_centers_[2]).index(0.10225476049999999)"
   ]
  },
  {
   "cell_type": "code",
   "execution_count": 118,
   "metadata": {},
   "outputs": [
    {
     "data": {
      "text/plain": [
       "28"
      ]
     },
     "execution_count": 118,
     "metadata": {},
     "output_type": "execute_result"
    }
   ],
   "source": [
    "list(km.cluster_centers_[2]).index(0.102925966875)"
   ]
  },
  {
   "cell_type": "code",
   "execution_count": 112,
   "metadata": {},
   "outputs": [
    {
     "data": {
      "text/plain": [
       "Community Area Number                                         8\n",
       "COMMUNITY AREA NAME                             Near North Side\n",
       "centroid_x                                           1175512.22\n",
       "centroid_y                                          1906089.147\n",
       "PERCENT OF HOUSING CROWDED                                  1.9\n",
       "PERCENT HOUSEHOLDS BELOW POVERTY                           12.9\n",
       "PERCENT AGED 16+ UNEMPLOYED                                 7.0\n",
       "PERCENT AGED 25+ WITHOUT HIGH SCHOOL DIPLOMA                2.5\n",
       "PERCENT AGED UNDER 18 OR OVER 64                           22.6\n",
       "PER CAPITA INCOME                                         88669\n",
       "PERCENT OF HOUSING UNITS VACANT                        17.07716\n",
       "NUM_CRIMES_2016                                            9847\n",
       "Name: 7, dtype: object"
      ]
     },
     "execution_count": 112,
     "metadata": {},
     "output_type": "execute_result"
    }
   ],
   "source": [
    "#Cluster 1\n",
    "data4.iloc[7]"
   ]
  },
  {
   "cell_type": "code",
   "execution_count": 121,
   "metadata": {},
   "outputs": [
    {
     "data": {
      "text/plain": [
       "Community Area Number                                    32\n",
       "COMMUNITY AREA NAME                                    Loop\n",
       "centroid_x                                      1176373.765\n",
       "centroid_y                                      1899831.267\n",
       "PERCENT OF HOUSING CROWDED                              1.5\n",
       "PERCENT HOUSEHOLDS BELOW POVERTY                       14.7\n",
       "PERCENT AGED 16+ UNEMPLOYED                             5.7\n",
       "PERCENT AGED 25+ WITHOUT HIGH SCHOOL DIPLOMA            3.1\n",
       "PERCENT AGED UNDER 18 OR OVER 64                       13.5\n",
       "PER CAPITA INCOME                                     65526\n",
       "PERCENT OF HOUSING UNITS VACANT                    24.62908\n",
       "NUM_CRIMES_2016                                        8471\n",
       "Name: 31, dtype: object"
      ]
     },
     "execution_count": 121,
     "metadata": {},
     "output_type": "execute_result"
    }
   ],
   "source": [
    "data4.iloc[31]"
   ]
  },
  {
   "cell_type": "markdown",
   "metadata": {},
   "source": [
    "The cluster 1 crimes are likely to happen in the areas which have high income and education rate, less teenagers and elders (more labor forces), less unemployed, low poverty rate. The communities tends to be rich and commercial areas."
   ]
  },
  {
   "cell_type": "code",
   "execution_count": 113,
   "metadata": {},
   "outputs": [
    {
     "data": {
      "text/plain": [
       "Community Area Number                                    25\n",
       "COMMUNITY AREA NAME                                  Austin\n",
       "centroid_x                                      1140839.462\n",
       "centroid_y                                      1903174.321\n",
       "PERCENT OF HOUSING CROWDED                              6.3\n",
       "PERCENT HOUSEHOLDS BELOW POVERTY                       28.6\n",
       "PERCENT AGED 16+ UNEMPLOYED                            22.6\n",
       "PERCENT AGED 25+ WITHOUT HIGH SCHOOL DIPLOMA           24.4\n",
       "PERCENT AGED UNDER 18 OR OVER 64                       37.9\n",
       "PER CAPITA INCOME                                     15957\n",
       "PERCENT OF HOUSING UNITS VACANT                   14.188517\n",
       "NUM_CRIMES_2016                                       15719\n",
       "Name: 24, dtype: object"
      ]
     },
     "execution_count": 113,
     "metadata": {},
     "output_type": "execute_result"
    }
   ],
   "source": [
    "#Cluster 2 & 3\n",
    "data4.iloc[24]"
   ]
  },
  {
   "cell_type": "markdown",
   "metadata": {},
   "source": [
    "The cluster 2 crimes are likely to happen in the poor areas with high poverty and unemploy rate, low education rate, less labor forces, less vacant houses. But the type of crimes tends to be normal among many communities.     \n",
    "The cluster 3 crimes are more severely influenced by the poverty and overcrowded rate. Austin community occupies a huge proportion of the type of crimes. The crimes tends to happen in the underdeveloped areas with low income, less labor forces, education rate and employment rate."
   ]
  },
  {
   "cell_type": "code",
   "execution_count": 122,
   "metadata": {},
   "outputs": [
    {
     "data": {
      "text/plain": [
       "Community Area Number                                      23\n",
       "COMMUNITY AREA NAME                             Humboldt park\n",
       "centroid_x                                        1151216.159\n",
       "centroid_y                                        1906926.141\n",
       "PERCENT OF HOUSING CROWDED                               14.8\n",
       "PERCENT HOUSEHOLDS BELOW POVERTY                         33.9\n",
       "PERCENT AGED 16+ UNEMPLOYED                              17.3\n",
       "PERCENT AGED 25+ WITHOUT HIGH SCHOOL DIPLOMA             35.4\n",
       "PERCENT AGED UNDER 18 OR OVER 64                         38.0\n",
       "PER CAPITA INCOME                                       13781\n",
       "PERCENT OF HOUSING UNITS VACANT                     15.839488\n",
       "NUM_CRIMES_2016                                          7522\n",
       "Name: 22, dtype: object"
      ]
     },
     "execution_count": 122,
     "metadata": {},
     "output_type": "execute_result"
    }
   ],
   "source": [
    "#Cluster 3\n",
    "data4.iloc[22]"
   ]
  },
  {
   "cell_type": "code",
   "execution_count": 123,
   "metadata": {},
   "outputs": [
    {
     "data": {
      "text/plain": [
       "Community Area Number                                       29\n",
       "COMMUNITY AREA NAME                             North Lawndale\n",
       "centroid_x                                         1152306.328\n",
       "centroid_y                                         1892568.863\n",
       "PERCENT OF HOUSING CROWDED                                 7.4\n",
       "PERCENT HOUSEHOLDS BELOW POVERTY                          43.1\n",
       "PERCENT AGED 16+ UNEMPLOYED                               21.2\n",
       "PERCENT AGED 25+ WITHOUT HIGH SCHOOL DIPLOMA              27.6\n",
       "PERCENT AGED UNDER 18 OR OVER 64                          42.7\n",
       "PER CAPITA INCOME                                        12034\n",
       "PERCENT OF HOUSING UNITS VACANT                      21.888178\n",
       "NUM_CRIMES_2016                                           8073\n",
       "Name: 28, dtype: object"
      ]
     },
     "execution_count": 123,
     "metadata": {},
     "output_type": "execute_result"
    }
   ],
   "source": [
    "data4.iloc[28]"
   ]
  },
  {
   "cell_type": "code",
   "execution_count": null,
   "metadata": {},
   "outputs": [],
   "source": []
  },
  {
   "cell_type": "code",
   "execution_count": 61,
   "metadata": {},
   "outputs": [
    {
     "name": "stdout",
     "output_type": "stream",
     "text": [
      "Cluster assignments: [2 2 2 2 2 2 1 2 2 2 2 2 2 2 2 2 2 2 2 1 2 2 2 2 1 2 2 2 2 2 2 2 2 2 2 2 1\n",
      " 1 1 0 1 1 1 1 1 1 2 2 0 2 0 2 2 2 2 2 1 0 0 0 0 2 0 0 2 0 0 0 0 0 0 1 2 2\n",
      " 1 1 2 0 0 1 1 0 1 1 2 2 0 1 0 1 2 2 0 1 0 2 2 2 2 2 2 2 2 2 2 2 1 2 2 1 1\n",
      " 2 2 2 1 2 2 2 2]\n"
     ]
    }
   ],
   "source": [
    "hours=data3.iloc[:,9:33]\n",
    "km = KMeans(n_clusters=3)\n",
    "km.fit(hours)\n",
    "\n",
    "print('Cluster assignments:',km.labels_)"
   ]
  },
  {
   "cell_type": "code",
   "execution_count": 71,
   "metadata": {},
   "outputs": [],
   "source": [
    "#4 Combination.\n",
    "dic1 = {'P1P':0,'P1V': 1,'P2':2}\n",
    "dic2 = {'P1P':1,'P1V': 0,'P2':2}\n",
    "dic3 = {'P1P':2,'P1V': 1,'P2':0}\n",
    "dic4 = {'P1P':0,'P1V': 2,'P2':1}"
   ]
  },
  {
   "cell_type": "code",
   "execution_count": 99,
   "metadata": {},
   "outputs": [
    {
     "name": "stdout",
     "output_type": "stream",
     "text": [
      "0.5882352941176471\n",
      "0.5882352941176471\n",
      "0.18487394957983194\n",
      "0.226890756302521\n"
     ]
    }
   ],
   "source": [
    "for i in [dic1,dic2,dic3,dic4]:\n",
    "    comp = {\n",
    "        \"real\":list(data3['Category']),\n",
    "        \"pred\":km.labels_\n",
    "    }\n",
    "    comp=pd.DataFrame(comp)\n",
    "    for row in comp.iterrows():\n",
    "        comp['encode']=i[row[1][0]]\n",
    "    comp['result'] = np.where(comp['pred']==comp['encode'],'1','0')\n",
    "    print(list(comp['result']).count('1')/comp.shape[0])"
   ]
  },
  {
   "cell_type": "markdown",
   "metadata": {},
   "source": [
    "When P1P matches cluster 0, P1V matches cluster 1, P2 matches cluster 2; and P1P matches cluster 1, P1V matches cluster 0, P2 matches cluster 2, we get the best accuracy, which are all 0.588. "
   ]
  },
  {
   "cell_type": "markdown",
   "metadata": {},
   "source": [
    "The three groups formed by clustering hour-of-day trends correspond to the FBI’s division between P1V, P1P, and P2 crimes are not precise enough."
   ]
  },
  {
   "cell_type": "code",
   "execution_count": null,
   "metadata": {},
   "outputs": [],
   "source": []
  }
 ],
 "metadata": {
  "colab": {
   "collapsed_sections": [
    "qZ1Vy5WAvNRF"
   ],
   "name": "MLC HW 3.ipynb",
   "provenance": []
  },
  "kernelspec": {
   "display_name": "Python 3",
   "language": "python",
   "name": "python3"
  },
  "language_info": {
   "codemirror_mode": {
    "name": "ipython",
    "version": 3
   },
   "file_extension": ".py",
   "mimetype": "text/x-python",
   "name": "python",
   "nbconvert_exporter": "python",
   "pygments_lexer": "ipython3",
   "version": "3.7.0"
  }
 },
 "nbformat": 4,
 "nbformat_minor": 1
}
