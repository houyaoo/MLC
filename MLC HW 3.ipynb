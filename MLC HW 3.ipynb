{
 "cells": [
  {
   "cell_type": "markdown",
   "metadata": {},
   "source": [
    "Total points for this HW: 100.\n",
    "\n",
    "Please note: **Copying and pasting other people's work is absolutely prohibited**. Any such cases will be reported to CUSP's education team and severely punished. Discussion is encouraged, and feel free to exchange ideas with your classmates, but please write your own code and do your own work.\n",
    "\n",
    "\n",
    "<span style='color:red'>  pts</span>"
   ]
  },
  {
   "cell_type": "code",
   "execution_count": 2,
   "metadata": {},
   "outputs": [],
   "source": [
    "from IPython.display import Image\n",
    "import pandas as pd\n",
    "import numpy as np"
   ]
  },
  {
   "cell_type": "markdown",
   "metadata": {},
   "source": [
    "### Q1 KNN (35 points)   <span style='color:red'>  pts</span>\n",
    "\n",
    "Given a dataset with 53,414 points in \"HW3Q1.txt\" which is KEGG Metabolic Relation Network (Directed) Data Set\n",
    "https://archive.ics.uci.edu/ml/datasets/KEGG+Metabolic+Relation+Network+%28Directed%29, you should ignore the first column which is not real value and focus on columns 2 to 24.\n",
    "\n",
    "a) implement the function of Euclidean distance, test it on the first two points in the given dataset, and output the distance. (10 points)"
   ]
  },
  {
   "cell_type": "markdown",
   "metadata": {},
   "source": [
    "Attribute Information:\n",
    "\n",
    "a) Pathway text   \n",
    "b) Nodes integer (min:2, max:116)   \n",
    "c) Edges integer (min:1, max:606)   \n",
    "d) Connected Components integer (min:1, max:13)     \n",
    "e) Network Diameter integer (min:1, max:30)   \n",
    "f) Network Radius integer (min:1, max:2)    \n",
    "g) Shortest Path integer (min:1, max:3277)    \n",
    "h) Characteristic Path Length real (min:1, [Web Link])    \n",
    "i) Avg.num.Neighbours real (min:1, [Web Link])    \n",
    "j) Isolated Nodes integer (min:0, max:1)     \n",
    "k) Number of Self Loops integer (min:0, max:0)    \n",
    "l) Multi-edge Node Pair integer (min:0, max:57)     \n",
    "m) NeighborhoodConnectivity real (min:1, [Web Link])    \n",
    "n) Outdegree real (min:0.5, [Web Link])     \n",
    "o) Stress real (min:0, [Web Link])      \n",
    "p) SelfLoops integer (min:0, max:0)     \n",
    "q) PartnerOfMultiEdgedNodePairs real (min:0, [Web Link])    \n",
    "r) EdgeCount real (min:1, [Web Link])      \n",
    "s) BetweennessCentrality real (min:0, [Web Link])     \n",
    "t) Indegree real (min:0.5, [Web Link])        \n",
    "u) Eccentricity real ([Web Link], [Web Link])     \n",
    "v) ClosenessCentrality real ([Web Link], max:1)     \n",
    "w) AverageShortestPathLength real ([Web Link], [Web Link])     \n",
    "x) ClusteringCoefficient real (min:0, [Web Link])     "
   ]
  },
  {
   "cell_type": "code",
   "execution_count": 6,
   "metadata": {},
   "outputs": [
    {
     "data": {
      "text/html": [
       "<div>\n",
       "<style scoped>\n",
       "    .dataframe tbody tr th:only-of-type {\n",
       "        vertical-align: middle;\n",
       "    }\n",
       "\n",
       "    .dataframe tbody tr th {\n",
       "        vertical-align: top;\n",
       "    }\n",
       "\n",
       "    .dataframe thead th {\n",
       "        text-align: right;\n",
       "    }\n",
       "</style>\n",
       "<table border=\"1\" class=\"dataframe\">\n",
       "  <thead>\n",
       "    <tr style=\"text-align: right;\">\n",
       "      <th></th>\n",
       "      <th>0</th>\n",
       "      <th>1</th>\n",
       "      <th>2</th>\n",
       "      <th>3</th>\n",
       "      <th>4</th>\n",
       "      <th>5</th>\n",
       "      <th>6</th>\n",
       "      <th>7</th>\n",
       "      <th>8</th>\n",
       "      <th>9</th>\n",
       "      <th>...</th>\n",
       "      <th>14</th>\n",
       "      <th>15</th>\n",
       "      <th>16</th>\n",
       "      <th>17</th>\n",
       "      <th>18</th>\n",
       "      <th>19</th>\n",
       "      <th>20</th>\n",
       "      <th>21</th>\n",
       "      <th>22</th>\n",
       "      <th>23</th>\n",
       "    </tr>\n",
       "  </thead>\n",
       "  <tbody>\n",
       "    <tr>\n",
       "      <th>0</th>\n",
       "      <td>aac00010</td>\n",
       "      <td>26</td>\n",
       "      <td>43</td>\n",
       "      <td>2</td>\n",
       "      <td>7</td>\n",
       "      <td>1</td>\n",
       "      <td>211</td>\n",
       "      <td>3.222749</td>\n",
       "      <td>3.230769</td>\n",
       "      <td>0</td>\n",
       "      <td>...</td>\n",
       "      <td>27.000000</td>\n",
       "      <td>0</td>\n",
       "      <td>0.076923</td>\n",
       "      <td>3.307692</td>\n",
       "      <td>0.062418</td>\n",
       "      <td>1.653846</td>\n",
       "      <td>3.923077</td>\n",
       "      <td>0.375199</td>\n",
       "      <td>2.210114</td>\n",
       "      <td>0.221154</td>\n",
       "    </tr>\n",
       "    <tr>\n",
       "      <th>1</th>\n",
       "      <td>aac00020</td>\n",
       "      <td>27</td>\n",
       "      <td>52</td>\n",
       "      <td>2</td>\n",
       "      <td>10</td>\n",
       "      <td>1</td>\n",
       "      <td>226</td>\n",
       "      <td>3.411504</td>\n",
       "      <td>3.851852</td>\n",
       "      <td>0</td>\n",
       "      <td>...</td>\n",
       "      <td>26.629630</td>\n",
       "      <td>0</td>\n",
       "      <td>0.000000</td>\n",
       "      <td>3.851852</td>\n",
       "      <td>0.036567</td>\n",
       "      <td>1.925926</td>\n",
       "      <td>4.074074</td>\n",
       "      <td>0.399880</td>\n",
       "      <td>2.168687</td>\n",
       "      <td>0.290197</td>\n",
       "    </tr>\n",
       "    <tr>\n",
       "      <th>2</th>\n",
       "      <td>aac00030</td>\n",
       "      <td>26</td>\n",
       "      <td>53</td>\n",
       "      <td>2</td>\n",
       "      <td>6</td>\n",
       "      <td>1</td>\n",
       "      <td>202</td>\n",
       "      <td>2.732673</td>\n",
       "      <td>3.769231</td>\n",
       "      <td>0</td>\n",
       "      <td>...</td>\n",
       "      <td>14.961538</td>\n",
       "      <td>0</td>\n",
       "      <td>0.230769</td>\n",
       "      <td>4.076923</td>\n",
       "      <td>0.026604</td>\n",
       "      <td>2.038462</td>\n",
       "      <td>3.115385</td>\n",
       "      <td>0.430368</td>\n",
       "      <td>1.864288</td>\n",
       "      <td>0.230311</td>\n",
       "    </tr>\n",
       "    <tr>\n",
       "      <th>3</th>\n",
       "      <td>aac00040</td>\n",
       "      <td>20</td>\n",
       "      <td>28</td>\n",
       "      <td>1</td>\n",
       "      <td>8</td>\n",
       "      <td>1</td>\n",
       "      <td>65</td>\n",
       "      <td>2.523077</td>\n",
       "      <td>2.600000</td>\n",
       "      <td>0</td>\n",
       "      <td>...</td>\n",
       "      <td>4.950000</td>\n",
       "      <td>0</td>\n",
       "      <td>0.100000</td>\n",
       "      <td>2.800000</td>\n",
       "      <td>0.014474</td>\n",
       "      <td>1.400000</td>\n",
       "      <td>2.450000</td>\n",
       "      <td>0.481044</td>\n",
       "      <td>1.492500</td>\n",
       "      <td>0.210000</td>\n",
       "    </tr>\n",
       "    <tr>\n",
       "      <th>4</th>\n",
       "      <td>aac00051</td>\n",
       "      <td>15</td>\n",
       "      <td>33</td>\n",
       "      <td>1</td>\n",
       "      <td>4</td>\n",
       "      <td>2</td>\n",
       "      <td>85</td>\n",
       "      <td>1.858824</td>\n",
       "      <td>4.400000</td>\n",
       "      <td>0</td>\n",
       "      <td>...</td>\n",
       "      <td>5.000000</td>\n",
       "      <td>0</td>\n",
       "      <td>0.000000</td>\n",
       "      <td>4.400000</td>\n",
       "      <td>0.026740</td>\n",
       "      <td>2.200000</td>\n",
       "      <td>2.333333</td>\n",
       "      <td>0.518691</td>\n",
       "      <td>1.532326</td>\n",
       "      <td>0.267222</td>\n",
       "    </tr>\n",
       "  </tbody>\n",
       "</table>\n",
       "<p>5 rows × 24 columns</p>\n",
       "</div>"
      ],
      "text/plain": [
       "         0   1   2   3   4   5    6         7         8   9   ...         14  \\\n",
       "0  aac00010  26  43   2   7   1  211  3.222749  3.230769   0  ...  27.000000   \n",
       "1  aac00020  27  52   2  10   1  226  3.411504  3.851852   0  ...  26.629630   \n",
       "2  aac00030  26  53   2   6   1  202  2.732673  3.769231   0  ...  14.961538   \n",
       "3  aac00040  20  28   1   8   1   65  2.523077  2.600000   0  ...   4.950000   \n",
       "4  aac00051  15  33   1   4   2   85  1.858824  4.400000   0  ...   5.000000   \n",
       "\n",
       "   15        16        17        18        19        20        21        22  \\\n",
       "0   0  0.076923  3.307692  0.062418  1.653846  3.923077  0.375199  2.210114   \n",
       "1   0  0.000000  3.851852  0.036567  1.925926  4.074074  0.399880  2.168687   \n",
       "2   0  0.230769  4.076923  0.026604  2.038462  3.115385  0.430368  1.864288   \n",
       "3   0  0.100000  2.800000  0.014474  1.400000  2.450000  0.481044  1.492500   \n",
       "4   0  0.000000  4.400000  0.026740  2.200000  2.333333  0.518691  1.532326   \n",
       "\n",
       "         23  \n",
       "0  0.221154  \n",
       "1  0.290197  \n",
       "2  0.230311  \n",
       "3  0.210000  \n",
       "4  0.267222  \n",
       "\n",
       "[5 rows x 24 columns]"
      ]
     },
     "execution_count": 6,
     "metadata": {},
     "output_type": "execute_result"
    }
   ],
   "source": [
    "# your answers here\n",
    "q1=pd.read_csv('HW3Q1.txt', header=None)\n",
    "q1.head()"
   ]
  },
  {
   "cell_type": "code",
   "execution_count": 54,
   "metadata": {},
   "outputs": [],
   "source": [
    "def euc_distance(a,b,df):\n",
    "    diff = 0\n",
    "    for i in range(1,df.shape[1]):\n",
    "        x=a[i].reset_index(drop=True)\n",
    "        y=b[i].reset_index(drop=True)\n",
    "        diff += np.square(x-y)\n",
    "    return np.sqrt(diff).to_numpy()[0]"
   ]
  },
  {
   "cell_type": "code",
   "execution_count": 55,
   "metadata": {},
   "outputs": [
    {
     "data": {
      "text/plain": [
       "17.837937709396144"
      ]
     },
     "execution_count": 55,
     "metadata": {},
     "output_type": "execute_result"
    }
   ],
   "source": [
    "euc_distance(q1.iloc[:1],q1.iloc[1:2],q1)"
   ]
  },
  {
   "cell_type": "markdown",
   "metadata": {},
   "source": [
    "b) given the first point as query, implement the baseline (slide 10 of lecture 8) which scans every point in the rest of the file, return the nearest neighbor to the query. In the end, output the resulted point and the distance to the query. (10 points)"
   ]
  },
  {
   "cell_type": "code",
   "execution_count": 57,
   "metadata": {},
   "outputs": [],
   "source": [
    "# your answers here\n",
    "import time\n",
    "start_time = time.time()\n",
    "distances=[]\n",
    "for i in range(1,q1.shape[0]):\n",
    "    distances.append(euc_distance(q1.iloc[:1],q1.iloc[i:i+1],q1))\n",
    "print(\"--- %s seconds ---\" % (time.time() - start_time))"
   ]
  },
  {
   "cell_type": "code",
   "execution_count": 60,
   "metadata": {},
   "outputs": [
    {
     "data": {
      "text/plain": [
       "53412"
      ]
     },
     "execution_count": 60,
     "metadata": {},
     "output_type": "execute_result"
    }
   ],
   "source": [
    "len(distances)"
   ]
  },
  {
   "cell_type": "code",
   "execution_count": 59,
   "metadata": {},
   "outputs": [
    {
     "data": {
      "text/plain": [
       "12.466167487557817"
      ]
     },
     "execution_count": 59,
     "metadata": {},
     "output_type": "execute_result"
    }
   ],
   "source": [
    "np.min(distances)"
   ]
  },
  {
   "cell_type": "code",
   "execution_count": 61,
   "metadata": {},
   "outputs": [
    {
     "data": {
      "text/plain": [
       "45833"
      ]
     },
     "execution_count": 61,
     "metadata": {},
     "output_type": "execute_result"
    }
   ],
   "source": [
    "distances.index(min(distances))"
   ]
  },
  {
   "cell_type": "code",
   "execution_count": 64,
   "metadata": {},
   "outputs": [
    {
     "data": {
      "text/plain": [
       "12.466167487557817"
      ]
     },
     "execution_count": 64,
     "metadata": {},
     "output_type": "execute_result"
    }
   ],
   "source": [
    "euc_distance(q1.iloc[:1],q1.iloc[45834:45834+1],q1)"
   ]
  },
  {
   "cell_type": "code",
   "execution_count": 68,
   "metadata": {},
   "outputs": [
    {
     "data": {
      "text/plain": [
       "45834    spj00550\n",
       "Name: 0, dtype: object"
      ]
     },
     "execution_count": 68,
     "metadata": {},
     "output_type": "execute_result"
    }
   ],
   "source": [
    "q1.iloc[45834:45834+1][0]"
   ]
  },
  {
   "cell_type": "markdown",
   "metadata": {},
   "source": [
    "The nearest neighbor is spj00550. The minimum distance is 12.466167487557817."
   ]
  },
  {
   "cell_type": "markdown",
   "metadata": {},
   "source": [
    "c) implement the index acceleration using Ball-tree, and present the nearest neighbor of the first point (to call the library of Ball-tree, refer to: https://scikit-learn.org/stable/modules/generated/sklearn.neighbors.BallTree.html) (10 points)"
   ]
  },
  {
   "cell_type": "code",
   "execution_count": 70,
   "metadata": {},
   "outputs": [
    {
     "data": {
      "text/html": [
       "<div>\n",
       "<style scoped>\n",
       "    .dataframe tbody tr th:only-of-type {\n",
       "        vertical-align: middle;\n",
       "    }\n",
       "\n",
       "    .dataframe tbody tr th {\n",
       "        vertical-align: top;\n",
       "    }\n",
       "\n",
       "    .dataframe thead th {\n",
       "        text-align: right;\n",
       "    }\n",
       "</style>\n",
       "<table border=\"1\" class=\"dataframe\">\n",
       "  <thead>\n",
       "    <tr style=\"text-align: right;\">\n",
       "      <th></th>\n",
       "      <th>1</th>\n",
       "      <th>2</th>\n",
       "      <th>3</th>\n",
       "      <th>4</th>\n",
       "      <th>5</th>\n",
       "      <th>6</th>\n",
       "      <th>7</th>\n",
       "      <th>8</th>\n",
       "      <th>9</th>\n",
       "      <th>10</th>\n",
       "      <th>...</th>\n",
       "      <th>14</th>\n",
       "      <th>15</th>\n",
       "      <th>16</th>\n",
       "      <th>17</th>\n",
       "      <th>18</th>\n",
       "      <th>19</th>\n",
       "      <th>20</th>\n",
       "      <th>21</th>\n",
       "      <th>22</th>\n",
       "      <th>23</th>\n",
       "    </tr>\n",
       "  </thead>\n",
       "  <tbody>\n",
       "    <tr>\n",
       "      <th>0</th>\n",
       "      <td>26</td>\n",
       "      <td>43</td>\n",
       "      <td>2</td>\n",
       "      <td>7</td>\n",
       "      <td>1</td>\n",
       "      <td>211</td>\n",
       "      <td>3.222749</td>\n",
       "      <td>3.230769</td>\n",
       "      <td>0</td>\n",
       "      <td>0</td>\n",
       "      <td>...</td>\n",
       "      <td>27.000000</td>\n",
       "      <td>0</td>\n",
       "      <td>0.076923</td>\n",
       "      <td>3.307692</td>\n",
       "      <td>0.062418</td>\n",
       "      <td>1.653846</td>\n",
       "      <td>3.923077</td>\n",
       "      <td>0.375199</td>\n",
       "      <td>2.210114</td>\n",
       "      <td>0.221154</td>\n",
       "    </tr>\n",
       "    <tr>\n",
       "      <th>1</th>\n",
       "      <td>27</td>\n",
       "      <td>52</td>\n",
       "      <td>2</td>\n",
       "      <td>10</td>\n",
       "      <td>1</td>\n",
       "      <td>226</td>\n",
       "      <td>3.411504</td>\n",
       "      <td>3.851852</td>\n",
       "      <td>0</td>\n",
       "      <td>0</td>\n",
       "      <td>...</td>\n",
       "      <td>26.629630</td>\n",
       "      <td>0</td>\n",
       "      <td>0.000000</td>\n",
       "      <td>3.851852</td>\n",
       "      <td>0.036567</td>\n",
       "      <td>1.925926</td>\n",
       "      <td>4.074074</td>\n",
       "      <td>0.399880</td>\n",
       "      <td>2.168687</td>\n",
       "      <td>0.290197</td>\n",
       "    </tr>\n",
       "    <tr>\n",
       "      <th>2</th>\n",
       "      <td>26</td>\n",
       "      <td>53</td>\n",
       "      <td>2</td>\n",
       "      <td>6</td>\n",
       "      <td>1</td>\n",
       "      <td>202</td>\n",
       "      <td>2.732673</td>\n",
       "      <td>3.769231</td>\n",
       "      <td>0</td>\n",
       "      <td>0</td>\n",
       "      <td>...</td>\n",
       "      <td>14.961538</td>\n",
       "      <td>0</td>\n",
       "      <td>0.230769</td>\n",
       "      <td>4.076923</td>\n",
       "      <td>0.026604</td>\n",
       "      <td>2.038462</td>\n",
       "      <td>3.115385</td>\n",
       "      <td>0.430368</td>\n",
       "      <td>1.864288</td>\n",
       "      <td>0.230311</td>\n",
       "    </tr>\n",
       "    <tr>\n",
       "      <th>3</th>\n",
       "      <td>20</td>\n",
       "      <td>28</td>\n",
       "      <td>1</td>\n",
       "      <td>8</td>\n",
       "      <td>1</td>\n",
       "      <td>65</td>\n",
       "      <td>2.523077</td>\n",
       "      <td>2.600000</td>\n",
       "      <td>0</td>\n",
       "      <td>0</td>\n",
       "      <td>...</td>\n",
       "      <td>4.950000</td>\n",
       "      <td>0</td>\n",
       "      <td>0.100000</td>\n",
       "      <td>2.800000</td>\n",
       "      <td>0.014474</td>\n",
       "      <td>1.400000</td>\n",
       "      <td>2.450000</td>\n",
       "      <td>0.481044</td>\n",
       "      <td>1.492500</td>\n",
       "      <td>0.210000</td>\n",
       "    </tr>\n",
       "    <tr>\n",
       "      <th>4</th>\n",
       "      <td>15</td>\n",
       "      <td>33</td>\n",
       "      <td>1</td>\n",
       "      <td>4</td>\n",
       "      <td>2</td>\n",
       "      <td>85</td>\n",
       "      <td>1.858824</td>\n",
       "      <td>4.400000</td>\n",
       "      <td>0</td>\n",
       "      <td>0</td>\n",
       "      <td>...</td>\n",
       "      <td>5.000000</td>\n",
       "      <td>0</td>\n",
       "      <td>0.000000</td>\n",
       "      <td>4.400000</td>\n",
       "      <td>0.026740</td>\n",
       "      <td>2.200000</td>\n",
       "      <td>2.333333</td>\n",
       "      <td>0.518691</td>\n",
       "      <td>1.532326</td>\n",
       "      <td>0.267222</td>\n",
       "    </tr>\n",
       "    <tr>\n",
       "      <th>...</th>\n",
       "      <td>...</td>\n",
       "      <td>...</td>\n",
       "      <td>...</td>\n",
       "      <td>...</td>\n",
       "      <td>...</td>\n",
       "      <td>...</td>\n",
       "      <td>...</td>\n",
       "      <td>...</td>\n",
       "      <td>...</td>\n",
       "      <td>...</td>\n",
       "      <td>...</td>\n",
       "      <td>...</td>\n",
       "      <td>...</td>\n",
       "      <td>...</td>\n",
       "      <td>...</td>\n",
       "      <td>...</td>\n",
       "      <td>...</td>\n",
       "      <td>...</td>\n",
       "      <td>...</td>\n",
       "      <td>...</td>\n",
       "      <td>...</td>\n",
       "    </tr>\n",
       "    <tr>\n",
       "      <th>53408</th>\n",
       "      <td>20</td>\n",
       "      <td>25</td>\n",
       "      <td>2</td>\n",
       "      <td>5</td>\n",
       "      <td>1</td>\n",
       "      <td>62</td>\n",
       "      <td>2.112903</td>\n",
       "      <td>2.500000</td>\n",
       "      <td>0</td>\n",
       "      <td>0</td>\n",
       "      <td>...</td>\n",
       "      <td>5.550000</td>\n",
       "      <td>0</td>\n",
       "      <td>0.000000</td>\n",
       "      <td>2.500000</td>\n",
       "      <td>0.043910</td>\n",
       "      <td>1.250000</td>\n",
       "      <td>1.650000</td>\n",
       "      <td>0.377880</td>\n",
       "      <td>1.077955</td>\n",
       "      <td>0.157500</td>\n",
       "    </tr>\n",
       "    <tr>\n",
       "      <th>53409</th>\n",
       "      <td>4</td>\n",
       "      <td>3</td>\n",
       "      <td>1</td>\n",
       "      <td>3</td>\n",
       "      <td>1</td>\n",
       "      <td>6</td>\n",
       "      <td>1.666667</td>\n",
       "      <td>1.500000</td>\n",
       "      <td>0</td>\n",
       "      <td>0</td>\n",
       "      <td>...</td>\n",
       "      <td>1.000000</td>\n",
       "      <td>0</td>\n",
       "      <td>0.000000</td>\n",
       "      <td>1.500000</td>\n",
       "      <td>0.166667</td>\n",
       "      <td>0.750000</td>\n",
       "      <td>1.500000</td>\n",
       "      <td>0.541667</td>\n",
       "      <td>1.125000</td>\n",
       "      <td>0.000000</td>\n",
       "    </tr>\n",
       "    <tr>\n",
       "      <th>53410</th>\n",
       "      <td>5</td>\n",
       "      <td>6</td>\n",
       "      <td>1</td>\n",
       "      <td>3</td>\n",
       "      <td>1</td>\n",
       "      <td>10</td>\n",
       "      <td>1.500000</td>\n",
       "      <td>2.400000</td>\n",
       "      <td>0</td>\n",
       "      <td>0</td>\n",
       "      <td>...</td>\n",
       "      <td>1.000000</td>\n",
       "      <td>0</td>\n",
       "      <td>0.000000</td>\n",
       "      <td>2.400000</td>\n",
       "      <td>0.083333</td>\n",
       "      <td>1.200000</td>\n",
       "      <td>1.600000</td>\n",
       "      <td>0.593333</td>\n",
       "      <td>1.150000</td>\n",
       "      <td>0.166667</td>\n",
       "    </tr>\n",
       "    <tr>\n",
       "      <th>53411</th>\n",
       "      <td>16</td>\n",
       "      <td>24</td>\n",
       "      <td>3</td>\n",
       "      <td>4</td>\n",
       "      <td>1</td>\n",
       "      <td>39</td>\n",
       "      <td>1.666667</td>\n",
       "      <td>2.250000</td>\n",
       "      <td>0</td>\n",
       "      <td>0</td>\n",
       "      <td>...</td>\n",
       "      <td>2.250000</td>\n",
       "      <td>0</td>\n",
       "      <td>0.250000</td>\n",
       "      <td>2.500000</td>\n",
       "      <td>0.018056</td>\n",
       "      <td>1.250000</td>\n",
       "      <td>1.375000</td>\n",
       "      <td>0.454412</td>\n",
       "      <td>0.923438</td>\n",
       "      <td>0.188542</td>\n",
       "    </tr>\n",
       "    <tr>\n",
       "      <th>53412</th>\n",
       "      <td>11</td>\n",
       "      <td>10</td>\n",
       "      <td>2</td>\n",
       "      <td>4</td>\n",
       "      <td>1</td>\n",
       "      <td>21</td>\n",
       "      <td>1.857143</td>\n",
       "      <td>1.818182</td>\n",
       "      <td>0</td>\n",
       "      <td>0</td>\n",
       "      <td>...</td>\n",
       "      <td>1.636364</td>\n",
       "      <td>0</td>\n",
       "      <td>0.000000</td>\n",
       "      <td>1.818182</td>\n",
       "      <td>0.029221</td>\n",
       "      <td>0.909091</td>\n",
       "      <td>1.454545</td>\n",
       "      <td>0.468615</td>\n",
       "      <td>0.989394</td>\n",
       "      <td>0.068182</td>\n",
       "    </tr>\n",
       "  </tbody>\n",
       "</table>\n",
       "<p>53413 rows × 23 columns</p>\n",
       "</div>"
      ],
      "text/plain": [
       "       1   2   3   4   5    6         7         8   9   10  ...         14  \\\n",
       "0      26  43   2   7   1  211  3.222749  3.230769   0   0  ...  27.000000   \n",
       "1      27  52   2  10   1  226  3.411504  3.851852   0   0  ...  26.629630   \n",
       "2      26  53   2   6   1  202  2.732673  3.769231   0   0  ...  14.961538   \n",
       "3      20  28   1   8   1   65  2.523077  2.600000   0   0  ...   4.950000   \n",
       "4      15  33   1   4   2   85  1.858824  4.400000   0   0  ...   5.000000   \n",
       "...    ..  ..  ..  ..  ..  ...       ...       ...  ..  ..  ...        ...   \n",
       "53408  20  25   2   5   1   62  2.112903  2.500000   0   0  ...   5.550000   \n",
       "53409   4   3   1   3   1    6  1.666667  1.500000   0   0  ...   1.000000   \n",
       "53410   5   6   1   3   1   10  1.500000  2.400000   0   0  ...   1.000000   \n",
       "53411  16  24   3   4   1   39  1.666667  2.250000   0   0  ...   2.250000   \n",
       "53412  11  10   2   4   1   21  1.857143  1.818182   0   0  ...   1.636364   \n",
       "\n",
       "       15        16        17        18        19        20        21  \\\n",
       "0       0  0.076923  3.307692  0.062418  1.653846  3.923077  0.375199   \n",
       "1       0  0.000000  3.851852  0.036567  1.925926  4.074074  0.399880   \n",
       "2       0  0.230769  4.076923  0.026604  2.038462  3.115385  0.430368   \n",
       "3       0  0.100000  2.800000  0.014474  1.400000  2.450000  0.481044   \n",
       "4       0  0.000000  4.400000  0.026740  2.200000  2.333333  0.518691   \n",
       "...    ..       ...       ...       ...       ...       ...       ...   \n",
       "53408   0  0.000000  2.500000  0.043910  1.250000  1.650000  0.377880   \n",
       "53409   0  0.000000  1.500000  0.166667  0.750000  1.500000  0.541667   \n",
       "53410   0  0.000000  2.400000  0.083333  1.200000  1.600000  0.593333   \n",
       "53411   0  0.250000  2.500000  0.018056  1.250000  1.375000  0.454412   \n",
       "53412   0  0.000000  1.818182  0.029221  0.909091  1.454545  0.468615   \n",
       "\n",
       "             22        23  \n",
       "0      2.210114  0.221154  \n",
       "1      2.168687  0.290197  \n",
       "2      1.864288  0.230311  \n",
       "3      1.492500  0.210000  \n",
       "4      1.532326  0.267222  \n",
       "...         ...       ...  \n",
       "53408  1.077955  0.157500  \n",
       "53409  1.125000  0.000000  \n",
       "53410  1.150000  0.166667  \n",
       "53411  0.923438  0.188542  \n",
       "53412  0.989394  0.068182  \n",
       "\n",
       "[53413 rows x 23 columns]"
      ]
     },
     "execution_count": 70,
     "metadata": {},
     "output_type": "execute_result"
    }
   ],
   "source": [
    "q1.iloc[:,1:]"
   ]
  },
  {
   "cell_type": "code",
   "execution_count": 85,
   "metadata": {},
   "outputs": [
    {
     "name": "stdout",
     "output_type": "stream",
     "text": [
      "--- 0.35341596603393555 seconds ---\n"
     ]
    }
   ],
   "source": [
    "# your answers here\n",
    "from sklearn.neighbors import NearestNeighbors,BallTree\n",
    "import time\n",
    "start_time = time.time()\n",
    "tree = BallTree(q1.iloc[:,1:], leaf_size=40)              \n",
    "dist, ind = tree.query(q1.iloc[:1,1:], k=2) \n",
    "print(\"--- %s seconds ---\" % (time.time() - start_time))"
   ]
  },
  {
   "cell_type": "code",
   "execution_count": 86,
   "metadata": {},
   "outputs": [
    {
     "data": {
      "text/plain": [
       "(12.466167487557817, 45899)"
      ]
     },
     "execution_count": 86,
     "metadata": {},
     "output_type": "execute_result"
    }
   ],
   "source": [
    "dist[0][1], ind[0][1]"
   ]
  },
  {
   "cell_type": "markdown",
   "metadata": {},
   "source": [
    "d) compare the running time of the above two methods you have implemented (to measure the running time, refer to\n",
    "https://stackoverflow.com/questions/1557571/how-do-i-get-time-of-a-python-programs-execution) (5 points)"
   ]
  },
  {
   "cell_type": "code",
   "execution_count": null,
   "metadata": {},
   "outputs": [],
   "source": [
    "# your answers here\n",
    "#The BallTree reduce the time a lot compare with the brute force method."
   ]
  },
  {
   "cell_type": "markdown",
   "metadata": {},
   "source": [
    "### Q2. Trajectory Distance Metric and KNN (35 points)  <span style='color:red'>  pts</span>\n",
    "\n",
    "In this question, we use a dataset with 1114 trajectories in Porto, Portugal: \"HW3Q2.csv\" for trajectory distance computation and kNN. (To access the full dataset, refer to https://archive.ics.uci.edu/ml/datasets/Taxi+Service+Trajectory+-+Prediction+Challenge,+ECML+PKDD+2015)\n",
    "\n",
    "a) implement DTW and test it on the first two trajectories in the file, and output the distance. (5 points)"
   ]
  },
  {
   "cell_type": "code",
   "execution_count": 109,
   "metadata": {},
   "outputs": [],
   "source": [
    "# your answers here\n",
    "import re\n",
    "f = open(\"HW3Q2.txt\", \"r\")\n",
    "t=[]\n",
    "point=[]\n",
    "for x in f:\n",
    "    ##line = re.findall(r\"[-+]?\\d*\\.\\d+|\\d+\", x)\n",
    "    line_list = x.split() \n",
    "    t.append(line_list[1])\n",
    "    point.append(line_list[0])\n",
    "    ##t.append(line)"
   ]
  },
  {
   "cell_type": "code",
   "execution_count": 91,
   "metadata": {},
   "outputs": [
    {
     "data": {
      "text/plain": [
       "1114"
      ]
     },
     "execution_count": 91,
     "metadata": {},
     "output_type": "execute_result"
    }
   ],
   "source": [
    "len(t)"
   ]
  },
  {
   "cell_type": "code",
   "execution_count": 101,
   "metadata": {},
   "outputs": [],
   "source": [
    "import ast\n",
    "traj=[]\n",
    "for i in range(len(t)):\n",
    "    traj.append(np.array(ast.literal_eval(t[i])))"
   ]
  },
  {
   "cell_type": "code",
   "execution_count": 19,
   "metadata": {},
   "outputs": [],
   "source": [
    "import numpy as np\n",
    "\n",
    "def eucl_dist(x, y):\n",
    "    \"\"\"\n",
    "    Usage\n",
    "    -----\n",
    "    L2-norm between point x and y\n",
    "    Parameters\n",
    "    ----------\n",
    "    param x : numpy_array\n",
    "    param y : numpy_array\n",
    "    Returns\n",
    "    -------\n",
    "    dist : float\n",
    "           L2-norm between x and y\n",
    "    \"\"\"\n",
    "    dist = np.linalg.norm(x - y)\n",
    "    return dist\n",
    "\n",
    "######################\n",
    "# Euclidean Geometry #\n",
    "######################\n",
    "\n",
    "def e_dtw(t0, t1):\n",
    "    \"\"\"\n",
    "    Usage\n",
    "    -----\n",
    "    The Dynamic-Time Warping distance between trajectory t0 and t1.\n",
    "    Parameters\n",
    "    ----------\n",
    "    param t0 : len(t0)x2 numpy_array\n",
    "    param t1 : len(t1)x2 numpy_array\n",
    "    Returns\n",
    "    -------\n",
    "    dtw : float\n",
    "          The Dynamic-Time Warping distance between trajectory t0 and t1\n",
    "    \"\"\"\n",
    "\n",
    "    n0 = len(t0)\n",
    "    n1 = len(t1)\n",
    "    C = np.zeros((n0 + 1, n1 + 1))\n",
    "    C[1:, 0] = float('inf')\n",
    "    C[0, 1:] = float('inf')\n",
    "    for i in np.arange(n0) + 1:\n",
    "        for j in np.arange(n1) + 1:\n",
    "            C[i, j] = eucl_dist(t0[i - 1], t1[j - 1]) + min(C[i, j - 1], C[i - 1, j - 1], C[i - 1, j])\n",
    "    dtw = C[n0, n1]\n",
    "    return dtw"
   ]
  },
  {
   "cell_type": "code",
   "execution_count": 104,
   "metadata": {},
   "outputs": [
    {
     "data": {
      "text/plain": [
       "1.0735257244071137"
      ]
     },
     "execution_count": 104,
     "metadata": {},
     "output_type": "execute_result"
    }
   ],
   "source": [
    "e_dtw(traj[0],traj[1])"
   ]
  },
  {
   "cell_type": "markdown",
   "metadata": {},
   "source": [
    "b) implement LCSS and test it on the first two trajectories in the file, by setting the threshold as 0.001, and output the similarity score. (5 points)"
   ]
  },
  {
   "cell_type": "code",
   "execution_count": 105,
   "metadata": {},
   "outputs": [],
   "source": [
    "# your answers here\n",
    "def e_lcss(t0, t1, eps):\n",
    "    \"\"\"\n",
    "    Usage\n",
    "    -----\n",
    "    The Longuest-Common-Subsequence distance between trajectory t0 and t1.\n",
    "    Parameters\n",
    "    ----------\n",
    "    param t0 : len(t0)x2 numpy_array\n",
    "    param t1 : len(t1)x2 numpy_array\n",
    "    eps : float\n",
    "    Returns\n",
    "    -------\n",
    "    lcss : float\n",
    "           The Longuest-Common-Subsequence distance between trajectory t0 and t1\n",
    "    \"\"\"\n",
    "    n0 = len(t0)\n",
    "    n1 = len(t1)\n",
    "    # An (m+1) times (n+1) matrix\n",
    "    C = [[0] * (n1 + 1) for _ in range(n0 + 1)]\n",
    "    for i in range(1, n0 + 1):\n",
    "        for j in range(1, n1 + 1):\n",
    "            if eucl_dist(t0[i - 1], t1[j - 1]) < eps:\n",
    "                C[i][j] = C[i - 1][j - 1] + 1\n",
    "            else:\n",
    "                C[i][j] = max(C[i][j - 1], C[i - 1][j])\n",
    "    lcss = 1 - float(C[n0][n1]) / min([n0, n1])\n",
    "    return lcss"
   ]
  },
  {
   "cell_type": "code",
   "execution_count": 106,
   "metadata": {},
   "outputs": [
    {
     "data": {
      "text/plain": [
       "1.0"
      ]
     },
     "execution_count": 106,
     "metadata": {},
     "output_type": "execute_result"
    }
   ],
   "source": [
    "e_lcss(traj[0],traj[1],0.001)"
   ]
  },
  {
   "cell_type": "markdown",
   "metadata": {},
   "source": [
    "c) implement kNN of using a DTW and lCSS and test it using the first trajectory as query and the rest 1113 trajectories as the dataset. (10 points)"
   ]
  },
  {
   "cell_type": "code",
   "execution_count": 118,
   "metadata": {},
   "outputs": [],
   "source": [
    "# your answers here\n",
    "k_dtw={}\n",
    "def dtw_kNN(k):\n",
    "    for i in range(1,len(traj)):\n",
    "        dtw=e_dtw(traj[0],traj[i])\n",
    "        k_dtw[point[i]] = dtw\n",
    "    sort_dtw=sorted(k_dtw.items(), key=lambda d: d[1])\n",
    "    return sort_dtw[:k]"
   ]
  },
  {
   "cell_type": "code",
   "execution_count": 124,
   "metadata": {},
   "outputs": [
    {
     "data": {
      "text/plain": [
       "[('860', 0.12132758515143127)]"
      ]
     },
     "execution_count": 124,
     "metadata": {},
     "output_type": "execute_result"
    }
   ],
   "source": [
    "#test by k=1\n",
    "dtw_kNN(1)"
   ]
  },
  {
   "cell_type": "code",
   "execution_count": 121,
   "metadata": {},
   "outputs": [],
   "source": [
    "k_lcss={}\n",
    "def lcss_kNN(k,eps):\n",
    "    for i in range(1,len(traj)):\n",
    "        lcss=e_lcss(traj[0],traj[i],eps)\n",
    "        k_lcss[point[i]] = lcss\n",
    "    sort_lcss=sorted(k_lcss.items(), key=lambda d: d[1])\n",
    "    return sort_lcss[:k]"
   ]
  },
  {
   "cell_type": "code",
   "execution_count": 125,
   "metadata": {},
   "outputs": [
    {
     "data": {
      "text/plain": [
       "[('810', 0.3157894736842105)]"
      ]
     },
     "execution_count": 125,
     "metadata": {},
     "output_type": "execute_result"
    }
   ],
   "source": [
    "#test by k=1\n",
    "lcss_kNN(1,0.001)"
   ]
  },
  {
   "cell_type": "markdown",
   "metadata": {},
   "source": [
    "d) compare the running time of two approaches by using the first trajectory as query, and check whether them return the same results by calling 5NN. (5 points)"
   ]
  },
  {
   "cell_type": "code",
   "execution_count": 127,
   "metadata": {},
   "outputs": [
    {
     "data": {
      "text/plain": [
       "[('860', 0.12132758515143127),\n",
       " ('551', 0.12909118284621376),\n",
       " ('440', 0.1487935698018854),\n",
       " ('90', 0.16888369178488338),\n",
       " ('284', 0.20669792029804407)]"
      ]
     },
     "execution_count": 127,
     "metadata": {},
     "output_type": "execute_result"
    }
   ],
   "source": [
    "# your answers here\n",
    "import time\n",
    "start_time = time.time()\n",
    "dtw_kNN(5)"
   ]
  },
  {
   "cell_type": "code",
   "execution_count": 128,
   "metadata": {},
   "outputs": [
    {
     "name": "stdout",
     "output_type": "stream",
     "text": [
      "--- 10.421721935272217 seconds ---\n"
     ]
    }
   ],
   "source": [
    "print(\"--- %s seconds ---\" % (time.time() - start_time))"
   ]
  },
  {
   "cell_type": "code",
   "execution_count": 130,
   "metadata": {},
   "outputs": [
    {
     "data": {
      "text/plain": [
       "[('810', 0.3157894736842105),\n",
       " ('963', 0.368421052631579),\n",
       " ('896', 0.4),\n",
       " ('442', 0.4736842105263158),\n",
       " ('853', 0.4736842105263158)]"
      ]
     },
     "execution_count": 130,
     "metadata": {},
     "output_type": "execute_result"
    }
   ],
   "source": [
    "import time\n",
    "start_time = time.time()\n",
    "lcss_kNN(5,0.001)"
   ]
  },
  {
   "cell_type": "code",
   "execution_count": 131,
   "metadata": {},
   "outputs": [
    {
     "name": "stdout",
     "output_type": "stream",
     "text": [
      "--- 7.3508689403533936 seconds ---\n"
     ]
    }
   ],
   "source": [
    "print(\"--- %s seconds ---\" % (time.time() - start_time))"
   ]
  },
  {
   "cell_type": "markdown",
   "metadata": {},
   "source": [
    "lcss is faster than dtw, and they didn't return the same result."
   ]
  },
  {
   "cell_type": "markdown",
   "metadata": {},
   "source": [
    "e) visualize the query trajectory, and its 1NN and 5NN with LCSS using Scikit-learn mobility (https://github.com/scikit-mobility/scikit-mobility) (10 points)"
   ]
  },
  {
   "cell_type": "code",
   "execution_count": 133,
   "metadata": {},
   "outputs": [
    {
     "ename": "ModuleNotFoundError",
     "evalue": "No module named 'skmob'",
     "output_type": "error",
     "traceback": [
      "\u001b[0;31m---------------------------------------------------------------------------\u001b[0m",
      "\u001b[0;31mModuleNotFoundError\u001b[0m                       Traceback (most recent call last)",
      "\u001b[0;32m<ipython-input-133-7b8c8d1de960>\u001b[0m in \u001b[0;36m<module>\u001b[0;34m\u001b[0m\n\u001b[0;32m----> 1\u001b[0;31m \u001b[0;32mimport\u001b[0m \u001b[0mskmob\u001b[0m\u001b[0;34m\u001b[0m\u001b[0m\n\u001b[0m",
      "\u001b[0;31mModuleNotFoundError\u001b[0m: No module named 'skmob'"
     ]
    }
   ],
   "source": [
    "import skmob"
   ]
  },
  {
   "cell_type": "code",
   "execution_count": null,
   "metadata": {},
   "outputs": [],
   "source": [
    "# your answers here\n"
   ]
  },
  {
   "cell_type": "markdown",
   "metadata": {},
   "source": [
    "### Q3. Clustering: Spatial and Temporal Distributions of Chicago Crimes (30 points)  <span style='color:red'>  pts</span>\n",
    "\n",
    "In this question you will use k-means clustering in sklearn to answer the question, “Do different types of crime display different trends over space and time?”  The dataset “HW3Q3_1.csv” consists of data for 119 different types of crime, each of which occurred at least 100 times in Chicago during the year 2016.  For each crime type, we have various features representing the spatial and temporal distribution of crime, including:\n",
    "\n",
    "- The proportion of all crimes of that type that occurred on each day of the week (day_Sun, day_Mon, …, day_Sat).\n",
    "\n",
    "- The proportion of all crimes of that type that occurred on each hour of the day (hour_0 = midnight to 12:59am, hour_1 = 1am to 1:59am, …, hour_23 = 11pm to 11:59pm).\n",
    "\n",
    "- The proportion of all crime of that type that occurred in each of the 77 community areas of Chicago (community_area_1 … community_area_77).\n",
    "\n",
    "We also have, for each crime type, its categorization by the FBI:\n",
    "\n",
    "- Category = “P1V” corresponds to Part 1 Violent Crime, i.e., serious violent crimes\n",
    "\n",
    "- Category = “P1P” corresponds to Part 1 Property Crime, i.e., serious property crimes\n",
    "\n",
    "- Category = “P2” corresponds to Part 2 (less serious) crimes.\n",
    "\n",
    "To answer parts a through f, you should cluster the 119 crime types using k-means into k = 3 clusters using only the hour of day (hour_0..hour_23) attributes."
   ]
  },
  {
   "cell_type": "markdown",
   "metadata": {},
   "source": [
    "a) Copy each cluster’s mean values for hour_0…hour_23 into a DataFrame and create a line graph to visualize these values by cluster.  (5 pts)\n",
    "\n",
    "b) Describe the three different hour-of-day trends represented by these three clusters (5 pts).\n",
    "\n",
    "c) Do you notice any consistent trends about which crime types are assigned to which cluster?  Note that by a \"crime type\", we are referring to specific crimes such as \"narcotics\" or \"assault\", not the FBI categories. (5 pts)  \n",
    "\n",
    "d) Do the three clusters have different day-of-week trends?  Again, visualize the trends for each cluster by creating a line graph and discuss any notable differences.  (5 pts)\n",
    "\n",
    "e) Do the three clusters affect different types of communities/neighborhoods?  To answer this question, you could first compute the proportions of \"cluster 1\", \"cluster 2\", and \"cluster 3\" crimes for each community area, and identify particular community areas with disproportionate amounts of a given cluster.  You can then use the provided file (HW3Q3_2.csv), to determine whether these community areas have any notable common characteristics (poverty, overcrowding, etc.).  You may also wish to consult the Chicago Community Areas map at https://en.wikipedia.org/wiki/Community_areas_in_Chicago. (5 pts)\n",
    "\n",
    "f) How well do the three groups formed by clustering hour-of-day trends correspond to the FBI’s division between P1V, P1P, and P2 crimes? (5 pts)\n",
    "\n"
   ]
  },
  {
   "cell_type": "code",
   "execution_count": null,
   "metadata": {
    "scrolled": true
   },
   "outputs": [],
   "source": [
    "data3=pd.read_csv(\"HW3Q3_1.csv\")\n",
    "data3.head()"
   ]
  },
  {
   "cell_type": "code",
   "execution_count": null,
   "metadata": {},
   "outputs": [],
   "source": [
    "data4=pd.read_csv(\"HW3Q3_2.csv\")\n",
    "data4.head()"
   ]
  },
  {
   "cell_type": "code",
   "execution_count": null,
   "metadata": {},
   "outputs": [],
   "source": [
    "# your answers here"
   ]
  }
 ],
 "metadata": {
  "kernelspec": {
   "display_name": "Python 3",
   "language": "python",
   "name": "python3"
  },
  "language_info": {
   "codemirror_mode": {
    "name": "ipython",
    "version": 3
   },
   "file_extension": ".py",
   "mimetype": "text/x-python",
   "name": "python",
   "nbconvert_exporter": "python",
   "pygments_lexer": "ipython3",
   "version": "3.7.0"
  }
 },
 "nbformat": 4,
 "nbformat_minor": 2
}
